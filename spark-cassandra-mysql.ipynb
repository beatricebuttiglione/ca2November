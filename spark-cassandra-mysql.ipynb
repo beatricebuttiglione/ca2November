{
 "cells": [
  {
   "cell_type": "code",
   "execution_count": 1,
   "id": "68547dd9",
   "metadata": {},
   "outputs": [],
   "source": [
    "from cassandra.cluster import Cluster\n",
    "import csv"
   ]
  },
  {
   "cell_type": "code",
   "execution_count": 3,
   "id": "24836096",
   "metadata": {},
   "outputs": [],
   "source": [
    "from pyspark.sql import SparkSession"
   ]
  },
  {
   "cell_type": "markdown",
   "id": "57039508",
   "metadata": {},
   "source": [
    "# import csv hadoop spark"
   ]
  },
  {
   "cell_type": "code",
   "execution_count": 4,
   "id": "5f0a0988",
   "metadata": {},
   "outputs": [],
   "source": [
    "\n",
    "spark = SparkSession.builder.appName(\"ca2_nov\").getOrCreate()"
   ]
  },
  {
   "cell_type": "code",
   "execution_count": 5,
   "id": "a76a6411",
   "metadata": {},
   "outputs": [],
   "source": [
    "folder = \"hdfs://localhost:9000/user1/ProjectTweets.csv\""
   ]
  },
  {
   "cell_type": "code",
   "execution_count": 6,
   "id": "07e30843",
   "metadata": {},
   "outputs": [
    {
     "name": "stderr",
     "output_type": "stream",
     "text": [
      "                                                                                \r"
     ]
    }
   ],
   "source": [
    "df = spark.read.csv(folder, header=False, inferSchema=True)"
   ]
  },
  {
   "cell_type": "code",
   "execution_count": 7,
   "id": "487d1012",
   "metadata": {},
   "outputs": [],
   "source": [
    "df = df.toDF(\"id\", \"indice\", \"date\", \"query\", \"user\", \"tweet\")"
   ]
  },
  {
   "cell_type": "code",
   "execution_count": 8,
   "id": "221c1b38",
   "metadata": {},
   "outputs": [
    {
     "data": {
      "text/plain": [
       "Row(id=0, indice=1467810369, date='Mon Apr 06 22:19:45 PDT 2009', query='NO_QUERY', user='_TheSpecialOne_', tweet=\"@switchfoot http://twitpic.com/2y1zl - Awww, that's a bummer.  You shoulda got David Carr of Third Day to do it. ;D\")"
      ]
     },
     "execution_count": 8,
     "metadata": {},
     "output_type": "execute_result"
    }
   ],
   "source": [
    "df.head()"
   ]
  },
  {
   "cell_type": "code",
   "execution_count": 9,
   "id": "c07130f4",
   "metadata": {},
   "outputs": [
    {
     "name": "stdout",
     "output_type": "stream",
     "text": [
      "root\n",
      " |-- id: integer (nullable = true)\n",
      " |-- indice: long (nullable = true)\n",
      " |-- date: string (nullable = true)\n",
      " |-- query: string (nullable = true)\n",
      " |-- user: string (nullable = true)\n",
      " |-- tweet: string (nullable = true)\n",
      "\n"
     ]
    }
   ],
   "source": [
    "df.printSchema()\n"
   ]
  },
  {
   "cell_type": "code",
   "execution_count": 10,
   "id": "e2481b9b",
   "metadata": {},
   "outputs": [],
   "source": [
    "df = df.dropDuplicates([\"tweet\"])\n",
    "\n"
   ]
  },
  {
   "cell_type": "code",
   "execution_count": 11,
   "id": "e9481073",
   "metadata": {},
   "outputs": [],
   "source": [
    "# using legacy for date parsing\n",
    "spark.conf.set(\"spark.sql.legacy.timeParserPolicy\", \"LEGACY\")\n",
    "\n"
   ]
  },
  {
   "cell_type": "code",
   "execution_count": 12,
   "id": "8d0a6410",
   "metadata": {},
   "outputs": [],
   "source": [
    "from pyspark.sql.functions import to_date"
   ]
  },
  {
   "cell_type": "code",
   "execution_count": 13,
   "id": "16a4ed5f",
   "metadata": {},
   "outputs": [],
   "source": [
    "# trasform date column from string to date\n",
    "df_con_data = df.withColumn(\"date\", to_date(df[\"date\"], \"E MMM dd HH:mm:ss z yyyy\"))\n"
   ]
  },
  {
   "cell_type": "code",
   "execution_count": 21,
   "id": "bfa464fe",
   "metadata": {},
   "outputs": [
    {
     "name": "stderr",
     "output_type": "stream",
     "text": [
      "[Stage 5:>                                                          (0 + 1) / 1]\r"
     ]
    },
    {
     "name": "stdout",
     "output_type": "stream",
     "text": [
      "+-------+----------+----------+--------+--------+--------------------+\n",
      "|     id|    indice|      date|   query|    user|               tweet|\n",
      "+-------+----------+----------+--------+--------+--------------------+\n",
      "|1429354|2059729483|2009-06-07|NO_QUERY|mtiishaw|       Hardest wo...|\n",
      "+-------+----------+----------+--------+--------+--------------------+\n",
      "only showing top 1 row\n",
      "\n"
     ]
    },
    {
     "name": "stderr",
     "output_type": "stream",
     "text": [
      "                                                                                \r"
     ]
    }
   ],
   "source": [
    "df_con_data.show(1)"
   ]
  },
  {
   "cell_type": "code",
   "execution_count": 22,
   "id": "7a6930a2",
   "metadata": {},
   "outputs": [
    {
     "name": "stderr",
     "output_type": "stream",
     "text": [
      "[Stage 8:=======================================>                   (2 + 1) / 3]\r"
     ]
    },
    {
     "name": "stdout",
     "output_type": "stream",
     "text": [
      "+-------+-----------------+--------------------+--------+--------------------+--------------------+\n",
      "|summary|               id|              indice|   query|                user|               tweet|\n",
      "+-------+-----------------+--------------------+--------+--------------------+--------------------+\n",
      "|  count|          1581466|             1581466| 1581466|             1581466|             1581466|\n",
      "|   mean|799948.3493486423|1.9985071970856838E9|    null| 4.418920826240876E9|                null|\n",
      "| stddev|462023.2915345735|1.9365969167076474E8|    null|5.218769198801353...|                null|\n",
      "|    min|                0|          1467810369|NO_QUERY|        000catnap000|                 ...|\n",
      "|    max|          1599999|          2329205794|NO_QUERY|          zzzzeus111|ï¿½ï¿½ï¿½ï¿½ï¿½ß§...|\n",
      "+-------+-----------------+--------------------+--------+--------------------+--------------------+\n",
      "\n"
     ]
    },
    {
     "name": "stderr",
     "output_type": "stream",
     "text": [
      "                                                                                \r"
     ]
    }
   ],
   "source": [
    "# check on null values\n",
    "df_con_data.describe().show()\n"
   ]
  },
  {
   "cell_type": "code",
   "execution_count": 14,
   "id": "bac576dd",
   "metadata": {},
   "outputs": [
    {
     "name": "stdout",
     "output_type": "stream",
     "text": [
      "root\n",
      " |-- id: integer (nullable = true)\n",
      " |-- indice: long (nullable = true)\n",
      " |-- date: date (nullable = true)\n",
      " |-- query: string (nullable = true)\n",
      " |-- user: string (nullable = true)\n",
      " |-- tweet: string (nullable = true)\n",
      "\n"
     ]
    }
   ],
   "source": [
    "df_con_data.printSchema()"
   ]
  },
  {
   "cell_type": "markdown",
   "id": "5a7de8d2",
   "metadata": {},
   "source": [
    "# import in mysql"
   ]
  },
  {
   "cell_type": "code",
   "execution_count": 17,
   "id": "788128a3",
   "metadata": {},
   "outputs": [],
   "source": [
    "import mysql.connector\n"
   ]
  },
  {
   "cell_type": "code",
   "execution_count": 18,
   "id": "36c8a6a9",
   "metadata": {},
   "outputs": [],
   "source": [
    "# info for connection\n",
    "hostname = \"127.0.0.1\"  \n",
    "username = \"root\"  \n",
    "password = \"password\"  \n",
    "database_name = \"ca2\"  \n",
    "\n",
    "# connection to database\n",
    "conn = mysql.connector.connect(\n",
    "    host=hostname,\n",
    "    user=username,\n",
    "    password=password,\n",
    "    database=database_name\n",
    ")\n"
   ]
  },
  {
   "cell_type": "code",
   "execution_count": 19,
   "id": "fb6fb49e",
   "metadata": {},
   "outputs": [],
   "source": [
    "from pyspark.sql import SparkSession\n",
    "spark = SparkSession.builder \\\n",
    "    .appName(\"ca2_nov\") \\\n",
    "    .config(\"spark.jars\", \"hdfs:///mysql-connector-j-8.2.0.jar\") \\\n",
    "    .getOrCreate()\n"
   ]
  },
  {
   "cell_type": "code",
   "execution_count": 20,
   "id": "42d7682e",
   "metadata": {},
   "outputs": [],
   "source": [
    "\n",
    "url = \"jdbc:mysql://127.0.0.1:3306/ca2\"\n",
    "properties = {\n",
    "    \"user\": \"root\",\n",
    "    \"password\": \"password\",\n",
    "    \"driver\": \"com.mysql.cj.jdbc.Driver\"\n",
    "}\n",
    "\n",
    "\n",
    "\n"
   ]
  },
  {
   "cell_type": "code",
   "execution_count": 21,
   "id": "056fcfdb",
   "metadata": {
    "scrolled": true
   },
   "outputs": [
    {
     "name": "stderr",
     "output_type": "stream",
     "text": [
      "                                                                                \r"
     ]
    }
   ],
   "source": [
    "# write df spark in mysql\n",
    "df_con_data.write.jdbc(url, \"tweet\", mode=\"append\", properties=properties)"
   ]
  },
  {
   "cell_type": "code",
   "execution_count": 23,
   "id": "758c5409",
   "metadata": {},
   "outputs": [],
   "source": [
    "query = \"SELECT * FROM tweet LIMIT 10\"\n",
    "\n"
   ]
  },
  {
   "cell_type": "code",
   "execution_count": 25,
   "id": "44aed7fd",
   "metadata": {},
   "outputs": [
    {
     "data": {
      "text/plain": [
       "'SELECT * FROM tweet LIMIT 10'"
      ]
     },
     "execution_count": 25,
     "metadata": {},
     "output_type": "execute_result"
    }
   ],
   "source": [
    "query"
   ]
  },
  {
   "cell_type": "code",
   "execution_count": null,
   "id": "d11c290f",
   "metadata": {},
   "outputs": [],
   "source": []
  },
  {
   "cell_type": "markdown",
   "id": "39bb2fbc",
   "metadata": {},
   "source": [
    "# import in cassandra"
   ]
  },
  {
   "cell_type": "code",
   "execution_count": 15,
   "id": "5a524e90",
   "metadata": {},
   "outputs": [],
   "source": [
    "# node address\n",
    "indirizzo_del_nodo_di_contatto = '127.0.0.1'\n",
    "\n",
    "# cluster object\n",
    "cluster = Cluster([indirizzo_del_nodo_di_contatto])"
   ]
  },
  {
   "cell_type": "code",
   "execution_count": 16,
   "id": "6e9a2be8",
   "metadata": {
    "scrolled": true
   },
   "outputs": [
    {
     "data": {
      "text/plain": [
       "<cassandra.cluster.ResultSet at 0x7fa2503d2470>"
      ]
     },
     "execution_count": 16,
     "metadata": {},
     "output_type": "execute_result"
    }
   ],
   "source": [
    "# cassandra session\n",
    "session = cluster.connect()\n",
    "\n",
    "# keyspace\n",
    "session.execute(\"USE my_ca3\")"
   ]
  },
  {
   "cell_type": "code",
   "execution_count": 19,
   "id": "fbbd8175",
   "metadata": {},
   "outputs": [
    {
     "data": {
      "text/plain": [
       "<cassandra.cluster.ResultSet at 0x7fac188da770>"
      ]
     },
     "execution_count": 19,
     "metadata": {},
     "output_type": "execute_result"
    }
   ],
   "source": [
    "tweet_ca2 = \"\"\"\n",
    "\n",
    "\n",
    "CREATE TABLE IF NOT EXISTS my_ca3.tweet_ca2 (\n",
    "    id INT PRIMARY KEY,\n",
    "    indice BIGINT,\n",
    "    date DATE,\n",
    "    query TEXT,\n",
    "    user TEXT,\n",
    "    tweet TEXT\n",
    ")\n",
    "\n",
    "\n",
    "\n",
    "\"\"\"\n",
    "\n",
    "session.execute(tweet_ca2)"
   ]
  },
  {
   "cell_type": "code",
   "execution_count": 24,
   "id": "e09fbf28",
   "metadata": {},
   "outputs": [
    {
     "name": "stderr",
     "output_type": "stream",
     "text": [
      "                                                                                \r"
     ]
    }
   ],
   "source": [
    "table_name = \"tweet_ca2\"\n",
    "\n",
    "df_con_data.write \\\n",
    "    .format(\"org.apache.spark.sql.cassandra\") \\\n",
    "    .options(table=table_name, keyspace=\"my_ca3\") \\\n",
    "    .option(\"confirm.truncate\", \"true\") \\\n",
    "    .mode(\"overwrite\") \\\n",
    "    .save()"
   ]
  },
  {
   "cell_type": "code",
   "execution_count": 26,
   "id": "57204c6e",
   "metadata": {},
   "outputs": [],
   "source": [
    "query = \"SELECT COUNT(*) FROM tweet_ca2\"\n",
    "result = session.execute(query)\n"
   ]
  },
  {
   "cell_type": "code",
   "execution_count": 27,
   "id": "764d89d4",
   "metadata": {},
   "outputs": [
    {
     "name": "stdout",
     "output_type": "stream",
     "text": [
      "Total number of rows is : 1581466\n"
     ]
    }
   ],
   "source": [
    "count = result.one()[0]\n",
    "print(f\"Total number of rows is : {count}\")"
   ]
  },
  {
   "cell_type": "code",
   "execution_count": 7,
   "id": "3cf53ff8",
   "metadata": {},
   "outputs": [],
   "source": [
    "query = \"SELECT * FROM tweet_ca2\"\n",
    "result = session.execute(query)"
   ]
  },
  {
   "cell_type": "code",
   "execution_count": 7,
   "id": "08b9591d",
   "metadata": {},
   "outputs": [],
   "source": [
    "from pyspark.sql import SparkSession\n",
    "from pyspark.sql import DataFrame\n"
   ]
  },
  {
   "cell_type": "code",
   "execution_count": null,
   "id": "625a76a1",
   "metadata": {},
   "outputs": [],
   "source": []
  },
  {
   "cell_type": "markdown",
   "id": "b8ac65da",
   "metadata": {},
   "source": [
    "# cleaning data for sentiment analysis "
   ]
  },
  {
   "cell_type": "code",
   "execution_count": null,
   "id": "702e5157",
   "metadata": {},
   "outputs": [],
   "source": []
  },
  {
   "cell_type": "code",
   "execution_count": 17,
   "id": "478c7256",
   "metadata": {},
   "outputs": [],
   "source": [
    "from pyspark.sql.functions import udf"
   ]
  },
  {
   "cell_type": "code",
   "execution_count": 18,
   "id": "1923a5b2",
   "metadata": {},
   "outputs": [],
   "source": [
    "from pyspark.sql.types import FloatType"
   ]
  },
  {
   "cell_type": "code",
   "execution_count": 19,
   "id": "75449607",
   "metadata": {},
   "outputs": [],
   "source": [
    "from nltk.tokenize import word_tokenize\n",
    "import string\n",
    "\n"
   ]
  },
  {
   "cell_type": "code",
   "execution_count": 20,
   "id": "5ec61ffe",
   "metadata": {},
   "outputs": [
    {
     "name": "stderr",
     "output_type": "stream",
     "text": [
      "[nltk_data] Downloading package punkt to /home/hduser/nltk_data...\n",
      "[nltk_data]   Package punkt is already up-to-date!\n"
     ]
    },
    {
     "data": {
      "text/plain": [
       "True"
      ]
     },
     "execution_count": 20,
     "metadata": {},
     "output_type": "execute_result"
    }
   ],
   "source": [
    "import nltk\n",
    "nltk.download('punkt')"
   ]
  },
  {
   "cell_type": "code",
   "execution_count": 21,
   "id": "4ad5dd8c",
   "metadata": {},
   "outputs": [],
   "source": [
    "from pyspark.sql.types import StringType"
   ]
  },
  {
   "cell_type": "code",
   "execution_count": 22,
   "id": "b8fbc792",
   "metadata": {},
   "outputs": [],
   "source": [
    "def clean_data(text):\n",
    "    tokens = word_tokenize(text)\n",
    "    tokens = [word for word in tokens if word.isalpha()]\n",
    "    clean_text = ' '.join(tokens)\n",
    "    return clean_text\n",
    "\n",
    "\n"
   ]
  },
  {
   "cell_type": "code",
   "execution_count": 23,
   "id": "76ab04d3",
   "metadata": {},
   "outputs": [],
   "source": [
    "clean_data_utf = udf(clean_data, StringType())"
   ]
  },
  {
   "cell_type": "code",
   "execution_count": 24,
   "id": "1ff6824c",
   "metadata": {},
   "outputs": [],
   "source": [
    "df_cleaned = df_con_data.withColumn(\"tweet_cleaned\", clean_data_utf(\"tweet\"))\n"
   ]
  },
  {
   "cell_type": "code",
   "execution_count": 25,
   "id": "6f7209e1",
   "metadata": {},
   "outputs": [
    {
     "name": "stderr",
     "output_type": "stream",
     "text": [
      "[Stage 5:>                                                          (0 + 1) / 1]\r"
     ]
    },
    {
     "name": "stdout",
     "output_type": "stream",
     "text": [
      "+-------+----------+----------+--------+--------+--------------------+--------------------+\n",
      "|     id|    indice|      date|   query|    user|               tweet|       tweet_cleaned|\n",
      "+-------+----------+----------+--------+--------+--------------------+--------------------+\n",
      "|1429354|2059729483|2009-06-07|NO_QUERY|mtiishaw|       Hardest wo...|Hardest working c...|\n",
      "+-------+----------+----------+--------+--------+--------------------+--------------------+\n",
      "only showing top 1 row\n",
      "\n"
     ]
    },
    {
     "name": "stderr",
     "output_type": "stream",
     "text": [
      "                                                                                \r"
     ]
    }
   ],
   "source": [
    "df_cleaned.show(1)"
   ]
  },
  {
   "cell_type": "markdown",
   "id": "8ecc823f",
   "metadata": {},
   "source": [
    "# sentiment analysis with Vader"
   ]
  },
  {
   "cell_type": "code",
   "execution_count": 26,
   "id": "e7c46f0f",
   "metadata": {},
   "outputs": [],
   "source": [
    "from vaderSentiment.vaderSentiment import SentimentIntensityAnalyzer"
   ]
  },
  {
   "cell_type": "code",
   "execution_count": 27,
   "id": "d721d903",
   "metadata": {},
   "outputs": [],
   "source": [
    "def sentiment_function(text):\n",
    "    analyzer = SentimentIntensityAnalyzer()\n",
    "    sent = analyzer.polarity_scores(text)\n",
    "    return sent['compound']  #  'polarity_scores'function gives a value stored in column named 'compound'\n"
   ]
  },
  {
   "cell_type": "code",
   "execution_count": 28,
   "id": "5fab2e88",
   "metadata": {},
   "outputs": [],
   "source": [
    "\n",
    "\n",
    "# record utf\n",
    "sentiment_udf = udf(sentiment_function, FloatType())\n",
    "\n",
    "# Applica l'UDF per calcolare il punteggio \"compound\" e creare una nuova colonna \"sentiment\"\n",
    "df_vader = df_cleaned.withColumn(\"sentiment\", sentiment_udf(df_cleaned[\"tweet_cleaned\"]))\n"
   ]
  },
  {
   "cell_type": "code",
   "execution_count": 29,
   "id": "31f48db8",
   "metadata": {},
   "outputs": [
    {
     "name": "stdout",
     "output_type": "stream",
     "text": [
      "root\n",
      " |-- id: integer (nullable = true)\n",
      " |-- indice: long (nullable = true)\n",
      " |-- date: date (nullable = true)\n",
      " |-- query: string (nullable = true)\n",
      " |-- user: string (nullable = true)\n",
      " |-- tweet: string (nullable = true)\n",
      " |-- tweet_cleaned: string (nullable = true)\n",
      " |-- sentiment: float (nullable = true)\n",
      "\n"
     ]
    }
   ],
   "source": [
    "df_vader.printSchema()"
   ]
  },
  {
   "cell_type": "code",
   "execution_count": 36,
   "id": "b3db20f0",
   "metadata": {},
   "outputs": [
    {
     "name": "stderr",
     "output_type": "stream",
     "text": [
      "2023-11-10 17:49:00,336 WARN python.PythonUDFRunner: Detected deadlock while completing task 0.0 in stage 17 (TID 18): Attempting to kill Python Worker\n",
      "                                                                                \r"
     ]
    },
    {
     "name": "stdout",
     "output_type": "stream",
     "text": [
      "+-------+----------+----------+--------+--------+--------------------+--------------------+---------+\n",
      "|     id|    indice|      date|   query|    user|               tweet|       tweet_cleaned|sentiment|\n",
      "+-------+----------+----------+--------+--------+--------------------+--------------------+---------+\n",
      "|1429354|2059729483|2009-06-07|NO_QUERY|mtiishaw|       Hardest wo...|Hardest working c...|   0.2732|\n",
      "+-------+----------+----------+--------+--------+--------------------+--------------------+---------+\n",
      "only showing top 1 row\n",
      "\n"
     ]
    }
   ],
   "source": [
    "df_vader.show(1)"
   ]
  },
  {
   "cell_type": "code",
   "execution_count": 30,
   "id": "3bb143ff",
   "metadata": {},
   "outputs": [],
   "source": [
    "from pyspark.sql.functions import when, col\n"
   ]
  },
  {
   "cell_type": "code",
   "execution_count": 31,
   "id": "4693b6b9",
   "metadata": {},
   "outputs": [],
   "source": [
    "# new column 'label'\n",
    "df_vader = df_vader.withColumn(\"label_vader\", \n",
    "    when(col(\"sentiment\") > 0.2, 1)\n",
    "    .when(col(\"sentiment\") < -0.2, -1)\n",
    "    .otherwise(0)\n",
    ")\n",
    "\n",
    "\n"
   ]
  },
  {
   "cell_type": "code",
   "execution_count": 32,
   "id": "5683d6d8",
   "metadata": {},
   "outputs": [
    {
     "name": "stdout",
     "output_type": "stream",
     "text": [
      "root\n",
      " |-- id: integer (nullable = true)\n",
      " |-- indice: long (nullable = true)\n",
      " |-- date: date (nullable = true)\n",
      " |-- query: string (nullable = true)\n",
      " |-- user: string (nullable = true)\n",
      " |-- tweet: string (nullable = true)\n",
      " |-- tweet_cleaned: string (nullable = true)\n",
      " |-- sentiment: float (nullable = true)\n",
      " |-- label_vader: integer (nullable = false)\n",
      "\n"
     ]
    }
   ],
   "source": [
    "df_vader.printSchema()"
   ]
  },
  {
   "cell_type": "code",
   "execution_count": 40,
   "id": "50cdaea5",
   "metadata": {},
   "outputs": [],
   "source": [
    "label_counts_vader = df_vader.groupBy(\"label_vader\").count()"
   ]
  },
  {
   "cell_type": "markdown",
   "id": "a3a7cbad",
   "metadata": {},
   "source": [
    "# sentiment analysis with TextBlob"
   ]
  },
  {
   "cell_type": "code",
   "execution_count": 33,
   "id": "e930519f",
   "metadata": {},
   "outputs": [],
   "source": [
    "from pyspark.sql import SparkSession\n",
    "from pyspark.sql.functions import udf\n",
    "from pyspark.sql.types import StringType, FloatType\n",
    "from textblob import TextBlob\n"
   ]
  },
  {
   "cell_type": "code",
   "execution_count": 34,
   "id": "e1ca51e7",
   "metadata": {},
   "outputs": [],
   "source": [
    "def analyze_sentiment(text):\n",
    "    analysis = TextBlob(text)\n",
    "    sentiment_score = analysis.sentiment.polarity\n",
    "    return float(sentiment_score)\n",
    "\n",
    "sentiment_udf = udf(analyze_sentiment, FloatType())\n",
    "\n"
   ]
  },
  {
   "cell_type": "code",
   "execution_count": 35,
   "id": "a028f0f4",
   "metadata": {},
   "outputs": [],
   "source": [
    "df_blob = df_cleaned.withColumn(\"sentiment\", sentiment_udf(df_cleaned[\"tweet_cleaned\"]))\n"
   ]
  },
  {
   "cell_type": "code",
   "execution_count": null,
   "id": "f8fd5552",
   "metadata": {},
   "outputs": [],
   "source": [
    "\n"
   ]
  },
  {
   "cell_type": "code",
   "execution_count": 36,
   "id": "0376f29a",
   "metadata": {},
   "outputs": [
    {
     "name": "stdout",
     "output_type": "stream",
     "text": [
      "root\n",
      " |-- id: integer (nullable = true)\n",
      " |-- indice: long (nullable = true)\n",
      " |-- date: date (nullable = true)\n",
      " |-- query: string (nullable = true)\n",
      " |-- user: string (nullable = true)\n",
      " |-- tweet: string (nullable = true)\n",
      " |-- tweet_cleaned: string (nullable = true)\n",
      " |-- sentiment: float (nullable = true)\n",
      "\n"
     ]
    }
   ],
   "source": [
    "df_blob.printSchema()"
   ]
  },
  {
   "cell_type": "code",
   "execution_count": 37,
   "id": "ba35e6cd",
   "metadata": {},
   "outputs": [],
   "source": [
    "from pyspark.sql.functions import when, col\n",
    "\n",
    "df_blob = df_blob.withColumn(\"label_blob\", \n",
    "    when(col(\"sentiment\") > 0.2, 1)\n",
    "    .when(col(\"sentiment\") < -0.2, -1)\n",
    "    .otherwise(0)\n",
    ")\n"
   ]
  },
  {
   "cell_type": "code",
   "execution_count": 38,
   "id": "f5a9b9de",
   "metadata": {},
   "outputs": [],
   "source": [
    "df_blob = df_blob.withColumnRenamed(\"sentiment\", \"sentiment_blob\")"
   ]
  },
  {
   "cell_type": "code",
   "execution_count": 39,
   "id": "cc249d54",
   "metadata": {},
   "outputs": [],
   "source": [
    "df_blob = df_blob.withColumnRenamed(\"date\", \"date_blob\")"
   ]
  },
  {
   "cell_type": "code",
   "execution_count": 40,
   "id": "d328ebd9",
   "metadata": {},
   "outputs": [],
   "source": [
    "df_blob = df_blob.withColumnRenamed(\"id\", \"id_blob\")"
   ]
  },
  {
   "cell_type": "code",
   "execution_count": 41,
   "id": "a2896e5f",
   "metadata": {},
   "outputs": [],
   "source": [
    "df_vader = df_vader.withColumnRenamed(\"sentiment\", \"sentiment_vader\")"
   ]
  },
  {
   "cell_type": "code",
   "execution_count": null,
   "id": "7fcef5db",
   "metadata": {},
   "outputs": [],
   "source": []
  },
  {
   "cell_type": "code",
   "execution_count": 42,
   "id": "9de7ce83",
   "metadata": {},
   "outputs": [],
   "source": [
    "\n",
    "merged_df = df_blob.join(df_vader, 'tweet_cleaned', 'inner')\n",
    "\n"
   ]
  },
  {
   "cell_type": "code",
   "execution_count": 43,
   "id": "06ce5890",
   "metadata": {},
   "outputs": [
    {
     "name": "stdout",
     "output_type": "stream",
     "text": [
      "root\n",
      " |-- tweet_cleaned: string (nullable = true)\n",
      " |-- id_blob: integer (nullable = true)\n",
      " |-- indice: long (nullable = true)\n",
      " |-- date_blob: date (nullable = true)\n",
      " |-- query: string (nullable = true)\n",
      " |-- user: string (nullable = true)\n",
      " |-- tweet: string (nullable = true)\n",
      " |-- sentiment_blob: float (nullable = true)\n",
      " |-- label_blob: integer (nullable = false)\n",
      " |-- id: integer (nullable = true)\n",
      " |-- indice: long (nullable = true)\n",
      " |-- date: date (nullable = true)\n",
      " |-- query: string (nullable = true)\n",
      " |-- user: string (nullable = true)\n",
      " |-- tweet: string (nullable = true)\n",
      " |-- sentiment_vader: float (nullable = true)\n",
      " |-- label_vader: integer (nullable = false)\n",
      "\n"
     ]
    }
   ],
   "source": [
    "merged_df.printSchema()"
   ]
  },
  {
   "cell_type": "code",
   "execution_count": 44,
   "id": "3f3c2b17",
   "metadata": {},
   "outputs": [],
   "source": [
    "# Seleziona solo le colonne desiderate utilizzando alias\n",
    "result_df = merged_df.select(\n",
    "   \n",
    "    \"sentiment_blob\",\n",
    "    \"date\",\n",
    "    \"label_blob\",\n",
    "    \"label_vader\",\n",
    "    \"sentiment_vader\",\n",
    "    \"id\"\n",
    ")\n",
    "\n"
   ]
  },
  {
   "cell_type": "code",
   "execution_count": 45,
   "id": "7648f35c",
   "metadata": {},
   "outputs": [
    {
     "name": "stdout",
     "output_type": "stream",
     "text": [
      "root\n",
      " |-- sentiment_blob: float (nullable = true)\n",
      " |-- date: date (nullable = true)\n",
      " |-- label_blob: integer (nullable = false)\n",
      " |-- label_vader: integer (nullable = false)\n",
      " |-- sentiment_vader: float (nullable = true)\n",
      " |-- id: integer (nullable = true)\n",
      "\n"
     ]
    }
   ],
   "source": [
    "result_df.printSchema()"
   ]
  },
  {
   "cell_type": "code",
   "execution_count": 46,
   "id": "ea1849ba",
   "metadata": {},
   "outputs": [
    {
     "data": {
      "text/plain": [
       "<cassandra.cluster.ResultSet at 0x7fa222037b80>"
      ]
     },
     "execution_count": 46,
     "metadata": {},
     "output_type": "execute_result"
    }
   ],
   "source": [
    "sentiment = \"\"\"\n",
    "\n",
    "\n",
    "CREATE TABLE IF NOT EXISTS my_ca3.sentiment (\n",
    "    id INT PRIMARY KEY,\n",
    "    sentiment_blob FLOAT,\n",
    "    date DATE,\n",
    "    label_blob INT,\n",
    "    label_vader INT,\n",
    "    sentiment_vader FLOAT\n",
    ")\n",
    "\n",
    "\n",
    "\n",
    "\"\"\"\n",
    "\n",
    "session.execute(sentiment)"
   ]
  },
  {
   "cell_type": "code",
   "execution_count": null,
   "id": "2b4a2792",
   "metadata": {},
   "outputs": [
    {
     "name": "stderr",
     "output_type": "stream",
     "text": [
      "[Stage 11:>                                                         (0 + 2) / 3]\r"
     ]
    }
   ],
   "source": [
    "result_df.write \\\n",
    "    .format(\"org.apache.spark.sql.cassandra\") \\\n",
    "    .options(table=\"sentiment\", keyspace=\"my_ca3\") \\\n",
    "    .option(\"confirm.truncate\", \"true\") \\\n",
    "    .mode(\"overwrite\") \\\n",
    "    .save()"
   ]
  },
  {
   "cell_type": "code",
   "execution_count": null,
   "id": "0b060271",
   "metadata": {},
   "outputs": [],
   "source": []
  },
  {
   "cell_type": "code",
   "execution_count": null,
   "id": "efb36885",
   "metadata": {},
   "outputs": [],
   "source": []
  }
 ],
 "metadata": {
  "kernelspec": {
   "display_name": "Python 3 (ipykernel)",
   "language": "python",
   "name": "python3"
  },
  "language_info": {
   "codemirror_mode": {
    "name": "ipython",
    "version": 3
   },
   "file_extension": ".py",
   "mimetype": "text/x-python",
   "name": "python",
   "nbconvert_exporter": "python",
   "pygments_lexer": "ipython3",
   "version": "3.10.9"
  }
 },
 "nbformat": 4,
 "nbformat_minor": 5
}
