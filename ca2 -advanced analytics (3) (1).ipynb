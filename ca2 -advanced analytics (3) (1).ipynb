{
 "cells": [
  {
   "cell_type": "code",
   "execution_count": 1,
   "id": "06fbeecc",
   "metadata": {},
   "outputs": [],
   "source": [
    "import pandas as pd\n",
    "from datetime import datetime"
   ]
  },
  {
   "cell_type": "code",
   "execution_count": 580,
   "id": "52d44790",
   "metadata": {},
   "outputs": [],
   "source": [
    "import warnings\n",
    "warnings.filterwarnings('ignore')"
   ]
  },
  {
   "cell_type": "code",
   "execution_count": 2,
   "id": "837c68cd",
   "metadata": {},
   "outputs": [],
   "source": [
    "df = pd.read_csv(\"ProjectTweets.csv\",header = None)"
   ]
  },
  {
   "cell_type": "code",
   "execution_count": 3,
   "id": "edcf3ad1",
   "metadata": {},
   "outputs": [
    {
     "data": {
      "text/html": [
       "<div>\n",
       "<style scoped>\n",
       "    .dataframe tbody tr th:only-of-type {\n",
       "        vertical-align: middle;\n",
       "    }\n",
       "\n",
       "    .dataframe tbody tr th {\n",
       "        vertical-align: top;\n",
       "    }\n",
       "\n",
       "    .dataframe thead th {\n",
       "        text-align: right;\n",
       "    }\n",
       "</style>\n",
       "<table border=\"1\" class=\"dataframe\">\n",
       "  <thead>\n",
       "    <tr style=\"text-align: right;\">\n",
       "      <th></th>\n",
       "      <th>0</th>\n",
       "      <th>1</th>\n",
       "      <th>2</th>\n",
       "      <th>3</th>\n",
       "      <th>4</th>\n",
       "      <th>5</th>\n",
       "    </tr>\n",
       "  </thead>\n",
       "  <tbody>\n",
       "    <tr>\n",
       "      <th>0</th>\n",
       "      <td>0</td>\n",
       "      <td>1467810369</td>\n",
       "      <td>Mon Apr 06 22:19:45 PDT 2009</td>\n",
       "      <td>NO_QUERY</td>\n",
       "      <td>_TheSpecialOne_</td>\n",
       "      <td>@switchfoot http://twitpic.com/2y1zl - Awww, t...</td>\n",
       "    </tr>\n",
       "    <tr>\n",
       "      <th>1</th>\n",
       "      <td>1</td>\n",
       "      <td>1467810672</td>\n",
       "      <td>Mon Apr 06 22:19:49 PDT 2009</td>\n",
       "      <td>NO_QUERY</td>\n",
       "      <td>scotthamilton</td>\n",
       "      <td>is upset that he can't update his Facebook by ...</td>\n",
       "    </tr>\n",
       "    <tr>\n",
       "      <th>2</th>\n",
       "      <td>2</td>\n",
       "      <td>1467810917</td>\n",
       "      <td>Mon Apr 06 22:19:53 PDT 2009</td>\n",
       "      <td>NO_QUERY</td>\n",
       "      <td>mattycus</td>\n",
       "      <td>@Kenichan I dived many times for the ball. Man...</td>\n",
       "    </tr>\n",
       "    <tr>\n",
       "      <th>3</th>\n",
       "      <td>3</td>\n",
       "      <td>1467811184</td>\n",
       "      <td>Mon Apr 06 22:19:57 PDT 2009</td>\n",
       "      <td>NO_QUERY</td>\n",
       "      <td>ElleCTF</td>\n",
       "      <td>my whole body feels itchy and like its on fire</td>\n",
       "    </tr>\n",
       "    <tr>\n",
       "      <th>4</th>\n",
       "      <td>4</td>\n",
       "      <td>1467811193</td>\n",
       "      <td>Mon Apr 06 22:19:57 PDT 2009</td>\n",
       "      <td>NO_QUERY</td>\n",
       "      <td>Karoli</td>\n",
       "      <td>@nationwideclass no, it's not behaving at all....</td>\n",
       "    </tr>\n",
       "  </tbody>\n",
       "</table>\n",
       "</div>"
      ],
      "text/plain": [
       "   0           1                             2         3                4  \\\n",
       "0  0  1467810369  Mon Apr 06 22:19:45 PDT 2009  NO_QUERY  _TheSpecialOne_   \n",
       "1  1  1467810672  Mon Apr 06 22:19:49 PDT 2009  NO_QUERY    scotthamilton   \n",
       "2  2  1467810917  Mon Apr 06 22:19:53 PDT 2009  NO_QUERY         mattycus   \n",
       "3  3  1467811184  Mon Apr 06 22:19:57 PDT 2009  NO_QUERY          ElleCTF   \n",
       "4  4  1467811193  Mon Apr 06 22:19:57 PDT 2009  NO_QUERY           Karoli   \n",
       "\n",
       "                                                   5  \n",
       "0  @switchfoot http://twitpic.com/2y1zl - Awww, t...  \n",
       "1  is upset that he can't update his Facebook by ...  \n",
       "2  @Kenichan I dived many times for the ball. Man...  \n",
       "3    my whole body feels itchy and like its on fire   \n",
       "4  @nationwideclass no, it's not behaving at all....  "
      ]
     },
     "execution_count": 3,
     "metadata": {},
     "output_type": "execute_result"
    }
   ],
   "source": [
    "df.head()"
   ]
  },
  {
   "cell_type": "code",
   "execution_count": 4,
   "id": "829e0ddb",
   "metadata": {},
   "outputs": [],
   "source": [
    "columns_names=['index','id','date','flag','user','text']"
   ]
  },
  {
   "cell_type": "code",
   "execution_count": 5,
   "id": "f5fdcb07",
   "metadata": {},
   "outputs": [],
   "source": [
    "df.columns = columns_names"
   ]
  },
  {
   "cell_type": "code",
   "execution_count": 6,
   "id": "79ecba46",
   "metadata": {},
   "outputs": [],
   "source": [
    "# remove PDT \n",
    "df['date'] = df['date'].str.replace('PDT', '')"
   ]
  },
  {
   "cell_type": "code",
   "execution_count": 7,
   "id": "9dd02a14",
   "metadata": {},
   "outputs": [],
   "source": [
    "# time format\n",
    "date_format = '%a %b %d %H:%M:%S %Y'"
   ]
  },
  {
   "cell_type": "code",
   "execution_count": 8,
   "id": "a650ec4d",
   "metadata": {},
   "outputs": [],
   "source": [
    "# column in object \n",
    "df['date'] = pd.to_datetime(df['date'], format=date_format)"
   ]
  },
  {
   "cell_type": "code",
   "execution_count": 9,
   "id": "61a196b1",
   "metadata": {},
   "outputs": [
    {
     "name": "stdout",
     "output_type": "stream",
     "text": [
      "0         2009-04-06 22:19:45\n",
      "1         2009-04-06 22:19:49\n",
      "2         2009-04-06 22:19:53\n",
      "3         2009-04-06 22:19:57\n",
      "4         2009-04-06 22:19:57\n",
      "                  ...        \n",
      "1599995   2009-06-16 08:40:49\n",
      "1599996   2009-06-16 08:40:49\n",
      "1599997   2009-06-16 08:40:49\n",
      "1599998   2009-06-16 08:40:49\n",
      "1599999   2009-06-16 08:40:50\n",
      "Name: date, Length: 1600000, dtype: datetime64[ns]\n"
     ]
    }
   ],
   "source": [
    "# date objects\n",
    "print(df['date'])"
   ]
  },
  {
   "cell_type": "code",
   "execution_count": 10,
   "id": "dfd5297b",
   "metadata": {},
   "outputs": [
    {
     "data": {
      "text/plain": [
       "Timestamp('2009-04-06 22:19:45')"
      ]
     },
     "execution_count": 10,
     "metadata": {},
     "output_type": "execute_result"
    }
   ],
   "source": [
    "df['date'].min()"
   ]
  },
  {
   "cell_type": "code",
   "execution_count": 11,
   "id": "e67e7ccf",
   "metadata": {},
   "outputs": [
    {
     "data": {
      "text/plain": [
       "Timestamp('2009-06-25 10:28:31')"
      ]
     },
     "execution_count": 11,
     "metadata": {},
     "output_type": "execute_result"
    }
   ],
   "source": [
    "df['date'].max()"
   ]
  },
  {
   "cell_type": "code",
   "execution_count": 12,
   "id": "1af010d2",
   "metadata": {},
   "outputs": [],
   "source": [
    "df['week'] = df['date'].dt.strftime('%U')  # week\n",
    "\n"
   ]
  },
  {
   "cell_type": "code",
   "execution_count": 13,
   "id": "fabf4553",
   "metadata": {},
   "outputs": [],
   "source": [
    "df['month'] = df['date'].dt.strftime('%B')  # month"
   ]
  },
  {
   "cell_type": "code",
   "execution_count": 14,
   "id": "46ece234",
   "metadata": {},
   "outputs": [],
   "source": [
    "df['day'] = df['date'].dt.strftime('%A')  # day"
   ]
  },
  {
   "cell_type": "code",
   "execution_count": 15,
   "id": "39a9b824",
   "metadata": {},
   "outputs": [],
   "source": [
    "df['day_num'] = df['date'].dt.dayofyear\n"
   ]
  },
  {
   "cell_type": "code",
   "execution_count": 16,
   "id": "e3a3a6c9",
   "metadata": {},
   "outputs": [
    {
     "data": {
      "text/html": [
       "<div>\n",
       "<style scoped>\n",
       "    .dataframe tbody tr th:only-of-type {\n",
       "        vertical-align: middle;\n",
       "    }\n",
       "\n",
       "    .dataframe tbody tr th {\n",
       "        vertical-align: top;\n",
       "    }\n",
       "\n",
       "    .dataframe thead th {\n",
       "        text-align: right;\n",
       "    }\n",
       "</style>\n",
       "<table border=\"1\" class=\"dataframe\">\n",
       "  <thead>\n",
       "    <tr style=\"text-align: right;\">\n",
       "      <th></th>\n",
       "      <th>index</th>\n",
       "      <th>id</th>\n",
       "      <th>date</th>\n",
       "      <th>flag</th>\n",
       "      <th>user</th>\n",
       "      <th>text</th>\n",
       "      <th>week</th>\n",
       "      <th>month</th>\n",
       "      <th>day</th>\n",
       "      <th>day_num</th>\n",
       "    </tr>\n",
       "  </thead>\n",
       "  <tbody>\n",
       "    <tr>\n",
       "      <th>0</th>\n",
       "      <td>0</td>\n",
       "      <td>1467810369</td>\n",
       "      <td>2009-04-06 22:19:45</td>\n",
       "      <td>NO_QUERY</td>\n",
       "      <td>_TheSpecialOne_</td>\n",
       "      <td>@switchfoot http://twitpic.com/2y1zl - Awww, t...</td>\n",
       "      <td>14</td>\n",
       "      <td>April</td>\n",
       "      <td>Monday</td>\n",
       "      <td>96</td>\n",
       "    </tr>\n",
       "    <tr>\n",
       "      <th>1</th>\n",
       "      <td>1</td>\n",
       "      <td>1467810672</td>\n",
       "      <td>2009-04-06 22:19:49</td>\n",
       "      <td>NO_QUERY</td>\n",
       "      <td>scotthamilton</td>\n",
       "      <td>is upset that he can't update his Facebook by ...</td>\n",
       "      <td>14</td>\n",
       "      <td>April</td>\n",
       "      <td>Monday</td>\n",
       "      <td>96</td>\n",
       "    </tr>\n",
       "    <tr>\n",
       "      <th>2</th>\n",
       "      <td>2</td>\n",
       "      <td>1467810917</td>\n",
       "      <td>2009-04-06 22:19:53</td>\n",
       "      <td>NO_QUERY</td>\n",
       "      <td>mattycus</td>\n",
       "      <td>@Kenichan I dived many times for the ball. Man...</td>\n",
       "      <td>14</td>\n",
       "      <td>April</td>\n",
       "      <td>Monday</td>\n",
       "      <td>96</td>\n",
       "    </tr>\n",
       "    <tr>\n",
       "      <th>3</th>\n",
       "      <td>3</td>\n",
       "      <td>1467811184</td>\n",
       "      <td>2009-04-06 22:19:57</td>\n",
       "      <td>NO_QUERY</td>\n",
       "      <td>ElleCTF</td>\n",
       "      <td>my whole body feels itchy and like its on fire</td>\n",
       "      <td>14</td>\n",
       "      <td>April</td>\n",
       "      <td>Monday</td>\n",
       "      <td>96</td>\n",
       "    </tr>\n",
       "    <tr>\n",
       "      <th>4</th>\n",
       "      <td>4</td>\n",
       "      <td>1467811193</td>\n",
       "      <td>2009-04-06 22:19:57</td>\n",
       "      <td>NO_QUERY</td>\n",
       "      <td>Karoli</td>\n",
       "      <td>@nationwideclass no, it's not behaving at all....</td>\n",
       "      <td>14</td>\n",
       "      <td>April</td>\n",
       "      <td>Monday</td>\n",
       "      <td>96</td>\n",
       "    </tr>\n",
       "  </tbody>\n",
       "</table>\n",
       "</div>"
      ],
      "text/plain": [
       "   index          id                date      flag             user  \\\n",
       "0      0  1467810369 2009-04-06 22:19:45  NO_QUERY  _TheSpecialOne_   \n",
       "1      1  1467810672 2009-04-06 22:19:49  NO_QUERY    scotthamilton   \n",
       "2      2  1467810917 2009-04-06 22:19:53  NO_QUERY         mattycus   \n",
       "3      3  1467811184 2009-04-06 22:19:57  NO_QUERY          ElleCTF   \n",
       "4      4  1467811193 2009-04-06 22:19:57  NO_QUERY           Karoli   \n",
       "\n",
       "                                                text week  month     day  \\\n",
       "0  @switchfoot http://twitpic.com/2y1zl - Awww, t...   14  April  Monday   \n",
       "1  is upset that he can't update his Facebook by ...   14  April  Monday   \n",
       "2  @Kenichan I dived many times for the ball. Man...   14  April  Monday   \n",
       "3    my whole body feels itchy and like its on fire    14  April  Monday   \n",
       "4  @nationwideclass no, it's not behaving at all....   14  April  Monday   \n",
       "\n",
       "   day_num  \n",
       "0       96  \n",
       "1       96  \n",
       "2       96  \n",
       "3       96  \n",
       "4       96  "
      ]
     },
     "execution_count": 16,
     "metadata": {},
     "output_type": "execute_result"
    }
   ],
   "source": [
    "df.head()"
   ]
  },
  {
   "cell_type": "code",
   "execution_count": 17,
   "id": "a4fc2dd1",
   "metadata": {},
   "outputs": [],
   "source": [
    "import nltk\n",
    "from nltk.tokenize import word_tokenize"
   ]
  },
  {
   "cell_type": "code",
   "execution_count": 18,
   "id": "e30313fd",
   "metadata": {},
   "outputs": [
    {
     "name": "stderr",
     "output_type": "stream",
     "text": [
      "[nltk_data] Downloading package punkt to\n",
      "[nltk_data]     /Users/beatricebuttiglione/nltk_data...\n",
      "[nltk_data]   Package punkt is already up-to-date!\n",
      "[nltk_data] Downloading package stopwords to\n",
      "[nltk_data]     /Users/beatricebuttiglione/nltk_data...\n",
      "[nltk_data]   Package stopwords is already up-to-date!\n",
      "[nltk_data] Downloading package wordnet to\n",
      "[nltk_data]     /Users/beatricebuttiglione/nltk_data...\n",
      "[nltk_data]   Package wordnet is already up-to-date!\n"
     ]
    },
    {
     "data": {
      "text/plain": [
       "True"
      ]
     },
     "execution_count": 18,
     "metadata": {},
     "output_type": "execute_result"
    }
   ],
   "source": [
    "from nltk.corpus import stopwords\n",
    "from nltk.stem import WordNetLemmatizer\n",
    "from sklearn.feature_extraction.text import CountVectorizer\n",
    "\n",
    "nltk.download('punkt')\n",
    "nltk.download('stopwords')\n",
    "nltk.download('wordnet')"
   ]
  },
  {
   "cell_type": "code",
   "execution_count": 24,
   "id": "1bb38cc4",
   "metadata": {},
   "outputs": [],
   "source": [
    "english_stopwords = set(stopwords.words('english'))\n",
    "\n",
    "def clean_data(text, stopwords_set):\n",
    "    text = text.lower()\n",
    "    tokens = word_tokenize(text)\n",
    "    tokens = [word for word in tokens if word.isalpha() and word not in stopwords_set]\n",
    "    lemmatizer = WordNetLemmatizer()\n",
    "    tokens = [lemmatizer.lemmatize(word) for word in tokens]\n",
    "    return ' '.join(tokens)\n"
   ]
  },
  {
   "cell_type": "code",
   "execution_count": 25,
   "id": "641e0954",
   "metadata": {},
   "outputs": [],
   "source": [
    "df['cleaned_text'] = df['text'].apply(clean_data, args=(english_stopwords,))\n"
   ]
  },
  {
   "cell_type": "code",
   "execution_count": null,
   "id": "9d589d08",
   "metadata": {},
   "outputs": [],
   "source": []
  },
  {
   "cell_type": "markdown",
   "id": "f91f70a4",
   "metadata": {},
   "source": [
    "# sentiment analysis with vader"
   ]
  },
  {
   "cell_type": "code",
   "execution_count": 21,
   "id": "b85dcd71",
   "metadata": {},
   "outputs": [],
   "source": [
    "import nltk"
   ]
  },
  {
   "cell_type": "code",
   "execution_count": 22,
   "id": "d90e0826",
   "metadata": {},
   "outputs": [
    {
     "name": "stderr",
     "output_type": "stream",
     "text": [
      "[nltk_data] Downloading package vader_lexicon to\n",
      "[nltk_data]     /Users/beatricebuttiglione/nltk_data...\n",
      "[nltk_data]   Package vader_lexicon is already up-to-date!\n"
     ]
    },
    {
     "data": {
      "text/plain": [
       "True"
      ]
     },
     "execution_count": 22,
     "metadata": {},
     "output_type": "execute_result"
    }
   ],
   "source": [
    "nltk.download('vader_lexicon')"
   ]
  },
  {
   "cell_type": "code",
   "execution_count": 26,
   "id": "fb3f3e3c",
   "metadata": {},
   "outputs": [],
   "source": [
    "from nltk.sentiment.vader import SentimentIntensityAnalyzer as SIA\n",
    "\n",
    "sia = SIA()\n",
    "results = []\n",
    "\n",
    "for line in df['cleaned_text']:\n",
    "    pol_score = sia.polarity_scores(line)\n",
    "    pol_score['cleaned_text'] = line\n",
    "    results.append(pol_score)"
   ]
  },
  {
   "cell_type": "code",
   "execution_count": 27,
   "id": "d04b3397",
   "metadata": {},
   "outputs": [
    {
     "data": {
      "text/html": [
       "<div>\n",
       "<style scoped>\n",
       "    .dataframe tbody tr th:only-of-type {\n",
       "        vertical-align: middle;\n",
       "    }\n",
       "\n",
       "    .dataframe tbody tr th {\n",
       "        vertical-align: top;\n",
       "    }\n",
       "\n",
       "    .dataframe thead th {\n",
       "        text-align: right;\n",
       "    }\n",
       "</style>\n",
       "<table border=\"1\" class=\"dataframe\">\n",
       "  <thead>\n",
       "    <tr style=\"text-align: right;\">\n",
       "      <th></th>\n",
       "      <th>neg</th>\n",
       "      <th>neu</th>\n",
       "      <th>pos</th>\n",
       "      <th>compound</th>\n",
       "      <th>cleaned_text</th>\n",
       "    </tr>\n",
       "  </thead>\n",
       "  <tbody>\n",
       "    <tr>\n",
       "      <th>0</th>\n",
       "      <td>0.224</td>\n",
       "      <td>0.776</td>\n",
       "      <td>0.000</td>\n",
       "      <td>-0.3818</td>\n",
       "      <td>switchfoot http awww bummer shoulda got david ...</td>\n",
       "    </tr>\n",
       "    <tr>\n",
       "      <th>1</th>\n",
       "      <td>0.441</td>\n",
       "      <td>0.559</td>\n",
       "      <td>0.000</td>\n",
       "      <td>-0.7269</td>\n",
       "      <td>upset ca update facebook texting might cry res...</td>\n",
       "    </tr>\n",
       "    <tr>\n",
       "      <th>2</th>\n",
       "      <td>0.000</td>\n",
       "      <td>0.738</td>\n",
       "      <td>0.262</td>\n",
       "      <td>0.4939</td>\n",
       "      <td>kenichan dived many time ball managed save res...</td>\n",
       "    </tr>\n",
       "    <tr>\n",
       "      <th>3</th>\n",
       "      <td>0.450</td>\n",
       "      <td>0.300</td>\n",
       "      <td>0.250</td>\n",
       "      <td>-0.2500</td>\n",
       "      <td>whole body feel itchy like fire</td>\n",
       "    </tr>\n",
       "    <tr>\n",
       "      <th>4</th>\n",
       "      <td>0.444</td>\n",
       "      <td>0.556</td>\n",
       "      <td>0.000</td>\n",
       "      <td>-0.4939</td>\n",
       "      <td>nationwideclass behaving mad ca see</td>\n",
       "    </tr>\n",
       "  </tbody>\n",
       "</table>\n",
       "</div>"
      ],
      "text/plain": [
       "     neg    neu    pos  compound  \\\n",
       "0  0.224  0.776  0.000   -0.3818   \n",
       "1  0.441  0.559  0.000   -0.7269   \n",
       "2  0.000  0.738  0.262    0.4939   \n",
       "3  0.450  0.300  0.250   -0.2500   \n",
       "4  0.444  0.556  0.000   -0.4939   \n",
       "\n",
       "                                        cleaned_text  \n",
       "0  switchfoot http awww bummer shoulda got david ...  \n",
       "1  upset ca update facebook texting might cry res...  \n",
       "2  kenichan dived many time ball managed save res...  \n",
       "3                    whole body feel itchy like fire  \n",
       "4                nationwideclass behaving mad ca see  "
      ]
     },
     "execution_count": 27,
     "metadata": {},
     "output_type": "execute_result"
    }
   ],
   "source": [
    "df1 = pd.DataFrame.from_records(results)\n",
    "df1.head()"
   ]
  },
  {
   "cell_type": "code",
   "execution_count": 28,
   "id": "0d8e7b6f",
   "metadata": {},
   "outputs": [
    {
     "data": {
      "text/html": [
       "<div>\n",
       "<style scoped>\n",
       "    .dataframe tbody tr th:only-of-type {\n",
       "        vertical-align: middle;\n",
       "    }\n",
       "\n",
       "    .dataframe tbody tr th {\n",
       "        vertical-align: top;\n",
       "    }\n",
       "\n",
       "    .dataframe thead th {\n",
       "        text-align: right;\n",
       "    }\n",
       "</style>\n",
       "<table border=\"1\" class=\"dataframe\">\n",
       "  <thead>\n",
       "    <tr style=\"text-align: right;\">\n",
       "      <th></th>\n",
       "      <th>neg</th>\n",
       "      <th>neu</th>\n",
       "      <th>pos</th>\n",
       "      <th>compound</th>\n",
       "      <th>cleaned_text</th>\n",
       "      <th>label</th>\n",
       "    </tr>\n",
       "  </thead>\n",
       "  <tbody>\n",
       "    <tr>\n",
       "      <th>0</th>\n",
       "      <td>0.224</td>\n",
       "      <td>0.776</td>\n",
       "      <td>0.000</td>\n",
       "      <td>-0.3818</td>\n",
       "      <td>switchfoot http awww bummer shoulda got david ...</td>\n",
       "      <td>-1</td>\n",
       "    </tr>\n",
       "    <tr>\n",
       "      <th>1</th>\n",
       "      <td>0.441</td>\n",
       "      <td>0.559</td>\n",
       "      <td>0.000</td>\n",
       "      <td>-0.7269</td>\n",
       "      <td>upset ca update facebook texting might cry res...</td>\n",
       "      <td>-1</td>\n",
       "    </tr>\n",
       "    <tr>\n",
       "      <th>2</th>\n",
       "      <td>0.000</td>\n",
       "      <td>0.738</td>\n",
       "      <td>0.262</td>\n",
       "      <td>0.4939</td>\n",
       "      <td>kenichan dived many time ball managed save res...</td>\n",
       "      <td>1</td>\n",
       "    </tr>\n",
       "    <tr>\n",
       "      <th>3</th>\n",
       "      <td>0.450</td>\n",
       "      <td>0.300</td>\n",
       "      <td>0.250</td>\n",
       "      <td>-0.2500</td>\n",
       "      <td>whole body feel itchy like fire</td>\n",
       "      <td>-1</td>\n",
       "    </tr>\n",
       "    <tr>\n",
       "      <th>4</th>\n",
       "      <td>0.444</td>\n",
       "      <td>0.556</td>\n",
       "      <td>0.000</td>\n",
       "      <td>-0.4939</td>\n",
       "      <td>nationwideclass behaving mad ca see</td>\n",
       "      <td>-1</td>\n",
       "    </tr>\n",
       "  </tbody>\n",
       "</table>\n",
       "</div>"
      ],
      "text/plain": [
       "     neg    neu    pos  compound  \\\n",
       "0  0.224  0.776  0.000   -0.3818   \n",
       "1  0.441  0.559  0.000   -0.7269   \n",
       "2  0.000  0.738  0.262    0.4939   \n",
       "3  0.450  0.300  0.250   -0.2500   \n",
       "4  0.444  0.556  0.000   -0.4939   \n",
       "\n",
       "                                        cleaned_text  label  \n",
       "0  switchfoot http awww bummer shoulda got david ...     -1  \n",
       "1  upset ca update facebook texting might cry res...     -1  \n",
       "2  kenichan dived many time ball managed save res...      1  \n",
       "3                    whole body feel itchy like fire     -1  \n",
       "4                nationwideclass behaving mad ca see     -1  "
      ]
     },
     "execution_count": 28,
     "metadata": {},
     "output_type": "execute_result"
    }
   ],
   "source": [
    "df1['label'] = 0\n",
    "df1.loc[df1['compound'] > 0.2, 'label'] = 1\n",
    "df1.loc[df1['compound'] < -0.2, 'label'] = -1\n",
    "df1.head()"
   ]
  },
  {
   "cell_type": "code",
   "execution_count": 29,
   "id": "4faad43e",
   "metadata": {},
   "outputs": [],
   "source": [
    "import matplotlib.pyplot as plt\n",
    "import seaborn as sns"
   ]
  },
  {
   "cell_type": "code",
   "execution_count": 30,
   "id": "94aa7fa0",
   "metadata": {},
   "outputs": [
    {
     "data": {
      "image/png": "[encoded data removed]",
      "text/plain": [
       "<Figure size 400x400 with 1 Axes>"
      ]
     },
     "metadata": {},
     "output_type": "display_data"
    }
   ],
   "source": [
    "fig, ax = plt.subplots(figsize=(4, 4))\n",
    "\n",
    "counts = df1.label.value_counts(normalize=True) * 100\n",
    "\n",
    "sns.barplot(x=counts.index, y=counts, ax=ax)\n",
    "\n",
    "ax.set_xticklabels(['Negative', 'Neutral', 'Positive'])\n",
    "ax.set_ylabel(\"Count\")\n",
    "\n",
    "plt.show()"
   ]
  },
  {
   "cell_type": "code",
   "execution_count": 31,
   "id": "3034ef98",
   "metadata": {},
   "outputs": [],
   "source": [
    "merged_df = pd.merge(df, df1, on=\"cleaned_text\", how=\"inner\")"
   ]
  },
  {
   "cell_type": "code",
   "execution_count": 32,
   "id": "6966b7d7",
   "metadata": {},
   "outputs": [
    {
     "name": "stdout",
     "output_type": "stream",
     "text": [
      "<class 'pandas.core.frame.DataFrame'>\n",
      "Int64Index: 13836318 entries, 0 to 13836317\n",
      "Data columns (total 16 columns):\n",
      " #   Column        Dtype         \n",
      "---  ------        -----         \n",
      " 0   index         int64         \n",
      " 1   id            int64         \n",
      " 2   date          datetime64[ns]\n",
      " 3   flag          object        \n",
      " 4   user          object        \n",
      " 5   text          object        \n",
      " 6   week          object        \n",
      " 7   month         object        \n",
      " 8   day           object        \n",
      " 9   day_num       int64         \n",
      " 10  cleaned_text  object        \n",
      " 11  neg           float64       \n",
      " 12  neu           float64       \n",
      " 13  pos           float64       \n",
      " 14  compound      float64       \n",
      " 15  label         int64         \n",
      "dtypes: datetime64[ns](1), float64(4), int64(4), object(7)\n",
      "memory usage: 1.8+ GB\n"
     ]
    }
   ],
   "source": [
    "merged_df.info()"
   ]
  },
  {
   "cell_type": "code",
   "execution_count": 33,
   "id": "d6c1b76b",
   "metadata": {},
   "outputs": [],
   "source": [
    "merged_df['solo_data'] = pd.to_datetime(merged_df['date'])"
   ]
  },
  {
   "cell_type": "code",
   "execution_count": 34,
   "id": "2e169a05",
   "metadata": {},
   "outputs": [],
   "source": [
    "merged_df['solo_data']= merged_df['solo_data'].dt.date"
   ]
  },
  {
   "cell_type": "markdown",
   "id": "f3daa3bc",
   "metadata": {},
   "source": [
    "# sentiment analysis with textblob"
   ]
  },
  {
   "cell_type": "code",
   "execution_count": 35,
   "id": "3e2a38d7",
   "metadata": {},
   "outputs": [],
   "source": [
    "from textblob import TextBlob"
   ]
  },
  {
   "cell_type": "code",
   "execution_count": 36,
   "id": "48b24935",
   "metadata": {},
   "outputs": [],
   "source": [
    "def analyze_sentiment(text):\n",
    "    analysis = TextBlob(text)\n",
    "    sentiment_score = analysis.sentiment.polarity\n",
    "    return float(sentiment_score)"
   ]
  },
  {
   "cell_type": "code",
   "execution_count": 37,
   "id": "5fcf13c7",
   "metadata": {},
   "outputs": [],
   "source": [
    "df['sentiment_score'] = df['cleaned_text'].apply(analyze_sentiment)"
   ]
  },
  {
   "cell_type": "code",
   "execution_count": 38,
   "id": "455d4676",
   "metadata": {},
   "outputs": [
    {
     "data": {
      "text/html": [
       "<div>\n",
       "<style scoped>\n",
       "    .dataframe tbody tr th:only-of-type {\n",
       "        vertical-align: middle;\n",
       "    }\n",
       "\n",
       "    .dataframe tbody tr th {\n",
       "        vertical-align: top;\n",
       "    }\n",
       "\n",
       "    .dataframe thead th {\n",
       "        text-align: right;\n",
       "    }\n",
       "</style>\n",
       "<table border=\"1\" class=\"dataframe\">\n",
       "  <thead>\n",
       "    <tr style=\"text-align: right;\">\n",
       "      <th></th>\n",
       "      <th>index</th>\n",
       "      <th>id</th>\n",
       "      <th>date</th>\n",
       "      <th>flag</th>\n",
       "      <th>user</th>\n",
       "      <th>text</th>\n",
       "      <th>week</th>\n",
       "      <th>month</th>\n",
       "      <th>day</th>\n",
       "      <th>day_num</th>\n",
       "      <th>cleaned_text</th>\n",
       "      <th>sentiment_score</th>\n",
       "      <th>label_blob</th>\n",
       "    </tr>\n",
       "  </thead>\n",
       "  <tbody>\n",
       "    <tr>\n",
       "      <th>0</th>\n",
       "      <td>0</td>\n",
       "      <td>1467810369</td>\n",
       "      <td>2009-04-06 22:19:45</td>\n",
       "      <td>NO_QUERY</td>\n",
       "      <td>_TheSpecialOne_</td>\n",
       "      <td>@switchfoot http://twitpic.com/2y1zl - Awww, t...</td>\n",
       "      <td>14</td>\n",
       "      <td>April</td>\n",
       "      <td>Monday</td>\n",
       "      <td>96</td>\n",
       "      <td>switchfoot http awww bummer shoulda got david ...</td>\n",
       "      <td>0.200</td>\n",
       "      <td>0</td>\n",
       "    </tr>\n",
       "    <tr>\n",
       "      <th>1</th>\n",
       "      <td>1</td>\n",
       "      <td>1467810672</td>\n",
       "      <td>2009-04-06 22:19:49</td>\n",
       "      <td>NO_QUERY</td>\n",
       "      <td>scotthamilton</td>\n",
       "      <td>is upset that he can't update his Facebook by ...</td>\n",
       "      <td>14</td>\n",
       "      <td>April</td>\n",
       "      <td>Monday</td>\n",
       "      <td>96</td>\n",
       "      <td>upset ca update facebook texting might cry res...</td>\n",
       "      <td>0.000</td>\n",
       "      <td>0</td>\n",
       "    </tr>\n",
       "    <tr>\n",
       "      <th>2</th>\n",
       "      <td>2</td>\n",
       "      <td>1467810917</td>\n",
       "      <td>2009-04-06 22:19:53</td>\n",
       "      <td>NO_QUERY</td>\n",
       "      <td>mattycus</td>\n",
       "      <td>@Kenichan I dived many times for the ball. Man...</td>\n",
       "      <td>14</td>\n",
       "      <td>April</td>\n",
       "      <td>Monday</td>\n",
       "      <td>96</td>\n",
       "      <td>kenichan dived many time ball managed save res...</td>\n",
       "      <td>0.500</td>\n",
       "      <td>1</td>\n",
       "    </tr>\n",
       "    <tr>\n",
       "      <th>3</th>\n",
       "      <td>3</td>\n",
       "      <td>1467811184</td>\n",
       "      <td>2009-04-06 22:19:57</td>\n",
       "      <td>NO_QUERY</td>\n",
       "      <td>ElleCTF</td>\n",
       "      <td>my whole body feels itchy and like its on fire</td>\n",
       "      <td>14</td>\n",
       "      <td>April</td>\n",
       "      <td>Monday</td>\n",
       "      <td>96</td>\n",
       "      <td>whole body feel itchy like fire</td>\n",
       "      <td>0.200</td>\n",
       "      <td>0</td>\n",
       "    </tr>\n",
       "    <tr>\n",
       "      <th>4</th>\n",
       "      <td>4</td>\n",
       "      <td>1467811193</td>\n",
       "      <td>2009-04-06 22:19:57</td>\n",
       "      <td>NO_QUERY</td>\n",
       "      <td>Karoli</td>\n",
       "      <td>@nationwideclass no, it's not behaving at all....</td>\n",
       "      <td>14</td>\n",
       "      <td>April</td>\n",
       "      <td>Monday</td>\n",
       "      <td>96</td>\n",
       "      <td>nationwideclass behaving mad ca see</td>\n",
       "      <td>-0.625</td>\n",
       "      <td>-1</td>\n",
       "    </tr>\n",
       "  </tbody>\n",
       "</table>\n",
       "</div>"
      ],
      "text/plain": [
       "   index          id                date      flag             user  \\\n",
       "0      0  1467810369 2009-04-06 22:19:45  NO_QUERY  _TheSpecialOne_   \n",
       "1      1  1467810672 2009-04-06 22:19:49  NO_QUERY    scotthamilton   \n",
       "2      2  1467810917 2009-04-06 22:19:53  NO_QUERY         mattycus   \n",
       "3      3  1467811184 2009-04-06 22:19:57  NO_QUERY          ElleCTF   \n",
       "4      4  1467811193 2009-04-06 22:19:57  NO_QUERY           Karoli   \n",
       "\n",
       "                                                text week  month     day  \\\n",
       "0  @switchfoot http://twitpic.com/2y1zl - Awww, t...   14  April  Monday   \n",
       "1  is upset that he can't update his Facebook by ...   14  April  Monday   \n",
       "2  @Kenichan I dived many times for the ball. Man...   14  April  Monday   \n",
       "3    my whole body feels itchy and like its on fire    14  April  Monday   \n",
       "4  @nationwideclass no, it's not behaving at all....   14  April  Monday   \n",
       "\n",
       "   day_num                                       cleaned_text  \\\n",
       "0       96  switchfoot http awww bummer shoulda got david ...   \n",
       "1       96  upset ca update facebook texting might cry res...   \n",
       "2       96  kenichan dived many time ball managed save res...   \n",
       "3       96                    whole body feel itchy like fire   \n",
       "4       96                nationwideclass behaving mad ca see   \n",
       "\n",
       "   sentiment_score  label_blob  \n",
       "0            0.200           0  \n",
       "1            0.000           0  \n",
       "2            0.500           1  \n",
       "3            0.200           0  \n",
       "4           -0.625          -1  "
      ]
     },
     "execution_count": 38,
     "metadata": {},
     "output_type": "execute_result"
    }
   ],
   "source": [
    "df['label_blob'] = 0\n",
    "df.loc[df['sentiment_score'] > 0.2, 'label_blob'] = 1\n",
    "df.loc[df['sentiment_score'] < -0.2, 'label_blob'] = -1\n",
    "df.head()"
   ]
  },
  {
   "cell_type": "code",
   "execution_count": 39,
   "id": "c8a28d32",
   "metadata": {},
   "outputs": [
    {
     "data": {
      "image/png": "[encoded data removed]",
      "text/plain": [
       "<Figure size 400x400 with 1 Axes>"
      ]
     },
     "metadata": {},
     "output_type": "display_data"
    }
   ],
   "source": [
    "fig, ax = plt.subplots(figsize=(4, 4))\n",
    "\n",
    "counts = df.label_blob.value_counts(normalize=True) * 100\n",
    "\n",
    "sns.barplot(x=counts.index, y=counts, ax=ax)\n",
    "\n",
    "ax.set_xticklabels(['Negative', 'Neutral', 'Positive'])\n",
    "ax.set_ylabel(\"Count\")\n",
    "\n",
    "plt.show()"
   ]
  },
  {
   "cell_type": "markdown",
   "id": "d0151a6f",
   "metadata": {},
   "source": [
    "# forecasting models data preparation"
   ]
  },
  {
   "cell_type": "code",
   "execution_count": 88,
   "id": "80e04cf1",
   "metadata": {},
   "outputs": [],
   "source": [
    "merged_df['date'] = pd.to_datetime(merged_df['date'])"
   ]
  },
  {
   "cell_type": "code",
   "execution_count": 89,
   "id": "f4ea78e2",
   "metadata": {},
   "outputs": [],
   "source": [
    "merged_df['solo_data'] = merged_df['date'].dt.date"
   ]
  },
  {
   "cell_type": "code",
   "execution_count": 90,
   "id": "77f3bcc4",
   "metadata": {},
   "outputs": [],
   "source": [
    "grouped_df = merged_df.groupby('solo_data')['compound'].mean().reset_index()\n"
   ]
  },
  {
   "cell_type": "code",
   "execution_count": 91,
   "id": "8444ab25",
   "metadata": {},
   "outputs": [],
   "source": [
    "grouped_df = grouped_df.dropna()"
   ]
  },
  {
   "cell_type": "code",
   "execution_count": 92,
   "id": "6d7afd6a",
   "metadata": {},
   "outputs": [
    {
     "name": "stdout",
     "output_type": "stream",
     "text": [
      "<class 'pandas.core.frame.DataFrame'>\n",
      "RangeIndex: 48 entries, 0 to 47\n",
      "Data columns (total 2 columns):\n",
      " #   Column     Non-Null Count  Dtype  \n",
      "---  ------     --------------  -----  \n",
      " 0   solo_data  48 non-null     object \n",
      " 1   compound   48 non-null     float64\n",
      "dtypes: float64(1), object(1)\n",
      "memory usage: 896.0+ bytes\n"
     ]
    }
   ],
   "source": [
    "grouped_df.info()"
   ]
  },
  {
   "cell_type": "code",
   "execution_count": 93,
   "id": "37efaf49",
   "metadata": {},
   "outputs": [],
   "source": [
    "grouped_df['solo_data'] = pd.to_datetime(grouped_df['solo_data'], format='%Y-%m-%d')"
   ]
  },
  {
   "cell_type": "code",
   "execution_count": 94,
   "id": "75764f30",
   "metadata": {},
   "outputs": [],
   "source": [
    "grouped_df['day_num'] = grouped_df['solo_data'].dt.dayofyear"
   ]
  },
  {
   "cell_type": "code",
   "execution_count": 95,
   "id": "b13f1cba",
   "metadata": {},
   "outputs": [],
   "source": [
    "grouped_df1 = grouped_df[grouped_df['solo_data'].dt.month >= 5]"
   ]
  },
  {
   "cell_type": "code",
   "execution_count": 96,
   "id": "325620ca",
   "metadata": {},
   "outputs": [
    {
     "data": {
      "text/plain": [
       "<Figure size 1000x600 with 0 Axes>"
      ]
     },
     "execution_count": 96,
     "metadata": {},
     "output_type": "execute_result"
    },
    {
     "data": {
      "text/plain": [
       "<Figure size 1000x600 with 0 Axes>"
      ]
     },
     "metadata": {},
     "output_type": "display_data"
    }
   ],
   "source": [
    "plt.figure(figsize=(10, 6))  # chart\n"
   ]
  },
  {
   "cell_type": "code",
   "execution_count": 97,
   "id": "102297e1",
   "metadata": {},
   "outputs": [
    {
     "data": {
      "image/png": "[encoded data removed]",
      "text/plain": [
       "<Figure size 640x480 with 1 Axes>"
      ]
     },
     "metadata": {},
     "output_type": "display_data"
    }
   ],
   "source": [
    "plt.plot(grouped_df1['solo_data'], grouped_df1['compound'])  \n",
    "plt.title('Time series average sentiment')  \n",
    "plt.xlabel('Date')  \n",
    "plt.ylabel('label sentiment value')  \n",
    "plt.grid(True) \n",
    "plt.xticks(rotation=45)\n",
    "plt.show()  "
   ]
  },
  {
   "cell_type": "code",
   "execution_count": null,
   "id": "1ca18ab7",
   "metadata": {},
   "outputs": [],
   "source": []
  },
  {
   "cell_type": "code",
   "execution_count": null,
   "id": "37b2f358",
   "metadata": {},
   "outputs": [],
   "source": []
  },
  {
   "cell_type": "code",
   "execution_count": 98,
   "id": "c79be856",
   "metadata": {},
   "outputs": [
    {
     "name": "stdout",
     "output_type": "stream",
     "text": [
      "time series is not stationary (H1 accepted)\n"
     ]
    }
   ],
   "source": [
    "from statsmodels.tsa.stattools import adfuller\n",
    "\n",
    "# test ADF\n",
    "result = adfuller(grouped_df1['compound'])\n",
    "\n",
    "adf_statistic = result[0]\n",
    "p_value = result[1]\n",
    "critical_values = result[4]\n",
    "\n",
    "\n",
    "\n",
    "\n"
   ]
  },
  {
   "cell_type": "code",
   "execution_count": 108,
   "id": "c0471fff",
   "metadata": {},
   "outputs": [
    {
     "name": "stdout",
     "output_type": "stream",
     "text": [
      "time series is not stationary (H1 accepted)\n"
     ]
    }
   ],
   "source": [
    "if p_value < 0.05:\n",
    "    print(\"time series is stationary (Ho rejected)\")\n",
    "else:\n",
    "    print(\"time series is not stationary (H1 accepted)\")\n"
   ]
  },
  {
   "cell_type": "markdown",
   "id": "1a975923",
   "metadata": {},
   "source": [
    "# investigation on negative peak 21st of May¶"
   ]
  },
  {
   "cell_type": "code",
   "execution_count": null,
   "id": "5e80d565",
   "metadata": {},
   "outputs": [],
   "source": [
    "import pandas as pd\n",
    "import nltk\n",
    "from nltk.corpus import stopwords\n",
    "from nltk.tokenize import word_tokenize\n",
    "from nltk.stem import WordNetLemmatizer\n",
    "from sklearn.feature_extraction.text import CountVectorizer\n",
    "\n"
   ]
  },
  {
   "cell_type": "code",
   "execution_count": null,
   "id": "b4345dc6",
   "metadata": {},
   "outputs": [],
   "source": [
    "\n",
    "nltk.download('punkt')\n",
    "nltk.download('stopwords')\n",
    "nltk.download('wordnet')"
   ]
  },
  {
   "cell_type": "code",
   "execution_count": 40,
   "id": "2e5e5de1",
   "metadata": {},
   "outputs": [
    {
     "name": "stderr",
     "output_type": "stream",
     "text": [
      "/var/folders/0r/d37nz4px2lq6fk0fjk6yr55r0000gn/T/ipykernel_790/2057111120.py:1: FutureWarning: Comparison of Timestamp with datetime.date is deprecated in order to match the standard library behavior. In a future version these will be considered non-comparable. Use 'ts == pd.Timestamp(date)' or 'ts.date() == date' instead.\n",
      "  twenty_first_may = merged_df[(merged_df['solo_data'] == pd.to_datetime('2009-05-21'))]\n"
     ]
    }
   ],
   "source": [
    "twenty_first_may = merged_df[(merged_df['solo_data'] == pd.to_datetime('2009-05-21'))]"
   ]
  },
  {
   "cell_type": "code",
   "execution_count": 62,
   "id": "f3f6cfd8",
   "metadata": {},
   "outputs": [
    {
     "name": "stdout",
     "output_type": "stream",
     "text": [
      "<class 'pandas.core.frame.DataFrame'>\n",
      "Int64Index: 33004 entries, 575494 to 13010863\n",
      "Data columns (total 17 columns):\n",
      " #   Column        Non-Null Count  Dtype         \n",
      "---  ------        --------------  -----         \n",
      " 0   index         33004 non-null  int64         \n",
      " 1   id            33004 non-null  int64         \n",
      " 2   date          33004 non-null  datetime64[ns]\n",
      " 3   flag          33004 non-null  object        \n",
      " 4   user          33004 non-null  object        \n",
      " 5   text          33004 non-null  object        \n",
      " 6   week          33004 non-null  object        \n",
      " 7   month         33004 non-null  object        \n",
      " 8   day           33004 non-null  object        \n",
      " 9   day_num       33004 non-null  int64         \n",
      " 10  cleaned_text  33004 non-null  object        \n",
      " 11  neg           33004 non-null  float64       \n",
      " 12  neu           33004 non-null  float64       \n",
      " 13  pos           33004 non-null  float64       \n",
      " 14  compound      33004 non-null  float64       \n",
      " 15  label         33004 non-null  int64         \n",
      " 16  solo_data     33004 non-null  object        \n",
      "dtypes: datetime64[ns](1), float64(4), int64(4), object(8)\n",
      "memory usage: 4.5+ MB\n"
     ]
    }
   ],
   "source": [
    "twenty_first_may.info()"
   ]
  },
  {
   "cell_type": "code",
   "execution_count": 52,
   "id": "0a3d3634",
   "metadata": {},
   "outputs": [],
   "source": [
    "def clean2(text):\n",
    "    \n",
    "    text = text.lower()\n",
    "    tokens = word_tokenize(text)\n",
    "    tokens = [word for word in tokens if word.isalpha() and word not in stopwords.words('english')]\n",
    "    lemmatizer = WordNetLemmatizer()\n",
    "    tokens = [lemmatizer.lemmatize(word) for word in tokens]\n",
    "    return tokens"
   ]
  },
  {
   "cell_type": "code",
   "execution_count": null,
   "id": "dfe91451",
   "metadata": {},
   "outputs": [],
   "source": []
  },
  {
   "cell_type": "code",
   "execution_count": 50,
   "id": "d403995e",
   "metadata": {},
   "outputs": [
    {
     "name": "stderr",
     "output_type": "stream",
     "text": [
      "/var/folders/0r/d37nz4px2lq6fk0fjk6yr55r0000gn/T/ipykernel_790/1369968564.py:1: SettingWithCopyWarning: \n",
      "A value is trying to be set on a copy of a slice from a DataFrame.\n",
      "Try using .loc[row_indexer,col_indexer] = value instead\n",
      "\n",
      "See the caveats in the documentation: https://pandas.pydata.org/pandas-docs/stable/user_guide/indexing.html#returning-a-view-versus-a-copy\n",
      "  twenty_first_may['text']=twenty_first_may['text'].astype('string')\n"
     ]
    }
   ],
   "source": [
    "twenty_first_may['text']=twenty_first_may['text'].astype('string')"
   ]
  },
  {
   "cell_type": "code",
   "execution_count": 53,
   "id": "79856c60",
   "metadata": {},
   "outputs": [
    {
     "name": "stderr",
     "output_type": "stream",
     "text": [
      "/var/folders/0r/d37nz4px2lq6fk0fjk6yr55r0000gn/T/ipykernel_790/1742615297.py:1: SettingWithCopyWarning: \n",
      "A value is trying to be set on a copy of a slice from a DataFrame.\n",
      "Try using .loc[row_indexer,col_indexer] = value instead\n",
      "\n",
      "See the caveats in the documentation: https://pandas.pydata.org/pandas-docs/stable/user_guide/indexing.html#returning-a-view-versus-a-copy\n",
      "  twenty_first_may['text'] = twenty_first_may['text'].apply(clean2)\n"
     ]
    }
   ],
   "source": [
    "twenty_first_may['text'] = twenty_first_may['text'].apply(clean2)"
   ]
  },
  {
   "cell_type": "code",
   "execution_count": 63,
   "id": "5d3b998c",
   "metadata": {},
   "outputs": [],
   "source": [
    "\n",
    "vec = CountVectorizer()  #  CountVectorizer\n",
    "X = vec.fit_transform([' '.join(text) for text in twenty_first_may['text']])\n",
    "df_words_f = pd.DataFrame(X.toarray(), columns=vec.get_feature_names_out())\n",
    "\n"
   ]
  },
  {
   "cell_type": "code",
   "execution_count": 64,
   "id": "54bd3e48",
   "metadata": {},
   "outputs": [
    {
     "name": "stdout",
     "output_type": "stream",
     "text": [
      "sorry       2333\n",
      "died        2313\n",
      "isplayer    2310\n",
      "thank       1228\n",
      "tired        774\n",
      "bed          233\n",
      "nothing      226\n",
      "good         213\n",
      "ca           210\n",
      "going        205\n",
      "dtype: int64\n"
     ]
    }
   ],
   "source": [
    "# 10 most frequent words\n",
    "word_sum = df_words.sum().sort_values(ascending=False)\n",
    "print(word_sum.head(10))"
   ]
  },
  {
   "cell_type": "code",
   "execution_count": 81,
   "id": "95dd3580",
   "metadata": {},
   "outputs": [],
   "source": [
    "df_filtrato = twenty_first_may[twenty_first_may['cleaned_text'].str.contains('died', case=False, na=False)]"
   ]
  },
  {
   "cell_type": "code",
   "execution_count": 82,
   "id": "bf1ed5c5",
   "metadata": {},
   "outputs": [
    {
     "data": {
      "text/plain": [
       "array(['isplayer died sorry',\n",
       "       'found friend brother died funeral tuesday another friend lost mom mother day',\n",
       "       'rocky start summer cat max died',\n",
       "       'supersweetmack oh sorry thats kind fault show ended super early amp take back car amp phone died'],\n",
       "      dtype=object)"
      ]
     },
     "execution_count": 82,
     "metadata": {},
     "output_type": "execute_result"
    }
   ],
   "source": [
    "df_filtrato['cleaned_text'].unique()"
   ]
  },
  {
   "cell_type": "code",
   "execution_count": null,
   "id": "748cbb2e",
   "metadata": {},
   "outputs": [],
   "source": []
  },
  {
   "cell_type": "markdown",
   "id": "d05d2b23",
   "metadata": {},
   "source": [
    "# investigation on positive peak 21st of May"
   ]
  },
  {
   "cell_type": "code",
   "execution_count": 65,
   "id": "b3799814",
   "metadata": {},
   "outputs": [
    {
     "name": "stderr",
     "output_type": "stream",
     "text": [
      "/var/folders/0r/d37nz4px2lq6fk0fjk6yr55r0000gn/T/ipykernel_790/4066597930.py:1: FutureWarning: Comparison of Timestamp with datetime.date is deprecated in order to match the standard library behavior. In a future version these will be considered non-comparable. Use 'ts == pd.Timestamp(date)' or 'ts.date() == date' instead.\n",
      "  twenty_fifth_may = merged_df[(merged_df['solo_data'] == pd.to_datetime('2009-05-25'))]\n"
     ]
    }
   ],
   "source": [
    "twenty_fifth_may = merged_df[(merged_df['solo_data'] == pd.to_datetime('2009-05-25'))]"
   ]
  },
  {
   "cell_type": "code",
   "execution_count": 66,
   "id": "9bb8713f",
   "metadata": {},
   "outputs": [
    {
     "name": "stderr",
     "output_type": "stream",
     "text": [
      "/var/folders/0r/d37nz4px2lq6fk0fjk6yr55r0000gn/T/ipykernel_790/1856623546.py:1: SettingWithCopyWarning: \n",
      "A value is trying to be set on a copy of a slice from a DataFrame.\n",
      "Try using .loc[row_indexer,col_indexer] = value instead\n",
      "\n",
      "See the caveats in the documentation: https://pandas.pydata.org/pandas-docs/stable/user_guide/indexing.html#returning-a-view-versus-a-copy\n",
      "  twenty_fifth_may['text']=twenty_fifth_may['text'].astype('string')\n"
     ]
    }
   ],
   "source": [
    "twenty_fifth_may['text']=twenty_fifth_may['text'].astype('string')"
   ]
  },
  {
   "cell_type": "code",
   "execution_count": 69,
   "id": "fc3b4adc",
   "metadata": {},
   "outputs": [
    {
     "name": "stderr",
     "output_type": "stream",
     "text": [
      "/var/folders/0r/d37nz4px2lq6fk0fjk6yr55r0000gn/T/ipykernel_790/3468761305.py:1: SettingWithCopyWarning: \n",
      "A value is trying to be set on a copy of a slice from a DataFrame.\n",
      "Try using .loc[row_indexer,col_indexer] = value instead\n",
      "\n",
      "See the caveats in the documentation: https://pandas.pydata.org/pandas-docs/stable/user_guide/indexing.html#returning-a-view-versus-a-copy\n",
      "  twenty_fifth_may['text'] = twenty_fifth_may['text'].apply(clean2)\n"
     ]
    }
   ],
   "source": [
    "twenty_fifth_may['text'] = twenty_fifth_may['text'].apply(clean2)"
   ]
  },
  {
   "cell_type": "code",
   "execution_count": 70,
   "id": "fb4fa342",
   "metadata": {},
   "outputs": [],
   "source": [
    "# CountVectorizer\n",
    "vec = CountVectorizer()\n",
    "X = vec.fit_transform([' '.join(text) for text in twenty_fifth_may['text']])\n",
    "df_words = pd.DataFrame(X.toarray(), columns=vec.get_feature_names_out())\n",
    "\n"
   ]
  },
  {
   "cell_type": "code",
   "execution_count": 72,
   "id": "e4d40e0a",
   "metadata": {},
   "outputs": [
    {
     "name": "stdout",
     "output_type": "stream",
     "text": [
      "bored      247\n",
      "welcome    215\n",
      "time        91\n",
      "good        90\n",
      "like        87\n",
      "follow      84\n",
      "laugh       83\n",
      "simple      81\n",
      "online      32\n",
      "back        17\n",
      "dtype: int64\n"
     ]
    }
   ],
   "source": [
    "word_sum = df_words.sum().sort_values(ascending=False)\n",
    "print(word_sum.head(10))"
   ]
  },
  {
   "cell_type": "code",
   "execution_count": 78,
   "id": "6b9222f5",
   "metadata": {},
   "outputs": [],
   "source": [
    "df_filtrato = twenty_fifth_may[twenty_fifth_may['cleaned_text'].str.contains('welcome', case=False, na=False)]"
   ]
  },
  {
   "cell_type": "code",
   "execution_count": 80,
   "id": "e0b113a8",
   "metadata": {},
   "outputs": [
    {
     "data": {
      "text/plain": [
       "array(['pathfindersar welcome anything help sock thing im paranoid confess',\n",
       "       'welcome'], dtype=object)"
      ]
     },
     "execution_count": 80,
     "metadata": {},
     "output_type": "execute_result"
    }
   ],
   "source": [
    "df_filtrato['cleaned_text'].unique()"
   ]
  },
  {
   "cell_type": "markdown",
   "id": "afc255f5",
   "metadata": {},
   "source": [
    "# Models"
   ]
  },
  {
   "cell_type": "markdown",
   "id": "99e8ef8d",
   "metadata": {},
   "source": [
    "# fill null values in dates column"
   ]
  },
  {
   "cell_type": "code",
   "execution_count": 109,
   "id": "bd6d8611",
   "metadata": {},
   "outputs": [],
   "source": [
    "import numpy as np"
   ]
  },
  {
   "cell_type": "code",
   "execution_count": 111,
   "id": "3a433199",
   "metadata": {},
   "outputs": [],
   "source": [
    "grouped_df1.reset_index(inplace=True)"
   ]
  },
  {
   "cell_type": "code",
   "execution_count": 112,
   "id": "f3cefe03",
   "metadata": {},
   "outputs": [],
   "source": [
    "dates = np.array(grouped_df1['solo_data'])  \n"
   ]
  },
  {
   "cell_type": "code",
   "execution_count": 113,
   "id": "16cf240e",
   "metadata": {},
   "outputs": [],
   "source": [
    "values = np.array(grouped_df1['compound'])  "
   ]
  },
  {
   "cell_type": "code",
   "execution_count": 114,
   "id": "0bfb6e2b",
   "metadata": {},
   "outputs": [],
   "source": [
    "numeric_dates = np.arange(len(dates))\n"
   ]
  },
  {
   "cell_type": "code",
   "execution_count": 116,
   "id": "f9c721da",
   "metadata": {},
   "outputs": [],
   "source": [
    "date_min = min(grouped_df1['solo_data'])\n",
    "date_max = max(grouped_df1['solo_data'])"
   ]
  },
  {
   "cell_type": "code",
   "execution_count": 117,
   "id": "d4e542b2",
   "metadata": {},
   "outputs": [],
   "source": [
    "list_dates = grouped_df1['solo_data'].tolist()"
   ]
  },
  {
   "cell_type": "code",
   "execution_count": 118,
   "id": "5faede70",
   "metadata": {},
   "outputs": [
    {
     "name": "stdout",
     "output_type": "stream",
     "text": [
      "[Timestamp('2009-05-01 00:00:00'), Timestamp('2009-05-02 00:00:00'), Timestamp('2009-05-03 00:00:00'), Timestamp('2009-05-04 00:00:00'), Timestamp('2009-05-05 00:00:00'), Timestamp('2009-05-06 00:00:00'), Timestamp('2009-05-07 00:00:00'), Timestamp('2009-05-08 00:00:00'), Timestamp('2009-05-09 00:00:00'), Timestamp('2009-05-10 00:00:00'), Timestamp('2009-05-11 00:00:00'), Timestamp('2009-05-12 00:00:00'), Timestamp('2009-05-13 00:00:00'), Timestamp('2009-05-14 00:00:00'), Timestamp('2009-05-15 00:00:00'), Timestamp('2009-05-16 00:00:00'), Timestamp('2009-05-17 00:00:00'), Timestamp('2009-05-18 00:00:00'), Timestamp('2009-05-19 00:00:00'), Timestamp('2009-05-20 00:00:00'), Timestamp('2009-05-21 00:00:00'), Timestamp('2009-05-22 00:00:00'), Timestamp('2009-05-23 00:00:00'), Timestamp('2009-05-24 00:00:00'), Timestamp('2009-05-25 00:00:00'), Timestamp('2009-05-26 00:00:00'), Timestamp('2009-05-27 00:00:00'), Timestamp('2009-05-28 00:00:00'), Timestamp('2009-05-29 00:00:00'), Timestamp('2009-05-30 00:00:00'), Timestamp('2009-05-31 00:00:00'), Timestamp('2009-06-01 00:00:00'), Timestamp('2009-06-02 00:00:00'), Timestamp('2009-06-03 00:00:00'), Timestamp('2009-06-04 00:00:00'), Timestamp('2009-06-05 00:00:00'), Timestamp('2009-06-06 00:00:00'), Timestamp('2009-06-07 00:00:00'), Timestamp('2009-06-08 00:00:00'), Timestamp('2009-06-09 00:00:00'), Timestamp('2009-06-10 00:00:00'), Timestamp('2009-06-11 00:00:00'), Timestamp('2009-06-12 00:00:00'), Timestamp('2009-06-13 00:00:00'), Timestamp('2009-06-14 00:00:00'), Timestamp('2009-06-15 00:00:00'), Timestamp('2009-06-16 00:00:00'), Timestamp('2009-06-17 00:00:00'), Timestamp('2009-06-18 00:00:00'), Timestamp('2009-06-19 00:00:00'), Timestamp('2009-06-20 00:00:00'), Timestamp('2009-06-21 00:00:00'), Timestamp('2009-06-22 00:00:00'), Timestamp('2009-06-23 00:00:00'), Timestamp('2009-06-24 00:00:00'), Timestamp('2009-06-25 00:00:00')]\n"
     ]
    }
   ],
   "source": [
    "from datetime import datetime, timedelta\n",
    "\n",
    "delta = date_max - date_min\n",
    "\n",
    "# Crea una lista di date nel periodo\n",
    "date_list = [date_min + timedelta(days=i) for i in range(delta.days + 1)]\n",
    "\n",
    "# Stampa la lista di date\n",
    "print(date_list)\n"
   ]
  },
  {
   "cell_type": "code",
   "execution_count": 119,
   "id": "477ff5b7",
   "metadata": {},
   "outputs": [
    {
     "data": {
      "text/plain": [
       "[Timestamp('2009-05-01 00:00:00'),\n",
       " Timestamp('2009-05-02 00:00:00'),\n",
       " Timestamp('2009-05-03 00:00:00'),\n",
       " Timestamp('2009-05-04 00:00:00'),\n",
       " Timestamp('2009-05-09 00:00:00'),\n",
       " Timestamp('2009-05-10 00:00:00'),\n",
       " Timestamp('2009-05-11 00:00:00'),\n",
       " Timestamp('2009-05-13 00:00:00'),\n",
       " Timestamp('2009-05-14 00:00:00'),\n",
       " Timestamp('2009-05-16 00:00:00'),\n",
       " Timestamp('2009-05-17 00:00:00'),\n",
       " Timestamp('2009-05-18 00:00:00'),\n",
       " Timestamp('2009-05-21 00:00:00'),\n",
       " Timestamp('2009-05-22 00:00:00'),\n",
       " Timestamp('2009-05-23 00:00:00'),\n",
       " Timestamp('2009-05-25 00:00:00'),\n",
       " Timestamp('2009-05-26 00:00:00'),\n",
       " Timestamp('2009-05-27 00:00:00'),\n",
       " Timestamp('2009-05-28 00:00:00'),\n",
       " Timestamp('2009-05-29 00:00:00'),\n",
       " Timestamp('2009-05-30 00:00:00'),\n",
       " Timestamp('2009-05-31 00:00:00'),\n",
       " Timestamp('2009-06-01 00:00:00'),\n",
       " Timestamp('2009-06-02 00:00:00'),\n",
       " Timestamp('2009-06-03 00:00:00'),\n",
       " Timestamp('2009-06-04 00:00:00'),\n",
       " Timestamp('2009-06-05 00:00:00'),\n",
       " Timestamp('2009-06-06 00:00:00'),\n",
       " Timestamp('2009-06-07 00:00:00'),\n",
       " Timestamp('2009-06-14 00:00:00'),\n",
       " Timestamp('2009-06-15 00:00:00'),\n",
       " Timestamp('2009-06-16 00:00:00'),\n",
       " Timestamp('2009-06-17 00:00:00'),\n",
       " Timestamp('2009-06-18 00:00:00'),\n",
       " Timestamp('2009-06-19 00:00:00'),\n",
       " Timestamp('2009-06-20 00:00:00'),\n",
       " Timestamp('2009-06-21 00:00:00'),\n",
       " Timestamp('2009-06-22 00:00:00'),\n",
       " Timestamp('2009-06-23 00:00:00'),\n",
       " Timestamp('2009-06-24 00:00:00'),\n",
       " Timestamp('2009-06-25 00:00:00')]"
      ]
     },
     "execution_count": 119,
     "metadata": {},
     "output_type": "execute_result"
    }
   ],
   "source": [
    "list_dates"
   ]
  },
  {
   "cell_type": "code",
   "execution_count": 120,
   "id": "a922b064",
   "metadata": {},
   "outputs": [
    {
     "name": "stdout",
     "output_type": "stream",
     "text": [
      "[Timestamp('2009-05-06 00:00:00'), Timestamp('2009-05-05 00:00:00'), Timestamp('2009-06-08 00:00:00'), Timestamp('2009-06-11 00:00:00'), Timestamp('2009-05-08 00:00:00'), Timestamp('2009-05-20 00:00:00'), Timestamp('2009-06-10 00:00:00'), Timestamp('2009-05-07 00:00:00'), Timestamp('2009-06-09 00:00:00'), Timestamp('2009-05-15 00:00:00'), Timestamp('2009-05-19 00:00:00'), Timestamp('2009-05-24 00:00:00'), Timestamp('2009-06-12 00:00:00'), Timestamp('2009-05-12 00:00:00'), Timestamp('2009-06-13 00:00:00')]\n"
     ]
    }
   ],
   "source": [
    "valori_mancanti = list(set(date_list) - set(list_dates))\n",
    "\n",
    "print(valori_mancanti)"
   ]
  },
  {
   "cell_type": "code",
   "execution_count": 121,
   "id": "af500eb3",
   "metadata": {},
   "outputs": [],
   "source": [
    "df5 = pd.DataFrame({'solo_data': valori_mancanti})\n"
   ]
  },
  {
   "cell_type": "code",
   "execution_count": 122,
   "id": "6ec465e5",
   "metadata": {},
   "outputs": [],
   "source": [
    "df5['compound']= ' '"
   ]
  },
  {
   "cell_type": "code",
   "execution_count": 123,
   "id": "7221fd3a",
   "metadata": {},
   "outputs": [
    {
     "name": "stdout",
     "output_type": "stream",
     "text": [
      "<class 'pandas.core.frame.DataFrame'>\n",
      "RangeIndex: 15 entries, 0 to 14\n",
      "Data columns (total 2 columns):\n",
      " #   Column     Non-Null Count  Dtype         \n",
      "---  ------     --------------  -----         \n",
      " 0   solo_data  15 non-null     datetime64[ns]\n",
      " 1   compound   15 non-null     object        \n",
      "dtypes: datetime64[ns](1), object(1)\n",
      "memory usage: 368.0+ bytes\n"
     ]
    }
   ],
   "source": [
    "df5.info()"
   ]
  },
  {
   "cell_type": "code",
   "execution_count": 124,
   "id": "a74af6ff",
   "metadata": {},
   "outputs": [],
   "source": [
    "df5['solo_data'] = pd.to_datetime(df5['solo_data'])"
   ]
  },
  {
   "cell_type": "code",
   "execution_count": 125,
   "id": "fc229488",
   "metadata": {},
   "outputs": [],
   "source": [
    "df5 = df5.sort_values(by='solo_data')"
   ]
  },
  {
   "cell_type": "code",
   "execution_count": 126,
   "id": "311da390",
   "metadata": {},
   "outputs": [
    {
     "data": {
      "text/html": [
       "<div>\n",
       "<style scoped>\n",
       "    .dataframe tbody tr th:only-of-type {\n",
       "        vertical-align: middle;\n",
       "    }\n",
       "\n",
       "    .dataframe tbody tr th {\n",
       "        vertical-align: top;\n",
       "    }\n",
       "\n",
       "    .dataframe thead th {\n",
       "        text-align: right;\n",
       "    }\n",
       "</style>\n",
       "<table border=\"1\" class=\"dataframe\">\n",
       "  <thead>\n",
       "    <tr style=\"text-align: right;\">\n",
       "      <th></th>\n",
       "      <th>solo_data</th>\n",
       "      <th>compound</th>\n",
       "      <th>day_num</th>\n",
       "    </tr>\n",
       "  </thead>\n",
       "  <tbody>\n",
       "    <tr>\n",
       "      <th>0</th>\n",
       "      <td>2009-05-01</td>\n",
       "      <td>0.053553</td>\n",
       "      <td>121</td>\n",
       "    </tr>\n",
       "    <tr>\n",
       "      <th>1</th>\n",
       "      <td>2009-05-02</td>\n",
       "      <td>0.085993</td>\n",
       "      <td>122</td>\n",
       "    </tr>\n",
       "    <tr>\n",
       "      <th>2</th>\n",
       "      <td>2009-05-03</td>\n",
       "      <td>0.063115</td>\n",
       "      <td>123</td>\n",
       "    </tr>\n",
       "    <tr>\n",
       "      <th>3</th>\n",
       "      <td>2009-05-04</td>\n",
       "      <td>0.081469</td>\n",
       "      <td>124</td>\n",
       "    </tr>\n",
       "    <tr>\n",
       "      <th>4</th>\n",
       "      <td>2009-05-09</td>\n",
       "      <td>0.102651</td>\n",
       "      <td>129</td>\n",
       "    </tr>\n",
       "    <tr>\n",
       "      <th>5</th>\n",
       "      <td>2009-05-10</td>\n",
       "      <td>0.173558</td>\n",
       "      <td>130</td>\n",
       "    </tr>\n",
       "    <tr>\n",
       "      <th>6</th>\n",
       "      <td>2009-05-11</td>\n",
       "      <td>0.092621</td>\n",
       "      <td>131</td>\n",
       "    </tr>\n",
       "    <tr>\n",
       "      <th>7</th>\n",
       "      <td>2009-05-13</td>\n",
       "      <td>0.056954</td>\n",
       "      <td>133</td>\n",
       "    </tr>\n",
       "    <tr>\n",
       "      <th>8</th>\n",
       "      <td>2009-05-14</td>\n",
       "      <td>0.062869</td>\n",
       "      <td>134</td>\n",
       "    </tr>\n",
       "    <tr>\n",
       "      <th>9</th>\n",
       "      <td>2009-05-16</td>\n",
       "      <td>0.052799</td>\n",
       "      <td>136</td>\n",
       "    </tr>\n",
       "    <tr>\n",
       "      <th>10</th>\n",
       "      <td>2009-05-17</td>\n",
       "      <td>0.087590</td>\n",
       "      <td>137</td>\n",
       "    </tr>\n",
       "    <tr>\n",
       "      <th>11</th>\n",
       "      <td>2009-05-18</td>\n",
       "      <td>0.089445</td>\n",
       "      <td>138</td>\n",
       "    </tr>\n",
       "    <tr>\n",
       "      <th>12</th>\n",
       "      <td>2009-05-21</td>\n",
       "      <td>-0.022380</td>\n",
       "      <td>141</td>\n",
       "    </tr>\n",
       "    <tr>\n",
       "      <th>13</th>\n",
       "      <td>2009-05-22</td>\n",
       "      <td>0.089572</td>\n",
       "      <td>142</td>\n",
       "    </tr>\n",
       "    <tr>\n",
       "      <th>14</th>\n",
       "      <td>2009-05-23</td>\n",
       "      <td>0.061193</td>\n",
       "      <td>143</td>\n",
       "    </tr>\n",
       "    <tr>\n",
       "      <th>15</th>\n",
       "      <td>2009-05-25</td>\n",
       "      <td>0.183268</td>\n",
       "      <td>145</td>\n",
       "    </tr>\n",
       "    <tr>\n",
       "      <th>16</th>\n",
       "      <td>2009-05-26</td>\n",
       "      <td>0.064447</td>\n",
       "      <td>146</td>\n",
       "    </tr>\n",
       "    <tr>\n",
       "      <th>17</th>\n",
       "      <td>2009-05-27</td>\n",
       "      <td>0.068312</td>\n",
       "      <td>147</td>\n",
       "    </tr>\n",
       "    <tr>\n",
       "      <th>18</th>\n",
       "      <td>2009-05-28</td>\n",
       "      <td>0.061534</td>\n",
       "      <td>148</td>\n",
       "    </tr>\n",
       "    <tr>\n",
       "      <th>19</th>\n",
       "      <td>2009-05-29</td>\n",
       "      <td>0.059700</td>\n",
       "      <td>149</td>\n",
       "    </tr>\n",
       "    <tr>\n",
       "      <th>20</th>\n",
       "      <td>2009-05-30</td>\n",
       "      <td>0.071590</td>\n",
       "      <td>150</td>\n",
       "    </tr>\n",
       "    <tr>\n",
       "      <th>21</th>\n",
       "      <td>2009-05-31</td>\n",
       "      <td>0.066942</td>\n",
       "      <td>151</td>\n",
       "    </tr>\n",
       "    <tr>\n",
       "      <th>22</th>\n",
       "      <td>2009-06-01</td>\n",
       "      <td>0.060314</td>\n",
       "      <td>152</td>\n",
       "    </tr>\n",
       "    <tr>\n",
       "      <th>23</th>\n",
       "      <td>2009-06-02</td>\n",
       "      <td>0.074808</td>\n",
       "      <td>153</td>\n",
       "    </tr>\n",
       "    <tr>\n",
       "      <th>24</th>\n",
       "      <td>2009-06-03</td>\n",
       "      <td>0.062782</td>\n",
       "      <td>154</td>\n",
       "    </tr>\n",
       "    <tr>\n",
       "      <th>25</th>\n",
       "      <td>2009-06-04</td>\n",
       "      <td>0.057083</td>\n",
       "      <td>155</td>\n",
       "    </tr>\n",
       "    <tr>\n",
       "      <th>26</th>\n",
       "      <td>2009-06-05</td>\n",
       "      <td>0.058845</td>\n",
       "      <td>156</td>\n",
       "    </tr>\n",
       "    <tr>\n",
       "      <th>27</th>\n",
       "      <td>2009-06-06</td>\n",
       "      <td>0.073062</td>\n",
       "      <td>157</td>\n",
       "    </tr>\n",
       "    <tr>\n",
       "      <th>28</th>\n",
       "      <td>2009-06-07</td>\n",
       "      <td>0.099471</td>\n",
       "      <td>158</td>\n",
       "    </tr>\n",
       "    <tr>\n",
       "      <th>29</th>\n",
       "      <td>2009-06-14</td>\n",
       "      <td>0.063759</td>\n",
       "      <td>165</td>\n",
       "    </tr>\n",
       "    <tr>\n",
       "      <th>30</th>\n",
       "      <td>2009-06-15</td>\n",
       "      <td>0.092827</td>\n",
       "      <td>166</td>\n",
       "    </tr>\n",
       "    <tr>\n",
       "      <th>31</th>\n",
       "      <td>2009-06-16</td>\n",
       "      <td>0.035378</td>\n",
       "      <td>167</td>\n",
       "    </tr>\n",
       "    <tr>\n",
       "      <th>32</th>\n",
       "      <td>2009-06-17</td>\n",
       "      <td>-0.033742</td>\n",
       "      <td>168</td>\n",
       "    </tr>\n",
       "    <tr>\n",
       "      <th>33</th>\n",
       "      <td>2009-06-18</td>\n",
       "      <td>-0.025353</td>\n",
       "      <td>169</td>\n",
       "    </tr>\n",
       "    <tr>\n",
       "      <th>34</th>\n",
       "      <td>2009-06-19</td>\n",
       "      <td>-0.023384</td>\n",
       "      <td>170</td>\n",
       "    </tr>\n",
       "    <tr>\n",
       "      <th>35</th>\n",
       "      <td>2009-06-20</td>\n",
       "      <td>-0.024066</td>\n",
       "      <td>171</td>\n",
       "    </tr>\n",
       "    <tr>\n",
       "      <th>36</th>\n",
       "      <td>2009-06-21</td>\n",
       "      <td>-0.020022</td>\n",
       "      <td>172</td>\n",
       "    </tr>\n",
       "    <tr>\n",
       "      <th>37</th>\n",
       "      <td>2009-06-22</td>\n",
       "      <td>-0.028003</td>\n",
       "      <td>173</td>\n",
       "    </tr>\n",
       "    <tr>\n",
       "      <th>38</th>\n",
       "      <td>2009-06-23</td>\n",
       "      <td>-0.023973</td>\n",
       "      <td>174</td>\n",
       "    </tr>\n",
       "    <tr>\n",
       "      <th>39</th>\n",
       "      <td>2009-06-24</td>\n",
       "      <td>-0.034180</td>\n",
       "      <td>175</td>\n",
       "    </tr>\n",
       "    <tr>\n",
       "      <th>40</th>\n",
       "      <td>2009-06-25</td>\n",
       "      <td>-0.028472</td>\n",
       "      <td>176</td>\n",
       "    </tr>\n",
       "  </tbody>\n",
       "</table>\n",
       "</div>"
      ],
      "text/plain": [
       "    solo_data  compound  day_num\n",
       "0  2009-05-01  0.053553      121\n",
       "1  2009-05-02  0.085993      122\n",
       "2  2009-05-03  0.063115      123\n",
       "3  2009-05-04  0.081469      124\n",
       "4  2009-05-09  0.102651      129\n",
       "5  2009-05-10  0.173558      130\n",
       "6  2009-05-11  0.092621      131\n",
       "7  2009-05-13  0.056954      133\n",
       "8  2009-05-14  0.062869      134\n",
       "9  2009-05-16  0.052799      136\n",
       "10 2009-05-17  0.087590      137\n",
       "11 2009-05-18  0.089445      138\n",
       "12 2009-05-21 -0.022380      141\n",
       "13 2009-05-22  0.089572      142\n",
       "14 2009-05-23  0.061193      143\n",
       "15 2009-05-25  0.183268      145\n",
       "16 2009-05-26  0.064447      146\n",
       "17 2009-05-27  0.068312      147\n",
       "18 2009-05-28  0.061534      148\n",
       "19 2009-05-29  0.059700      149\n",
       "20 2009-05-30  0.071590      150\n",
       "21 2009-05-31  0.066942      151\n",
       "22 2009-06-01  0.060314      152\n",
       "23 2009-06-02  0.074808      153\n",
       "24 2009-06-03  0.062782      154\n",
       "25 2009-06-04  0.057083      155\n",
       "26 2009-06-05  0.058845      156\n",
       "27 2009-06-06  0.073062      157\n",
       "28 2009-06-07  0.099471      158\n",
       "29 2009-06-14  0.063759      165\n",
       "30 2009-06-15  0.092827      166\n",
       "31 2009-06-16  0.035378      167\n",
       "32 2009-06-17 -0.033742      168\n",
       "33 2009-06-18 -0.025353      169\n",
       "34 2009-06-19 -0.023384      170\n",
       "35 2009-06-20 -0.024066      171\n",
       "36 2009-06-21 -0.020022      172\n",
       "37 2009-06-22 -0.028003      173\n",
       "38 2009-06-23 -0.023973      174\n",
       "39 2009-06-24 -0.034180      175\n",
       "40 2009-06-25 -0.028472      176"
      ]
     },
     "execution_count": 126,
     "metadata": {},
     "output_type": "execute_result"
    }
   ],
   "source": [
    "grouped_df1"
   ]
  },
  {
   "cell_type": "code",
   "execution_count": 127,
   "id": "ce1cd47d",
   "metadata": {},
   "outputs": [],
   "source": [
    "df5['compound'].replace(' ', pd.NA, inplace=True)"
   ]
  },
  {
   "cell_type": "code",
   "execution_count": 719,
   "id": "5c110519",
   "metadata": {},
   "outputs": [],
   "source": [
    "df_concatenato = pd.concat([grouped_df1, df5], axis=0)"
   ]
  },
  {
   "cell_type": "code",
   "execution_count": 720,
   "id": "19023c4e",
   "metadata": {},
   "outputs": [
    {
     "name": "stdout",
     "output_type": "stream",
     "text": [
      "<class 'pandas.core.frame.DataFrame'>\n",
      "Int64Index: 56 entries, 0 to 14\n",
      "Data columns (total 3 columns):\n",
      " #   Column     Non-Null Count  Dtype         \n",
      "---  ------     --------------  -----         \n",
      " 0   solo_data  56 non-null     datetime64[ns]\n",
      " 1   compound   41 non-null     float64       \n",
      " 2   day_num    41 non-null     float64       \n",
      "dtypes: datetime64[ns](1), float64(2)\n",
      "memory usage: 1.8 KB\n"
     ]
    }
   ],
   "source": [
    "df_concatenato.info()"
   ]
  },
  {
   "cell_type": "code",
   "execution_count": 721,
   "id": "f922d58c",
   "metadata": {},
   "outputs": [],
   "source": [
    "df_concatenato['solo_data'] = pd.to_datetime(df_concatenato['solo_data'])"
   ]
  },
  {
   "cell_type": "code",
   "execution_count": 722,
   "id": "01c996e1",
   "metadata": {},
   "outputs": [],
   "source": [
    "df_concatenato['day_num'] = df_concatenato['solo_data'].dt.dayofyear"
   ]
  },
  {
   "cell_type": "code",
   "execution_count": 723,
   "id": "3b410860",
   "metadata": {},
   "outputs": [],
   "source": [
    "df_concatenato = df_concatenato.sort_values(by='solo_data')"
   ]
  },
  {
   "cell_type": "code",
   "execution_count": 724,
   "id": "3f6a2a84",
   "metadata": {},
   "outputs": [],
   "source": [
    "df_concatenato.sort_values(by=\"solo_data\", inplace=True)\n",
    "\n"
   ]
  },
  {
   "cell_type": "code",
   "execution_count": 725,
   "id": "2c9227a5",
   "metadata": {},
   "outputs": [],
   "source": [
    "df_concatenato['compound'] = df_concatenato['compound'].replace(' ', np.nan)\n",
    "\n"
   ]
  },
  {
   "cell_type": "code",
   "execution_count": 726,
   "id": "2d0439ba",
   "metadata": {},
   "outputs": [],
   "source": [
    "df_concatenato[\"compound\"].fillna(method='ffill', inplace=True) # Forward Fill to column \"compound\""
   ]
  },
  {
   "cell_type": "code",
   "execution_count": 727,
   "id": "8335c5db",
   "metadata": {},
   "outputs": [
    {
     "name": "stdout",
     "output_type": "stream",
     "text": [
      "<class 'pandas.core.frame.DataFrame'>\n",
      "Int64Index: 56 entries, 0 to 40\n",
      "Data columns (total 3 columns):\n",
      " #   Column     Non-Null Count  Dtype         \n",
      "---  ------     --------------  -----         \n",
      " 0   solo_data  56 non-null     datetime64[ns]\n",
      " 1   compound   56 non-null     float64       \n",
      " 2   day_num    56 non-null     int64         \n",
      "dtypes: datetime64[ns](1), float64(1), int64(1)\n",
      "memory usage: 1.8 KB\n"
     ]
    }
   ],
   "source": [
    "df_concatenato.info()"
   ]
  },
  {
   "cell_type": "code",
   "execution_count": 728,
   "id": "5126332e",
   "metadata": {},
   "outputs": [],
   "source": [
    "\n",
    "df_concatenato = df_concatenato.set_index('solo_data')"
   ]
  },
  {
   "cell_type": "code",
   "execution_count": 729,
   "id": "f36f3e38",
   "metadata": {},
   "outputs": [],
   "source": [
    "from scipy.stats import shapiro\n",
    "stat, p = shapiro(df_concatenato[\"compound\"])\n"
   ]
  },
  {
   "cell_type": "code",
   "execution_count": 730,
   "id": "61fd6558",
   "metadata": {},
   "outputs": [
    {
     "data": {
      "text/plain": [
       "7.621965323778568e-06"
      ]
     },
     "execution_count": 730,
     "metadata": {},
     "output_type": "execute_result"
    }
   ],
   "source": [
    "p"
   ]
  },
  {
   "cell_type": "code",
   "execution_count": 731,
   "id": "d5398850",
   "metadata": {},
   "outputs": [],
   "source": [
    "df_smooth = df_concatenato"
   ]
  },
  {
   "cell_type": "markdown",
   "id": "ecd5d124",
   "metadata": {},
   "source": [
    "# decompose the time series"
   ]
  },
  {
   "cell_type": "code",
   "execution_count": 140,
   "id": "eba6bfa4",
   "metadata": {},
   "outputs": [],
   "source": [
    "from statsmodels.tsa.seasonal import seasonal_decompose"
   ]
  },
  {
   "cell_type": "code",
   "execution_count": 145,
   "id": "2d36644d",
   "metadata": {},
   "outputs": [],
   "source": [
    "decomposition = seasonal_decompose(df_concatenato['compound'], model='additive')"
   ]
  },
  {
   "cell_type": "code",
   "execution_count": 142,
   "id": "351b2eeb",
   "metadata": {},
   "outputs": [],
   "source": [
    "trend = decomposition.trend\n",
    "seasonal = decomposition.seasonal\n",
    "residual = decomposition.resid"
   ]
  },
  {
   "cell_type": "code",
   "execution_count": 702,
   "id": "843f2062",
   "metadata": {},
   "outputs": [
    {
     "data": {
      "text/plain": [
       "solo_data\n",
       "2009-05-01         NaN\n",
       "2009-05-02         NaN\n",
       "2009-05-03         NaN\n",
       "2009-05-04    0.075505\n",
       "2009-05-05    0.079493\n",
       "Name: trend, dtype: float64"
      ]
     },
     "execution_count": 702,
     "metadata": {},
     "output_type": "execute_result"
    }
   ],
   "source": []
  },
  {
   "cell_type": "code",
   "execution_count": 143,
   "id": "02b8c0b3",
   "metadata": {},
   "outputs": [
    {
     "data": {
      "image/png": "[encoded data removed]",
      "text/plain": [
       "<Figure size 640x480 with 4 Axes>"
      ]
     },
     "execution_count": 143,
     "metadata": {},
     "output_type": "execute_result"
    },
    {
     "data": {
      "image/png": "[encoded data removed]",
      "text/plain": [
       "<Figure size 640x480 with 4 Axes>"
      ]
     },
     "metadata": {},
     "output_type": "display_data"
    }
   ],
   "source": [
    "decomposition.plot()"
   ]
  },
  {
   "cell_type": "code",
   "execution_count": 598,
   "id": "bd9a72d0",
   "metadata": {},
   "outputs": [
    {
     "data": {
      "text/plain": [
       "solo_data\n",
       "2009-05-01   -0.005231\n",
       "2009-05-02   -0.001914\n",
       "2009-05-03    0.014131\n",
       "2009-05-04    0.022277\n",
       "2009-05-05    0.004178\n",
       "2009-05-06   -0.009712\n",
       "2009-05-07   -0.023729\n",
       "2009-05-08   -0.005231\n",
       "2009-05-09   -0.001914\n",
       "2009-05-10    0.014131\n",
       "2009-05-11    0.022277\n",
       "2009-05-12    0.004178\n",
       "2009-05-13   -0.009712\n",
       "2009-05-14   -0.023729\n",
       "2009-05-15   -0.005231\n",
       "2009-05-16   -0.001914\n",
       "2009-05-17    0.014131\n",
       "2009-05-18    0.022277\n",
       "2009-05-19    0.004178\n",
       "2009-05-20   -0.009712\n",
       "2009-05-21   -0.023729\n",
       "2009-05-22   -0.005231\n",
       "2009-05-23   -0.001914\n",
       "2009-05-24    0.014131\n",
       "2009-05-25    0.022277\n",
       "2009-05-26    0.004178\n",
       "2009-05-27   -0.009712\n",
       "2009-05-28   -0.023729\n",
       "2009-05-29   -0.005231\n",
       "2009-05-30   -0.001914\n",
       "2009-05-31    0.014131\n",
       "2009-06-01    0.022277\n",
       "2009-06-02    0.004178\n",
       "2009-06-03   -0.009712\n",
       "2009-06-04   -0.023729\n",
       "2009-06-05   -0.005231\n",
       "2009-06-06   -0.001914\n",
       "2009-06-07    0.014131\n",
       "2009-06-08    0.022277\n",
       "2009-06-09    0.004178\n",
       "2009-06-10   -0.009712\n",
       "2009-06-11   -0.023729\n",
       "2009-06-12   -0.005231\n",
       "2009-06-13   -0.001914\n",
       "2009-06-14    0.014131\n",
       "2009-06-15    0.022277\n",
       "2009-06-16    0.004178\n",
       "2009-06-17   -0.009712\n",
       "2009-06-18   -0.023729\n",
       "2009-06-19   -0.005231\n",
       "2009-06-20   -0.001914\n",
       "2009-06-21    0.014131\n",
       "2009-06-22    0.022277\n",
       "2009-06-23    0.004178\n",
       "2009-06-24   -0.009712\n",
       "2009-06-25   -0.023729\n",
       "Name: seasonal, dtype: float64"
      ]
     },
     "execution_count": 598,
     "metadata": {},
     "output_type": "execute_result"
    }
   ],
   "source": [
    "seasonal"
   ]
  },
  {
   "cell_type": "code",
   "execution_count": null,
   "id": "49404431",
   "metadata": {},
   "outputs": [],
   "source": []
  },
  {
   "cell_type": "code",
   "execution_count": 583,
   "id": "011010b7",
   "metadata": {},
   "outputs": [],
   "source": []
  },
  {
   "cell_type": "code",
   "execution_count": 586,
   "id": "4812af5f",
   "metadata": {},
   "outputs": [],
   "source": [
    "\n"
   ]
  },
  {
   "cell_type": "code",
   "execution_count": 163,
   "id": "930d5391",
   "metadata": {},
   "outputs": [],
   "source": [
    "df_diff = df_concatenato['compound'].diff().dropna()"
   ]
  },
  {
   "cell_type": "code",
   "execution_count": 151,
   "id": "14a7aa78",
   "metadata": {},
   "outputs": [
    {
     "name": "stdout",
     "output_type": "stream",
     "text": [
      "<class 'pandas.core.series.Series'>\n",
      "DatetimeIndex: 55 entries, 2009-05-02 to 2009-06-25\n",
      "Series name: compound\n",
      "Non-Null Count  Dtype  \n",
      "--------------  -----  \n",
      "55 non-null     float64\n",
      "dtypes: float64(1)\n",
      "memory usage: 880.0 bytes\n"
     ]
    }
   ],
   "source": [
    "df_diff.info()"
   ]
  },
  {
   "cell_type": "code",
   "execution_count": 152,
   "id": "09892168",
   "metadata": {},
   "outputs": [],
   "source": [
    "from statsmodels.tsa.stattools import adfuller\n",
    "\n",
    "# test ADF\n",
    "result = adfuller(df_diff)\n",
    "\n",
    "adf_statistic = result[0]\n",
    "p_value = result[1]\n",
    "critical_values = result[4]"
   ]
  },
  {
   "cell_type": "code",
   "execution_count": 153,
   "id": "69858052",
   "metadata": {},
   "outputs": [
    {
     "name": "stdout",
     "output_type": "stream",
     "text": [
      "time series is stationary (Ho rejected)\n"
     ]
    }
   ],
   "source": [
    "if p_value < 0.05:\n",
    "    print(\"time series is stationary (Ho rejected)\")\n",
    "else:\n",
    "    print(\"time series is not stationary (H1 accepted)\")\n"
   ]
  },
  {
   "cell_type": "code",
   "execution_count": 164,
   "id": "0334c133",
   "metadata": {},
   "outputs": [],
   "source": [
    "date_index = df_diff.index\n",
    "\n"
   ]
  },
  {
   "cell_type": "code",
   "execution_count": 643,
   "id": "fd25d42f",
   "metadata": {},
   "outputs": [],
   "source": [
    "test_set_start_index = len(df_diff) - 7\n",
    "\n",
    "# split dataset into training and test set\n",
    "train_set = df_diff.iloc[:test_set_start_index]\n",
    "test_set= df_diff.iloc[test_set_start_index:]"
   ]
  },
  {
   "cell_type": "code",
   "execution_count": 644,
   "id": "3feda03d",
   "metadata": {},
   "outputs": [
    {
     "data": {
      "text/plain": [
       "solo_data\n",
       "2009-06-19    0.001969\n",
       "2009-06-20   -0.000683\n",
       "2009-06-21    0.004045\n",
       "2009-06-22   -0.007981\n",
       "2009-06-23    0.004030\n",
       "2009-06-24   -0.010207\n",
       "2009-06-25    0.005708\n",
       "Name: compound, dtype: float64"
      ]
     },
     "execution_count": 644,
     "metadata": {},
     "output_type": "execute_result"
    }
   ],
   "source": [
    "test_set"
   ]
  },
  {
   "cell_type": "markdown",
   "id": "5c1aa67b",
   "metadata": {},
   "source": [
    "# arima"
   ]
  },
  {
   "cell_type": "code",
   "execution_count": null,
   "id": "5fd98112",
   "metadata": {},
   "outputs": [],
   "source": []
  },
  {
   "cell_type": "code",
   "execution_count": 645,
   "id": "0af9e6f6",
   "metadata": {},
   "outputs": [],
   "source": [
    "import pandas as pd\n",
    "import numpy as np\n",
    "from statsmodels.tsa.arima.model import ARIMA\n",
    "from sklearn.model_selection import GridSearchCV\n",
    "from pmdarima import auto_arima\n"
   ]
  },
  {
   "cell_type": "code",
   "execution_count": 646,
   "id": "24d222d0",
   "metadata": {},
   "outputs": [],
   "source": [
    "p_values = range(0, 3)  # Range per p\n",
    "q_values = range(0, 3) \n",
    "d_values = range(0, 3)\n",
    "# Range per q"
   ]
  },
  {
   "cell_type": "code",
   "execution_count": 647,
   "id": "5fa8547b",
   "metadata": {},
   "outputs": [
    {
     "name": "stdout",
     "output_type": "stream",
     "text": [
      "Performing stepwise search to minimize aic\n",
      " ARIMA(0,1,0)(0,0,0)[0] intercept   : AIC=-111.269, Time=0.04 sec\n",
      " ARIMA(1,1,0)(0,0,0)[0] intercept   : AIC=-136.024, Time=0.03 sec\n",
      " ARIMA(0,1,1)(0,0,0)[0] intercept   : AIC=inf, Time=0.05 sec\n",
      " ARIMA(0,1,0)(0,0,0)[0]             : AIC=-113.266, Time=0.01 sec\n",
      " ARIMA(2,1,0)(0,0,0)[0] intercept   : AIC=-156.434, Time=0.04 sec\n",
      " ARIMA(2,1,1)(0,0,0)[0] intercept   : AIC=inf, Time=0.08 sec\n",
      " ARIMA(1,1,1)(0,0,0)[0] intercept   : AIC=inf, Time=0.07 sec\n",
      " ARIMA(2,1,0)(0,0,0)[0]             : AIC=-158.247, Time=0.02 sec\n",
      " ARIMA(1,1,0)(0,0,0)[0]             : AIC=-138.001, Time=0.01 sec\n",
      " ARIMA(2,1,1)(0,0,0)[0]             : AIC=-163.194, Time=0.08 sec\n",
      " ARIMA(1,1,1)(0,0,0)[0]             : AIC=inf, Time=0.06 sec\n",
      " ARIMA(2,1,2)(0,0,0)[0]             : AIC=-164.337, Time=0.10 sec\n",
      " ARIMA(1,1,2)(0,0,0)[0]             : AIC=-162.698, Time=0.07 sec\n",
      " ARIMA(2,1,2)(0,0,0)[0] intercept   : AIC=-163.530, Time=0.11 sec\n",
      "\n",
      "Best model:  ARIMA(2,1,2)(0,0,0)[0]          \n",
      "Total fit time: 0.766 seconds\n"
     ]
    }
   ],
   "source": [
    "grid_search =  auto_arima(train_set, # grid search using auto_arima\n",
    "                        start_p=min(p_values),\n",
    "                        start_q=min(q_values),\n",
    "                        max_p=max(p_values),\n",
    "                        max_q=max(q_values),\n",
    "                        d=1,\n",
    "                        seasonal=False,  # ARIMA non stagionale\n",
    "                        stepwise=True,  # Esecuzione passo-passo\n",
    "                        suppress_warnings=True,  # Nascondi avvisi\n",
    "                        error_action=\"ignore\",  # Ignora errori\n",
    "                        trace=True)  # Mostra il percorso della ricerca\n",
    "\n",
    "\n"
   ]
  },
  {
   "cell_type": "code",
   "execution_count": 648,
   "id": "023d601c",
   "metadata": {},
   "outputs": [],
   "source": [
    "model = ARIMA(train_set, order=(2, 1, 2))\n"
   ]
  },
  {
   "cell_type": "code",
   "execution_count": 649,
   "id": "1effaf6c",
   "metadata": {},
   "outputs": [],
   "source": [
    "model_fit = model.fit()\n",
    "\n"
   ]
  },
  {
   "cell_type": "code",
   "execution_count": 650,
   "id": "b2f0404e",
   "metadata": {},
   "outputs": [],
   "source": [
    "predictions = model_fit.forecast(7)"
   ]
  },
  {
   "cell_type": "code",
   "execution_count": 651,
   "id": "7fc7915e",
   "metadata": {},
   "outputs": [
    {
     "data": {
      "text/plain": [
       "2009-06-19   -0.007977\n",
       "2009-06-20   -0.004062\n",
       "2009-06-21   -0.000431\n",
       "2009-06-22   -0.006450\n",
       "2009-06-23   -0.001448\n",
       "2009-06-24   -0.004129\n",
       "2009-06-25   -0.003565\n",
       "Freq: D, Name: predicted_mean, dtype: float64"
      ]
     },
     "execution_count": 651,
     "metadata": {},
     "output_type": "execute_result"
    }
   ],
   "source": [
    "predictions"
   ]
  },
  {
   "cell_type": "code",
   "execution_count": 652,
   "id": "cf1d56cb",
   "metadata": {},
   "outputs": [
    {
     "data": {
      "text/plain": [
       "solo_data\n",
       "2009-06-19    0.001969\n",
       "2009-06-20   -0.000683\n",
       "2009-06-21    0.004045\n",
       "2009-06-22   -0.007981\n",
       "2009-06-23    0.004030\n",
       "2009-06-24   -0.010207\n",
       "2009-06-25    0.005708\n",
       "Name: compound, dtype: float64"
      ]
     },
     "execution_count": 652,
     "metadata": {},
     "output_type": "execute_result"
    }
   ],
   "source": [
    "test_set"
   ]
  },
  {
   "cell_type": "code",
   "execution_count": 653,
   "id": "1144ff5a",
   "metadata": {},
   "outputs": [],
   "source": [
    "import matplotlib.pyplot as plt\n"
   ]
  },
  {
   "cell_type": "code",
   "execution_count": 654,
   "id": "f3386f70",
   "metadata": {},
   "outputs": [
    {
     "data": {
      "image/png": "[encoded data removed]",
      "text/plain": [
       "<Figure size 1000x600 with 1 Axes>"
      ]
     },
     "metadata": {},
     "output_type": "display_data"
    }
   ],
   "source": [
    "plt.figure(figsize=(10,6))\n",
    "\n",
    "# plot train set vs test set and vs predicted values\n",
    "plt.plot(train_set, label='Train Set')\n",
    "plt.plot(test_set, label='Test Set')\n",
    "plt.plot(predictions, label='Predictions', linestyle='--')\n",
    "\n",
    "# titles and labels\n",
    "plt.title('Train Set vs Test Set vs Predictions')\n",
    "plt.xlabel('Time or Index')\n",
    "plt.ylabel('Values')\n",
    "\n",
    "\n",
    "plt.legend()\n",
    "plt.show()\n"
   ]
  },
  {
   "cell_type": "code",
   "execution_count": 655,
   "id": "ce8c37d5",
   "metadata": {},
   "outputs": [
    {
     "data": {
      "text/plain": [
       "212.5537171929769"
      ]
     },
     "execution_count": 655,
     "metadata": {},
     "output_type": "execute_result"
    }
   ],
   "source": [
    "#MAPE function\n",
    "def MAPE(y_true, y_pred):\n",
    "  y_true, y_pred = np.array(y_true), np.array(y_pred)\n",
    "  return np.mean(np.abs((y_true - y_pred) / y_true)) * 100\n",
    "MAPE(test_set, predictions)"
   ]
  },
  {
   "cell_type": "code",
   "execution_count": 656,
   "id": "8ad3ae40",
   "metadata": {},
   "outputs": [],
   "source": [
    "model2 = ARIMA(df_diff, order=(2, 1, 2))"
   ]
  },
  {
   "cell_type": "code",
   "execution_count": 657,
   "id": "e4f834d1",
   "metadata": {},
   "outputs": [],
   "source": [
    "model_fit = model2.fit()"
   ]
  },
  {
   "cell_type": "code",
   "execution_count": 658,
   "id": "80e60b01",
   "metadata": {},
   "outputs": [],
   "source": [
    "one_week_forecast = model_fit.forecast(steps=7)\n",
    "one_month_forecast = model_fit.forecast(steps=30)\n",
    "three_months_forecast = model_fit.forecast(steps=90)"
   ]
  },
  {
   "cell_type": "code",
   "execution_count": 699,
   "id": "813f6d0d",
   "metadata": {},
   "outputs": [
    {
     "data": {
      "text/plain": [
       "<Axes: >"
      ]
     },
     "execution_count": 699,
     "metadata": {},
     "output_type": "execute_result"
    },
    {
     "data": {
      "image/png": "[encoded data removed]",
      "text/plain": [
       "<Figure size 640x480 with 1 Axes>"
      ]
     },
     "metadata": {},
     "output_type": "display_data"
    }
   ],
   "source": [
    "one_week_forecast.plot()"
   ]
  },
  {
   "cell_type": "code",
   "execution_count": 659,
   "id": "f0b01dea",
   "metadata": {},
   "outputs": [
    {
     "data": {
      "text/plain": [
       "<Axes: >"
      ]
     },
     "execution_count": 659,
     "metadata": {},
     "output_type": "execute_result"
    },
    {
     "data": {
      "image/png": "[encoded data removed]",
      "text/plain": [
       "<Figure size 640x480 with 1 Axes>"
      ]
     },
     "metadata": {},
     "output_type": "display_data"
    }
   ],
   "source": [
    "one_month_forecast.plot()"
   ]
  },
  {
   "cell_type": "code",
   "execution_count": 660,
   "id": "fa149561",
   "metadata": {},
   "outputs": [
    {
     "data": {
      "text/plain": [
       "<Axes: >"
      ]
     },
     "execution_count": 660,
     "metadata": {},
     "output_type": "execute_result"
    },
    {
     "data": {
      "image/png": "[encoded data removed]",
      "text/plain": [
       "<Figure size 640x480 with 1 Axes>"
      ]
     },
     "metadata": {},
     "output_type": "display_data"
    }
   ],
   "source": [
    "three_months_forecast.plot()"
   ]
  },
  {
   "cell_type": "code",
   "execution_count": 662,
   "id": "8dd046b2",
   "metadata": {},
   "outputs": [
    {
     "data": {
      "text/plain": [
       "pandas.core.series.Series"
      ]
     },
     "execution_count": 662,
     "metadata": {},
     "output_type": "execute_result"
    }
   ],
   "source": [
    "type(three_months_forecast)"
   ]
  },
  {
   "cell_type": "code",
   "execution_count": 663,
   "id": "778b8ef5",
   "metadata": {},
   "outputs": [],
   "source": [
    "actual_predictions = three_months_forecast.values"
   ]
  },
  {
   "cell_type": "code",
   "execution_count": 666,
   "id": "f2b1eb0f",
   "metadata": {},
   "outputs": [],
   "source": [
    "df_diff= df_diff.reset_index()"
   ]
  },
  {
   "cell_type": "code",
   "execution_count": 667,
   "id": "dc0933e5",
   "metadata": {},
   "outputs": [
    {
     "name": "stdout",
     "output_type": "stream",
     "text": [
      "<class 'pandas.core.frame.DataFrame'>\n",
      "RangeIndex: 55 entries, 0 to 54\n",
      "Data columns (total 2 columns):\n",
      " #   Column     Non-Null Count  Dtype         \n",
      "---  ------     --------------  -----         \n",
      " 0   solo_data  55 non-null     datetime64[ns]\n",
      " 1   compound   55 non-null     float64       \n",
      "dtypes: datetime64[ns](1), float64(1)\n",
      "memory usage: 1008.0 bytes\n"
     ]
    }
   ],
   "source": [
    "df_diff.info()"
   ]
  },
  {
   "cell_type": "code",
   "execution_count": 668,
   "id": "46b647fc",
   "metadata": {},
   "outputs": [
    {
     "data": {
      "image/png": "[encoded data removed]",
      "text/plain": [
       "<Figure size 1400x700 with 1 Axes>"
      ]
     },
     "metadata": {},
     "output_type": "display_data"
    }
   ],
   "source": [
    "\n",
    "df_diff['solo_data'] = pd.to_datetime(df_diff['solo_data'])\n",
    "\n",
    "prediction_dates = pd.date_range(start='2009-06-26', end='2009-09-23', freq='D')\n",
    "\n",
    "\n",
    "df_before = df_diff[df_diff['solo_data'] < '2009-06-26']\n",
    "df_after = df_diff[df_diff['solo_data'] >= '2009-06-26']\n",
    "\n",
    "\n",
    "plt.figure(figsize=(14, 7))\n",
    "\n",
    "\n",
    "plt.plot(df_before['solo_data'], df_before['compound'], label='Actual Compound (before June 26)', color='blue')\n",
    "\n",
    "\n",
    "plt.plot(prediction_dates, actual_predictions, label='Predictions (from June 26 to September 25)', color='red', linestyle='--')\n",
    "\n",
    "plt.title('Compound Time Series with Predictions')\n",
    "plt.xlabel('Date')\n",
    "plt.ylabel('Compound Value')\n",
    "plt.legend()\n",
    "plt.show()\n"
   ]
  },
  {
   "cell_type": "markdown",
   "id": "1e6e426b",
   "metadata": {},
   "source": [
    "# Exponential Smoothing"
   ]
  },
  {
   "cell_type": "code",
   "execution_count": 704,
   "id": "94e1d02f",
   "metadata": {},
   "outputs": [],
   "source": [
    "from statsmodels.tsa.holtwinters import ExponentialSmoothing\n",
    "import statsmodels.api as sm"
   ]
  },
  {
   "cell_type": "code",
   "execution_count": 732,
   "id": "9473e47b",
   "metadata": {},
   "outputs": [],
   "source": [
    "train_size = int(len(df_smooth) * 0.8)\n",
    "train_data = df_concatenato[:train_size]\n",
    "test_data = df_concatenato[train_size:]"
   ]
  },
  {
   "cell_type": "code",
   "execution_count": 733,
   "id": "dd0a8e8f",
   "metadata": {},
   "outputs": [
    {
     "name": "stdout",
     "output_type": "stream",
     "text": [
      "<class 'pandas.core.frame.DataFrame'>\n",
      "DatetimeIndex: 44 entries, 2009-05-01 to 2009-06-13\n",
      "Data columns (total 2 columns):\n",
      " #   Column    Non-Null Count  Dtype  \n",
      "---  ------    --------------  -----  \n",
      " 0   compound  44 non-null     float64\n",
      " 1   day_num   44 non-null     int64  \n",
      "dtypes: float64(1), int64(1)\n",
      "memory usage: 1.0 KB\n"
     ]
    }
   ],
   "source": [
    "train_data.info()"
   ]
  },
  {
   "cell_type": "code",
   "execution_count": 757,
   "id": "158e8c79",
   "metadata": {},
   "outputs": [],
   "source": [
    "model = ExponentialSmoothing(train_data['compound'], seasonal='add', trend='add',seasonal_periods=7)  \n",
    "\n"
   ]
  },
  {
   "cell_type": "code",
   "execution_count": 754,
   "id": "60c89a36",
   "metadata": {},
   "outputs": [],
   "source": [
    "predictions = model_fit.forecast(len(test_data))\n",
    "\n"
   ]
  },
  {
   "cell_type": "code",
   "execution_count": 755,
   "id": "c6f475ff",
   "metadata": {},
   "outputs": [
    {
     "data": {
      "text/plain": [
       "175.972378549438"
      ]
     },
     "execution_count": 755,
     "metadata": {},
     "output_type": "execute_result"
    }
   ],
   "source": [
    "MAPE(predictions,test_data['compound'])"
   ]
  },
  {
   "cell_type": "code",
   "execution_count": 737,
   "id": "08426ebe",
   "metadata": {},
   "outputs": [],
   "source": [
    "train_data= train_data.reset_index()"
   ]
  },
  {
   "cell_type": "code",
   "execution_count": 738,
   "id": "c0b7c781",
   "metadata": {},
   "outputs": [],
   "source": [
    "test_data= test_data.reset_index()"
   ]
  },
  {
   "cell_type": "code",
   "execution_count": 758,
   "id": "6e529295",
   "metadata": {},
   "outputs": [
    {
     "data": {
      "image/png": "[encoded data removed]",
      "text/plain": [
       "<Figure size 1200x600 with 1 Axes>"
      ]
     },
     "metadata": {},
     "output_type": "display_data"
    }
   ],
   "source": [
    "# Visualizza i risultati\n",
    "plt.figure(figsize=(12, 6))\n",
    "plt.plot(train_data['solo_data'], train_data['compound'], label='Training Data')\n",
    "plt.plot(test_data['solo_data'], test_data['compound'], label='Test Data')\n",
    "plt.plot(test_data['solo_data'], predictions, label='Predictions', linestyle='--')\n",
    "plt.legend()\n",
    "plt.title('Holt Winters Forecast')\n",
    "plt.xlabel('Date')\n",
    "plt.ylabel('Value')\n",
    "plt.show()"
   ]
  },
  {
   "cell_type": "code",
   "execution_count": 744,
   "id": "4eb14443",
   "metadata": {},
   "outputs": [],
   "source": [
    "model = ExponentialSmoothing(df_smooth['compound'], seasonal='add',trend = \"add\", seasonal_periods=7) \n",
    "model_fit = model.fit()"
   ]
  },
  {
   "cell_type": "code",
   "execution_count": null,
   "id": "3cafc1aa",
   "metadata": {},
   "outputs": [],
   "source": []
  },
  {
   "cell_type": "code",
   "execution_count": null,
   "id": "f96d0041",
   "metadata": {},
   "outputs": [],
   "source": []
  },
  {
   "cell_type": "code",
   "execution_count": null,
   "id": "4beeda56",
   "metadata": {},
   "outputs": [],
   "source": []
  },
  {
   "cell_type": "code",
   "execution_count": 745,
   "id": "37bacd5f",
   "metadata": {},
   "outputs": [],
   "source": [
    "predictions = model_fit.forecast(90)"
   ]
  },
  {
   "cell_type": "code",
   "execution_count": 746,
   "id": "5f2404ad",
   "metadata": {},
   "outputs": [],
   "source": [
    "predictions= predictions.values"
   ]
  },
  {
   "cell_type": "code",
   "execution_count": 747,
   "id": "b99f85ac",
   "metadata": {},
   "outputs": [
    {
     "data": {
      "text/plain": [
       "90"
      ]
     },
     "execution_count": 747,
     "metadata": {},
     "output_type": "execute_result"
    }
   ],
   "source": [
    "len(predictions)"
   ]
  },
  {
   "cell_type": "code",
   "execution_count": 750,
   "id": "4bb1ebd5",
   "metadata": {},
   "outputs": [],
   "source": [
    "df_smooth=df_smooth.reset_index()"
   ]
  },
  {
   "cell_type": "code",
   "execution_count": 751,
   "id": "699d973c",
   "metadata": {},
   "outputs": [
    {
     "data": {
      "image/png": "[encoded data removed]",
      "text/plain": [
       "<Figure size 1400x700 with 1 Axes>"
      ]
     },
     "metadata": {},
     "output_type": "display_data"
    }
   ],
   "source": [
    "\n",
    "df_smooth['solo_data'] = pd.to_datetime(df_smooth['solo_data'])\n",
    "\n",
    "prediction_dates = pd.date_range(start='2009-06-26', end='2009-09-23', freq='D')\n",
    "\n",
    "\n",
    "df_before = df_smooth[df_smooth['solo_data'] < '2009-06-26']\n",
    "df_after = df_smooth[df_smooth['solo_data'] >= '2009-06-26']\n",
    "\n",
    "\n",
    "plt.figure(figsize=(14, 7))\n",
    "\n",
    "\n",
    "plt.plot(df_before['solo_data'], df_before['compound'], label='Actual Compound (before June 26)', color='blue')\n",
    "\n",
    "\n",
    "plt.plot(prediction_dates, predictions, label='Predictions (from June 26 to September 25)', color='red', linestyle='--')\n",
    "\n",
    "plt.title('Compound Time Series with Predictions')\n",
    "plt.xlabel('Date')\n",
    "plt.ylabel('Compound Value')\n",
    "plt.legend()\n",
    "plt.show()\n"
   ]
  },
  {
   "cell_type": "code",
   "execution_count": null,
   "id": "1007eb36",
   "metadata": {},
   "outputs": [],
   "source": []
  },
  {
   "cell_type": "code",
   "execution_count": null,
   "id": "a68af57b",
   "metadata": {},
   "outputs": [],
   "source": []
  },
  {
   "cell_type": "markdown",
   "id": "526ce68a",
   "metadata": {},
   "source": [
    "# Dashboard"
   ]
  },
  {
   "cell_type": "code",
   "execution_count": 141,
   "id": "08dba520",
   "metadata": {},
   "outputs": [],
   "source": [
    "df = df_concatenato.reset_index()"
   ]
  },
  {
   "cell_type": "code",
   "execution_count": 142,
   "id": "5ce73b92",
   "metadata": {},
   "outputs": [
    {
     "name": "stdout",
     "output_type": "stream",
     "text": [
      "<class 'pandas.core.frame.DataFrame'>\n",
      "RangeIndex: 56 entries, 0 to 55\n",
      "Data columns (total 4 columns):\n",
      " #   Column     Non-Null Count  Dtype         \n",
      "---  ------     --------------  -----         \n",
      " 0   index      56 non-null     int64         \n",
      " 1   solo_data  56 non-null     datetime64[ns]\n",
      " 2   compound   56 non-null     float64       \n",
      " 3   day_num    56 non-null     int64         \n",
      "dtypes: datetime64[ns](1), float64(1), int64(2)\n",
      "memory usage: 1.9 KB\n"
     ]
    }
   ],
   "source": [
    "df.info()"
   ]
  },
  {
   "cell_type": "code",
   "execution_count": 760,
   "id": "d6fe5d5b",
   "metadata": {},
   "outputs": [
    {
     "name": "stdout",
     "output_type": "stream",
     "text": [
      "<class 'pandas.core.frame.DataFrame'>\n",
      "RangeIndex: 55 entries, 0 to 54\n",
      "Data columns (total 2 columns):\n",
      " #   Column     Non-Null Count  Dtype         \n",
      "---  ------     --------------  -----         \n",
      " 0   solo_data  55 non-null     datetime64[ns]\n",
      " 1   compound   55 non-null     float64       \n",
      "dtypes: datetime64[ns](1), float64(1)\n",
      "memory usage: 1008.0 bytes\n"
     ]
    }
   ],
   "source": [
    "df_diff.info()"
   ]
  },
  {
   "cell_type": "markdown",
   "id": "d6fed253",
   "metadata": {},
   "source": [
    "# Dashboard"
   ]
  },
  {
   "cell_type": "code",
   "execution_count": 764,
   "id": "c9bad278",
   "metadata": {},
   "outputs": [],
   "source": [
    "from pmdarima import auto_arima\n",
    "from statsmodels.tsa.arima.model import ARIMA\n",
    "import pandas as pd\n",
    "from datetime import timedelta\n",
    "import dash\n",
    "from dash import Dash, html, dcc, Output, Input\n",
    "import plotly.express as px"
   ]
  },
  {
   "cell_type": "code",
   "execution_count": 788,
   "id": "16a9562d",
   "metadata": {},
   "outputs": [
    {
     "name": "stdout",
     "output_type": "stream",
     "text": [
      "Dash is running on http://127.0.0.1:8077/\n",
      "\n",
      " * Serving Flask app '__main__'\n",
      " * Debug mode: off\n"
     ]
    },
    {
     "name": "stderr",
     "output_type": "stream",
     "text": [
      "WARNING: This is a development server. Do not use it in a production deployment. Use a production WSGI server instead.\n",
      " * Running on http://127.0.0.1:8077\n",
      "Press CTRL+C to quit\n",
      "127.0.0.1 - - [15/Nov/2023 19:26:38] \"GET / HTTP/1.1\" 200 -\n",
      "127.0.0.1 - - [15/Nov/2023 19:26:38] \"GET /_dash-component-suites/dash/deps/polyfill@7.v2_9_3m1684674951.12.1.min.js HTTP/1.1\" 200 -\n",
      "127.0.0.1 - - [15/Nov/2023 19:26:38] \"GET /_dash-component-suites/dash/deps/react@16.v2_9_3m1684674951.14.0.min.js HTTP/1.1\" 200 -\n",
      "127.0.0.1 - - [15/Nov/2023 19:26:38] \"GET /_dash-component-suites/dash/dash-renderer/build/dash_renderer.v2_9_3m1684674951.min.js HTTP/1.1\" 200 -\n",
      "127.0.0.1 - - [15/Nov/2023 19:26:38] \"GET /_dash-component-suites/dash/deps/react-dom@16.v2_9_3m1684674951.14.0.min.js HTTP/1.1\" 200 -\n",
      "127.0.0.1 - - [15/Nov/2023 19:26:38] \"GET /_dash-component-suites/dash/deps/prop-types@15.v2_9_3m1684674951.8.1.min.js HTTP/1.1\" 200 -\n",
      "127.0.0.1 - - [15/Nov/2023 19:26:38] \"GET /_dash-component-suites/dash/dcc/dash_core_components.v2_9_2m1684674951.js HTTP/1.1\" 200 -\n",
      "127.0.0.1 - - [15/Nov/2023 19:26:38] \"GET /_dash-component-suites/dash/dcc/dash_core_components-shared.v2_9_2m1684674951.js HTTP/1.1\" 200 -\n",
      "127.0.0.1 - - [15/Nov/2023 19:26:38] \"GET /_dash-component-suites/dash/html/dash_html_components.v2_0_11m1684674951.min.js HTTP/1.1\" 200 -\n",
      "127.0.0.1 - - [15/Nov/2023 19:26:38] \"GET /_dash-component-suites/dash/dash_table/bundle.v5_2_4m1684674951.js HTTP/1.1\" 200 -\n",
      "127.0.0.1 - - [15/Nov/2023 19:26:38] \"GET /_dash-layout HTTP/1.1\" 200 -\n",
      "127.0.0.1 - - [15/Nov/2023 19:26:38] \"GET /_dash-dependencies HTTP/1.1\" 200 -\n",
      "127.0.0.1 - - [15/Nov/2023 19:26:38] \"GET /_dash-component-suites/dash/dcc/async-graph.js HTTP/1.1\" 200 -\n",
      "127.0.0.1 - - [15/Nov/2023 19:26:38] \"GET /_dash-component-suites/dash/dcc/async-datepicker.js HTTP/1.1\" 200 -\n",
      "127.0.0.1 - - [15/Nov/2023 19:26:38] \"GET /_dash-component-suites/dash/dcc/async-plotlyjs.js HTTP/1.1\" 200 -\n",
      "127.0.0.1 - - [15/Nov/2023 19:26:38] \"GET /_favicon.ico?v=2.9.3 HTTP/1.1\" 200 -\n",
      "127.0.0.1 - - [15/Nov/2023 19:26:38] \"POST /_dash-update-component HTTP/1.1\" 200 -\n"
     ]
    }
   ],
   "source": [
    "p_app=Dash(__name__)\n",
    "\n",
    "# app layout \n",
    "p_app.layout=html.Div([\n",
    "    dcc.Graph(id=\"arima\"),\n",
    "    dcc.DatePickerRange(\n",
    "        id=\"time\",\n",
    "        start_date=df_diff[\"solo_data\"].min(), # starting date\n",
    "        end_date=df_diff[\"solo_data\"].max(),  # ending date\n",
    "        display_format=\"YYYY-MM-DD\"\n",
    "    )\n",
    "])\n",
    "\n",
    "# ARIMA prediction\n",
    "def prediction(df_diff, p_end_date):\n",
    "    \n",
    "    training_set = df_diff  \n",
    "\n",
    "    p_end_date = pd.to_datetime(p_end_date)\n",
    "\n",
    "    # num days for prediction\n",
    "    forecast_period = (p_end_date - training_set[\"solo_data\"].max()).days\n",
    "    if forecast_period <= 0:\n",
    "        return training_set\n",
    "\n",
    "    # grid search\n",
    "    grid_search = auto_arima(training_set[\"compound\"], seasonal=False, stepwise=True,\n",
    "                             suppress_warnings=True, error_action=\"ignore\", trace=True)\n",
    "    \n",
    "    g_model = ARIMA(training_set[\"compound\"], order=grid_search.order)\n",
    "    g_model_fit = g_model.fit()\n",
    "    forecast = g_model_fit.forecast(steps=forecast_period)\n",
    "\n",
    "    g_future_dates=[training_set[\"solo_data\"].max() + timedelta(days=x) for x in range(1,forecast_period + 1)]\n",
    "    forecast_df=pd.DataFrame({\n",
    "        \"solo_data\": g_future_dates,\n",
    "        \"compound\": forecast\n",
    "    })\n",
    "\n",
    "    df_diff = pd.concat([training_set,forecast_df], ignore_index=True)\n",
    "    return df_diff\n",
    "\n",
    "# Callback \n",
    "@p_app.callback(\n",
    "    Output(\"arima\",\"figure\"),\n",
    "    [Input(\"time\",\"start_date\"),\n",
    "     Input(\"time\",\"end_date\")]\n",
    ")\n",
    "\n",
    "# Graph function returning a figure\n",
    "def update_graph(ug_start_date, ug_end_date):\n",
    "    dff=df_diff[(df_diff[\"solo_data\"] >= ug_start_date) & (df_diff[\"solo_data\"] <= ug_end_date)]\n",
    "    dff=prediction(dff,ug_end_date) # Call function for prediction\n",
    "    \n",
    "    fig=px.line(dff, x=\"solo_data\",y=\"compound\",title=\"Time series\") # Graph\n",
    "    \n",
    "    return fig\n",
    "\n",
    "if __name__ == \"__main__\":\n",
    "    p_app.run_server(port=8077, debug=False)\n"
   ]
  },
  {
   "cell_type": "code",
   "execution_count": null,
   "id": "3a3887e0",
   "metadata": {},
   "outputs": [],
   "source": []
  },
  {
   "cell_type": "code",
   "execution_count": null,
   "id": "cdde083a",
   "metadata": {},
   "outputs": [],
   "source": []
  },
  {
   "cell_type": "code",
   "execution_count": null,
   "id": "4782e23a",
   "metadata": {},
   "outputs": [],
   "source": []
  },
  {
   "cell_type": "code",
   "execution_count": null,
   "id": "774c4eff",
   "metadata": {},
   "outputs": [],
   "source": []
  },
  {
   "cell_type": "code",
   "execution_count": null,
   "id": "3baa1f8b",
   "metadata": {},
   "outputs": [],
   "source": []
  },
  {
   "cell_type": "code",
   "execution_count": null,
   "id": "fa75532b",
   "metadata": {},
   "outputs": [],
   "source": []
  },
  {
   "cell_type": "code",
   "execution_count": null,
   "id": "cf029457",
   "metadata": {},
   "outputs": [],
   "source": []
  }
 ],
 "metadata": {
  "kernelspec": {
   "display_name": "Python 3 (ipykernel)",
   "language": "python",
   "name": "python3"
  },
  "language_info": {
   "codemirror_mode": {
    "name": "ipython",
    "version": 3
   },
   "file_extension": ".py",
   "mimetype": "text/x-python",
   "name": "python",
   "nbconvert_exporter": "python",
   "pygments_lexer": "ipython3",
   "version": "3.10.9"
  }
 },
 "nbformat": 4,
 "nbformat_minor": 5
}
