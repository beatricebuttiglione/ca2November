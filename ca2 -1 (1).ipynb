{
 "cells": [
  {
   "cell_type": "code",
   "execution_count": 20,
   "id": "06fbeecc",
   "metadata": {},
   "outputs": [],
   "source": [
    "import pandas as pd\n",
    "from datetime import datetime"
   ]
  },
  {
   "cell_type": "code",
   "execution_count": 13,
   "id": "837c68cd",
   "metadata": {},
   "outputs": [],
   "source": [
    "df = pd.read_csv(\"ProjectTweets.csv\",header = None)"
   ]
  },
  {
   "cell_type": "code",
   "execution_count": 29,
   "id": "edcf3ad1",
   "metadata": {},
   "outputs": [
    {
     "data": {
      "text/html": [
       "<div>\n",
       "<style scoped>\n",
       "    .dataframe tbody tr th:only-of-type {\n",
       "        vertical-align: middle;\n",
       "    }\n",
       "\n",
       "    .dataframe tbody tr th {\n",
       "        vertical-align: top;\n",
       "    }\n",
       "\n",
       "    .dataframe thead th {\n",
       "        text-align: right;\n",
       "    }\n",
       "</style>\n",
       "<table border=\"1\" class=\"dataframe\">\n",
       "  <thead>\n",
       "    <tr style=\"text-align: right;\">\n",
       "      <th></th>\n",
       "      <th>index</th>\n",
       "      <th>id</th>\n",
       "      <th>date</th>\n",
       "      <th>flag</th>\n",
       "      <th>user</th>\n",
       "      <th>text</th>\n",
       "      <th>week</th>\n",
       "      <th>month</th>\n",
       "    </tr>\n",
       "  </thead>\n",
       "  <tbody>\n",
       "    <tr>\n",
       "      <th>0</th>\n",
       "      <td>0</td>\n",
       "      <td>1467810369</td>\n",
       "      <td>2009-04-06 22:19:45</td>\n",
       "      <td>NO_QUERY</td>\n",
       "      <td>_TheSpecialOne_</td>\n",
       "      <td>@switchfoot http://twitpic.com/2y1zl - Awww, t...</td>\n",
       "      <td>14</td>\n",
       "      <td>April</td>\n",
       "    </tr>\n",
       "    <tr>\n",
       "      <th>1</th>\n",
       "      <td>1</td>\n",
       "      <td>1467810672</td>\n",
       "      <td>2009-04-06 22:19:49</td>\n",
       "      <td>NO_QUERY</td>\n",
       "      <td>scotthamilton</td>\n",
       "      <td>is upset that he can't update his Facebook by ...</td>\n",
       "      <td>14</td>\n",
       "      <td>April</td>\n",
       "    </tr>\n",
       "    <tr>\n",
       "      <th>2</th>\n",
       "      <td>2</td>\n",
       "      <td>1467810917</td>\n",
       "      <td>2009-04-06 22:19:53</td>\n",
       "      <td>NO_QUERY</td>\n",
       "      <td>mattycus</td>\n",
       "      <td>@Kenichan I dived many times for the ball. Man...</td>\n",
       "      <td>14</td>\n",
       "      <td>April</td>\n",
       "    </tr>\n",
       "    <tr>\n",
       "      <th>3</th>\n",
       "      <td>3</td>\n",
       "      <td>1467811184</td>\n",
       "      <td>2009-04-06 22:19:57</td>\n",
       "      <td>NO_QUERY</td>\n",
       "      <td>ElleCTF</td>\n",
       "      <td>my whole body feels itchy and like its on fire</td>\n",
       "      <td>14</td>\n",
       "      <td>April</td>\n",
       "    </tr>\n",
       "    <tr>\n",
       "      <th>4</th>\n",
       "      <td>4</td>\n",
       "      <td>1467811193</td>\n",
       "      <td>2009-04-06 22:19:57</td>\n",
       "      <td>NO_QUERY</td>\n",
       "      <td>Karoli</td>\n",
       "      <td>@nationwideclass no, it's not behaving at all....</td>\n",
       "      <td>14</td>\n",
       "      <td>April</td>\n",
       "    </tr>\n",
       "  </tbody>\n",
       "</table>\n",
       "</div>"
      ],
      "text/plain": [
       "   index          id                date      flag             user  \\\n",
       "0      0  1467810369 2009-04-06 22:19:45  NO_QUERY  _TheSpecialOne_   \n",
       "1      1  1467810672 2009-04-06 22:19:49  NO_QUERY    scotthamilton   \n",
       "2      2  1467810917 2009-04-06 22:19:53  NO_QUERY         mattycus   \n",
       "3      3  1467811184 2009-04-06 22:19:57  NO_QUERY          ElleCTF   \n",
       "4      4  1467811193 2009-04-06 22:19:57  NO_QUERY           Karoli   \n",
       "\n",
       "                                                text week  month  \n",
       "0  @switchfoot http://twitpic.com/2y1zl - Awww, t...   14  April  \n",
       "1  is upset that he can't update his Facebook by ...   14  April  \n",
       "2  @Kenichan I dived many times for the ball. Man...   14  April  \n",
       "3    my whole body feels itchy and like its on fire    14  April  \n",
       "4  @nationwideclass no, it's not behaving at all....   14  April  "
      ]
     },
     "execution_count": 29,
     "metadata": {},
     "output_type": "execute_result"
    }
   ],
   "source": [
    "df.head()"
   ]
  },
  {
   "cell_type": "code",
   "execution_count": 14,
   "id": "829e0ddb",
   "metadata": {},
   "outputs": [],
   "source": [
    "columns_names=['index','id','date','flag','user','text']"
   ]
  },
  {
   "cell_type": "code",
   "execution_count": 16,
   "id": "f5fdcb07",
   "metadata": {},
   "outputs": [],
   "source": [
    "df.columns = columns_names"
   ]
  },
  {
   "cell_type": "code",
   "execution_count": 21,
   "id": "79ecba46",
   "metadata": {},
   "outputs": [],
   "source": [
    "# remove PDT \n",
    "df['date'] = df['date'].str.replace('PDT', '')"
   ]
  },
  {
   "cell_type": "code",
   "execution_count": 22,
   "id": "9dd02a14",
   "metadata": {},
   "outputs": [],
   "source": [
    "# time format\n",
    "date_format = '%a %b %d %H:%M:%S %Y'"
   ]
  },
  {
   "cell_type": "code",
   "execution_count": 23,
   "id": "a650ec4d",
   "metadata": {},
   "outputs": [],
   "source": [
    "# column in object \n",
    "df['date'] = pd.to_datetime(df['date'], format=date_format)"
   ]
  },
  {
   "cell_type": "code",
   "execution_count": 24,
   "id": "61a196b1",
   "metadata": {},
   "outputs": [
    {
     "name": "stdout",
     "output_type": "stream",
     "text": [
      "0         2009-04-06 22:19:45\n",
      "1         2009-04-06 22:19:49\n",
      "2         2009-04-06 22:19:53\n",
      "3         2009-04-06 22:19:57\n",
      "4         2009-04-06 22:19:57\n",
      "                  ...        \n",
      "1599995   2009-06-16 08:40:49\n",
      "1599996   2009-06-16 08:40:49\n",
      "1599997   2009-06-16 08:40:49\n",
      "1599998   2009-06-16 08:40:49\n",
      "1599999   2009-06-16 08:40:50\n",
      "Name: date, Length: 1600000, dtype: datetime64[ns]\n"
     ]
    }
   ],
   "source": [
    "# date objects\n",
    "print(df['date'])"
   ]
  },
  {
   "cell_type": "code",
   "execution_count": 25,
   "id": "dfd5297b",
   "metadata": {},
   "outputs": [
    {
     "data": {
      "text/plain": [
       "Timestamp('2009-04-06 22:19:45')"
      ]
     },
     "execution_count": 25,
     "metadata": {},
     "output_type": "execute_result"
    }
   ],
   "source": [
    "df['date'].min()"
   ]
  },
  {
   "cell_type": "code",
   "execution_count": 26,
   "id": "e67e7ccf",
   "metadata": {},
   "outputs": [
    {
     "data": {
      "text/plain": [
       "Timestamp('2009-06-25 10:28:31')"
      ]
     },
     "execution_count": 26,
     "metadata": {},
     "output_type": "execute_result"
    }
   ],
   "source": [
    "df['date'].max()"
   ]
  },
  {
   "cell_type": "code",
   "execution_count": 27,
   "id": "1af010d2",
   "metadata": {},
   "outputs": [],
   "source": [
    "df['week'] = df['date'].dt.strftime('%U')  # week\n",
    "\n"
   ]
  },
  {
   "cell_type": "code",
   "execution_count": 28,
   "id": "fabf4553",
   "metadata": {},
   "outputs": [],
   "source": [
    "df['month'] = df['date'].dt.strftime('%B')  # month"
   ]
  },
  {
   "cell_type": "code",
   "execution_count": 30,
   "id": "46ece234",
   "metadata": {},
   "outputs": [],
   "source": [
    "df['day'] = df['date'].dt.strftime('%A')  # day"
   ]
  },
  {
   "cell_type": "code",
   "execution_count": 31,
   "id": "e3a3a6c9",
   "metadata": {},
   "outputs": [
    {
     "name": "stdout",
     "output_type": "stream",
     "text": [
      "<class 'pandas.core.frame.DataFrame'>\n",
      "RangeIndex: 1600000 entries, 0 to 1599999\n",
      "Data columns (total 9 columns):\n",
      " #   Column  Non-Null Count    Dtype         \n",
      "---  ------  --------------    -----         \n",
      " 0   index   1600000 non-null  int64         \n",
      " 1   id      1600000 non-null  int64         \n",
      " 2   date    1600000 non-null  datetime64[ns]\n",
      " 3   flag    1600000 non-null  object        \n",
      " 4   user    1600000 non-null  object        \n",
      " 5   text    1600000 non-null  object        \n",
      " 6   week    1600000 non-null  object        \n",
      " 7   month   1600000 non-null  object        \n",
      " 8   day     1600000 non-null  object        \n",
      "dtypes: datetime64[ns](1), int64(2), object(6)\n",
      "memory usage: 109.9+ MB\n"
     ]
    }
   ],
   "source": [
    "df.info()"
   ]
  },
  {
   "cell_type": "code",
   "execution_count": 33,
   "id": "b85dcd71",
   "metadata": {},
   "outputs": [],
   "source": [
    "import nltk"
   ]
  },
  {
   "cell_type": "code",
   "execution_count": 34,
   "id": "d90e0826",
   "metadata": {},
   "outputs": [
    {
     "name": "stderr",
     "output_type": "stream",
     "text": [
      "[nltk_data] Downloading package vader_lexicon to\n",
      "[nltk_data]     /Users/beatricebuttiglione/nltk_data...\n",
      "[nltk_data]   Package vader_lexicon is already up-to-date!\n"
     ]
    },
    {
     "data": {
      "text/plain": [
       "True"
      ]
     },
     "execution_count": 34,
     "metadata": {},
     "output_type": "execute_result"
    }
   ],
   "source": [
    "nltk.download('vader_lexicon')"
   ]
  },
  {
   "cell_type": "code",
   "execution_count": 37,
   "id": "fb3f3e3c",
   "metadata": {},
   "outputs": [],
   "source": [
    "from nltk.sentiment.vader import SentimentIntensityAnalyzer as SIA\n",
    "\n",
    "sia = SIA()\n",
    "results = []\n",
    "\n",
    "for line in df['text']:\n",
    "    pol_score = sia.polarity_scores(line)\n",
    "    pol_score['text'] = line\n",
    "    results.append(pol_score)"
   ]
  },
  {
   "cell_type": "code",
   "execution_count": 38,
   "id": "d04b3397",
   "metadata": {},
   "outputs": [
    {
     "data": {
      "text/html": [
       "<div>\n",
       "<style scoped>\n",
       "    .dataframe tbody tr th:only-of-type {\n",
       "        vertical-align: middle;\n",
       "    }\n",
       "\n",
       "    .dataframe tbody tr th {\n",
       "        vertical-align: top;\n",
       "    }\n",
       "\n",
       "    .dataframe thead th {\n",
       "        text-align: right;\n",
       "    }\n",
       "</style>\n",
       "<table border=\"1\" class=\"dataframe\">\n",
       "  <thead>\n",
       "    <tr style=\"text-align: right;\">\n",
       "      <th></th>\n",
       "      <th>neg</th>\n",
       "      <th>neu</th>\n",
       "      <th>pos</th>\n",
       "      <th>compound</th>\n",
       "      <th>text</th>\n",
       "    </tr>\n",
       "  </thead>\n",
       "  <tbody>\n",
       "    <tr>\n",
       "      <th>0</th>\n",
       "      <td>0.129</td>\n",
       "      <td>0.745</td>\n",
       "      <td>0.126</td>\n",
       "      <td>-0.0173</td>\n",
       "      <td>@switchfoot http://twitpic.com/2y1zl - Awww, t...</td>\n",
       "    </tr>\n",
       "    <tr>\n",
       "      <th>1</th>\n",
       "      <td>0.303</td>\n",
       "      <td>0.697</td>\n",
       "      <td>0.000</td>\n",
       "      <td>-0.7500</td>\n",
       "      <td>is upset that he can't update his Facebook by ...</td>\n",
       "    </tr>\n",
       "    <tr>\n",
       "      <th>2</th>\n",
       "      <td>0.000</td>\n",
       "      <td>0.833</td>\n",
       "      <td>0.167</td>\n",
       "      <td>0.4939</td>\n",
       "      <td>@Kenichan I dived many times for the ball. Man...</td>\n",
       "    </tr>\n",
       "    <tr>\n",
       "      <th>3</th>\n",
       "      <td>0.321</td>\n",
       "      <td>0.500</td>\n",
       "      <td>0.179</td>\n",
       "      <td>-0.2500</td>\n",
       "      <td>my whole body feels itchy and like its on fire</td>\n",
       "    </tr>\n",
       "    <tr>\n",
       "      <th>4</th>\n",
       "      <td>0.241</td>\n",
       "      <td>0.759</td>\n",
       "      <td>0.000</td>\n",
       "      <td>-0.6597</td>\n",
       "      <td>@nationwideclass no, it's not behaving at all....</td>\n",
       "    </tr>\n",
       "  </tbody>\n",
       "</table>\n",
       "</div>"
      ],
      "text/plain": [
       "     neg    neu    pos  compound  \\\n",
       "0  0.129  0.745  0.126   -0.0173   \n",
       "1  0.303  0.697  0.000   -0.7500   \n",
       "2  0.000  0.833  0.167    0.4939   \n",
       "3  0.321  0.500  0.179   -0.2500   \n",
       "4  0.241  0.759  0.000   -0.6597   \n",
       "\n",
       "                                                text  \n",
       "0  @switchfoot http://twitpic.com/2y1zl - Awww, t...  \n",
       "1  is upset that he can't update his Facebook by ...  \n",
       "2  @Kenichan I dived many times for the ball. Man...  \n",
       "3    my whole body feels itchy and like its on fire   \n",
       "4  @nationwideclass no, it's not behaving at all....  "
      ]
     },
     "execution_count": 38,
     "metadata": {},
     "output_type": "execute_result"
    }
   ],
   "source": [
    "df1 = pd.DataFrame.from_records(results)\n",
    "df1.head()"
   ]
  },
  {
   "cell_type": "code",
   "execution_count": 40,
   "id": "0d8e7b6f",
   "metadata": {},
   "outputs": [
    {
     "data": {
      "text/html": [
       "<div>\n",
       "<style scoped>\n",
       "    .dataframe tbody tr th:only-of-type {\n",
       "        vertical-align: middle;\n",
       "    }\n",
       "\n",
       "    .dataframe tbody tr th {\n",
       "        vertical-align: top;\n",
       "    }\n",
       "\n",
       "    .dataframe thead th {\n",
       "        text-align: right;\n",
       "    }\n",
       "</style>\n",
       "<table border=\"1\" class=\"dataframe\">\n",
       "  <thead>\n",
       "    <tr style=\"text-align: right;\">\n",
       "      <th></th>\n",
       "      <th>neg</th>\n",
       "      <th>neu</th>\n",
       "      <th>pos</th>\n",
       "      <th>compound</th>\n",
       "      <th>text</th>\n",
       "      <th>label</th>\n",
       "    </tr>\n",
       "  </thead>\n",
       "  <tbody>\n",
       "    <tr>\n",
       "      <th>0</th>\n",
       "      <td>0.129</td>\n",
       "      <td>0.745</td>\n",
       "      <td>0.126</td>\n",
       "      <td>-0.0173</td>\n",
       "      <td>@switchfoot http://twitpic.com/2y1zl - Awww, t...</td>\n",
       "      <td>0</td>\n",
       "    </tr>\n",
       "    <tr>\n",
       "      <th>1</th>\n",
       "      <td>0.303</td>\n",
       "      <td>0.697</td>\n",
       "      <td>0.000</td>\n",
       "      <td>-0.7500</td>\n",
       "      <td>is upset that he can't update his Facebook by ...</td>\n",
       "      <td>-1</td>\n",
       "    </tr>\n",
       "    <tr>\n",
       "      <th>2</th>\n",
       "      <td>0.000</td>\n",
       "      <td>0.833</td>\n",
       "      <td>0.167</td>\n",
       "      <td>0.4939</td>\n",
       "      <td>@Kenichan I dived many times for the ball. Man...</td>\n",
       "      <td>1</td>\n",
       "    </tr>\n",
       "    <tr>\n",
       "      <th>3</th>\n",
       "      <td>0.321</td>\n",
       "      <td>0.500</td>\n",
       "      <td>0.179</td>\n",
       "      <td>-0.2500</td>\n",
       "      <td>my whole body feels itchy and like its on fire</td>\n",
       "      <td>-1</td>\n",
       "    </tr>\n",
       "    <tr>\n",
       "      <th>4</th>\n",
       "      <td>0.241</td>\n",
       "      <td>0.759</td>\n",
       "      <td>0.000</td>\n",
       "      <td>-0.6597</td>\n",
       "      <td>@nationwideclass no, it's not behaving at all....</td>\n",
       "      <td>-1</td>\n",
       "    </tr>\n",
       "  </tbody>\n",
       "</table>\n",
       "</div>"
      ],
      "text/plain": [
       "     neg    neu    pos  compound  \\\n",
       "0  0.129  0.745  0.126   -0.0173   \n",
       "1  0.303  0.697  0.000   -0.7500   \n",
       "2  0.000  0.833  0.167    0.4939   \n",
       "3  0.321  0.500  0.179   -0.2500   \n",
       "4  0.241  0.759  0.000   -0.6597   \n",
       "\n",
       "                                                text  label  \n",
       "0  @switchfoot http://twitpic.com/2y1zl - Awww, t...      0  \n",
       "1  is upset that he can't update his Facebook by ...     -1  \n",
       "2  @Kenichan I dived many times for the ball. Man...      1  \n",
       "3    my whole body feels itchy and like its on fire      -1  \n",
       "4  @nationwideclass no, it's not behaving at all....     -1  "
      ]
     },
     "execution_count": 40,
     "metadata": {},
     "output_type": "execute_result"
    }
   ],
   "source": [
    "df1['label'] = 0\n",
    "df1.loc[df1['compound'] > 0.2, 'label'] = 1\n",
    "df1.loc[df1['compound'] < -0.2, 'label'] = -1\n",
    "df1.head()"
   ]
  },
  {
   "cell_type": "code",
   "execution_count": 42,
   "id": "4faad43e",
   "metadata": {},
   "outputs": [],
   "source": [
    "import matplotlib.pyplot as plt\n",
    "import seaborn as sns"
   ]
  },
  {
   "cell_type": "code",
   "execution_count": 43,
   "id": "94aa7fa0",
   "metadata": {},
   "outputs": [
    {
     "data": {
      "image/png": "[encoded data removed]",
      "text/plain": [
       "<Figure size 400x400 with 1 Axes>"
      ]
     },
     "metadata": {},
     "output_type": "display_data"
    }
   ],
   "source": [
    "fig, ax = plt.subplots(figsize=(4, 4))\n",
    "\n",
    "counts = df1.label.value_counts(normalize=True) * 100\n",
    "\n",
    "sns.barplot(x=counts.index, y=counts, ax=ax)\n",
    "\n",
    "ax.set_xticklabels(['Negative', 'Neutral', 'Positive'])\n",
    "ax.set_ylabel(\"Count\")\n",
    "\n",
    "plt.show()"
   ]
  },
  {
   "cell_type": "code",
   "execution_count": 44,
   "id": "3034ef98",
   "metadata": {},
   "outputs": [],
   "source": [
    "merged_df = pd.merge(df, df1, on=\"text\", how=\"inner\")"
   ]
  },
  {
   "cell_type": "code",
   "execution_count": 45,
   "id": "6966b7d7",
   "metadata": {},
   "outputs": [
    {
     "data": {
      "text/html": [
       "<div>\n",
       "<style scoped>\n",
       "    .dataframe tbody tr th:only-of-type {\n",
       "        vertical-align: middle;\n",
       "    }\n",
       "\n",
       "    .dataframe tbody tr th {\n",
       "        vertical-align: top;\n",
       "    }\n",
       "\n",
       "    .dataframe thead th {\n",
       "        text-align: right;\n",
       "    }\n",
       "</style>\n",
       "<table border=\"1\" class=\"dataframe\">\n",
       "  <thead>\n",
       "    <tr style=\"text-align: right;\">\n",
       "      <th></th>\n",
       "      <th>index</th>\n",
       "      <th>id</th>\n",
       "      <th>date</th>\n",
       "      <th>flag</th>\n",
       "      <th>user</th>\n",
       "      <th>text</th>\n",
       "      <th>week</th>\n",
       "      <th>month</th>\n",
       "      <th>day</th>\n",
       "      <th>neg</th>\n",
       "      <th>neu</th>\n",
       "      <th>pos</th>\n",
       "      <th>compound</th>\n",
       "      <th>label</th>\n",
       "    </tr>\n",
       "  </thead>\n",
       "  <tbody>\n",
       "    <tr>\n",
       "      <th>0</th>\n",
       "      <td>0</td>\n",
       "      <td>1467810369</td>\n",
       "      <td>2009-04-06 22:19:45</td>\n",
       "      <td>NO_QUERY</td>\n",
       "      <td>_TheSpecialOne_</td>\n",
       "      <td>@switchfoot http://twitpic.com/2y1zl - Awww, t...</td>\n",
       "      <td>14</td>\n",
       "      <td>April</td>\n",
       "      <td>Monday</td>\n",
       "      <td>0.129</td>\n",
       "      <td>0.745</td>\n",
       "      <td>0.126</td>\n",
       "      <td>-0.0173</td>\n",
       "      <td>0</td>\n",
       "    </tr>\n",
       "    <tr>\n",
       "      <th>1</th>\n",
       "      <td>1</td>\n",
       "      <td>1467810672</td>\n",
       "      <td>2009-04-06 22:19:49</td>\n",
       "      <td>NO_QUERY</td>\n",
       "      <td>scotthamilton</td>\n",
       "      <td>is upset that he can't update his Facebook by ...</td>\n",
       "      <td>14</td>\n",
       "      <td>April</td>\n",
       "      <td>Monday</td>\n",
       "      <td>0.303</td>\n",
       "      <td>0.697</td>\n",
       "      <td>0.000</td>\n",
       "      <td>-0.7500</td>\n",
       "      <td>-1</td>\n",
       "    </tr>\n",
       "    <tr>\n",
       "      <th>2</th>\n",
       "      <td>2</td>\n",
       "      <td>1467810917</td>\n",
       "      <td>2009-04-06 22:19:53</td>\n",
       "      <td>NO_QUERY</td>\n",
       "      <td>mattycus</td>\n",
       "      <td>@Kenichan I dived many times for the ball. Man...</td>\n",
       "      <td>14</td>\n",
       "      <td>April</td>\n",
       "      <td>Monday</td>\n",
       "      <td>0.000</td>\n",
       "      <td>0.833</td>\n",
       "      <td>0.167</td>\n",
       "      <td>0.4939</td>\n",
       "      <td>1</td>\n",
       "    </tr>\n",
       "    <tr>\n",
       "      <th>3</th>\n",
       "      <td>3</td>\n",
       "      <td>1467811184</td>\n",
       "      <td>2009-04-06 22:19:57</td>\n",
       "      <td>NO_QUERY</td>\n",
       "      <td>ElleCTF</td>\n",
       "      <td>my whole body feels itchy and like its on fire</td>\n",
       "      <td>14</td>\n",
       "      <td>April</td>\n",
       "      <td>Monday</td>\n",
       "      <td>0.321</td>\n",
       "      <td>0.500</td>\n",
       "      <td>0.179</td>\n",
       "      <td>-0.2500</td>\n",
       "      <td>-1</td>\n",
       "    </tr>\n",
       "    <tr>\n",
       "      <th>4</th>\n",
       "      <td>4</td>\n",
       "      <td>1467811193</td>\n",
       "      <td>2009-04-06 22:19:57</td>\n",
       "      <td>NO_QUERY</td>\n",
       "      <td>Karoli</td>\n",
       "      <td>@nationwideclass no, it's not behaving at all....</td>\n",
       "      <td>14</td>\n",
       "      <td>April</td>\n",
       "      <td>Monday</td>\n",
       "      <td>0.241</td>\n",
       "      <td>0.759</td>\n",
       "      <td>0.000</td>\n",
       "      <td>-0.6597</td>\n",
       "      <td>-1</td>\n",
       "    </tr>\n",
       "  </tbody>\n",
       "</table>\n",
       "</div>"
      ],
      "text/plain": [
       "   index          id                date      flag             user  \\\n",
       "0      0  1467810369 2009-04-06 22:19:45  NO_QUERY  _TheSpecialOne_   \n",
       "1      1  1467810672 2009-04-06 22:19:49  NO_QUERY    scotthamilton   \n",
       "2      2  1467810917 2009-04-06 22:19:53  NO_QUERY         mattycus   \n",
       "3      3  1467811184 2009-04-06 22:19:57  NO_QUERY          ElleCTF   \n",
       "4      4  1467811193 2009-04-06 22:19:57  NO_QUERY           Karoli   \n",
       "\n",
       "                                                text week  month     day  \\\n",
       "0  @switchfoot http://twitpic.com/2y1zl - Awww, t...   14  April  Monday   \n",
       "1  is upset that he can't update his Facebook by ...   14  April  Monday   \n",
       "2  @Kenichan I dived many times for the ball. Man...   14  April  Monday   \n",
       "3    my whole body feels itchy and like its on fire    14  April  Monday   \n",
       "4  @nationwideclass no, it's not behaving at all....   14  April  Monday   \n",
       "\n",
       "     neg    neu    pos  compound  label  \n",
       "0  0.129  0.745  0.126   -0.0173      0  \n",
       "1  0.303  0.697  0.000   -0.7500     -1  \n",
       "2  0.000  0.833  0.167    0.4939      1  \n",
       "3  0.321  0.500  0.179   -0.2500     -1  \n",
       "4  0.241  0.759  0.000   -0.6597     -1  "
      ]
     },
     "execution_count": 45,
     "metadata": {},
     "output_type": "execute_result"
    }
   ],
   "source": [
    "merged_df.head()"
   ]
  },
  {
   "cell_type": "code",
   "execution_count": 46,
   "id": "fdb851f8",
   "metadata": {},
   "outputs": [
    {
     "name": "stdout",
     "output_type": "stream",
     "text": [
      "Collecting textblob\n",
      "  Downloading textblob-0.17.1-py2.py3-none-any.whl (636 kB)\n",
      "\u001b[2K     \u001b[90m━━━━━━━━━━━━━━━━━━━━━━━━━━━━━━━━━━━━━━━\u001b[0m \u001b[32m636.8/636.8 kB\u001b[0m \u001b[31m7.9 MB/s\u001b[0m eta \u001b[36m0:00:00\u001b[0m00:01\u001b[0m00:01\u001b[0m\n",
      "\u001b[?25hRequirement already satisfied: nltk>=3.1 in /Users/beatricebuttiglione/anaconda3/lib/python3.10/site-packages (from textblob) (3.7)\n",
      "Requirement already satisfied: regex>=2021.8.3 in /Users/beatricebuttiglione/anaconda3/lib/python3.10/site-packages (from nltk>=3.1->textblob) (2022.7.9)\n",
      "Requirement already satisfied: joblib in /Users/beatricebuttiglione/anaconda3/lib/python3.10/site-packages (from nltk>=3.1->textblob) (1.1.1)\n",
      "Requirement already satisfied: tqdm in /Users/beatricebuttiglione/anaconda3/lib/python3.10/site-packages (from nltk>=3.1->textblob) (4.64.1)\n",
      "Requirement already satisfied: click in /Users/beatricebuttiglione/anaconda3/lib/python3.10/site-packages (from nltk>=3.1->textblob) (8.0.4)\n",
      "Installing collected packages: textblob\n",
      "Successfully installed textblob-0.17.1\n",
      "Note: you may need to restart the kernel to use updated packages.\n"
     ]
    }
   ],
   "source": [
    "\n"
   ]
  },
  {
   "cell_type": "code",
   "execution_count": 48,
   "id": "06391db4",
   "metadata": {},
   "outputs": [],
   "source": [
    "from textblob import TextBlob\n",
    "\n",
    "def assign_sentiment(text):\n",
    "    \n",
    "    blob = TextBlob(text)\n",
    "    \n",
    "    \n",
    "    sentimento = blob.sentiment.polarity\n",
    "    \n",
    "    \n",
    "    return sentimento\n"
   ]
  },
  {
   "cell_type": "code",
   "execution_count": 49,
   "id": "e71a72b3",
   "metadata": {},
   "outputs": [],
   "source": [
    "\n",
    "df['sentiment'] = df['text'].apply(assign_sentiment)\n"
   ]
  },
  {
   "cell_type": "code",
   "execution_count": 52,
   "id": "9c8a232d",
   "metadata": {},
   "outputs": [
    {
     "data": {
      "text/html": [
       "<div>\n",
       "<style scoped>\n",
       "    .dataframe tbody tr th:only-of-type {\n",
       "        vertical-align: middle;\n",
       "    }\n",
       "\n",
       "    .dataframe tbody tr th {\n",
       "        vertical-align: top;\n",
       "    }\n",
       "\n",
       "    .dataframe thead th {\n",
       "        text-align: right;\n",
       "    }\n",
       "</style>\n",
       "<table border=\"1\" class=\"dataframe\">\n",
       "  <thead>\n",
       "    <tr style=\"text-align: right;\">\n",
       "      <th></th>\n",
       "      <th>index</th>\n",
       "      <th>id</th>\n",
       "      <th>date</th>\n",
       "      <th>flag</th>\n",
       "      <th>user</th>\n",
       "      <th>text</th>\n",
       "      <th>week</th>\n",
       "      <th>month</th>\n",
       "      <th>day</th>\n",
       "      <th>sentiment</th>\n",
       "      <th>label</th>\n",
       "    </tr>\n",
       "  </thead>\n",
       "  <tbody>\n",
       "    <tr>\n",
       "      <th>0</th>\n",
       "      <td>0</td>\n",
       "      <td>1467810369</td>\n",
       "      <td>2009-04-06 22:19:45</td>\n",
       "      <td>NO_QUERY</td>\n",
       "      <td>_TheSpecialOne_</td>\n",
       "      <td>@switchfoot http://twitpic.com/2y1zl - Awww, t...</td>\n",
       "      <td>14</td>\n",
       "      <td>April</td>\n",
       "      <td>Monday</td>\n",
       "      <td>0.216667</td>\n",
       "      <td>1</td>\n",
       "    </tr>\n",
       "    <tr>\n",
       "      <th>1</th>\n",
       "      <td>1</td>\n",
       "      <td>1467810672</td>\n",
       "      <td>2009-04-06 22:19:49</td>\n",
       "      <td>NO_QUERY</td>\n",
       "      <td>scotthamilton</td>\n",
       "      <td>is upset that he can't update his Facebook by ...</td>\n",
       "      <td>14</td>\n",
       "      <td>April</td>\n",
       "      <td>Monday</td>\n",
       "      <td>0.000000</td>\n",
       "      <td>0</td>\n",
       "    </tr>\n",
       "    <tr>\n",
       "      <th>2</th>\n",
       "      <td>2</td>\n",
       "      <td>1467810917</td>\n",
       "      <td>2009-04-06 22:19:53</td>\n",
       "      <td>NO_QUERY</td>\n",
       "      <td>mattycus</td>\n",
       "      <td>@Kenichan I dived many times for the ball. Man...</td>\n",
       "      <td>14</td>\n",
       "      <td>April</td>\n",
       "      <td>Monday</td>\n",
       "      <td>0.500000</td>\n",
       "      <td>1</td>\n",
       "    </tr>\n",
       "    <tr>\n",
       "      <th>3</th>\n",
       "      <td>3</td>\n",
       "      <td>1467811184</td>\n",
       "      <td>2009-04-06 22:19:57</td>\n",
       "      <td>NO_QUERY</td>\n",
       "      <td>ElleCTF</td>\n",
       "      <td>my whole body feels itchy and like its on fire</td>\n",
       "      <td>14</td>\n",
       "      <td>April</td>\n",
       "      <td>Monday</td>\n",
       "      <td>0.200000</td>\n",
       "      <td>0</td>\n",
       "    </tr>\n",
       "    <tr>\n",
       "      <th>4</th>\n",
       "      <td>4</td>\n",
       "      <td>1467811193</td>\n",
       "      <td>2009-04-06 22:19:57</td>\n",
       "      <td>NO_QUERY</td>\n",
       "      <td>Karoli</td>\n",
       "      <td>@nationwideclass no, it's not behaving at all....</td>\n",
       "      <td>14</td>\n",
       "      <td>April</td>\n",
       "      <td>Monday</td>\n",
       "      <td>-0.625000</td>\n",
       "      <td>-1</td>\n",
       "    </tr>\n",
       "  </tbody>\n",
       "</table>\n",
       "</div>"
      ],
      "text/plain": [
       "   index          id                date      flag             user  \\\n",
       "0      0  1467810369 2009-04-06 22:19:45  NO_QUERY  _TheSpecialOne_   \n",
       "1      1  1467810672 2009-04-06 22:19:49  NO_QUERY    scotthamilton   \n",
       "2      2  1467810917 2009-04-06 22:19:53  NO_QUERY         mattycus   \n",
       "3      3  1467811184 2009-04-06 22:19:57  NO_QUERY          ElleCTF   \n",
       "4      4  1467811193 2009-04-06 22:19:57  NO_QUERY           Karoli   \n",
       "\n",
       "                                                text week  month     day  \\\n",
       "0  @switchfoot http://twitpic.com/2y1zl - Awww, t...   14  April  Monday   \n",
       "1  is upset that he can't update his Facebook by ...   14  April  Monday   \n",
       "2  @Kenichan I dived many times for the ball. Man...   14  April  Monday   \n",
       "3    my whole body feels itchy and like its on fire    14  April  Monday   \n",
       "4  @nationwideclass no, it's not behaving at all....   14  April  Monday   \n",
       "\n",
       "   sentiment  label  \n",
       "0   0.216667      1  \n",
       "1   0.000000      0  \n",
       "2   0.500000      1  \n",
       "3   0.200000      0  \n",
       "4  -0.625000     -1  "
      ]
     },
     "execution_count": 52,
     "metadata": {},
     "output_type": "execute_result"
    }
   ],
   "source": [
    "df.head()"
   ]
  },
  {
   "cell_type": "code",
   "execution_count": 51,
   "id": "667de7f1",
   "metadata": {},
   "outputs": [],
   "source": [
    "\n",
    "df['label'] = 0\n",
    "\n",
    "df.loc[df['sentiment'] > 0.2, 'label'] = 1\n",
    "df.loc[df['sentiment'] < -0.2, 'label'] = -1\n"
   ]
  },
  {
   "cell_type": "code",
   "execution_count": 53,
   "id": "678bfe3f",
   "metadata": {},
   "outputs": [
    {
     "data": {
      "image/png": "[encoded data removed]",
      "text/plain": [
       "<Figure size 400x400 with 1 Axes>"
      ]
     },
     "metadata": {},
     "output_type": "display_data"
    }
   ],
   "source": [
    "fig, ax = plt.subplots(figsize=(4, 4))\n",
    "\n",
    "counts = df.label.value_counts(normalize=True) * 100\n",
    "\n",
    "sns.barplot(x=counts.index, y=counts, ax=ax)\n",
    "\n",
    "ax.set_xticklabels(['Negative', 'Neutral', 'Positive'])\n",
    "ax.set_ylabel(\"Count\")\n",
    "\n",
    "plt.show()"
   ]
  },
  {
   "cell_type": "code",
   "execution_count": 54,
   "id": "9feecaa0",
   "metadata": {},
   "outputs": [],
   "source": [
    "import nltk\n",
    "from nltk.tokenize import word_tokenize\n",
    "from nltk.corpus import stopwords\n",
    "from nltk.stem import WordNetLemmatizer\n",
    "from sklearn.feature_extraction.text import TfidfVectorizer\n",
    "from sklearn.model_selection import train_test_split\n",
    "from sklearn.naive_bayes import MultinomialNB\n",
    "from sklearn.metrics import accuracy_score\n",
    "\n"
   ]
  },
  {
   "cell_type": "code",
   "execution_count": 55,
   "id": "e20c0129",
   "metadata": {},
   "outputs": [
    {
     "name": "stderr",
     "output_type": "stream",
     "text": [
      "[nltk_data] Downloading package punkt to\n",
      "[nltk_data]     /Users/beatricebuttiglione/nltk_data...\n",
      "[nltk_data]   Package punkt is already up-to-date!\n",
      "[nltk_data] Downloading package stopwords to\n",
      "[nltk_data]     /Users/beatricebuttiglione/nltk_data...\n",
      "[nltk_data]   Package stopwords is already up-to-date!\n",
      "[nltk_data] Downloading package wordnet to\n",
      "[nltk_data]     /Users/beatricebuttiglione/nltk_data...\n",
      "[nltk_data]   Package wordnet is already up-to-date!\n"
     ]
    },
    {
     "data": {
      "text/plain": [
       "True"
      ]
     },
     "execution_count": 55,
     "metadata": {},
     "output_type": "execute_result"
    }
   ],
   "source": [
    "# Tokenization, Stopword Removal, and Lemmatization\n",
    "nltk.download(\"punkt\")\n",
    "nltk.download(\"stopwords\")\n",
    "nltk.download(\"wordnet\")"
   ]
  },
  {
   "cell_type": "code",
   "execution_count": 56,
   "id": "08359f23",
   "metadata": {},
   "outputs": [],
   "source": [
    "\n",
    "lemmatizer = WordNetLemmatizer()\n",
    "stop_words = set(stopwords.words(\"english\"))\n",
    "\n",
    "documents = []\n",
    "labels = []"
   ]
  },
  {
   "cell_type": "code",
   "execution_count": 57,
   "id": "87ec4203",
   "metadata": {},
   "outputs": [],
   "source": [
    "data = df['text']"
   ]
  },
  {
   "cell_type": "code",
   "execution_count": 58,
   "id": "2e39d984",
   "metadata": {},
   "outputs": [
    {
     "data": {
      "text/plain": [
       "pandas.core.series.Series"
      ]
     },
     "execution_count": 58,
     "metadata": {},
     "output_type": "execute_result"
    }
   ],
   "source": [
    "type(data)"
   ]
  },
  {
   "cell_type": "code",
   "execution_count": null,
   "id": "1f97ceed",
   "metadata": {},
   "outputs": [],
   "source": []
  },
  {
   "cell_type": "code",
   "execution_count": null,
   "id": "5b9e15f4",
   "metadata": {},
   "outputs": [],
   "source": []
  },
  {
   "cell_type": "code",
   "execution_count": null,
   "id": "80e04cf1",
   "metadata": {},
   "outputs": [],
   "source": []
  }
 ],
 "metadata": {
  "kernelspec": {
   "display_name": "Python 3 (ipykernel)",
   "language": "python",
   "name": "python3"
  },
  "language_info": {
   "codemirror_mode": {
    "name": "ipython",
    "version": 3
   },
   "file_extension": ".py",
   "mimetype": "text/x-python",
   "name": "python",
   "nbconvert_exporter": "python",
   "pygments_lexer": "ipython3",
   "version": "3.10.9"
  }
 },
 "nbformat": 4,
 "nbformat_minor": 5
}
