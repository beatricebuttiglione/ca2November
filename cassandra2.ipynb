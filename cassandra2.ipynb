{
 "cells": [
  {
   "cell_type": "code",
   "execution_count": 1,
   "id": "68547dd9",
   "metadata": {},
   "outputs": [],
   "source": [
    "from cassandra.cluster import Cluster\n",
    "import csv"
   ]
  },
  {
   "cell_type": "code",
   "execution_count": 3,
   "id": "24836096",
   "metadata": {},
   "outputs": [],
   "source": [
    "from pyspark.sql import SparkSession"
   ]
  },
  {
   "cell_type": "code",
   "execution_count": 4,
   "id": "5f0a0988",
   "metadata": {},
   "outputs": [],
   "source": [
    "\n",
    "spark = SparkSession.builder.appName(\"ca2_nov\").getOrCreate()"
   ]
  },
  {
   "cell_type": "code",
   "execution_count": 5,
   "id": "a76a6411",
   "metadata": {},
   "outputs": [],
   "source": [
    "folder = \"hdfs://localhost:9000/user1/ProjectTweets.csv\""
   ]
  },
  {
   "cell_type": "code",
   "execution_count": 6,
   "id": "07e30843",
   "metadata": {},
   "outputs": [
    {
     "name": "stderr",
     "output_type": "stream",
     "text": [
      "                                                                                \r"
     ]
    }
   ],
   "source": [
    "df = spark.read.csv(folder, header=False, inferSchema=True)"
   ]
  },
  {
   "cell_type": "code",
   "execution_count": 7,
   "id": "487d1012",
   "metadata": {},
   "outputs": [],
   "source": [
    "df = df.toDF(\"id\", \"indice\", \"date\", \"query\", \"user\", \"tweet\")"
   ]
  },
  {
   "cell_type": "code",
   "execution_count": 8,
   "id": "221c1b38",
   "metadata": {},
   "outputs": [
    {
     "data": {
      "text/plain": [
       "Row(id=0, indice=1467810369, date='Mon Apr 06 22:19:45 PDT 2009', query='NO_QUERY', user='_TheSpecialOne_', tweet=\"@switchfoot http://twitpic.com/2y1zl - Awww, that's a bummer.  You shoulda got David Carr of Third Day to do it. ;D\")"
      ]
     },
     "execution_count": 8,
     "metadata": {},
     "output_type": "execute_result"
    }
   ],
   "source": [
    "df.head()"
   ]
  },
  {
   "cell_type": "code",
   "execution_count": 9,
   "id": "c07130f4",
   "metadata": {},
   "outputs": [
    {
     "name": "stdout",
     "output_type": "stream",
     "text": [
      "root\n",
      " |-- id: integer (nullable = true)\n",
      " |-- indice: long (nullable = true)\n",
      " |-- date: string (nullable = true)\n",
      " |-- query: string (nullable = true)\n",
      " |-- user: string (nullable = true)\n",
      " |-- tweet: string (nullable = true)\n",
      "\n"
     ]
    }
   ],
   "source": [
    "df.printSchema()\n"
   ]
  },
  {
   "cell_type": "code",
   "execution_count": 10,
   "id": "e2481b9b",
   "metadata": {},
   "outputs": [],
   "source": [
    "df = df.dropDuplicates([\"tweet\"])\n",
    "\n"
   ]
  },
  {
   "cell_type": "code",
   "execution_count": 11,
   "id": "e9481073",
   "metadata": {},
   "outputs": [],
   "source": [
    "# using legacy for date parsing\n",
    "spark.conf.set(\"spark.sql.legacy.timeParserPolicy\", \"LEGACY\")\n",
    "\n"
   ]
  },
  {
   "cell_type": "code",
   "execution_count": 12,
   "id": "8d0a6410",
   "metadata": {},
   "outputs": [],
   "source": [
    "from pyspark.sql.functions import to_date"
   ]
  },
  {
   "cell_type": "code",
   "execution_count": 13,
   "id": "16a4ed5f",
   "metadata": {},
   "outputs": [],
   "source": [
    "# trasform date column from string to date\n",
    "df_con_data = df.withColumn(\"date\", to_date(df[\"date\"], \"E MMM dd HH:mm:ss z yyyy\"))\n"
   ]
  },
  {
   "cell_type": "code",
   "execution_count": 14,
   "id": "bfa464fe",
   "metadata": {},
   "outputs": [
    {
     "name": "stderr",
     "output_type": "stream",
     "text": [
      "[Stage 5:>                                                          (0 + 1) / 1]\r"
     ]
    },
    {
     "name": "stdout",
     "output_type": "stream",
     "text": [
      "+-------+----------+----------+--------+--------+--------------------+\n",
      "|     id|    indice|      date|   query|    user|               tweet|\n",
      "+-------+----------+----------+--------+--------+--------------------+\n",
      "|1429354|2059729483|2009-06-07|NO_QUERY|mtiishaw|       Hardest wo...|\n",
      "+-------+----------+----------+--------+--------+--------------------+\n",
      "only showing top 1 row\n",
      "\n"
     ]
    },
    {
     "name": "stderr",
     "output_type": "stream",
     "text": [
      "                                                                                \r"
     ]
    }
   ],
   "source": [
    "df_con_data.show(1)"
   ]
  },
  {
   "cell_type": "code",
   "execution_count": 15,
   "id": "7a6930a2",
   "metadata": {},
   "outputs": [
    {
     "name": "stderr",
     "output_type": "stream",
     "text": [
      "[Stage 8:=======================================>                   (2 + 1) / 3]\r"
     ]
    },
    {
     "name": "stdout",
     "output_type": "stream",
     "text": [
      "+-------+-----------------+--------------------+--------+--------------------+--------------------+\n",
      "|summary|               id|              indice|   query|                user|               tweet|\n",
      "+-------+-----------------+--------------------+--------+--------------------+--------------------+\n",
      "|  count|          1581466|             1581466| 1581466|             1581466|             1581466|\n",
      "|   mean|799948.3493486423|1.9985071970856838E9|    null| 4.418920826240876E9|                null|\n",
      "| stddev|462023.2915345735|1.9365969167076474E8|    null|5.218769198801353...|                null|\n",
      "|    min|                0|          1467810369|NO_QUERY|        000catnap000|                 ...|\n",
      "|    max|          1599999|          2329205794|NO_QUERY|          zzzzeus111|ï¿½ï¿½ï¿½ï¿½ï¿½ß§...|\n",
      "+-------+-----------------+--------------------+--------+--------------------+--------------------+\n",
      "\n"
     ]
    },
    {
     "name": "stderr",
     "output_type": "stream",
     "text": [
      "                                                                                \r"
     ]
    }
   ],
   "source": [
    "# check on null values\n",
    "df_con_data.describe().show()\n"
   ]
  },
  {
   "cell_type": "code",
   "execution_count": 16,
   "id": "bac576dd",
   "metadata": {},
   "outputs": [
    {
     "name": "stdout",
     "output_type": "stream",
     "text": [
      "root\n",
      " |-- id: integer (nullable = true)\n",
      " |-- indice: long (nullable = true)\n",
      " |-- date: date (nullable = true)\n",
      " |-- query: string (nullable = true)\n",
      " |-- user: string (nullable = true)\n",
      " |-- tweet: string (nullable = true)\n",
      "\n"
     ]
    }
   ],
   "source": [
    "df_con_data.printSchema()"
   ]
  },
  {
   "cell_type": "markdown",
   "id": "04f4be71",
   "metadata": {},
   "source": [
    "# from spark to mysql"
   ]
  },
  {
   "cell_type": "code",
   "execution_count": 17,
   "id": "164d4666",
   "metadata": {},
   "outputs": [],
   "source": [
    "import mysql.connector\n"
   ]
  },
  {
   "cell_type": "code",
   "execution_count": 18,
   "id": "9ecd65b7",
   "metadata": {},
   "outputs": [],
   "source": [
    "# info \n",
    "hostname = \"127.0.0.1\"  \n",
    "username = \"root\"  \n",
    "password = \"password\" \n",
    "database_name = \"ca2\"  \n",
    "\n",
    "# connection with database\n",
    "conn = mysql.connector.connect(\n",
    "    host=hostname,\n",
    "    user=username,\n",
    "    password=password,\n",
    "    database=database_name\n",
    ")\n"
   ]
  },
  {
   "cell_type": "code",
   "execution_count": 19,
   "id": "82d53d9d",
   "metadata": {},
   "outputs": [],
   "source": [
    "from pyspark.sql import SparkSession\n",
    "spark = SparkSession.builder \\\n",
    "    .appName(\"ca2_nov\") \\\n",
    "    .config(\"spark.jars\", \"hdfs:///mysql-connector-j-8.2.0.jar\") \\\n",
    "    .getOrCreate()\n",
    "#open connection with spark"
   ]
  },
  {
   "cell_type": "code",
   "execution_count": 20,
   "id": "9fd5587c",
   "metadata": {},
   "outputs": [],
   "source": [
    "# info for connection to mysql\n",
    "url = \"jdbc:mysql://127.0.0.1:3306/ca2\"\n",
    "properties = {\n",
    "    \"user\": \"root\",\n",
    "    \"password\": \"password\",\n",
    "    \"driver\": \"com.mysql.cj.jdbc.Driver\"\n",
    "}\n",
    "\n",
    "\n",
    "\n"
   ]
  },
  {
   "cell_type": "code",
   "execution_count": 21,
   "id": "06cabd45",
   "metadata": {
    "scrolled": true
   },
   "outputs": [
    {
     "name": "stderr",
     "output_type": "stream",
     "text": [
      "                                                                                \r"
     ]
    }
   ],
   "source": [
    "# copy df from spark to mysql\n",
    "df_con_data.write.jdbc(url, \"tweet\", mode=\"append\", properties=properties)"
   ]
  },
  {
   "cell_type": "code",
   "execution_count": 23,
   "id": "22ba7385",
   "metadata": {},
   "outputs": [],
   "source": [
    "query = \"SELECT * FROM tweet LIMIT 10\"\n",
    "\n"
   ]
  },
  {
   "cell_type": "code",
   "execution_count": 25,
   "id": "05bf1592",
   "metadata": {},
   "outputs": [
    {
     "data": {
      "text/plain": [
       "'SELECT * FROM tweet LIMIT 10'"
      ]
     },
     "execution_count": 25,
     "metadata": {},
     "output_type": "execute_result"
    }
   ],
   "source": [
    "query"
   ]
  },
  {
   "cell_type": "code",
   "execution_count": null,
   "id": "7afe132b",
   "metadata": {},
   "outputs": [],
   "source": []
  },
  {
   "cell_type": "markdown",
   "id": "e07a9cbb",
   "metadata": {},
   "source": [
    "# from spark to cassandra"
   ]
  },
  {
   "cell_type": "code",
   "execution_count": 5,
   "id": "5a524e90",
   "metadata": {},
   "outputs": [],
   "source": [
    "# node address\n",
    "indirizzo_del_nodo_di_contatto = '127.0.0.1'\n",
    "\n",
    "# cluster object\n",
    "cluster = Cluster([indirizzo_del_nodo_di_contatto])"
   ]
  },
  {
   "cell_type": "code",
   "execution_count": 6,
   "id": "6e9a2be8",
   "metadata": {
    "scrolled": true
   },
   "outputs": [
    {
     "data": {
      "text/plain": [
       "<cassandra.cluster.ResultSet at 0x7f28abb324a0>"
      ]
     },
     "execution_count": 6,
     "metadata": {},
     "output_type": "execute_result"
    }
   ],
   "source": [
    "# cassandra session\n",
    "session = cluster.connect()\n",
    "\n",
    "# keyspace\n",
    "session.execute(\"USE my_ca3\")"
   ]
  },
  {
   "cell_type": "code",
   "execution_count": 38,
   "id": "fbbd8175",
   "metadata": {},
   "outputs": [
    {
     "data": {
      "text/plain": [
       "<cassandra.cluster.ResultSet at 0x7f58462145e0>"
      ]
     },
     "execution_count": 38,
     "metadata": {},
     "output_type": "execute_result"
    }
   ],
   "source": [
    "tweet_ca2 = \"\"\"\n",
    "\n",
    "\n",
    "CREATE TABLE IF NOT EXISTS my_ca3.tweet_ca2 (\n",
    "    id INT PRIMARY KEY,\n",
    "    indice BIGINT,\n",
    "    date DATE,\n",
    "    query TEXT,\n",
    "    user TEXT,\n",
    "    tweet TEXT\n",
    ")\n",
    "\n",
    "\n",
    "\n",
    "\"\"\"\n",
    "\n",
    "session.execute(tweet_ca2)"
   ]
  },
  {
   "cell_type": "code",
   "execution_count": 39,
   "id": "e09fbf28",
   "metadata": {},
   "outputs": [
    {
     "name": "stderr",
     "output_type": "stream",
     "text": [
      "                                                                                \r"
     ]
    }
   ],
   "source": [
    "table_name = \"tweet_ca2\"\n",
    "\n",
    "df_con_data.write \\\n",
    "    .format(\"org.apache.spark.sql.cassandra\") \\\n",
    "    .options(table=table_name, keyspace=\"my_ca3\") \\\n",
    "    .option(\"confirm.truncate\", \"true\") \\\n",
    "    .mode(\"overwrite\") \\\n",
    "    .save()"
   ]
  },
  {
   "cell_type": "code",
   "execution_count": 43,
   "id": "57204c6e",
   "metadata": {},
   "outputs": [],
   "source": [
    "query = \"SELECT COUNT(*) FROM tweet_ca2\"\n",
    "result = session.execute(query)\n"
   ]
  },
  {
   "cell_type": "code",
   "execution_count": 44,
   "id": "764d89d4",
   "metadata": {},
   "outputs": [
    {
     "name": "stdout",
     "output_type": "stream",
     "text": [
      "Total number of rows is : 1581466\n"
     ]
    }
   ],
   "source": [
    "count = result.one()[0]\n",
    "print(f\"Total number of rows is : {count}\")"
   ]
  },
  {
   "cell_type": "code",
   "execution_count": 7,
   "id": "3cf53ff8",
   "metadata": {},
   "outputs": [],
   "source": [
    "query = \"SELECT * FROM tweet_ca2\"\n",
    "result = session.execute(query)"
   ]
  },
  {
   "cell_type": "code",
   "execution_count": 7,
   "id": "08b9591d",
   "metadata": {},
   "outputs": [],
   "source": [
    "from pyspark.sql import SparkSession\n",
    "from pyspark.sql import DataFrame\n"
   ]
  },
  {
   "cell_type": "code",
   "execution_count": null,
   "id": "7b1e2657",
   "metadata": {},
   "outputs": [],
   "source": []
  },
  {
   "cell_type": "code",
   "execution_count": 8,
   "id": "129ed30a",
   "metadata": {},
   "outputs": [],
   "source": [
    "keyspace = \"my_ca3\"  # Specificy keyspace \n",
    "table_name = \"tweet_ca2\"  # Specify name table\n",
    "\n",
    "# copy df from spark to cassandra\n",
    "df = spark.read.format(\"org.apache.spark.sql.cassandra\") \\\n",
    "    .options(table=table_name, keyspace=keyspace) \\\n",
    "    .load()\n",
    "\n"
   ]
  },
  {
   "cell_type": "code",
   "execution_count": 9,
   "id": "b2c3eb56",
   "metadata": {},
   "outputs": [
    {
     "name": "stdout",
     "output_type": "stream",
     "text": [
      "root\n",
      " |-- id: integer (nullable = false)\n",
      " |-- date: date (nullable = true)\n",
      " |-- indice: long (nullable = true)\n",
      " |-- query: string (nullable = true)\n",
      " |-- tweet: string (nullable = true)\n",
      " |-- user: string (nullable = true)\n",
      "\n"
     ]
    }
   ],
   "source": [
    "df.printSchema()"
   ]
  },
  {
   "cell_type": "code",
   "execution_count": 18,
   "id": "a115ab5a",
   "metadata": {},
   "outputs": [
    {
     "name": "stdout",
     "output_type": "stream",
     "text": [
      "+------+----------+----------+--------+--------------------+----------+\n",
      "|    id|      date|    indice|   query|               tweet|      user|\n",
      "+------+----------+----------+--------+--------------------+----------+\n",
      "|584570|2009-06-18|2215319563|NO_QUERY|NOOOOOO!  floodin...|rchlwatson|\n",
      "+------+----------+----------+--------+--------------------+----------+\n",
      "only showing top 1 row\n",
      "\n"
     ]
    },
    {
     "name": "stderr",
     "output_type": "stream",
     "text": [
      "                                                                                \r"
     ]
    }
   ],
   "source": [
    "df.show(1)"
   ]
  },
  {
   "cell_type": "markdown",
   "id": "1a622abd",
   "metadata": {},
   "source": [
    "# sentiment analysis using Vader"
   ]
  },
  {
   "cell_type": "code",
   "execution_count": 10,
   "id": "702e5157",
   "metadata": {},
   "outputs": [],
   "source": [
    "from vaderSentiment.vaderSentiment import SentimentIntensityAnalyzer"
   ]
  },
  {
   "cell_type": "code",
   "execution_count": 11,
   "id": "478c7256",
   "metadata": {},
   "outputs": [],
   "source": [
    "from pyspark.sql.functions import udf"
   ]
  },
  {
   "cell_type": "code",
   "execution_count": 14,
   "id": "a192a8b2",
   "metadata": {},
   "outputs": [],
   "source": [
    "from pyspark.sql.types import FloatType"
   ]
  },
  {
   "cell_type": "code",
   "execution_count": 18,
   "id": "d721d903",
   "metadata": {},
   "outputs": [],
   "source": [
    "def sentiment_function(text):\n",
    "    analyzer = SentimentIntensityAnalyzer()\n",
    "    sent = analyzer.polarity_scores(text)\n",
    "    return sent['compound']  # extract'compound' value from function'polarity_scores'\n"
   ]
  },
  {
   "cell_type": "code",
   "execution_count": 19,
   "id": "394b1c6b",
   "metadata": {},
   "outputs": [],
   "source": [
    "\n",
    "# record UDF\n",
    "sentiment_udf = udf(sentiment_function, FloatType())\n",
    "\n",
    "# applyl'UDF in new column \"sentiment\"\n",
    "df_sent = df.withColumn(\"sentiment\", sentiment_udf(df[\"tweet\"]))\n"
   ]
  },
  {
   "cell_type": "code",
   "execution_count": 20,
   "id": "ff1b8d12",
   "metadata": {},
   "outputs": [
    {
     "name": "stdout",
     "output_type": "stream",
     "text": [
      "root\n",
      " |-- id: integer (nullable = false)\n",
      " |-- date: date (nullable = true)\n",
      " |-- indice: long (nullable = true)\n",
      " |-- query: string (nullable = true)\n",
      " |-- tweet: string (nullable = true)\n",
      " |-- user: string (nullable = true)\n",
      " |-- sentiment: float (nullable = true)\n",
      "\n"
     ]
    }
   ],
   "source": [
    "df_sent.printSchema()"
   ]
  },
  {
   "cell_type": "code",
   "execution_count": 21,
   "id": "367a9c6d",
   "metadata": {},
   "outputs": [
    {
     "name": "stderr",
     "output_type": "stream",
     "text": [
      "[Stage 1:>                                                          (0 + 1) / 1]\r"
     ]
    },
    {
     "name": "stdout",
     "output_type": "stream",
     "text": [
      "+------+----------+----------+--------+--------------------+-------+---------+\n",
      "|    id|      date|    indice|   query|               tweet|   user|sentiment|\n",
      "+------+----------+----------+--------+--------------------+-------+---------+\n",
      "|200596|2009-05-30|1971704740|NO_QUERY|lost my phone...a...|Nyabama|  -0.3182|\n",
      "+------+----------+----------+--------+--------------------+-------+---------+\n",
      "only showing top 1 row\n",
      "\n"
     ]
    },
    {
     "name": "stderr",
     "output_type": "stream",
     "text": [
      "                                                                                \r"
     ]
    }
   ],
   "source": [
    "df_sent.show(1)"
   ]
  },
  {
   "cell_type": "code",
   "execution_count": 22,
   "id": "3bb143ff",
   "metadata": {},
   "outputs": [],
   "source": [
    "from pyspark.sql.functions import when, col\n"
   ]
  },
  {
   "cell_type": "code",
   "execution_count": 23,
   "id": "4693b6b9",
   "metadata": {},
   "outputs": [],
   "source": [
    "# new column 'label'\n",
    "df_sent = df_sent.withColumn(\"label_vader\", \n",
    "    when(col(\"sentiment\") > 0.2, 1)\n",
    "    .when(col(\"sentiment\") < -0.2, -1)\n",
    "    .otherwise(0)\n",
    ")\n",
    "\n",
    "\n"
   ]
  },
  {
   "cell_type": "code",
   "execution_count": null,
   "id": "d5e78a1a",
   "metadata": {},
   "outputs": [],
   "source": []
  },
  {
   "cell_type": "markdown",
   "id": "15ce1d2c",
   "metadata": {},
   "source": [
    "# sentiment analysis with TextBlob"
   ]
  },
  {
   "cell_type": "code",
   "execution_count": 24,
   "id": "e930519f",
   "metadata": {},
   "outputs": [],
   "source": [
    "from pyspark.sql import SparkSession\n",
    "from pyspark.sql.functions import udf\n",
    "from pyspark.sql.types import StringType, FloatType\n",
    "from textblob import TextBlob\n"
   ]
  },
  {
   "cell_type": "code",
   "execution_count": 29,
   "id": "e1ca51e7",
   "metadata": {},
   "outputs": [],
   "source": [
    "def analyze_sentiment(text):\n",
    "    analysis = TextBlob(text)\n",
    "    sentiment_score = analysis.sentiment.polarity\n",
    "    return float(sentiment_score)\n",
    "\n",
    "sentiment_udf = udf(analyze_sentiment, FloatType())\n",
    "\n"
   ]
  },
  {
   "cell_type": "code",
   "execution_count": 30,
   "id": "a028f0f4",
   "metadata": {},
   "outputs": [],
   "source": [
    "df_blob = df.withColumn(\"sentiment\", sentiment_udf(df[\"tweet\"]))\n"
   ]
  },
  {
   "cell_type": "code",
   "execution_count": 31,
   "id": "f8fd5552",
   "metadata": {},
   "outputs": [],
   "source": [
    "from pyspark.sql.functions import struct\n",
    "\n",
    "# new column with score \n",
    "df_blob = df_blob.withColumn(\"sentiment\", sentiment_udf(df_blob[\"tweet\"]))\n",
    "\n"
   ]
  },
  {
   "cell_type": "code",
   "execution_count": 32,
   "id": "263f71ae",
   "metadata": {},
   "outputs": [
    {
     "name": "stdout",
     "output_type": "stream",
     "text": [
      "root\n",
      " |-- id: integer (nullable = false)\n",
      " |-- date: date (nullable = true)\n",
      " |-- indice: long (nullable = true)\n",
      " |-- query: string (nullable = true)\n",
      " |-- tweet: string (nullable = true)\n",
      " |-- user: string (nullable = true)\n",
      " |-- sentiment: float (nullable = true)\n",
      "\n"
     ]
    }
   ],
   "source": [
    "df_blob.printSchema()"
   ]
  },
  {
   "cell_type": "code",
   "execution_count": 34,
   "id": "ba35e6cd",
   "metadata": {},
   "outputs": [],
   "source": [
    "from pyspark.sql.functions import when, col\n",
    "\n",
    "df_blob = df_blob.withColumn(\"label_blob\", \n",
    "    when(col(\"sentiment\") > 0.2, 1)\n",
    "    .when(col(\"sentiment\") < -0.2, -1)\n",
    "    .otherwise(0)\n",
    ")\n"
   ]
  },
  {
   "cell_type": "code",
   "execution_count": 35,
   "id": "e67b5518",
   "metadata": {},
   "outputs": [
    {
     "name": "stderr",
     "output_type": "stream",
     "text": [
      "[Stage 2:>                                                          (0 + 1) / 1]\r"
     ]
    },
    {
     "name": "stdout",
     "output_type": "stream",
     "text": [
      "+------+----------+----------+--------+--------------------+--------------+---------+----------+\n",
      "|    id|      date|    indice|   query|               tweet|          user|sentiment|label_blob|\n",
      "+------+----------+----------+--------+--------------------+--------------+---------+----------+\n",
      "|958144|2009-05-17|1825636460|NO_QUERY|All I hear people...|iPhoneFuzzball|      0.0|         0|\n",
      "+------+----------+----------+--------+--------------------+--------------+---------+----------+\n",
      "only showing top 1 row\n",
      "\n"
     ]
    },
    {
     "name": "stderr",
     "output_type": "stream",
     "text": [
      "                                                                                \r"
     ]
    }
   ],
   "source": [
    "df_blob.show(1)"
   ]
  },
  {
   "cell_type": "code",
   "execution_count": null,
   "id": "bbfc2fed",
   "metadata": {},
   "outputs": [],
   "source": []
  },
  {
   "cell_type": "code",
   "execution_count": null,
   "id": "0b060271",
   "metadata": {},
   "outputs": [],
   "source": []
  },
  {
   "cell_type": "code",
   "execution_count": null,
   "id": "efb36885",
   "metadata": {},
   "outputs": [],
   "source": []
  }
 ],
 "metadata": {
  "kernelspec": {
   "display_name": "Python 3 (ipykernel)",
   "language": "python",
   "name": "python3"
  },
  "language_info": {
   "codemirror_mode": {
    "name": "ipython",
    "version": 3
   },
   "file_extension": ".py",
   "mimetype": "text/x-python",
   "name": "python",
   "nbconvert_exporter": "python",
   "pygments_lexer": "ipython3",
   "version": "3.10.9"
  }
 },
 "nbformat": 4,
 "nbformat_minor": 5
}
