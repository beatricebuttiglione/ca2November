{
 "cells": [
  {
   "cell_type": "code",
   "execution_count": 1,
   "id": "06fbeecc",
   "metadata": {},
   "outputs": [],
   "source": [
    "import pandas as pd\n",
    "from datetime import datetime"
   ]
  },
  {
   "cell_type": "code",
   "execution_count": 2,
   "id": "837c68cd",
   "metadata": {},
   "outputs": [],
   "source": [
    "df = pd.read_csv(\"ProjectTweets.csv\",header = None)"
   ]
  },
  {
   "cell_type": "code",
   "execution_count": 3,
   "id": "edcf3ad1",
   "metadata": {},
   "outputs": [
    {
     "data": {
      "text/html": [
       "<div>\n",
       "<style scoped>\n",
       "    .dataframe tbody tr th:only-of-type {\n",
       "        vertical-align: middle;\n",
       "    }\n",
       "\n",
       "    .dataframe tbody tr th {\n",
       "        vertical-align: top;\n",
       "    }\n",
       "\n",
       "    .dataframe thead th {\n",
       "        text-align: right;\n",
       "    }\n",
       "</style>\n",
       "<table border=\"1\" class=\"dataframe\">\n",
       "  <thead>\n",
       "    <tr style=\"text-align: right;\">\n",
       "      <th></th>\n",
       "      <th>0</th>\n",
       "      <th>1</th>\n",
       "      <th>2</th>\n",
       "      <th>3</th>\n",
       "      <th>4</th>\n",
       "      <th>5</th>\n",
       "    </tr>\n",
       "  </thead>\n",
       "  <tbody>\n",
       "    <tr>\n",
       "      <th>0</th>\n",
       "      <td>0</td>\n",
       "      <td>1467810369</td>\n",
       "      <td>Mon Apr 06 22:19:45 PDT 2009</td>\n",
       "      <td>NO_QUERY</td>\n",
       "      <td>_TheSpecialOne_</td>\n",
       "      <td>@switchfoot http://twitpic.com/2y1zl - Awww, t...</td>\n",
       "    </tr>\n",
       "    <tr>\n",
       "      <th>1</th>\n",
       "      <td>1</td>\n",
       "      <td>1467810672</td>\n",
       "      <td>Mon Apr 06 22:19:49 PDT 2009</td>\n",
       "      <td>NO_QUERY</td>\n",
       "      <td>scotthamilton</td>\n",
       "      <td>is upset that he can't update his Facebook by ...</td>\n",
       "    </tr>\n",
       "    <tr>\n",
       "      <th>2</th>\n",
       "      <td>2</td>\n",
       "      <td>1467810917</td>\n",
       "      <td>Mon Apr 06 22:19:53 PDT 2009</td>\n",
       "      <td>NO_QUERY</td>\n",
       "      <td>mattycus</td>\n",
       "      <td>@Kenichan I dived many times for the ball. Man...</td>\n",
       "    </tr>\n",
       "    <tr>\n",
       "      <th>3</th>\n",
       "      <td>3</td>\n",
       "      <td>1467811184</td>\n",
       "      <td>Mon Apr 06 22:19:57 PDT 2009</td>\n",
       "      <td>NO_QUERY</td>\n",
       "      <td>ElleCTF</td>\n",
       "      <td>my whole body feels itchy and like its on fire</td>\n",
       "    </tr>\n",
       "    <tr>\n",
       "      <th>4</th>\n",
       "      <td>4</td>\n",
       "      <td>1467811193</td>\n",
       "      <td>Mon Apr 06 22:19:57 PDT 2009</td>\n",
       "      <td>NO_QUERY</td>\n",
       "      <td>Karoli</td>\n",
       "      <td>@nationwideclass no, it's not behaving at all....</td>\n",
       "    </tr>\n",
       "  </tbody>\n",
       "</table>\n",
       "</div>"
      ],
      "text/plain": [
       "   0           1                             2         3                4  \\\n",
       "0  0  1467810369  Mon Apr 06 22:19:45 PDT 2009  NO_QUERY  _TheSpecialOne_   \n",
       "1  1  1467810672  Mon Apr 06 22:19:49 PDT 2009  NO_QUERY    scotthamilton   \n",
       "2  2  1467810917  Mon Apr 06 22:19:53 PDT 2009  NO_QUERY         mattycus   \n",
       "3  3  1467811184  Mon Apr 06 22:19:57 PDT 2009  NO_QUERY          ElleCTF   \n",
       "4  4  1467811193  Mon Apr 06 22:19:57 PDT 2009  NO_QUERY           Karoli   \n",
       "\n",
       "                                                   5  \n",
       "0  @switchfoot http://twitpic.com/2y1zl - Awww, t...  \n",
       "1  is upset that he can't update his Facebook by ...  \n",
       "2  @Kenichan I dived many times for the ball. Man...  \n",
       "3    my whole body feels itchy and like its on fire   \n",
       "4  @nationwideclass no, it's not behaving at all....  "
      ]
     },
     "execution_count": 3,
     "metadata": {},
     "output_type": "execute_result"
    }
   ],
   "source": [
    "df.head()"
   ]
  },
  {
   "cell_type": "code",
   "execution_count": 4,
   "id": "829e0ddb",
   "metadata": {},
   "outputs": [],
   "source": [
    "columns_names=['index','id','date','flag','user','text']"
   ]
  },
  {
   "cell_type": "code",
   "execution_count": 5,
   "id": "f5fdcb07",
   "metadata": {},
   "outputs": [],
   "source": [
    "df.columns = columns_names"
   ]
  },
  {
   "cell_type": "code",
   "execution_count": 6,
   "id": "79ecba46",
   "metadata": {},
   "outputs": [],
   "source": [
    "# remove PDT \n",
    "df['date'] = df['date'].str.replace('PDT', '')"
   ]
  },
  {
   "cell_type": "code",
   "execution_count": 7,
   "id": "9dd02a14",
   "metadata": {},
   "outputs": [],
   "source": [
    "# time format\n",
    "date_format = '%a %b %d %H:%M:%S %Y'"
   ]
  },
  {
   "cell_type": "code",
   "execution_count": 8,
   "id": "a650ec4d",
   "metadata": {},
   "outputs": [],
   "source": [
    "# column in object \n",
    "df['date'] = pd.to_datetime(df['date'], format=date_format)"
   ]
  },
  {
   "cell_type": "code",
   "execution_count": 9,
   "id": "61a196b1",
   "metadata": {},
   "outputs": [
    {
     "name": "stdout",
     "output_type": "stream",
     "text": [
      "0         2009-04-06 22:19:45\n",
      "1         2009-04-06 22:19:49\n",
      "2         2009-04-06 22:19:53\n",
      "3         2009-04-06 22:19:57\n",
      "4         2009-04-06 22:19:57\n",
      "                  ...        \n",
      "1599995   2009-06-16 08:40:49\n",
      "1599996   2009-06-16 08:40:49\n",
      "1599997   2009-06-16 08:40:49\n",
      "1599998   2009-06-16 08:40:49\n",
      "1599999   2009-06-16 08:40:50\n",
      "Name: date, Length: 1600000, dtype: datetime64[ns]\n"
     ]
    }
   ],
   "source": [
    "# date objects\n",
    "print(df['date'])"
   ]
  },
  {
   "cell_type": "code",
   "execution_count": 10,
   "id": "dfd5297b",
   "metadata": {},
   "outputs": [
    {
     "data": {
      "text/plain": [
       "Timestamp('2009-04-06 22:19:45')"
      ]
     },
     "execution_count": 10,
     "metadata": {},
     "output_type": "execute_result"
    }
   ],
   "source": [
    "df['date'].min()"
   ]
  },
  {
   "cell_type": "code",
   "execution_count": 11,
   "id": "e67e7ccf",
   "metadata": {},
   "outputs": [
    {
     "data": {
      "text/plain": [
       "Timestamp('2009-06-25 10:28:31')"
      ]
     },
     "execution_count": 11,
     "metadata": {},
     "output_type": "execute_result"
    }
   ],
   "source": [
    "df['date'].max()"
   ]
  },
  {
   "cell_type": "code",
   "execution_count": 12,
   "id": "1af010d2",
   "metadata": {},
   "outputs": [],
   "source": [
    "df['week'] = df['date'].dt.strftime('%U')  # week\n",
    "\n"
   ]
  },
  {
   "cell_type": "code",
   "execution_count": 13,
   "id": "fabf4553",
   "metadata": {},
   "outputs": [],
   "source": [
    "df['month'] = df['date'].dt.strftime('%B')  # month"
   ]
  },
  {
   "cell_type": "code",
   "execution_count": 14,
   "id": "46ece234",
   "metadata": {},
   "outputs": [],
   "source": [
    "df['day'] = df['date'].dt.strftime('%A')  # day"
   ]
  },
  {
   "cell_type": "code",
   "execution_count": 15,
   "id": "e3a3a6c9",
   "metadata": {},
   "outputs": [
    {
     "name": "stdout",
     "output_type": "stream",
     "text": [
      "<class 'pandas.core.frame.DataFrame'>\n",
      "RangeIndex: 1600000 entries, 0 to 1599999\n",
      "Data columns (total 9 columns):\n",
      " #   Column  Non-Null Count    Dtype         \n",
      "---  ------  --------------    -----         \n",
      " 0   index   1600000 non-null  int64         \n",
      " 1   id      1600000 non-null  int64         \n",
      " 2   date    1600000 non-null  datetime64[ns]\n",
      " 3   flag    1600000 non-null  object        \n",
      " 4   user    1600000 non-null  object        \n",
      " 5   text    1600000 non-null  object        \n",
      " 6   week    1600000 non-null  object        \n",
      " 7   month   1600000 non-null  object        \n",
      " 8   day     1600000 non-null  object        \n",
      "dtypes: datetime64[ns](1), int64(2), object(6)\n",
      "memory usage: 109.9+ MB\n"
     ]
    }
   ],
   "source": [
    "df.info()"
   ]
  },
  {
   "cell_type": "code",
   "execution_count": 16,
   "id": "b85dcd71",
   "metadata": {},
   "outputs": [],
   "source": [
    "import nltk"
   ]
  },
  {
   "cell_type": "code",
   "execution_count": 17,
   "id": "d90e0826",
   "metadata": {},
   "outputs": [
    {
     "name": "stderr",
     "output_type": "stream",
     "text": [
      "[nltk_data] Downloading package vader_lexicon to\n",
      "[nltk_data]     /Users/beatricebuttiglione/nltk_data...\n",
      "[nltk_data]   Package vader_lexicon is already up-to-date!\n"
     ]
    },
    {
     "data": {
      "text/plain": [
       "True"
      ]
     },
     "execution_count": 17,
     "metadata": {},
     "output_type": "execute_result"
    }
   ],
   "source": [
    "nltk.download('vader_lexicon')"
   ]
  },
  {
   "cell_type": "code",
   "execution_count": 18,
   "id": "fb3f3e3c",
   "metadata": {},
   "outputs": [],
   "source": [
    "from nltk.sentiment.vader import SentimentIntensityAnalyzer as SIA\n",
    "\n",
    "sia = SIA()\n",
    "results = []\n",
    "\n",
    "for line in df['text']:\n",
    "    pol_score = sia.polarity_scores(line)\n",
    "    pol_score['text'] = line\n",
    "    results.append(pol_score)"
   ]
  },
  {
   "cell_type": "code",
   "execution_count": 19,
   "id": "d04b3397",
   "metadata": {},
   "outputs": [
    {
     "data": {
      "text/html": [
       "<div>\n",
       "<style scoped>\n",
       "    .dataframe tbody tr th:only-of-type {\n",
       "        vertical-align: middle;\n",
       "    }\n",
       "\n",
       "    .dataframe tbody tr th {\n",
       "        vertical-align: top;\n",
       "    }\n",
       "\n",
       "    .dataframe thead th {\n",
       "        text-align: right;\n",
       "    }\n",
       "</style>\n",
       "<table border=\"1\" class=\"dataframe\">\n",
       "  <thead>\n",
       "    <tr style=\"text-align: right;\">\n",
       "      <th></th>\n",
       "      <th>neg</th>\n",
       "      <th>neu</th>\n",
       "      <th>pos</th>\n",
       "      <th>compound</th>\n",
       "      <th>text</th>\n",
       "    </tr>\n",
       "  </thead>\n",
       "  <tbody>\n",
       "    <tr>\n",
       "      <th>0</th>\n",
       "      <td>0.129</td>\n",
       "      <td>0.745</td>\n",
       "      <td>0.126</td>\n",
       "      <td>-0.0173</td>\n",
       "      <td>@switchfoot http://twitpic.com/2y1zl - Awww, t...</td>\n",
       "    </tr>\n",
       "    <tr>\n",
       "      <th>1</th>\n",
       "      <td>0.303</td>\n",
       "      <td>0.697</td>\n",
       "      <td>0.000</td>\n",
       "      <td>-0.7500</td>\n",
       "      <td>is upset that he can't update his Facebook by ...</td>\n",
       "    </tr>\n",
       "    <tr>\n",
       "      <th>2</th>\n",
       "      <td>0.000</td>\n",
       "      <td>0.833</td>\n",
       "      <td>0.167</td>\n",
       "      <td>0.4939</td>\n",
       "      <td>@Kenichan I dived many times for the ball. Man...</td>\n",
       "    </tr>\n",
       "    <tr>\n",
       "      <th>3</th>\n",
       "      <td>0.321</td>\n",
       "      <td>0.500</td>\n",
       "      <td>0.179</td>\n",
       "      <td>-0.2500</td>\n",
       "      <td>my whole body feels itchy and like its on fire</td>\n",
       "    </tr>\n",
       "    <tr>\n",
       "      <th>4</th>\n",
       "      <td>0.241</td>\n",
       "      <td>0.759</td>\n",
       "      <td>0.000</td>\n",
       "      <td>-0.6597</td>\n",
       "      <td>@nationwideclass no, it's not behaving at all....</td>\n",
       "    </tr>\n",
       "  </tbody>\n",
       "</table>\n",
       "</div>"
      ],
      "text/plain": [
       "     neg    neu    pos  compound  \\\n",
       "0  0.129  0.745  0.126   -0.0173   \n",
       "1  0.303  0.697  0.000   -0.7500   \n",
       "2  0.000  0.833  0.167    0.4939   \n",
       "3  0.321  0.500  0.179   -0.2500   \n",
       "4  0.241  0.759  0.000   -0.6597   \n",
       "\n",
       "                                                text  \n",
       "0  @switchfoot http://twitpic.com/2y1zl - Awww, t...  \n",
       "1  is upset that he can't update his Facebook by ...  \n",
       "2  @Kenichan I dived many times for the ball. Man...  \n",
       "3    my whole body feels itchy and like its on fire   \n",
       "4  @nationwideclass no, it's not behaving at all....  "
      ]
     },
     "execution_count": 19,
     "metadata": {},
     "output_type": "execute_result"
    }
   ],
   "source": [
    "df1 = pd.DataFrame.from_records(results)\n",
    "df1.head()"
   ]
  },
  {
   "cell_type": "code",
   "execution_count": 20,
   "id": "0d8e7b6f",
   "metadata": {},
   "outputs": [
    {
     "data": {
      "text/html": [
       "<div>\n",
       "<style scoped>\n",
       "    .dataframe tbody tr th:only-of-type {\n",
       "        vertical-align: middle;\n",
       "    }\n",
       "\n",
       "    .dataframe tbody tr th {\n",
       "        vertical-align: top;\n",
       "    }\n",
       "\n",
       "    .dataframe thead th {\n",
       "        text-align: right;\n",
       "    }\n",
       "</style>\n",
       "<table border=\"1\" class=\"dataframe\">\n",
       "  <thead>\n",
       "    <tr style=\"text-align: right;\">\n",
       "      <th></th>\n",
       "      <th>neg</th>\n",
       "      <th>neu</th>\n",
       "      <th>pos</th>\n",
       "      <th>compound</th>\n",
       "      <th>text</th>\n",
       "      <th>label</th>\n",
       "    </tr>\n",
       "  </thead>\n",
       "  <tbody>\n",
       "    <tr>\n",
       "      <th>0</th>\n",
       "      <td>0.129</td>\n",
       "      <td>0.745</td>\n",
       "      <td>0.126</td>\n",
       "      <td>-0.0173</td>\n",
       "      <td>@switchfoot http://twitpic.com/2y1zl - Awww, t...</td>\n",
       "      <td>0</td>\n",
       "    </tr>\n",
       "    <tr>\n",
       "      <th>1</th>\n",
       "      <td>0.303</td>\n",
       "      <td>0.697</td>\n",
       "      <td>0.000</td>\n",
       "      <td>-0.7500</td>\n",
       "      <td>is upset that he can't update his Facebook by ...</td>\n",
       "      <td>-1</td>\n",
       "    </tr>\n",
       "    <tr>\n",
       "      <th>2</th>\n",
       "      <td>0.000</td>\n",
       "      <td>0.833</td>\n",
       "      <td>0.167</td>\n",
       "      <td>0.4939</td>\n",
       "      <td>@Kenichan I dived many times for the ball. Man...</td>\n",
       "      <td>1</td>\n",
       "    </tr>\n",
       "    <tr>\n",
       "      <th>3</th>\n",
       "      <td>0.321</td>\n",
       "      <td>0.500</td>\n",
       "      <td>0.179</td>\n",
       "      <td>-0.2500</td>\n",
       "      <td>my whole body feels itchy and like its on fire</td>\n",
       "      <td>-1</td>\n",
       "    </tr>\n",
       "    <tr>\n",
       "      <th>4</th>\n",
       "      <td>0.241</td>\n",
       "      <td>0.759</td>\n",
       "      <td>0.000</td>\n",
       "      <td>-0.6597</td>\n",
       "      <td>@nationwideclass no, it's not behaving at all....</td>\n",
       "      <td>-1</td>\n",
       "    </tr>\n",
       "  </tbody>\n",
       "</table>\n",
       "</div>"
      ],
      "text/plain": [
       "     neg    neu    pos  compound  \\\n",
       "0  0.129  0.745  0.126   -0.0173   \n",
       "1  0.303  0.697  0.000   -0.7500   \n",
       "2  0.000  0.833  0.167    0.4939   \n",
       "3  0.321  0.500  0.179   -0.2500   \n",
       "4  0.241  0.759  0.000   -0.6597   \n",
       "\n",
       "                                                text  label  \n",
       "0  @switchfoot http://twitpic.com/2y1zl - Awww, t...      0  \n",
       "1  is upset that he can't update his Facebook by ...     -1  \n",
       "2  @Kenichan I dived many times for the ball. Man...      1  \n",
       "3    my whole body feels itchy and like its on fire      -1  \n",
       "4  @nationwideclass no, it's not behaving at all....     -1  "
      ]
     },
     "execution_count": 20,
     "metadata": {},
     "output_type": "execute_result"
    }
   ],
   "source": [
    "df1['label'] = 0\n",
    "df1.loc[df1['compound'] > 0.2, 'label'] = 1\n",
    "df1.loc[df1['compound'] < -0.2, 'label'] = -1\n",
    "df1.head()"
   ]
  },
  {
   "cell_type": "code",
   "execution_count": 21,
   "id": "4faad43e",
   "metadata": {},
   "outputs": [],
   "source": [
    "import matplotlib.pyplot as plt\n",
    "import seaborn as sns"
   ]
  },
  {
   "cell_type": "code",
   "execution_count": 22,
   "id": "94aa7fa0",
   "metadata": {},
   "outputs": [
    {
     "data": {
      "image/png": "[encoded data removed]",
      "text/plain": [
       "<Figure size 400x400 with 1 Axes>"
      ]
     },
     "metadata": {},
     "output_type": "display_data"
    }
   ],
   "source": [
    "fig, ax = plt.subplots(figsize=(4, 4))\n",
    "\n",
    "counts = df1.label.value_counts(normalize=True) * 100\n",
    "\n",
    "sns.barplot(x=counts.index, y=counts, ax=ax)\n",
    "\n",
    "ax.set_xticklabels(['Negative', 'Neutral', 'Positive'])\n",
    "ax.set_ylabel(\"Count\")\n",
    "\n",
    "plt.show()"
   ]
  },
  {
   "cell_type": "code",
   "execution_count": 23,
   "id": "3034ef98",
   "metadata": {},
   "outputs": [],
   "source": [
    "merged_df = pd.merge(df, df1, on=\"text\", how=\"inner\")"
   ]
  },
  {
   "cell_type": "code",
   "execution_count": 24,
   "id": "6966b7d7",
   "metadata": {},
   "outputs": [
    {
     "data": {
      "text/html": [
       "<div>\n",
       "<style scoped>\n",
       "    .dataframe tbody tr th:only-of-type {\n",
       "        vertical-align: middle;\n",
       "    }\n",
       "\n",
       "    .dataframe tbody tr th {\n",
       "        vertical-align: top;\n",
       "    }\n",
       "\n",
       "    .dataframe thead th {\n",
       "        text-align: right;\n",
       "    }\n",
       "</style>\n",
       "<table border=\"1\" class=\"dataframe\">\n",
       "  <thead>\n",
       "    <tr style=\"text-align: right;\">\n",
       "      <th></th>\n",
       "      <th>index</th>\n",
       "      <th>id</th>\n",
       "      <th>date</th>\n",
       "      <th>flag</th>\n",
       "      <th>user</th>\n",
       "      <th>text</th>\n",
       "      <th>week</th>\n",
       "      <th>month</th>\n",
       "      <th>day</th>\n",
       "      <th>neg</th>\n",
       "      <th>neu</th>\n",
       "      <th>pos</th>\n",
       "      <th>compound</th>\n",
       "      <th>label</th>\n",
       "    </tr>\n",
       "  </thead>\n",
       "  <tbody>\n",
       "    <tr>\n",
       "      <th>0</th>\n",
       "      <td>0</td>\n",
       "      <td>1467810369</td>\n",
       "      <td>2009-04-06 22:19:45</td>\n",
       "      <td>NO_QUERY</td>\n",
       "      <td>_TheSpecialOne_</td>\n",
       "      <td>@switchfoot http://twitpic.com/2y1zl - Awww, t...</td>\n",
       "      <td>14</td>\n",
       "      <td>April</td>\n",
       "      <td>Monday</td>\n",
       "      <td>0.129</td>\n",
       "      <td>0.745</td>\n",
       "      <td>0.126</td>\n",
       "      <td>-0.0173</td>\n",
       "      <td>0</td>\n",
       "    </tr>\n",
       "    <tr>\n",
       "      <th>1</th>\n",
       "      <td>1</td>\n",
       "      <td>1467810672</td>\n",
       "      <td>2009-04-06 22:19:49</td>\n",
       "      <td>NO_QUERY</td>\n",
       "      <td>scotthamilton</td>\n",
       "      <td>is upset that he can't update his Facebook by ...</td>\n",
       "      <td>14</td>\n",
       "      <td>April</td>\n",
       "      <td>Monday</td>\n",
       "      <td>0.303</td>\n",
       "      <td>0.697</td>\n",
       "      <td>0.000</td>\n",
       "      <td>-0.7500</td>\n",
       "      <td>-1</td>\n",
       "    </tr>\n",
       "    <tr>\n",
       "      <th>2</th>\n",
       "      <td>2</td>\n",
       "      <td>1467810917</td>\n",
       "      <td>2009-04-06 22:19:53</td>\n",
       "      <td>NO_QUERY</td>\n",
       "      <td>mattycus</td>\n",
       "      <td>@Kenichan I dived many times for the ball. Man...</td>\n",
       "      <td>14</td>\n",
       "      <td>April</td>\n",
       "      <td>Monday</td>\n",
       "      <td>0.000</td>\n",
       "      <td>0.833</td>\n",
       "      <td>0.167</td>\n",
       "      <td>0.4939</td>\n",
       "      <td>1</td>\n",
       "    </tr>\n",
       "    <tr>\n",
       "      <th>3</th>\n",
       "      <td>3</td>\n",
       "      <td>1467811184</td>\n",
       "      <td>2009-04-06 22:19:57</td>\n",
       "      <td>NO_QUERY</td>\n",
       "      <td>ElleCTF</td>\n",
       "      <td>my whole body feels itchy and like its on fire</td>\n",
       "      <td>14</td>\n",
       "      <td>April</td>\n",
       "      <td>Monday</td>\n",
       "      <td>0.321</td>\n",
       "      <td>0.500</td>\n",
       "      <td>0.179</td>\n",
       "      <td>-0.2500</td>\n",
       "      <td>-1</td>\n",
       "    </tr>\n",
       "    <tr>\n",
       "      <th>4</th>\n",
       "      <td>4</td>\n",
       "      <td>1467811193</td>\n",
       "      <td>2009-04-06 22:19:57</td>\n",
       "      <td>NO_QUERY</td>\n",
       "      <td>Karoli</td>\n",
       "      <td>@nationwideclass no, it's not behaving at all....</td>\n",
       "      <td>14</td>\n",
       "      <td>April</td>\n",
       "      <td>Monday</td>\n",
       "      <td>0.241</td>\n",
       "      <td>0.759</td>\n",
       "      <td>0.000</td>\n",
       "      <td>-0.6597</td>\n",
       "      <td>-1</td>\n",
       "    </tr>\n",
       "  </tbody>\n",
       "</table>\n",
       "</div>"
      ],
      "text/plain": [
       "   index          id                date      flag             user  \\\n",
       "0      0  1467810369 2009-04-06 22:19:45  NO_QUERY  _TheSpecialOne_   \n",
       "1      1  1467810672 2009-04-06 22:19:49  NO_QUERY    scotthamilton   \n",
       "2      2  1467810917 2009-04-06 22:19:53  NO_QUERY         mattycus   \n",
       "3      3  1467811184 2009-04-06 22:19:57  NO_QUERY          ElleCTF   \n",
       "4      4  1467811193 2009-04-06 22:19:57  NO_QUERY           Karoli   \n",
       "\n",
       "                                                text week  month     day  \\\n",
       "0  @switchfoot http://twitpic.com/2y1zl - Awww, t...   14  April  Monday   \n",
       "1  is upset that he can't update his Facebook by ...   14  April  Monday   \n",
       "2  @Kenichan I dived many times for the ball. Man...   14  April  Monday   \n",
       "3    my whole body feels itchy and like its on fire    14  April  Monday   \n",
       "4  @nationwideclass no, it's not behaving at all....   14  April  Monday   \n",
       "\n",
       "     neg    neu    pos  compound  label  \n",
       "0  0.129  0.745  0.126   -0.0173      0  \n",
       "1  0.303  0.697  0.000   -0.7500     -1  \n",
       "2  0.000  0.833  0.167    0.4939      1  \n",
       "3  0.321  0.500  0.179   -0.2500     -1  \n",
       "4  0.241  0.759  0.000   -0.6597     -1  "
      ]
     },
     "execution_count": 24,
     "metadata": {},
     "output_type": "execute_result"
    }
   ],
   "source": [
    "merged_df.head()"
   ]
  },
  {
   "cell_type": "code",
   "execution_count": null,
   "id": "fdb851f8",
   "metadata": {},
   "outputs": [],
   "source": [
    "\n"
   ]
  },
  {
   "cell_type": "code",
   "execution_count": 25,
   "id": "06391db4",
   "metadata": {},
   "outputs": [],
   "source": [
    "from textblob import TextBlob\n",
    "\n",
    "def assign_sentiment(text):\n",
    "    \n",
    "    blob = TextBlob(text)\n",
    "    \n",
    "    \n",
    "    sentimento = blob.sentiment.polarity\n",
    "    \n",
    "    \n",
    "    return sentimento\n"
   ]
  },
  {
   "cell_type": "code",
   "execution_count": 26,
   "id": "e71a72b3",
   "metadata": {},
   "outputs": [],
   "source": [
    "\n",
    "df['sentiment'] = df['text'].apply(assign_sentiment)\n"
   ]
  },
  {
   "cell_type": "code",
   "execution_count": 27,
   "id": "9c8a232d",
   "metadata": {},
   "outputs": [
    {
     "data": {
      "text/html": [
       "<div>\n",
       "<style scoped>\n",
       "    .dataframe tbody tr th:only-of-type {\n",
       "        vertical-align: middle;\n",
       "    }\n",
       "\n",
       "    .dataframe tbody tr th {\n",
       "        vertical-align: top;\n",
       "    }\n",
       "\n",
       "    .dataframe thead th {\n",
       "        text-align: right;\n",
       "    }\n",
       "</style>\n",
       "<table border=\"1\" class=\"dataframe\">\n",
       "  <thead>\n",
       "    <tr style=\"text-align: right;\">\n",
       "      <th></th>\n",
       "      <th>index</th>\n",
       "      <th>id</th>\n",
       "      <th>date</th>\n",
       "      <th>flag</th>\n",
       "      <th>user</th>\n",
       "      <th>text</th>\n",
       "      <th>week</th>\n",
       "      <th>month</th>\n",
       "      <th>day</th>\n",
       "      <th>sentiment</th>\n",
       "    </tr>\n",
       "  </thead>\n",
       "  <tbody>\n",
       "    <tr>\n",
       "      <th>0</th>\n",
       "      <td>0</td>\n",
       "      <td>1467810369</td>\n",
       "      <td>2009-04-06 22:19:45</td>\n",
       "      <td>NO_QUERY</td>\n",
       "      <td>_TheSpecialOne_</td>\n",
       "      <td>@switchfoot http://twitpic.com/2y1zl - Awww, t...</td>\n",
       "      <td>14</td>\n",
       "      <td>April</td>\n",
       "      <td>Monday</td>\n",
       "      <td>0.216667</td>\n",
       "    </tr>\n",
       "    <tr>\n",
       "      <th>1</th>\n",
       "      <td>1</td>\n",
       "      <td>1467810672</td>\n",
       "      <td>2009-04-06 22:19:49</td>\n",
       "      <td>NO_QUERY</td>\n",
       "      <td>scotthamilton</td>\n",
       "      <td>is upset that he can't update his Facebook by ...</td>\n",
       "      <td>14</td>\n",
       "      <td>April</td>\n",
       "      <td>Monday</td>\n",
       "      <td>0.000000</td>\n",
       "    </tr>\n",
       "    <tr>\n",
       "      <th>2</th>\n",
       "      <td>2</td>\n",
       "      <td>1467810917</td>\n",
       "      <td>2009-04-06 22:19:53</td>\n",
       "      <td>NO_QUERY</td>\n",
       "      <td>mattycus</td>\n",
       "      <td>@Kenichan I dived many times for the ball. Man...</td>\n",
       "      <td>14</td>\n",
       "      <td>April</td>\n",
       "      <td>Monday</td>\n",
       "      <td>0.500000</td>\n",
       "    </tr>\n",
       "    <tr>\n",
       "      <th>3</th>\n",
       "      <td>3</td>\n",
       "      <td>1467811184</td>\n",
       "      <td>2009-04-06 22:19:57</td>\n",
       "      <td>NO_QUERY</td>\n",
       "      <td>ElleCTF</td>\n",
       "      <td>my whole body feels itchy and like its on fire</td>\n",
       "      <td>14</td>\n",
       "      <td>April</td>\n",
       "      <td>Monday</td>\n",
       "      <td>0.200000</td>\n",
       "    </tr>\n",
       "    <tr>\n",
       "      <th>4</th>\n",
       "      <td>4</td>\n",
       "      <td>1467811193</td>\n",
       "      <td>2009-04-06 22:19:57</td>\n",
       "      <td>NO_QUERY</td>\n",
       "      <td>Karoli</td>\n",
       "      <td>@nationwideclass no, it's not behaving at all....</td>\n",
       "      <td>14</td>\n",
       "      <td>April</td>\n",
       "      <td>Monday</td>\n",
       "      <td>-0.625000</td>\n",
       "    </tr>\n",
       "  </tbody>\n",
       "</table>\n",
       "</div>"
      ],
      "text/plain": [
       "   index          id                date      flag             user  \\\n",
       "0      0  1467810369 2009-04-06 22:19:45  NO_QUERY  _TheSpecialOne_   \n",
       "1      1  1467810672 2009-04-06 22:19:49  NO_QUERY    scotthamilton   \n",
       "2      2  1467810917 2009-04-06 22:19:53  NO_QUERY         mattycus   \n",
       "3      3  1467811184 2009-04-06 22:19:57  NO_QUERY          ElleCTF   \n",
       "4      4  1467811193 2009-04-06 22:19:57  NO_QUERY           Karoli   \n",
       "\n",
       "                                                text week  month     day  \\\n",
       "0  @switchfoot http://twitpic.com/2y1zl - Awww, t...   14  April  Monday   \n",
       "1  is upset that he can't update his Facebook by ...   14  April  Monday   \n",
       "2  @Kenichan I dived many times for the ball. Man...   14  April  Monday   \n",
       "3    my whole body feels itchy and like its on fire    14  April  Monday   \n",
       "4  @nationwideclass no, it's not behaving at all....   14  April  Monday   \n",
       "\n",
       "   sentiment  \n",
       "0   0.216667  \n",
       "1   0.000000  \n",
       "2   0.500000  \n",
       "3   0.200000  \n",
       "4  -0.625000  "
      ]
     },
     "execution_count": 27,
     "metadata": {},
     "output_type": "execute_result"
    }
   ],
   "source": [
    "df.head()"
   ]
  },
  {
   "cell_type": "code",
   "execution_count": 28,
   "id": "667de7f1",
   "metadata": {},
   "outputs": [],
   "source": [
    "\n",
    "df['label'] = 0\n",
    "\n",
    "df.loc[df['sentiment'] > 0.2, 'label'] = 1\n",
    "df.loc[df['sentiment'] < -0.2, 'label'] = -1\n"
   ]
  },
  {
   "cell_type": "code",
   "execution_count": 29,
   "id": "678bfe3f",
   "metadata": {},
   "outputs": [
    {
     "data": {
      "image/png": "[encoded data removed]",
      "text/plain": [
       "<Figure size 400x400 with 1 Axes>"
      ]
     },
     "metadata": {},
     "output_type": "display_data"
    }
   ],
   "source": [
    "fig, ax = plt.subplots(figsize=(4, 4))\n",
    "\n",
    "counts = df.label.value_counts(normalize=True) * 100\n",
    "\n",
    "sns.barplot(x=counts.index, y=counts, ax=ax)\n",
    "\n",
    "ax.set_xticklabels(['Negative', 'Neutral', 'Positive'])\n",
    "ax.set_ylabel(\"Count\")\n",
    "\n",
    "plt.show()"
   ]
  },
  {
   "cell_type": "code",
   "execution_count": 30,
   "id": "9feecaa0",
   "metadata": {},
   "outputs": [],
   "source": [
    "import nltk\n",
    "from nltk.tokenize import word_tokenize\n",
    "from nltk.corpus import stopwords\n",
    "from nltk.stem import WordNetLemmatizer\n",
    "from sklearn.feature_extraction.text import TfidfVectorizer\n",
    "from sklearn.model_selection import train_test_split\n",
    "from sklearn.naive_bayes import MultinomialNB\n",
    "from sklearn.metrics import accuracy_score\n",
    "\n"
   ]
  },
  {
   "cell_type": "code",
   "execution_count": 31,
   "id": "e20c0129",
   "metadata": {},
   "outputs": [
    {
     "name": "stderr",
     "output_type": "stream",
     "text": [
      "[nltk_data] Downloading package punkt to\n",
      "[nltk_data]     /Users/beatricebuttiglione/nltk_data...\n",
      "[nltk_data]   Package punkt is already up-to-date!\n",
      "[nltk_data] Downloading package stopwords to\n",
      "[nltk_data]     /Users/beatricebuttiglione/nltk_data...\n",
      "[nltk_data]   Package stopwords is already up-to-date!\n",
      "[nltk_data] Downloading package wordnet to\n",
      "[nltk_data]     /Users/beatricebuttiglione/nltk_data...\n",
      "[nltk_data]   Package wordnet is already up-to-date!\n"
     ]
    },
    {
     "data": {
      "text/plain": [
       "True"
      ]
     },
     "execution_count": 31,
     "metadata": {},
     "output_type": "execute_result"
    }
   ],
   "source": [
    "# Tokenization, Stopword Removal, and Lemmatization\n",
    "nltk.download(\"punkt\")\n",
    "nltk.download(\"stopwords\")\n",
    "nltk.download(\"wordnet\")"
   ]
  },
  {
   "cell_type": "code",
   "execution_count": 32,
   "id": "08359f23",
   "metadata": {},
   "outputs": [],
   "source": [
    "\n",
    "lemmatizer = WordNetLemmatizer()\n",
    "stop_words = set(stopwords.words(\"english\"))\n",
    "\n",
    "documents = []\n",
    "labels = []"
   ]
  },
  {
   "cell_type": "code",
   "execution_count": 33,
   "id": "87ec4203",
   "metadata": {},
   "outputs": [],
   "source": [
    "data = df['text']"
   ]
  },
  {
   "cell_type": "code",
   "execution_count": 34,
   "id": "2e39d984",
   "metadata": {},
   "outputs": [
    {
     "data": {
      "text/plain": [
       "pandas.core.series.Series"
      ]
     },
     "execution_count": 34,
     "metadata": {},
     "output_type": "execute_result"
    }
   ],
   "source": [
    "type(data)"
   ]
  },
  {
   "cell_type": "code",
   "execution_count": 35,
   "id": "4a568ec4",
   "metadata": {},
   "outputs": [
    {
     "data": {
      "text/html": [
       "<div>\n",
       "<style scoped>\n",
       "    .dataframe tbody tr th:only-of-type {\n",
       "        vertical-align: middle;\n",
       "    }\n",
       "\n",
       "    .dataframe tbody tr th {\n",
       "        vertical-align: top;\n",
       "    }\n",
       "\n",
       "    .dataframe thead th {\n",
       "        text-align: right;\n",
       "    }\n",
       "</style>\n",
       "<table border=\"1\" class=\"dataframe\">\n",
       "  <thead>\n",
       "    <tr style=\"text-align: right;\">\n",
       "      <th></th>\n",
       "      <th>index</th>\n",
       "      <th>id</th>\n",
       "      <th>date</th>\n",
       "      <th>flag</th>\n",
       "      <th>user</th>\n",
       "      <th>text</th>\n",
       "      <th>week</th>\n",
       "      <th>month</th>\n",
       "      <th>day</th>\n",
       "      <th>neg</th>\n",
       "      <th>neu</th>\n",
       "      <th>pos</th>\n",
       "      <th>compound</th>\n",
       "      <th>label</th>\n",
       "    </tr>\n",
       "  </thead>\n",
       "  <tbody>\n",
       "    <tr>\n",
       "      <th>0</th>\n",
       "      <td>0</td>\n",
       "      <td>1467810369</td>\n",
       "      <td>2009-04-06 22:19:45</td>\n",
       "      <td>NO_QUERY</td>\n",
       "      <td>_TheSpecialOne_</td>\n",
       "      <td>@switchfoot http://twitpic.com/2y1zl - Awww, t...</td>\n",
       "      <td>14</td>\n",
       "      <td>April</td>\n",
       "      <td>Monday</td>\n",
       "      <td>0.129</td>\n",
       "      <td>0.745</td>\n",
       "      <td>0.126</td>\n",
       "      <td>-0.0173</td>\n",
       "      <td>0</td>\n",
       "    </tr>\n",
       "    <tr>\n",
       "      <th>1</th>\n",
       "      <td>1</td>\n",
       "      <td>1467810672</td>\n",
       "      <td>2009-04-06 22:19:49</td>\n",
       "      <td>NO_QUERY</td>\n",
       "      <td>scotthamilton</td>\n",
       "      <td>is upset that he can't update his Facebook by ...</td>\n",
       "      <td>14</td>\n",
       "      <td>April</td>\n",
       "      <td>Monday</td>\n",
       "      <td>0.303</td>\n",
       "      <td>0.697</td>\n",
       "      <td>0.000</td>\n",
       "      <td>-0.7500</td>\n",
       "      <td>-1</td>\n",
       "    </tr>\n",
       "    <tr>\n",
       "      <th>2</th>\n",
       "      <td>2</td>\n",
       "      <td>1467810917</td>\n",
       "      <td>2009-04-06 22:19:53</td>\n",
       "      <td>NO_QUERY</td>\n",
       "      <td>mattycus</td>\n",
       "      <td>@Kenichan I dived many times for the ball. Man...</td>\n",
       "      <td>14</td>\n",
       "      <td>April</td>\n",
       "      <td>Monday</td>\n",
       "      <td>0.000</td>\n",
       "      <td>0.833</td>\n",
       "      <td>0.167</td>\n",
       "      <td>0.4939</td>\n",
       "      <td>1</td>\n",
       "    </tr>\n",
       "    <tr>\n",
       "      <th>3</th>\n",
       "      <td>3</td>\n",
       "      <td>1467811184</td>\n",
       "      <td>2009-04-06 22:19:57</td>\n",
       "      <td>NO_QUERY</td>\n",
       "      <td>ElleCTF</td>\n",
       "      <td>my whole body feels itchy and like its on fire</td>\n",
       "      <td>14</td>\n",
       "      <td>April</td>\n",
       "      <td>Monday</td>\n",
       "      <td>0.321</td>\n",
       "      <td>0.500</td>\n",
       "      <td>0.179</td>\n",
       "      <td>-0.2500</td>\n",
       "      <td>-1</td>\n",
       "    </tr>\n",
       "    <tr>\n",
       "      <th>4</th>\n",
       "      <td>4</td>\n",
       "      <td>1467811193</td>\n",
       "      <td>2009-04-06 22:19:57</td>\n",
       "      <td>NO_QUERY</td>\n",
       "      <td>Karoli</td>\n",
       "      <td>@nationwideclass no, it's not behaving at all....</td>\n",
       "      <td>14</td>\n",
       "      <td>April</td>\n",
       "      <td>Monday</td>\n",
       "      <td>0.241</td>\n",
       "      <td>0.759</td>\n",
       "      <td>0.000</td>\n",
       "      <td>-0.6597</td>\n",
       "      <td>-1</td>\n",
       "    </tr>\n",
       "  </tbody>\n",
       "</table>\n",
       "</div>"
      ],
      "text/plain": [
       "   index          id                date      flag             user  \\\n",
       "0      0  1467810369 2009-04-06 22:19:45  NO_QUERY  _TheSpecialOne_   \n",
       "1      1  1467810672 2009-04-06 22:19:49  NO_QUERY    scotthamilton   \n",
       "2      2  1467810917 2009-04-06 22:19:53  NO_QUERY         mattycus   \n",
       "3      3  1467811184 2009-04-06 22:19:57  NO_QUERY          ElleCTF   \n",
       "4      4  1467811193 2009-04-06 22:19:57  NO_QUERY           Karoli   \n",
       "\n",
       "                                                text week  month     day  \\\n",
       "0  @switchfoot http://twitpic.com/2y1zl - Awww, t...   14  April  Monday   \n",
       "1  is upset that he can't update his Facebook by ...   14  April  Monday   \n",
       "2  @Kenichan I dived many times for the ball. Man...   14  April  Monday   \n",
       "3    my whole body feels itchy and like its on fire    14  April  Monday   \n",
       "4  @nationwideclass no, it's not behaving at all....   14  April  Monday   \n",
       "\n",
       "     neg    neu    pos  compound  label  \n",
       "0  0.129  0.745  0.126   -0.0173      0  \n",
       "1  0.303  0.697  0.000   -0.7500     -1  \n",
       "2  0.000  0.833  0.167    0.4939      1  \n",
       "3  0.321  0.500  0.179   -0.2500     -1  \n",
       "4  0.241  0.759  0.000   -0.6597     -1  "
      ]
     },
     "execution_count": 35,
     "metadata": {},
     "output_type": "execute_result"
    }
   ],
   "source": [
    "merged_df.head()"
   ]
  },
  {
   "cell_type": "code",
   "execution_count": 36,
   "id": "80e04cf1",
   "metadata": {},
   "outputs": [],
   "source": [
    "merged_df['date'] = pd.to_datetime(merged_df['date'])"
   ]
  },
  {
   "cell_type": "code",
   "execution_count": 37,
   "id": "f4ea78e2",
   "metadata": {},
   "outputs": [],
   "source": [
    "merged_df['solo_data'] = merged_df['date'].dt.date"
   ]
  },
  {
   "cell_type": "code",
   "execution_count": 307,
   "id": "afc66583",
   "metadata": {},
   "outputs": [],
   "source": [
    "grouped_df_cat= merged_df.groupby('solo_data')['label'].apply(lambda x: x.mode().iloc[0]).reset_index()\n"
   ]
  },
  {
   "cell_type": "code",
   "execution_count": 137,
   "id": "77f3bcc4",
   "metadata": {},
   "outputs": [],
   "source": [
    "grouped_df = merged_df.groupby('solo_data')['compound'].mean().reset_index()\n"
   ]
  },
  {
   "cell_type": "code",
   "execution_count": 308,
   "id": "8444ab25",
   "metadata": {},
   "outputs": [
    {
     "data": {
      "text/html": [
       "<div>\n",
       "<style scoped>\n",
       "    .dataframe tbody tr th:only-of-type {\n",
       "        vertical-align: middle;\n",
       "    }\n",
       "\n",
       "    .dataframe tbody tr th {\n",
       "        vertical-align: top;\n",
       "    }\n",
       "\n",
       "    .dataframe thead th {\n",
       "        text-align: right;\n",
       "    }\n",
       "</style>\n",
       "<table border=\"1\" class=\"dataframe\">\n",
       "  <thead>\n",
       "    <tr style=\"text-align: right;\">\n",
       "      <th></th>\n",
       "      <th>solo_data</th>\n",
       "      <th>label</th>\n",
       "    </tr>\n",
       "  </thead>\n",
       "  <tbody>\n",
       "    <tr>\n",
       "      <th>0</th>\n",
       "      <td>2009-04-06</td>\n",
       "      <td>0</td>\n",
       "    </tr>\n",
       "    <tr>\n",
       "      <th>1</th>\n",
       "      <td>2009-04-07</td>\n",
       "      <td>1</td>\n",
       "    </tr>\n",
       "    <tr>\n",
       "      <th>2</th>\n",
       "      <td>2009-04-17</td>\n",
       "      <td>1</td>\n",
       "    </tr>\n",
       "    <tr>\n",
       "      <th>3</th>\n",
       "      <td>2009-04-18</td>\n",
       "      <td>1</td>\n",
       "    </tr>\n",
       "    <tr>\n",
       "      <th>4</th>\n",
       "      <td>2009-04-19</td>\n",
       "      <td>1</td>\n",
       "    </tr>\n",
       "  </tbody>\n",
       "</table>\n",
       "</div>"
      ],
      "text/plain": [
       "    solo_data  label\n",
       "0  2009-04-06      0\n",
       "1  2009-04-07      1\n",
       "2  2009-04-17      1\n",
       "3  2009-04-18      1\n",
       "4  2009-04-19      1"
      ]
     },
     "execution_count": 308,
     "metadata": {},
     "output_type": "execute_result"
    }
   ],
   "source": [
    "grouped_df_cat.head()"
   ]
  },
  {
   "cell_type": "code",
   "execution_count": 310,
   "id": "325620ca",
   "metadata": {},
   "outputs": [
    {
     "data": {
      "text/plain": [
       "<Figure size 1000x600 with 0 Axes>"
      ]
     },
     "execution_count": 310,
     "metadata": {},
     "output_type": "execute_result"
    },
    {
     "data": {
      "text/plain": [
       "<Figure size 1000x600 with 0 Axes>"
      ]
     },
     "metadata": {},
     "output_type": "display_data"
    }
   ],
   "source": [
    "plt.figure(figsize=(10, 6))  # chart\n"
   ]
  },
  {
   "cell_type": "code",
   "execution_count": 312,
   "id": "46d0c179",
   "metadata": {},
   "outputs": [
    {
     "data": {
      "image/png": "[encoded data removed]",
      "text/plain": [
       "<Figure size 640x480 with 1 Axes>"
      ]
     },
     "metadata": {},
     "output_type": "display_data"
    }
   ],
   "source": [
    "plt.plot(grouped_df_cat['solo_data'], grouped_df_cat['label'])  \n",
    "plt.title('Time series average sentiment')  \n",
    "plt.xlabel('Date')  \n",
    "plt.ylabel('average sentiment value')  \n",
    "plt.grid(True)  \n",
    "plt.show()  "
   ]
  },
  {
   "cell_type": "code",
   "execution_count": 314,
   "id": "4e141255",
   "metadata": {},
   "outputs": [
    {
     "data": {
      "image/png": "[encoded data removed]",
      "text/plain": [
       "<Figure size 640x480 with 1 Axes>"
      ]
     },
     "metadata": {},
     "output_type": "display_data"
    }
   ],
   "source": [
    "plt.plot(grouped_df['solo_data'], grouped_df['compound'])  \n",
    "plt.title('Time series average sentiment')  \n",
    "plt.xlabel('Date')  \n",
    "plt.ylabel('average sentiment value')  \n",
    "plt.grid(True)  \n",
    "plt.show()  "
   ]
  },
  {
   "cell_type": "code",
   "execution_count": 139,
   "id": "c79be856",
   "metadata": {},
   "outputs": [
    {
     "name": "stdout",
     "output_type": "stream",
     "text": [
      "time series is stationary (Ho rejected)\n",
      "ADF Statistic: -3.311272074021021\n",
      "Critical Values: {'1%': -3.5778480370438146, '5%': -2.925338105429433, '10%': -2.6007735310095064}\n"
     ]
    }
   ],
   "source": [
    "from statsmodels.tsa.stattools import adfuller\n",
    "\n",
    "\n",
    "\n",
    "# test ADF\n",
    "result = adfuller(grouped_df['compound'])\n",
    "\n",
    "adf_statistic = result[0]\n",
    "p_value = result[1]\n",
    "critical_values = result[4]\n",
    "\n",
    "\n",
    "if p_value < 0.05:\n",
    "    print(\"time series is stationary (Ho rejected)\")\n",
    "else:\n",
    "    print(\"time series is not stationary (H1 accepted)\")\n",
    "\n",
    "\n",
    "print(f'ADF Statistic: {adf_statistic}')\n",
    "print(f'Critical Values: {critical_values}')\n"
   ]
  },
  {
   "cell_type": "code",
   "execution_count": 140,
   "id": "686e04ac",
   "metadata": {},
   "outputs": [
    {
     "name": "stdout",
     "output_type": "stream",
     "text": [
      "<class 'pandas.core.frame.DataFrame'>\n",
      "RangeIndex: 48 entries, 0 to 47\n",
      "Data columns (total 2 columns):\n",
      " #   Column     Non-Null Count  Dtype  \n",
      "---  ------     --------------  -----  \n",
      " 0   solo_data  48 non-null     object \n",
      " 1   compound   48 non-null     float64\n",
      "dtypes: float64(1), object(1)\n",
      "memory usage: 896.0+ bytes\n"
     ]
    }
   ],
   "source": [
    "grouped_df.info()"
   ]
  },
  {
   "cell_type": "code",
   "execution_count": 141,
   "id": "cc3ad9ef",
   "metadata": {},
   "outputs": [],
   "source": [
    "grouped_df = grouped_df.drop(range(7))"
   ]
  },
  {
   "cell_type": "code",
   "execution_count": 142,
   "id": "cc81af27",
   "metadata": {},
   "outputs": [
    {
     "data": {
      "text/html": [
       "<div>\n",
       "<style scoped>\n",
       "    .dataframe tbody tr th:only-of-type {\n",
       "        vertical-align: middle;\n",
       "    }\n",
       "\n",
       "    .dataframe tbody tr th {\n",
       "        vertical-align: top;\n",
       "    }\n",
       "\n",
       "    .dataframe thead th {\n",
       "        text-align: right;\n",
       "    }\n",
       "</style>\n",
       "<table border=\"1\" class=\"dataframe\">\n",
       "  <thead>\n",
       "    <tr style=\"text-align: right;\">\n",
       "      <th></th>\n",
       "      <th>solo_data</th>\n",
       "      <th>compound</th>\n",
       "    </tr>\n",
       "  </thead>\n",
       "  <tbody>\n",
       "    <tr>\n",
       "      <th>7</th>\n",
       "      <td>2009-05-01</td>\n",
       "      <td>0.180038</td>\n",
       "    </tr>\n",
       "    <tr>\n",
       "      <th>8</th>\n",
       "      <td>2009-05-02</td>\n",
       "      <td>0.169917</td>\n",
       "    </tr>\n",
       "    <tr>\n",
       "      <th>9</th>\n",
       "      <td>2009-05-03</td>\n",
       "      <td>0.173946</td>\n",
       "    </tr>\n",
       "    <tr>\n",
       "      <th>10</th>\n",
       "      <td>2009-05-04</td>\n",
       "      <td>0.160835</td>\n",
       "    </tr>\n",
       "    <tr>\n",
       "      <th>11</th>\n",
       "      <td>2009-05-09</td>\n",
       "      <td>0.186334</td>\n",
       "    </tr>\n",
       "    <tr>\n",
       "      <th>12</th>\n",
       "      <td>2009-05-10</td>\n",
       "      <td>0.230544</td>\n",
       "    </tr>\n",
       "    <tr>\n",
       "      <th>13</th>\n",
       "      <td>2009-05-11</td>\n",
       "      <td>0.153647</td>\n",
       "    </tr>\n",
       "    <tr>\n",
       "      <th>14</th>\n",
       "      <td>2009-05-13</td>\n",
       "      <td>0.133649</td>\n",
       "    </tr>\n",
       "    <tr>\n",
       "      <th>15</th>\n",
       "      <td>2009-05-14</td>\n",
       "      <td>0.037866</td>\n",
       "    </tr>\n",
       "    <tr>\n",
       "      <th>16</th>\n",
       "      <td>2009-05-16</td>\n",
       "      <td>0.176022</td>\n",
       "    </tr>\n",
       "    <tr>\n",
       "      <th>17</th>\n",
       "      <td>2009-05-17</td>\n",
       "      <td>0.220569</td>\n",
       "    </tr>\n",
       "    <tr>\n",
       "      <th>18</th>\n",
       "      <td>2009-05-18</td>\n",
       "      <td>0.195339</td>\n",
       "    </tr>\n",
       "    <tr>\n",
       "      <th>19</th>\n",
       "      <td>2009-05-21</td>\n",
       "      <td>-0.240745</td>\n",
       "    </tr>\n",
       "    <tr>\n",
       "      <th>20</th>\n",
       "      <td>2009-05-22</td>\n",
       "      <td>0.119760</td>\n",
       "    </tr>\n",
       "    <tr>\n",
       "      <th>21</th>\n",
       "      <td>2009-05-23</td>\n",
       "      <td>0.188302</td>\n",
       "    </tr>\n",
       "    <tr>\n",
       "      <th>22</th>\n",
       "      <td>2009-05-25</td>\n",
       "      <td>0.178022</td>\n",
       "    </tr>\n",
       "    <tr>\n",
       "      <th>23</th>\n",
       "      <td>2009-05-26</td>\n",
       "      <td>0.157726</td>\n",
       "    </tr>\n",
       "    <tr>\n",
       "      <th>24</th>\n",
       "      <td>2009-05-27</td>\n",
       "      <td>0.106034</td>\n",
       "    </tr>\n",
       "    <tr>\n",
       "      <th>25</th>\n",
       "      <td>2009-05-28</td>\n",
       "      <td>0.173987</td>\n",
       "    </tr>\n",
       "    <tr>\n",
       "      <th>26</th>\n",
       "      <td>2009-05-29</td>\n",
       "      <td>0.168727</td>\n",
       "    </tr>\n",
       "    <tr>\n",
       "      <th>27</th>\n",
       "      <td>2009-05-30</td>\n",
       "      <td>0.180456</td>\n",
       "    </tr>\n",
       "    <tr>\n",
       "      <th>28</th>\n",
       "      <td>2009-05-31</td>\n",
       "      <td>0.168583</td>\n",
       "    </tr>\n",
       "    <tr>\n",
       "      <th>29</th>\n",
       "      <td>2009-06-01</td>\n",
       "      <td>0.066675</td>\n",
       "    </tr>\n",
       "    <tr>\n",
       "      <th>30</th>\n",
       "      <td>2009-06-02</td>\n",
       "      <td>0.157792</td>\n",
       "    </tr>\n",
       "    <tr>\n",
       "      <th>31</th>\n",
       "      <td>2009-06-03</td>\n",
       "      <td>0.007059</td>\n",
       "    </tr>\n",
       "    <tr>\n",
       "      <th>32</th>\n",
       "      <td>2009-06-04</td>\n",
       "      <td>0.112726</td>\n",
       "    </tr>\n",
       "    <tr>\n",
       "      <th>33</th>\n",
       "      <td>2009-06-05</td>\n",
       "      <td>0.155220</td>\n",
       "    </tr>\n",
       "    <tr>\n",
       "      <th>34</th>\n",
       "      <td>2009-06-06</td>\n",
       "      <td>0.168281</td>\n",
       "    </tr>\n",
       "    <tr>\n",
       "      <th>35</th>\n",
       "      <td>2009-06-07</td>\n",
       "      <td>0.170286</td>\n",
       "    </tr>\n",
       "    <tr>\n",
       "      <th>36</th>\n",
       "      <td>2009-06-14</td>\n",
       "      <td>0.156662</td>\n",
       "    </tr>\n",
       "    <tr>\n",
       "      <th>37</th>\n",
       "      <td>2009-06-15</td>\n",
       "      <td>0.143202</td>\n",
       "    </tr>\n",
       "    <tr>\n",
       "      <th>38</th>\n",
       "      <td>2009-06-16</td>\n",
       "      <td>0.069586</td>\n",
       "    </tr>\n",
       "    <tr>\n",
       "      <th>39</th>\n",
       "      <td>2009-06-17</td>\n",
       "      <td>-0.078922</td>\n",
       "    </tr>\n",
       "    <tr>\n",
       "      <th>40</th>\n",
       "      <td>2009-06-18</td>\n",
       "      <td>-0.092630</td>\n",
       "    </tr>\n",
       "    <tr>\n",
       "      <th>41</th>\n",
       "      <td>2009-06-19</td>\n",
       "      <td>-0.076426</td>\n",
       "    </tr>\n",
       "    <tr>\n",
       "      <th>42</th>\n",
       "      <td>2009-06-20</td>\n",
       "      <td>-0.060388</td>\n",
       "    </tr>\n",
       "    <tr>\n",
       "      <th>43</th>\n",
       "      <td>2009-06-21</td>\n",
       "      <td>-0.045583</td>\n",
       "    </tr>\n",
       "    <tr>\n",
       "      <th>44</th>\n",
       "      <td>2009-06-22</td>\n",
       "      <td>-0.091398</td>\n",
       "    </tr>\n",
       "    <tr>\n",
       "      <th>45</th>\n",
       "      <td>2009-06-23</td>\n",
       "      <td>-0.060356</td>\n",
       "    </tr>\n",
       "    <tr>\n",
       "      <th>46</th>\n",
       "      <td>2009-06-24</td>\n",
       "      <td>-0.042929</td>\n",
       "    </tr>\n",
       "    <tr>\n",
       "      <th>47</th>\n",
       "      <td>2009-06-25</td>\n",
       "      <td>-0.058005</td>\n",
       "    </tr>\n",
       "  </tbody>\n",
       "</table>\n",
       "</div>"
      ],
      "text/plain": [
       "     solo_data  compound\n",
       "7   2009-05-01  0.180038\n",
       "8   2009-05-02  0.169917\n",
       "9   2009-05-03  0.173946\n",
       "10  2009-05-04  0.160835\n",
       "11  2009-05-09  0.186334\n",
       "12  2009-05-10  0.230544\n",
       "13  2009-05-11  0.153647\n",
       "14  2009-05-13  0.133649\n",
       "15  2009-05-14  0.037866\n",
       "16  2009-05-16  0.176022\n",
       "17  2009-05-17  0.220569\n",
       "18  2009-05-18  0.195339\n",
       "19  2009-05-21 -0.240745\n",
       "20  2009-05-22  0.119760\n",
       "21  2009-05-23  0.188302\n",
       "22  2009-05-25  0.178022\n",
       "23  2009-05-26  0.157726\n",
       "24  2009-05-27  0.106034\n",
       "25  2009-05-28  0.173987\n",
       "26  2009-05-29  0.168727\n",
       "27  2009-05-30  0.180456\n",
       "28  2009-05-31  0.168583\n",
       "29  2009-06-01  0.066675\n",
       "30  2009-06-02  0.157792\n",
       "31  2009-06-03  0.007059\n",
       "32  2009-06-04  0.112726\n",
       "33  2009-06-05  0.155220\n",
       "34  2009-06-06  0.168281\n",
       "35  2009-06-07  0.170286\n",
       "36  2009-06-14  0.156662\n",
       "37  2009-06-15  0.143202\n",
       "38  2009-06-16  0.069586\n",
       "39  2009-06-17 -0.078922\n",
       "40  2009-06-18 -0.092630\n",
       "41  2009-06-19 -0.076426\n",
       "42  2009-06-20 -0.060388\n",
       "43  2009-06-21 -0.045583\n",
       "44  2009-06-22 -0.091398\n",
       "45  2009-06-23 -0.060356\n",
       "46  2009-06-24 -0.042929\n",
       "47  2009-06-25 -0.058005"
      ]
     },
     "execution_count": 142,
     "metadata": {},
     "output_type": "execute_result"
    }
   ],
   "source": [
    "grouped_df"
   ]
  },
  {
   "cell_type": "code",
   "execution_count": 143,
   "id": "e2960315",
   "metadata": {},
   "outputs": [],
   "source": [
    "grouped_df['solo_data'] = pd.to_datetime(grouped_df['solo_data']) # get day of week\n",
    "grouped_df['giorno_settimana'] = grouped_df['solo_data'].dt.day_name()\n"
   ]
  },
  {
   "cell_type": "code",
   "execution_count": 144,
   "id": "e5a9ee3d",
   "metadata": {},
   "outputs": [],
   "source": [
    "test_set_start_index = len(grouped_df) - 10\n",
    "\n",
    "# split dataset into training and test set\n",
    "train_set = grouped_df.iloc[:test_set_start_index]\n",
    "test_set = grouped_df.iloc[test_set_start_index:]"
   ]
  },
  {
   "cell_type": "code",
   "execution_count": 145,
   "id": "d42d63e2",
   "metadata": {},
   "outputs": [
    {
     "name": "stdout",
     "output_type": "stream",
     "text": [
      "<class 'pandas.core.frame.DataFrame'>\n",
      "RangeIndex: 10 entries, 38 to 47\n",
      "Data columns (total 3 columns):\n",
      " #   Column            Non-Null Count  Dtype         \n",
      "---  ------            --------------  -----         \n",
      " 0   solo_data         10 non-null     datetime64[ns]\n",
      " 1   compound          10 non-null     float64       \n",
      " 2   giorno_settimana  10 non-null     object        \n",
      "dtypes: datetime64[ns](1), float64(1), object(1)\n",
      "memory usage: 372.0+ bytes\n"
     ]
    }
   ],
   "source": [
    "test_set.info()"
   ]
  },
  {
   "cell_type": "code",
   "execution_count": 146,
   "id": "0e856789",
   "metadata": {},
   "outputs": [
    {
     "data": {
      "text/html": [
       "<div>\n",
       "<style scoped>\n",
       "    .dataframe tbody tr th:only-of-type {\n",
       "        vertical-align: middle;\n",
       "    }\n",
       "\n",
       "    .dataframe tbody tr th {\n",
       "        vertical-align: top;\n",
       "    }\n",
       "\n",
       "    .dataframe thead th {\n",
       "        text-align: right;\n",
       "    }\n",
       "</style>\n",
       "<table border=\"1\" class=\"dataframe\">\n",
       "  <thead>\n",
       "    <tr style=\"text-align: right;\">\n",
       "      <th></th>\n",
       "      <th>solo_data</th>\n",
       "      <th>compound</th>\n",
       "      <th>giorno_settimana</th>\n",
       "    </tr>\n",
       "  </thead>\n",
       "  <tbody>\n",
       "    <tr>\n",
       "      <th>7</th>\n",
       "      <td>2009-05-01</td>\n",
       "      <td>0.180038</td>\n",
       "      <td>Friday</td>\n",
       "    </tr>\n",
       "    <tr>\n",
       "      <th>8</th>\n",
       "      <td>2009-05-02</td>\n",
       "      <td>0.169917</td>\n",
       "      <td>Saturday</td>\n",
       "    </tr>\n",
       "  </tbody>\n",
       "</table>\n",
       "</div>"
      ],
      "text/plain": [
       "   solo_data  compound giorno_settimana\n",
       "7 2009-05-01  0.180038           Friday\n",
       "8 2009-05-02  0.169917         Saturday"
      ]
     },
     "execution_count": 146,
     "metadata": {},
     "output_type": "execute_result"
    }
   ],
   "source": [
    "train_set.head(2)"
   ]
  },
  {
   "cell_type": "code",
   "execution_count": 147,
   "id": "22307106",
   "metadata": {},
   "outputs": [],
   "source": [
    "import numpy as np\n",
    "import matplotlib.pyplot as plt\n",
    "import statsmodels.api as sm"
   ]
  },
  {
   "cell_type": "code",
   "execution_count": 148,
   "id": "036aa224",
   "metadata": {},
   "outputs": [
    {
     "name": "stdout",
     "output_type": "stream",
     "text": [
      "float64\n"
     ]
    }
   ],
   "source": [
    "print(grouped_df['compound'].dtype)\n"
   ]
  },
  {
   "cell_type": "code",
   "execution_count": 149,
   "id": "47dadf0c",
   "metadata": {},
   "outputs": [],
   "source": [
    "import numpy as np\n",
    "from scipy.interpolate import CubicSpline\n"
   ]
  },
  {
   "cell_type": "code",
   "execution_count": 150,
   "id": "44f738ee",
   "metadata": {},
   "outputs": [],
   "source": [
    "dates = np.array(grouped_df['solo_data'])  \n"
   ]
  },
  {
   "cell_type": "code",
   "execution_count": 151,
   "id": "533e005c",
   "metadata": {},
   "outputs": [],
   "source": [
    "values = np.array(grouped_df['compound'])  "
   ]
  },
  {
   "cell_type": "code",
   "execution_count": 152,
   "id": "6f5b61b5",
   "metadata": {},
   "outputs": [],
   "source": [
    "numeric_dates = np.arange(len(dates))\n"
   ]
  },
  {
   "cell_type": "code",
   "execution_count": 153,
   "id": "de5c347b",
   "metadata": {},
   "outputs": [],
   "source": [
    "cubic_interp = CubicSpline(numeric_dates, values)\n"
   ]
  },
  {
   "cell_type": "code",
   "execution_count": 154,
   "id": "a14e134d",
   "metadata": {},
   "outputs": [],
   "source": [
    "date_min = min(grouped_df['solo_data'])\n",
    "date_max = max(grouped_df['solo_data'])"
   ]
  },
  {
   "cell_type": "code",
   "execution_count": 155,
   "id": "f697a73e",
   "metadata": {},
   "outputs": [],
   "source": [
    "list_dates = grouped_df['solo_data'].tolist()"
   ]
  },
  {
   "cell_type": "code",
   "execution_count": 156,
   "id": "837f28a1",
   "metadata": {},
   "outputs": [
    {
     "name": "stdout",
     "output_type": "stream",
     "text": [
      "[Timestamp('2009-05-01 00:00:00'), Timestamp('2009-05-02 00:00:00'), Timestamp('2009-05-03 00:00:00'), Timestamp('2009-05-04 00:00:00'), Timestamp('2009-05-05 00:00:00'), Timestamp('2009-05-06 00:00:00'), Timestamp('2009-05-07 00:00:00'), Timestamp('2009-05-08 00:00:00'), Timestamp('2009-05-09 00:00:00'), Timestamp('2009-05-10 00:00:00'), Timestamp('2009-05-11 00:00:00'), Timestamp('2009-05-12 00:00:00'), Timestamp('2009-05-13 00:00:00'), Timestamp('2009-05-14 00:00:00'), Timestamp('2009-05-15 00:00:00'), Timestamp('2009-05-16 00:00:00'), Timestamp('2009-05-17 00:00:00'), Timestamp('2009-05-18 00:00:00'), Timestamp('2009-05-19 00:00:00'), Timestamp('2009-05-20 00:00:00'), Timestamp('2009-05-21 00:00:00'), Timestamp('2009-05-22 00:00:00'), Timestamp('2009-05-23 00:00:00'), Timestamp('2009-05-24 00:00:00'), Timestamp('2009-05-25 00:00:00'), Timestamp('2009-05-26 00:00:00'), Timestamp('2009-05-27 00:00:00'), Timestamp('2009-05-28 00:00:00'), Timestamp('2009-05-29 00:00:00'), Timestamp('2009-05-30 00:00:00'), Timestamp('2009-05-31 00:00:00'), Timestamp('2009-06-01 00:00:00'), Timestamp('2009-06-02 00:00:00'), Timestamp('2009-06-03 00:00:00'), Timestamp('2009-06-04 00:00:00'), Timestamp('2009-06-05 00:00:00'), Timestamp('2009-06-06 00:00:00'), Timestamp('2009-06-07 00:00:00'), Timestamp('2009-06-08 00:00:00'), Timestamp('2009-06-09 00:00:00'), Timestamp('2009-06-10 00:00:00'), Timestamp('2009-06-11 00:00:00'), Timestamp('2009-06-12 00:00:00'), Timestamp('2009-06-13 00:00:00'), Timestamp('2009-06-14 00:00:00'), Timestamp('2009-06-15 00:00:00'), Timestamp('2009-06-16 00:00:00'), Timestamp('2009-06-17 00:00:00'), Timestamp('2009-06-18 00:00:00'), Timestamp('2009-06-19 00:00:00'), Timestamp('2009-06-20 00:00:00'), Timestamp('2009-06-21 00:00:00'), Timestamp('2009-06-22 00:00:00'), Timestamp('2009-06-23 00:00:00'), Timestamp('2009-06-24 00:00:00'), Timestamp('2009-06-25 00:00:00')]\n"
     ]
    }
   ],
   "source": [
    "from datetime import datetime, timedelta\n",
    "\n",
    "delta = date_max - date_min\n",
    "\n",
    "# Crea una lista di date nel periodo\n",
    "date_list = [date_min + timedelta(days=i) for i in range(delta.days + 1)]\n",
    "\n",
    "# Stampa la lista di date\n",
    "print(date_list)\n"
   ]
  },
  {
   "cell_type": "code",
   "execution_count": 157,
   "id": "aa02fa7f",
   "metadata": {},
   "outputs": [
    {
     "data": {
      "text/plain": [
       "[Timestamp('2009-05-01 00:00:00'),\n",
       " Timestamp('2009-05-02 00:00:00'),\n",
       " Timestamp('2009-05-03 00:00:00'),\n",
       " Timestamp('2009-05-04 00:00:00'),\n",
       " Timestamp('2009-05-09 00:00:00'),\n",
       " Timestamp('2009-05-10 00:00:00'),\n",
       " Timestamp('2009-05-11 00:00:00'),\n",
       " Timestamp('2009-05-13 00:00:00'),\n",
       " Timestamp('2009-05-14 00:00:00'),\n",
       " Timestamp('2009-05-16 00:00:00'),\n",
       " Timestamp('2009-05-17 00:00:00'),\n",
       " Timestamp('2009-05-18 00:00:00'),\n",
       " Timestamp('2009-05-21 00:00:00'),\n",
       " Timestamp('2009-05-22 00:00:00'),\n",
       " Timestamp('2009-05-23 00:00:00'),\n",
       " Timestamp('2009-05-25 00:00:00'),\n",
       " Timestamp('2009-05-26 00:00:00'),\n",
       " Timestamp('2009-05-27 00:00:00'),\n",
       " Timestamp('2009-05-28 00:00:00'),\n",
       " Timestamp('2009-05-29 00:00:00'),\n",
       " Timestamp('2009-05-30 00:00:00'),\n",
       " Timestamp('2009-05-31 00:00:00'),\n",
       " Timestamp('2009-06-01 00:00:00'),\n",
       " Timestamp('2009-06-02 00:00:00'),\n",
       " Timestamp('2009-06-03 00:00:00'),\n",
       " Timestamp('2009-06-04 00:00:00'),\n",
       " Timestamp('2009-06-05 00:00:00'),\n",
       " Timestamp('2009-06-06 00:00:00'),\n",
       " Timestamp('2009-06-07 00:00:00'),\n",
       " Timestamp('2009-06-14 00:00:00'),\n",
       " Timestamp('2009-06-15 00:00:00'),\n",
       " Timestamp('2009-06-16 00:00:00'),\n",
       " Timestamp('2009-06-17 00:00:00'),\n",
       " Timestamp('2009-06-18 00:00:00'),\n",
       " Timestamp('2009-06-19 00:00:00'),\n",
       " Timestamp('2009-06-20 00:00:00'),\n",
       " Timestamp('2009-06-21 00:00:00'),\n",
       " Timestamp('2009-06-22 00:00:00'),\n",
       " Timestamp('2009-06-23 00:00:00'),\n",
       " Timestamp('2009-06-24 00:00:00'),\n",
       " Timestamp('2009-06-25 00:00:00')]"
      ]
     },
     "execution_count": 157,
     "metadata": {},
     "output_type": "execute_result"
    }
   ],
   "source": [
    "list_dates"
   ]
  },
  {
   "cell_type": "code",
   "execution_count": 158,
   "id": "0f634b9e",
   "metadata": {},
   "outputs": [
    {
     "name": "stdout",
     "output_type": "stream",
     "text": [
      "[Timestamp('2009-05-20 00:00:00'), Timestamp('2009-06-09 00:00:00'), Timestamp('2009-05-08 00:00:00'), Timestamp('2009-06-11 00:00:00'), Timestamp('2009-05-07 00:00:00'), Timestamp('2009-06-10 00:00:00'), Timestamp('2009-06-13 00:00:00'), Timestamp('2009-05-24 00:00:00'), Timestamp('2009-05-12 00:00:00'), Timestamp('2009-06-12 00:00:00'), Timestamp('2009-05-06 00:00:00'), Timestamp('2009-05-05 00:00:00'), Timestamp('2009-05-15 00:00:00'), Timestamp('2009-06-08 00:00:00'), Timestamp('2009-05-19 00:00:00')]\n"
     ]
    }
   ],
   "source": [
    "valori_mancanti = list(set(date_list) - set(list_dates))\n",
    "\n",
    "print(valori_mancanti)"
   ]
  },
  {
   "cell_type": "code",
   "execution_count": 212,
   "id": "033e7d26",
   "metadata": {},
   "outputs": [],
   "source": [
    "df5 = pd.DataFrame({'solo_data': valori_mancanti})\n"
   ]
  },
  {
   "cell_type": "code",
   "execution_count": 213,
   "id": "439db581",
   "metadata": {},
   "outputs": [],
   "source": [
    "df5['compound']= ' '"
   ]
  },
  {
   "cell_type": "code",
   "execution_count": 214,
   "id": "2459343d",
   "metadata": {},
   "outputs": [
    {
     "name": "stdout",
     "output_type": "stream",
     "text": [
      "<class 'pandas.core.frame.DataFrame'>\n",
      "RangeIndex: 15 entries, 0 to 14\n",
      "Data columns (total 2 columns):\n",
      " #   Column     Non-Null Count  Dtype         \n",
      "---  ------     --------------  -----         \n",
      " 0   solo_data  15 non-null     datetime64[ns]\n",
      " 1   compound   15 non-null     object        \n",
      "dtypes: datetime64[ns](1), object(1)\n",
      "memory usage: 368.0+ bytes\n"
     ]
    }
   ],
   "source": [
    "df5.info()"
   ]
  },
  {
   "cell_type": "code",
   "execution_count": 215,
   "id": "ad67829b",
   "metadata": {},
   "outputs": [],
   "source": [
    "df5['solo_data'] = pd.to_datetime(df5['solo_data'])"
   ]
  },
  {
   "cell_type": "code",
   "execution_count": 216,
   "id": "940210ab",
   "metadata": {},
   "outputs": [],
   "source": [
    "df5 = df5.sort_values(by='solo_data')"
   ]
  },
  {
   "cell_type": "code",
   "execution_count": 217,
   "id": "edcf7e92",
   "metadata": {},
   "outputs": [
    {
     "data": {
      "text/html": [
       "<div>\n",
       "<style scoped>\n",
       "    .dataframe tbody tr th:only-of-type {\n",
       "        vertical-align: middle;\n",
       "    }\n",
       "\n",
       "    .dataframe tbody tr th {\n",
       "        vertical-align: top;\n",
       "    }\n",
       "\n",
       "    .dataframe thead th {\n",
       "        text-align: right;\n",
       "    }\n",
       "</style>\n",
       "<table border=\"1\" class=\"dataframe\">\n",
       "  <thead>\n",
       "    <tr style=\"text-align: right;\">\n",
       "      <th></th>\n",
       "      <th>solo_data</th>\n",
       "      <th>compound</th>\n",
       "      <th>giorno_settimana</th>\n",
       "    </tr>\n",
       "  </thead>\n",
       "  <tbody>\n",
       "    <tr>\n",
       "      <th>7</th>\n",
       "      <td>2009-05-01</td>\n",
       "      <td>0.180038</td>\n",
       "      <td>Friday</td>\n",
       "    </tr>\n",
       "    <tr>\n",
       "      <th>8</th>\n",
       "      <td>2009-05-02</td>\n",
       "      <td>0.169917</td>\n",
       "      <td>Saturday</td>\n",
       "    </tr>\n",
       "    <tr>\n",
       "      <th>9</th>\n",
       "      <td>2009-05-03</td>\n",
       "      <td>0.173946</td>\n",
       "      <td>Sunday</td>\n",
       "    </tr>\n",
       "    <tr>\n",
       "      <th>10</th>\n",
       "      <td>2009-05-04</td>\n",
       "      <td>0.160835</td>\n",
       "      <td>Monday</td>\n",
       "    </tr>\n",
       "    <tr>\n",
       "      <th>11</th>\n",
       "      <td>2009-05-09</td>\n",
       "      <td>0.186334</td>\n",
       "      <td>Saturday</td>\n",
       "    </tr>\n",
       "    <tr>\n",
       "      <th>12</th>\n",
       "      <td>2009-05-10</td>\n",
       "      <td>0.230544</td>\n",
       "      <td>Sunday</td>\n",
       "    </tr>\n",
       "    <tr>\n",
       "      <th>13</th>\n",
       "      <td>2009-05-11</td>\n",
       "      <td>0.153647</td>\n",
       "      <td>Monday</td>\n",
       "    </tr>\n",
       "    <tr>\n",
       "      <th>14</th>\n",
       "      <td>2009-05-13</td>\n",
       "      <td>0.133649</td>\n",
       "      <td>Wednesday</td>\n",
       "    </tr>\n",
       "    <tr>\n",
       "      <th>15</th>\n",
       "      <td>2009-05-14</td>\n",
       "      <td>0.037866</td>\n",
       "      <td>Thursday</td>\n",
       "    </tr>\n",
       "    <tr>\n",
       "      <th>16</th>\n",
       "      <td>2009-05-16</td>\n",
       "      <td>0.176022</td>\n",
       "      <td>Saturday</td>\n",
       "    </tr>\n",
       "    <tr>\n",
       "      <th>17</th>\n",
       "      <td>2009-05-17</td>\n",
       "      <td>0.220569</td>\n",
       "      <td>Sunday</td>\n",
       "    </tr>\n",
       "    <tr>\n",
       "      <th>18</th>\n",
       "      <td>2009-05-18</td>\n",
       "      <td>0.195339</td>\n",
       "      <td>Monday</td>\n",
       "    </tr>\n",
       "    <tr>\n",
       "      <th>19</th>\n",
       "      <td>2009-05-21</td>\n",
       "      <td>-0.240745</td>\n",
       "      <td>Thursday</td>\n",
       "    </tr>\n",
       "    <tr>\n",
       "      <th>20</th>\n",
       "      <td>2009-05-22</td>\n",
       "      <td>0.119760</td>\n",
       "      <td>Friday</td>\n",
       "    </tr>\n",
       "    <tr>\n",
       "      <th>21</th>\n",
       "      <td>2009-05-23</td>\n",
       "      <td>0.188302</td>\n",
       "      <td>Saturday</td>\n",
       "    </tr>\n",
       "    <tr>\n",
       "      <th>22</th>\n",
       "      <td>2009-05-25</td>\n",
       "      <td>0.178022</td>\n",
       "      <td>Monday</td>\n",
       "    </tr>\n",
       "    <tr>\n",
       "      <th>23</th>\n",
       "      <td>2009-05-26</td>\n",
       "      <td>0.157726</td>\n",
       "      <td>Tuesday</td>\n",
       "    </tr>\n",
       "    <tr>\n",
       "      <th>24</th>\n",
       "      <td>2009-05-27</td>\n",
       "      <td>0.106034</td>\n",
       "      <td>Wednesday</td>\n",
       "    </tr>\n",
       "    <tr>\n",
       "      <th>25</th>\n",
       "      <td>2009-05-28</td>\n",
       "      <td>0.173987</td>\n",
       "      <td>Thursday</td>\n",
       "    </tr>\n",
       "    <tr>\n",
       "      <th>26</th>\n",
       "      <td>2009-05-29</td>\n",
       "      <td>0.168727</td>\n",
       "      <td>Friday</td>\n",
       "    </tr>\n",
       "    <tr>\n",
       "      <th>27</th>\n",
       "      <td>2009-05-30</td>\n",
       "      <td>0.180456</td>\n",
       "      <td>Saturday</td>\n",
       "    </tr>\n",
       "    <tr>\n",
       "      <th>28</th>\n",
       "      <td>2009-05-31</td>\n",
       "      <td>0.168583</td>\n",
       "      <td>Sunday</td>\n",
       "    </tr>\n",
       "    <tr>\n",
       "      <th>29</th>\n",
       "      <td>2009-06-01</td>\n",
       "      <td>0.066675</td>\n",
       "      <td>Monday</td>\n",
       "    </tr>\n",
       "    <tr>\n",
       "      <th>30</th>\n",
       "      <td>2009-06-02</td>\n",
       "      <td>0.157792</td>\n",
       "      <td>Tuesday</td>\n",
       "    </tr>\n",
       "    <tr>\n",
       "      <th>31</th>\n",
       "      <td>2009-06-03</td>\n",
       "      <td>0.007059</td>\n",
       "      <td>Wednesday</td>\n",
       "    </tr>\n",
       "    <tr>\n",
       "      <th>32</th>\n",
       "      <td>2009-06-04</td>\n",
       "      <td>0.112726</td>\n",
       "      <td>Thursday</td>\n",
       "    </tr>\n",
       "    <tr>\n",
       "      <th>33</th>\n",
       "      <td>2009-06-05</td>\n",
       "      <td>0.155220</td>\n",
       "      <td>Friday</td>\n",
       "    </tr>\n",
       "    <tr>\n",
       "      <th>34</th>\n",
       "      <td>2009-06-06</td>\n",
       "      <td>0.168281</td>\n",
       "      <td>Saturday</td>\n",
       "    </tr>\n",
       "    <tr>\n",
       "      <th>35</th>\n",
       "      <td>2009-06-07</td>\n",
       "      <td>0.170286</td>\n",
       "      <td>Sunday</td>\n",
       "    </tr>\n",
       "    <tr>\n",
       "      <th>36</th>\n",
       "      <td>2009-06-14</td>\n",
       "      <td>0.156662</td>\n",
       "      <td>Sunday</td>\n",
       "    </tr>\n",
       "    <tr>\n",
       "      <th>37</th>\n",
       "      <td>2009-06-15</td>\n",
       "      <td>0.143202</td>\n",
       "      <td>Monday</td>\n",
       "    </tr>\n",
       "    <tr>\n",
       "      <th>38</th>\n",
       "      <td>2009-06-16</td>\n",
       "      <td>0.069586</td>\n",
       "      <td>Tuesday</td>\n",
       "    </tr>\n",
       "    <tr>\n",
       "      <th>39</th>\n",
       "      <td>2009-06-17</td>\n",
       "      <td>-0.078922</td>\n",
       "      <td>Wednesday</td>\n",
       "    </tr>\n",
       "    <tr>\n",
       "      <th>40</th>\n",
       "      <td>2009-06-18</td>\n",
       "      <td>-0.092630</td>\n",
       "      <td>Thursday</td>\n",
       "    </tr>\n",
       "    <tr>\n",
       "      <th>41</th>\n",
       "      <td>2009-06-19</td>\n",
       "      <td>-0.076426</td>\n",
       "      <td>Friday</td>\n",
       "    </tr>\n",
       "    <tr>\n",
       "      <th>42</th>\n",
       "      <td>2009-06-20</td>\n",
       "      <td>-0.060388</td>\n",
       "      <td>Saturday</td>\n",
       "    </tr>\n",
       "    <tr>\n",
       "      <th>43</th>\n",
       "      <td>2009-06-21</td>\n",
       "      <td>-0.045583</td>\n",
       "      <td>Sunday</td>\n",
       "    </tr>\n",
       "    <tr>\n",
       "      <th>44</th>\n",
       "      <td>2009-06-22</td>\n",
       "      <td>-0.091398</td>\n",
       "      <td>Monday</td>\n",
       "    </tr>\n",
       "    <tr>\n",
       "      <th>45</th>\n",
       "      <td>2009-06-23</td>\n",
       "      <td>-0.060356</td>\n",
       "      <td>Tuesday</td>\n",
       "    </tr>\n",
       "    <tr>\n",
       "      <th>46</th>\n",
       "      <td>2009-06-24</td>\n",
       "      <td>-0.042929</td>\n",
       "      <td>Wednesday</td>\n",
       "    </tr>\n",
       "    <tr>\n",
       "      <th>47</th>\n",
       "      <td>2009-06-25</td>\n",
       "      <td>-0.058005</td>\n",
       "      <td>Thursday</td>\n",
       "    </tr>\n",
       "  </tbody>\n",
       "</table>\n",
       "</div>"
      ],
      "text/plain": [
       "    solo_data  compound giorno_settimana\n",
       "7  2009-05-01  0.180038           Friday\n",
       "8  2009-05-02  0.169917         Saturday\n",
       "9  2009-05-03  0.173946           Sunday\n",
       "10 2009-05-04  0.160835           Monday\n",
       "11 2009-05-09  0.186334         Saturday\n",
       "12 2009-05-10  0.230544           Sunday\n",
       "13 2009-05-11  0.153647           Monday\n",
       "14 2009-05-13  0.133649        Wednesday\n",
       "15 2009-05-14  0.037866         Thursday\n",
       "16 2009-05-16  0.176022         Saturday\n",
       "17 2009-05-17  0.220569           Sunday\n",
       "18 2009-05-18  0.195339           Monday\n",
       "19 2009-05-21 -0.240745         Thursday\n",
       "20 2009-05-22  0.119760           Friday\n",
       "21 2009-05-23  0.188302         Saturday\n",
       "22 2009-05-25  0.178022           Monday\n",
       "23 2009-05-26  0.157726          Tuesday\n",
       "24 2009-05-27  0.106034        Wednesday\n",
       "25 2009-05-28  0.173987         Thursday\n",
       "26 2009-05-29  0.168727           Friday\n",
       "27 2009-05-30  0.180456         Saturday\n",
       "28 2009-05-31  0.168583           Sunday\n",
       "29 2009-06-01  0.066675           Monday\n",
       "30 2009-06-02  0.157792          Tuesday\n",
       "31 2009-06-03  0.007059        Wednesday\n",
       "32 2009-06-04  0.112726         Thursday\n",
       "33 2009-06-05  0.155220           Friday\n",
       "34 2009-06-06  0.168281         Saturday\n",
       "35 2009-06-07  0.170286           Sunday\n",
       "36 2009-06-14  0.156662           Sunday\n",
       "37 2009-06-15  0.143202           Monday\n",
       "38 2009-06-16  0.069586          Tuesday\n",
       "39 2009-06-17 -0.078922        Wednesday\n",
       "40 2009-06-18 -0.092630         Thursday\n",
       "41 2009-06-19 -0.076426           Friday\n",
       "42 2009-06-20 -0.060388         Saturday\n",
       "43 2009-06-21 -0.045583           Sunday\n",
       "44 2009-06-22 -0.091398           Monday\n",
       "45 2009-06-23 -0.060356          Tuesday\n",
       "46 2009-06-24 -0.042929        Wednesday\n",
       "47 2009-06-25 -0.058005         Thursday"
      ]
     },
     "execution_count": 217,
     "metadata": {},
     "output_type": "execute_result"
    }
   ],
   "source": [
    "grouped_df"
   ]
  },
  {
   "cell_type": "code",
   "execution_count": 218,
   "id": "4b1d0b5b",
   "metadata": {},
   "outputs": [],
   "source": [
    "df5['compound'].replace(' ', pd.NA, inplace=True)"
   ]
  },
  {
   "cell_type": "code",
   "execution_count": 219,
   "id": "b17e53e4",
   "metadata": {},
   "outputs": [],
   "source": [
    "df_concatenato = pd.concat([grouped_df, df5], axis=0)"
   ]
  },
  {
   "cell_type": "code",
   "execution_count": 220,
   "id": "c83e42be",
   "metadata": {},
   "outputs": [
    {
     "name": "stdout",
     "output_type": "stream",
     "text": [
      "<class 'pandas.core.frame.DataFrame'>\n",
      "Int64Index: 56 entries, 7 to 6\n",
      "Data columns (total 3 columns):\n",
      " #   Column            Non-Null Count  Dtype         \n",
      "---  ------            --------------  -----         \n",
      " 0   solo_data         56 non-null     datetime64[ns]\n",
      " 1   compound          41 non-null     float64       \n",
      " 2   giorno_settimana  41 non-null     object        \n",
      "dtypes: datetime64[ns](1), float64(1), object(1)\n",
      "memory usage: 1.8+ KB\n"
     ]
    }
   ],
   "source": [
    "df_concatenato.info()"
   ]
  },
  {
   "cell_type": "code",
   "execution_count": 221,
   "id": "c4df2d7e",
   "metadata": {},
   "outputs": [],
   "source": [
    "df_concatenato['solo_data'] = pd.to_datetime(df_concatenato['solo_data'])"
   ]
  },
  {
   "cell_type": "code",
   "execution_count": 222,
   "id": "fdcd0fe5",
   "metadata": {},
   "outputs": [],
   "source": [
    "df_concatenato = df_concatenato.sort_values(by='solo_data')"
   ]
  },
  {
   "cell_type": "code",
   "execution_count": 227,
   "id": "f69696d8",
   "metadata": {},
   "outputs": [
    {
     "data": {
      "text/html": [
       "<div>\n",
       "<style scoped>\n",
       "    .dataframe tbody tr th:only-of-type {\n",
       "        vertical-align: middle;\n",
       "    }\n",
       "\n",
       "    .dataframe tbody tr th {\n",
       "        vertical-align: top;\n",
       "    }\n",
       "\n",
       "    .dataframe thead th {\n",
       "        text-align: right;\n",
       "    }\n",
       "</style>\n",
       "<table border=\"1\" class=\"dataframe\">\n",
       "  <thead>\n",
       "    <tr style=\"text-align: right;\">\n",
       "      <th></th>\n",
       "      <th>solo_data</th>\n",
       "      <th>compound</th>\n",
       "      <th>giorno_settimana</th>\n",
       "    </tr>\n",
       "  </thead>\n",
       "  <tbody>\n",
       "    <tr>\n",
       "      <th>7</th>\n",
       "      <td>2009-05-01</td>\n",
       "      <td>0.180038</td>\n",
       "      <td>Friday</td>\n",
       "    </tr>\n",
       "    <tr>\n",
       "      <th>8</th>\n",
       "      <td>2009-05-02</td>\n",
       "      <td>0.169917</td>\n",
       "      <td>Saturday</td>\n",
       "    </tr>\n",
       "    <tr>\n",
       "      <th>9</th>\n",
       "      <td>2009-05-03</td>\n",
       "      <td>0.173946</td>\n",
       "      <td>Sunday</td>\n",
       "    </tr>\n",
       "    <tr>\n",
       "      <th>10</th>\n",
       "      <td>2009-05-04</td>\n",
       "      <td>0.160835</td>\n",
       "      <td>Monday</td>\n",
       "    </tr>\n",
       "    <tr>\n",
       "      <th>11</th>\n",
       "      <td>2009-05-05</td>\n",
       "      <td>0.160835</td>\n",
       "      <td>NaN</td>\n",
       "    </tr>\n",
       "    <tr>\n",
       "      <th>10</th>\n",
       "      <td>2009-05-06</td>\n",
       "      <td>0.160835</td>\n",
       "      <td>NaN</td>\n",
       "    </tr>\n",
       "    <tr>\n",
       "      <th>4</th>\n",
       "      <td>2009-05-07</td>\n",
       "      <td>0.160835</td>\n",
       "      <td>NaN</td>\n",
       "    </tr>\n",
       "    <tr>\n",
       "      <th>2</th>\n",
       "      <td>2009-05-08</td>\n",
       "      <td>0.160835</td>\n",
       "      <td>NaN</td>\n",
       "    </tr>\n",
       "    <tr>\n",
       "      <th>11</th>\n",
       "      <td>2009-05-09</td>\n",
       "      <td>0.186334</td>\n",
       "      <td>Saturday</td>\n",
       "    </tr>\n",
       "    <tr>\n",
       "      <th>12</th>\n",
       "      <td>2009-05-10</td>\n",
       "      <td>0.230544</td>\n",
       "      <td>Sunday</td>\n",
       "    </tr>\n",
       "    <tr>\n",
       "      <th>13</th>\n",
       "      <td>2009-05-11</td>\n",
       "      <td>0.153647</td>\n",
       "      <td>Monday</td>\n",
       "    </tr>\n",
       "    <tr>\n",
       "      <th>8</th>\n",
       "      <td>2009-05-12</td>\n",
       "      <td>0.153647</td>\n",
       "      <td>NaN</td>\n",
       "    </tr>\n",
       "    <tr>\n",
       "      <th>14</th>\n",
       "      <td>2009-05-13</td>\n",
       "      <td>0.133649</td>\n",
       "      <td>Wednesday</td>\n",
       "    </tr>\n",
       "    <tr>\n",
       "      <th>15</th>\n",
       "      <td>2009-05-14</td>\n",
       "      <td>0.037866</td>\n",
       "      <td>Thursday</td>\n",
       "    </tr>\n",
       "    <tr>\n",
       "      <th>12</th>\n",
       "      <td>2009-05-15</td>\n",
       "      <td>0.037866</td>\n",
       "      <td>NaN</td>\n",
       "    </tr>\n",
       "    <tr>\n",
       "      <th>16</th>\n",
       "      <td>2009-05-16</td>\n",
       "      <td>0.176022</td>\n",
       "      <td>Saturday</td>\n",
       "    </tr>\n",
       "    <tr>\n",
       "      <th>17</th>\n",
       "      <td>2009-05-17</td>\n",
       "      <td>0.220569</td>\n",
       "      <td>Sunday</td>\n",
       "    </tr>\n",
       "    <tr>\n",
       "      <th>18</th>\n",
       "      <td>2009-05-18</td>\n",
       "      <td>0.195339</td>\n",
       "      <td>Monday</td>\n",
       "    </tr>\n",
       "    <tr>\n",
       "      <th>14</th>\n",
       "      <td>2009-05-19</td>\n",
       "      <td>0.195339</td>\n",
       "      <td>NaN</td>\n",
       "    </tr>\n",
       "    <tr>\n",
       "      <th>0</th>\n",
       "      <td>2009-05-20</td>\n",
       "      <td>0.195339</td>\n",
       "      <td>NaN</td>\n",
       "    </tr>\n",
       "    <tr>\n",
       "      <th>19</th>\n",
       "      <td>2009-05-21</td>\n",
       "      <td>-0.240745</td>\n",
       "      <td>Thursday</td>\n",
       "    </tr>\n",
       "    <tr>\n",
       "      <th>20</th>\n",
       "      <td>2009-05-22</td>\n",
       "      <td>0.119760</td>\n",
       "      <td>Friday</td>\n",
       "    </tr>\n",
       "    <tr>\n",
       "      <th>21</th>\n",
       "      <td>2009-05-23</td>\n",
       "      <td>0.188302</td>\n",
       "      <td>Saturday</td>\n",
       "    </tr>\n",
       "    <tr>\n",
       "      <th>7</th>\n",
       "      <td>2009-05-24</td>\n",
       "      <td>0.188302</td>\n",
       "      <td>NaN</td>\n",
       "    </tr>\n",
       "    <tr>\n",
       "      <th>22</th>\n",
       "      <td>2009-05-25</td>\n",
       "      <td>0.178022</td>\n",
       "      <td>Monday</td>\n",
       "    </tr>\n",
       "    <tr>\n",
       "      <th>23</th>\n",
       "      <td>2009-05-26</td>\n",
       "      <td>0.157726</td>\n",
       "      <td>Tuesday</td>\n",
       "    </tr>\n",
       "    <tr>\n",
       "      <th>24</th>\n",
       "      <td>2009-05-27</td>\n",
       "      <td>0.106034</td>\n",
       "      <td>Wednesday</td>\n",
       "    </tr>\n",
       "    <tr>\n",
       "      <th>25</th>\n",
       "      <td>2009-05-28</td>\n",
       "      <td>0.173987</td>\n",
       "      <td>Thursday</td>\n",
       "    </tr>\n",
       "    <tr>\n",
       "      <th>26</th>\n",
       "      <td>2009-05-29</td>\n",
       "      <td>0.168727</td>\n",
       "      <td>Friday</td>\n",
       "    </tr>\n",
       "    <tr>\n",
       "      <th>27</th>\n",
       "      <td>2009-05-30</td>\n",
       "      <td>0.180456</td>\n",
       "      <td>Saturday</td>\n",
       "    </tr>\n",
       "    <tr>\n",
       "      <th>28</th>\n",
       "      <td>2009-05-31</td>\n",
       "      <td>0.168583</td>\n",
       "      <td>Sunday</td>\n",
       "    </tr>\n",
       "    <tr>\n",
       "      <th>29</th>\n",
       "      <td>2009-06-01</td>\n",
       "      <td>0.066675</td>\n",
       "      <td>Monday</td>\n",
       "    </tr>\n",
       "    <tr>\n",
       "      <th>30</th>\n",
       "      <td>2009-06-02</td>\n",
       "      <td>0.157792</td>\n",
       "      <td>Tuesday</td>\n",
       "    </tr>\n",
       "    <tr>\n",
       "      <th>31</th>\n",
       "      <td>2009-06-03</td>\n",
       "      <td>0.007059</td>\n",
       "      <td>Wednesday</td>\n",
       "    </tr>\n",
       "    <tr>\n",
       "      <th>32</th>\n",
       "      <td>2009-06-04</td>\n",
       "      <td>0.112726</td>\n",
       "      <td>Thursday</td>\n",
       "    </tr>\n",
       "    <tr>\n",
       "      <th>33</th>\n",
       "      <td>2009-06-05</td>\n",
       "      <td>0.155220</td>\n",
       "      <td>Friday</td>\n",
       "    </tr>\n",
       "    <tr>\n",
       "      <th>34</th>\n",
       "      <td>2009-06-06</td>\n",
       "      <td>0.168281</td>\n",
       "      <td>Saturday</td>\n",
       "    </tr>\n",
       "    <tr>\n",
       "      <th>35</th>\n",
       "      <td>2009-06-07</td>\n",
       "      <td>0.170286</td>\n",
       "      <td>Sunday</td>\n",
       "    </tr>\n",
       "    <tr>\n",
       "      <th>13</th>\n",
       "      <td>2009-06-08</td>\n",
       "      <td>0.170286</td>\n",
       "      <td>NaN</td>\n",
       "    </tr>\n",
       "    <tr>\n",
       "      <th>1</th>\n",
       "      <td>2009-06-09</td>\n",
       "      <td>0.170286</td>\n",
       "      <td>NaN</td>\n",
       "    </tr>\n",
       "    <tr>\n",
       "      <th>5</th>\n",
       "      <td>2009-06-10</td>\n",
       "      <td>0.170286</td>\n",
       "      <td>NaN</td>\n",
       "    </tr>\n",
       "    <tr>\n",
       "      <th>3</th>\n",
       "      <td>2009-06-11</td>\n",
       "      <td>0.170286</td>\n",
       "      <td>NaN</td>\n",
       "    </tr>\n",
       "    <tr>\n",
       "      <th>9</th>\n",
       "      <td>2009-06-12</td>\n",
       "      <td>0.170286</td>\n",
       "      <td>NaN</td>\n",
       "    </tr>\n",
       "    <tr>\n",
       "      <th>6</th>\n",
       "      <td>2009-06-13</td>\n",
       "      <td>0.170286</td>\n",
       "      <td>NaN</td>\n",
       "    </tr>\n",
       "    <tr>\n",
       "      <th>36</th>\n",
       "      <td>2009-06-14</td>\n",
       "      <td>0.156662</td>\n",
       "      <td>Sunday</td>\n",
       "    </tr>\n",
       "    <tr>\n",
       "      <th>37</th>\n",
       "      <td>2009-06-15</td>\n",
       "      <td>0.143202</td>\n",
       "      <td>Monday</td>\n",
       "    </tr>\n",
       "    <tr>\n",
       "      <th>38</th>\n",
       "      <td>2009-06-16</td>\n",
       "      <td>0.069586</td>\n",
       "      <td>Tuesday</td>\n",
       "    </tr>\n",
       "    <tr>\n",
       "      <th>39</th>\n",
       "      <td>2009-06-17</td>\n",
       "      <td>-0.078922</td>\n",
       "      <td>Wednesday</td>\n",
       "    </tr>\n",
       "    <tr>\n",
       "      <th>40</th>\n",
       "      <td>2009-06-18</td>\n",
       "      <td>-0.092630</td>\n",
       "      <td>Thursday</td>\n",
       "    </tr>\n",
       "    <tr>\n",
       "      <th>41</th>\n",
       "      <td>2009-06-19</td>\n",
       "      <td>-0.076426</td>\n",
       "      <td>Friday</td>\n",
       "    </tr>\n",
       "    <tr>\n",
       "      <th>42</th>\n",
       "      <td>2009-06-20</td>\n",
       "      <td>-0.060388</td>\n",
       "      <td>Saturday</td>\n",
       "    </tr>\n",
       "    <tr>\n",
       "      <th>43</th>\n",
       "      <td>2009-06-21</td>\n",
       "      <td>-0.045583</td>\n",
       "      <td>Sunday</td>\n",
       "    </tr>\n",
       "    <tr>\n",
       "      <th>44</th>\n",
       "      <td>2009-06-22</td>\n",
       "      <td>-0.091398</td>\n",
       "      <td>Monday</td>\n",
       "    </tr>\n",
       "    <tr>\n",
       "      <th>45</th>\n",
       "      <td>2009-06-23</td>\n",
       "      <td>-0.060356</td>\n",
       "      <td>Tuesday</td>\n",
       "    </tr>\n",
       "    <tr>\n",
       "      <th>46</th>\n",
       "      <td>2009-06-24</td>\n",
       "      <td>-0.042929</td>\n",
       "      <td>Wednesday</td>\n",
       "    </tr>\n",
       "    <tr>\n",
       "      <th>47</th>\n",
       "      <td>2009-06-25</td>\n",
       "      <td>-0.058005</td>\n",
       "      <td>Thursday</td>\n",
       "    </tr>\n",
       "  </tbody>\n",
       "</table>\n",
       "</div>"
      ],
      "text/plain": [
       "    solo_data  compound giorno_settimana\n",
       "7  2009-05-01  0.180038           Friday\n",
       "8  2009-05-02  0.169917         Saturday\n",
       "9  2009-05-03  0.173946           Sunday\n",
       "10 2009-05-04  0.160835           Monday\n",
       "11 2009-05-05  0.160835              NaN\n",
       "10 2009-05-06  0.160835              NaN\n",
       "4  2009-05-07  0.160835              NaN\n",
       "2  2009-05-08  0.160835              NaN\n",
       "11 2009-05-09  0.186334         Saturday\n",
       "12 2009-05-10  0.230544           Sunday\n",
       "13 2009-05-11  0.153647           Monday\n",
       "8  2009-05-12  0.153647              NaN\n",
       "14 2009-05-13  0.133649        Wednesday\n",
       "15 2009-05-14  0.037866         Thursday\n",
       "12 2009-05-15  0.037866              NaN\n",
       "16 2009-05-16  0.176022         Saturday\n",
       "17 2009-05-17  0.220569           Sunday\n",
       "18 2009-05-18  0.195339           Monday\n",
       "14 2009-05-19  0.195339              NaN\n",
       "0  2009-05-20  0.195339              NaN\n",
       "19 2009-05-21 -0.240745         Thursday\n",
       "20 2009-05-22  0.119760           Friday\n",
       "21 2009-05-23  0.188302         Saturday\n",
       "7  2009-05-24  0.188302              NaN\n",
       "22 2009-05-25  0.178022           Monday\n",
       "23 2009-05-26  0.157726          Tuesday\n",
       "24 2009-05-27  0.106034        Wednesday\n",
       "25 2009-05-28  0.173987         Thursday\n",
       "26 2009-05-29  0.168727           Friday\n",
       "27 2009-05-30  0.180456         Saturday\n",
       "28 2009-05-31  0.168583           Sunday\n",
       "29 2009-06-01  0.066675           Monday\n",
       "30 2009-06-02  0.157792          Tuesday\n",
       "31 2009-06-03  0.007059        Wednesday\n",
       "32 2009-06-04  0.112726         Thursday\n",
       "33 2009-06-05  0.155220           Friday\n",
       "34 2009-06-06  0.168281         Saturday\n",
       "35 2009-06-07  0.170286           Sunday\n",
       "13 2009-06-08  0.170286              NaN\n",
       "1  2009-06-09  0.170286              NaN\n",
       "5  2009-06-10  0.170286              NaN\n",
       "3  2009-06-11  0.170286              NaN\n",
       "9  2009-06-12  0.170286              NaN\n",
       "6  2009-06-13  0.170286              NaN\n",
       "36 2009-06-14  0.156662           Sunday\n",
       "37 2009-06-15  0.143202           Monday\n",
       "38 2009-06-16  0.069586          Tuesday\n",
       "39 2009-06-17 -0.078922        Wednesday\n",
       "40 2009-06-18 -0.092630         Thursday\n",
       "41 2009-06-19 -0.076426           Friday\n",
       "42 2009-06-20 -0.060388         Saturday\n",
       "43 2009-06-21 -0.045583           Sunday\n",
       "44 2009-06-22 -0.091398           Monday\n",
       "45 2009-06-23 -0.060356          Tuesday\n",
       "46 2009-06-24 -0.042929        Wednesday\n",
       "47 2009-06-25 -0.058005         Thursday"
      ]
     },
     "execution_count": 227,
     "metadata": {},
     "output_type": "execute_result"
    }
   ],
   "source": [
    "df_concatenato"
   ]
  },
  {
   "cell_type": "code",
   "execution_count": 224,
   "id": "d5112126",
   "metadata": {},
   "outputs": [],
   "source": [
    "import numpy as np\n",
    "from scipy.interpolate import CubicSpline\n",
    "\n",
    "\n",
    "dates_with_nulls = df_concatenato.loc[df_concatenato['compound'].isnull(), 'solo_data']\n",
    "\n",
    "numeric_dates = dates_with_nulls.values\n",
    "\n",
    "interpolated_values = cubic_interp(numeric_dates)\n",
    "\n",
    "\n"
   ]
  },
  {
   "cell_type": "code",
   "execution_count": 225,
   "id": "c8b3f890",
   "metadata": {},
   "outputs": [
    {
     "data": {
      "text/plain": [
       "array([6.60927635e+51, 6.61065635e+51, 6.61203654e+51, 6.61341693e+51,\n",
       "       6.61894038e+51, 6.62308499e+51, 6.62861383e+51, 6.62999652e+51,\n",
       "       6.63552920e+51, 6.65630417e+51, 6.65769070e+51, 6.65907743e+51,\n",
       "       6.66046436e+51, 6.66185147e+51, 6.66323878e+51])"
      ]
     },
     "execution_count": 225,
     "metadata": {},
     "output_type": "execute_result"
    }
   ],
   "source": [
    "interpolated_values"
   ]
  },
  {
   "cell_type": "code",
   "execution_count": 226,
   "id": "c6a0ac16",
   "metadata": {},
   "outputs": [],
   "source": [
    "df_concatenato.sort_values(by=\"solo_data\", inplace=True)\n",
    "\n",
    "# Applica il Forward Fill alla colonna \"compound\"\n",
    "df_concatenato[\"compound\"].fillna(method='ffill', inplace=True)"
   ]
  },
  {
   "cell_type": "code",
   "execution_count": 246,
   "id": "25ea4fad",
   "metadata": {},
   "outputs": [
    {
     "name": "stdout",
     "output_type": "stream",
     "text": [
      "<class 'pandas.core.frame.DataFrame'>\n",
      "Int64Index: 56 entries, 7 to 47\n",
      "Data columns (total 3 columns):\n",
      " #   Column            Non-Null Count  Dtype         \n",
      "---  ------            --------------  -----         \n",
      " 0   solo_data         56 non-null     datetime64[ns]\n",
      " 1   compound          56 non-null     float64       \n",
      " 2   giorno_settimana  41 non-null     object        \n",
      "dtypes: datetime64[ns](1), float64(1), object(1)\n",
      "memory usage: 1.8+ KB\n"
     ]
    }
   ],
   "source": [
    "df_concatenato.info()"
   ]
  },
  {
   "cell_type": "code",
   "execution_count": 247,
   "id": "4d18d16c",
   "metadata": {},
   "outputs": [],
   "source": [
    "\n",
    "df_concatenato = df_concatenato.set_index('solo_data')\n"
   ]
  },
  {
   "cell_type": "code",
   "execution_count": 248,
   "id": "6a4f64d6",
   "metadata": {},
   "outputs": [],
   "source": [
    "test_set_start_index = len(df_concatenato) - 10\n",
    "\n",
    "# split dataset into training and test set\n",
    "train_set = df_concatenato.iloc[:test_set_start_index]\n",
    "test_set = df_concatenato.iloc[test_set_start_index:]"
   ]
  },
  {
   "cell_type": "code",
   "execution_count": 298,
   "id": "83eaf515",
   "metadata": {},
   "outputs": [],
   "source": [
    "# test_set_start_index = len(grouped_df) - 10\n",
    "\n",
    "# split dataset into training and test set\n",
    "# train_set = grouped_df.iloc[:test_set_start_index]\n",
    "# test_set = grouped_df.iloc[test_set_start_index:]"
   ]
  },
  {
   "cell_type": "code",
   "execution_count": 339,
   "id": "51561360",
   "metadata": {},
   "outputs": [
    {
     "name": "stdout",
     "output_type": "stream",
     "text": [
      "Performing stepwise search to minimize aic\n",
      " ARIMA(0,0,0)(0,0,0)[0]             : AIC=-22.262, Time=0.02 sec\n",
      " ARIMA(1,0,0)(0,0,0)[0]             : AIC=-43.443, Time=0.01 sec\n",
      " ARIMA(0,0,1)(0,0,0)[0]             : AIC=-32.621, Time=0.02 sec\n",
      " ARIMA(2,0,0)(0,0,0)[0]             : AIC=-43.949, Time=0.02 sec\n",
      " ARIMA(2,0,1)(0,0,0)[0]             : AIC=inf, Time=0.07 sec\n",
      " ARIMA(1,0,1)(0,0,0)[0]             : AIC=inf, Time=0.05 sec\n",
      " ARIMA(2,0,0)(0,0,0)[0] intercept   : AIC=-59.205, Time=0.04 sec\n",
      " ARIMA(1,0,0)(0,0,0)[0] intercept   : AIC=-59.800, Time=0.02 sec\n",
      " ARIMA(0,0,0)(0,0,0)[0] intercept   : AIC=-61.796, Time=0.01 sec\n",
      " ARIMA(0,0,1)(0,0,0)[0] intercept   : AIC=-59.803, Time=0.02 sec\n",
      " ARIMA(1,0,1)(0,0,0)[0] intercept   : AIC=-57.891, Time=0.04 sec\n",
      "\n",
      "Best model:  ARIMA(0,0,0)(0,0,0)[0] intercept\n",
      "Total fit time: 0.335 seconds\n"
     ]
    }
   ],
   "source": [
    "from pmdarima import auto_arima\n",
    "\n",
    "\n",
    "p_values = range(0, 3)  # Range per p\n",
    "d_values = range(0, 3)  # Range per d\n",
    "q_values = range(0, 3)  # Range per q\n",
    "\n",
    "# grid search using auto_arima\n",
    "best_model = auto_arima(train_set['compound'], \n",
    "                        start_p=min(p_values),\n",
    "                        start_d=min(d_values),\n",
    "                        start_q=min(q_values),\n",
    "                        max_p=max(p_values),\n",
    "                        max_d=max(d_values),\n",
    "                        max_q=max(q_values),\n",
    "                        seasonal=False,  # ARIMA non stagionale\n",
    "                        stepwise=True,  # Esecuzione passo-passo\n",
    "                        suppress_warnings=True,  # Nascondi avvisi\n",
    "                        error_action=\"ignore\",  # Ignora errori\n",
    "                        trace=True)  # Mostra il percorso della ricerca\n",
    "\n",
    "\n"
   ]
  },
  {
   "cell_type": "code",
   "execution_count": 300,
   "id": "37da8e53",
   "metadata": {},
   "outputs": [],
   "source": [
    "import pandas as pd\n",
    "import numpy as np\n",
    "import matplotlib.pyplot as plt\n",
    "from statsmodels.tsa.arima.model import ARIMA\n",
    "\n",
    "\n",
    "\n",
    "# Definiamo il modello ARIMA\n",
    "model = ARIMA(train_set['compound'], order=(0, 0, 0))  # Ordine p, d, q\n",
    "\n"
   ]
  },
  {
   "cell_type": "code",
   "execution_count": 301,
   "id": "bd691a9b",
   "metadata": {},
   "outputs": [],
   "source": [
    "# Addestriamo il modello\n",
    "model_fit = model.fit()\n",
    "\n",
    "\n"
   ]
  },
  {
   "cell_type": "code",
   "execution_count": 302,
   "id": "d34d0347",
   "metadata": {},
   "outputs": [],
   "source": [
    "predictions = model_fit.forecast(len(test_set))"
   ]
  },
  {
   "cell_type": "code",
   "execution_count": 303,
   "id": "65716e19",
   "metadata": {},
   "outputs": [
    {
     "data": {
      "text/plain": [
       "38    0.140558\n",
       "39    0.140558\n",
       "40    0.140558\n",
       "41    0.140558\n",
       "42    0.140558\n",
       "43    0.140558\n",
       "44    0.140558\n",
       "45    0.140558\n",
       "46    0.140558\n",
       "47    0.140558\n",
       "Name: predicted_mean, dtype: float64"
      ]
     },
     "execution_count": 303,
     "metadata": {},
     "output_type": "execute_result"
    }
   ],
   "source": [
    "predictions"
   ]
  },
  {
   "cell_type": "code",
   "execution_count": 304,
   "id": "300e3d28",
   "metadata": {},
   "outputs": [
    {
     "data": {
      "text/plain": [
       "<Figure size 1000x600 with 0 Axes>"
      ]
     },
     "execution_count": 304,
     "metadata": {},
     "output_type": "execute_result"
    },
    {
     "data": {
      "text/plain": [
       "<Figure size 1000x600 with 0 Axes>"
      ]
     },
     "metadata": {},
     "output_type": "display_data"
    }
   ],
   "source": [
    "# plot\n",
    "import matplotlib.pyplot as plt\n",
    "plt.figure(figsize=(10, 6))\n"
   ]
  },
  {
   "cell_type": "code",
   "execution_count": 305,
   "id": "dbb382d6",
   "metadata": {},
   "outputs": [
    {
     "data": {
      "text/html": [
       "<div>\n",
       "<style scoped>\n",
       "    .dataframe tbody tr th:only-of-type {\n",
       "        vertical-align: middle;\n",
       "    }\n",
       "\n",
       "    .dataframe tbody tr th {\n",
       "        vertical-align: top;\n",
       "    }\n",
       "\n",
       "    .dataframe thead th {\n",
       "        text-align: right;\n",
       "    }\n",
       "</style>\n",
       "<table border=\"1\" class=\"dataframe\">\n",
       "  <thead>\n",
       "    <tr style=\"text-align: right;\">\n",
       "      <th></th>\n",
       "      <th>solo_data</th>\n",
       "      <th>compound</th>\n",
       "      <th>giorno_settimana</th>\n",
       "    </tr>\n",
       "  </thead>\n",
       "  <tbody>\n",
       "    <tr>\n",
       "      <th>38</th>\n",
       "      <td>2009-06-16</td>\n",
       "      <td>0.069586</td>\n",
       "      <td>Tuesday</td>\n",
       "    </tr>\n",
       "    <tr>\n",
       "      <th>39</th>\n",
       "      <td>2009-06-17</td>\n",
       "      <td>-0.078922</td>\n",
       "      <td>Wednesday</td>\n",
       "    </tr>\n",
       "    <tr>\n",
       "      <th>40</th>\n",
       "      <td>2009-06-18</td>\n",
       "      <td>-0.092630</td>\n",
       "      <td>Thursday</td>\n",
       "    </tr>\n",
       "    <tr>\n",
       "      <th>41</th>\n",
       "      <td>2009-06-19</td>\n",
       "      <td>-0.076426</td>\n",
       "      <td>Friday</td>\n",
       "    </tr>\n",
       "    <tr>\n",
       "      <th>42</th>\n",
       "      <td>2009-06-20</td>\n",
       "      <td>-0.060388</td>\n",
       "      <td>Saturday</td>\n",
       "    </tr>\n",
       "    <tr>\n",
       "      <th>43</th>\n",
       "      <td>2009-06-21</td>\n",
       "      <td>-0.045583</td>\n",
       "      <td>Sunday</td>\n",
       "    </tr>\n",
       "    <tr>\n",
       "      <th>44</th>\n",
       "      <td>2009-06-22</td>\n",
       "      <td>-0.091398</td>\n",
       "      <td>Monday</td>\n",
       "    </tr>\n",
       "    <tr>\n",
       "      <th>45</th>\n",
       "      <td>2009-06-23</td>\n",
       "      <td>-0.060356</td>\n",
       "      <td>Tuesday</td>\n",
       "    </tr>\n",
       "    <tr>\n",
       "      <th>46</th>\n",
       "      <td>2009-06-24</td>\n",
       "      <td>-0.042929</td>\n",
       "      <td>Wednesday</td>\n",
       "    </tr>\n",
       "    <tr>\n",
       "      <th>47</th>\n",
       "      <td>2009-06-25</td>\n",
       "      <td>-0.058005</td>\n",
       "      <td>Thursday</td>\n",
       "    </tr>\n",
       "  </tbody>\n",
       "</table>\n",
       "</div>"
      ],
      "text/plain": [
       "    solo_data  compound giorno_settimana\n",
       "38 2009-06-16  0.069586          Tuesday\n",
       "39 2009-06-17 -0.078922        Wednesday\n",
       "40 2009-06-18 -0.092630         Thursday\n",
       "41 2009-06-19 -0.076426           Friday\n",
       "42 2009-06-20 -0.060388         Saturday\n",
       "43 2009-06-21 -0.045583           Sunday\n",
       "44 2009-06-22 -0.091398           Monday\n",
       "45 2009-06-23 -0.060356          Tuesday\n",
       "46 2009-06-24 -0.042929        Wednesday\n",
       "47 2009-06-25 -0.058005         Thursday"
      ]
     },
     "execution_count": 305,
     "metadata": {},
     "output_type": "execute_result"
    }
   ],
   "source": [
    "test_set"
   ]
  },
  {
   "cell_type": "code",
   "execution_count": 306,
   "id": "99c2029a",
   "metadata": {},
   "outputs": [
    {
     "data": {
      "image/png": "[encoded data removed]",
      "text/plain": [
       "<Figure size 640x480 with 1 Axes>"
      ]
     },
     "metadata": {},
     "output_type": "display_data"
    }
   ],
   "source": [
    "plt.plot(train_set['compound'], label='Training Set')\n",
    "plt.plot(test_set['compound'], label='Test Set')\n",
    "plt.plot(test_set.index, predictions, label='Predictions')\n",
    "plt.legend()\n",
    "plt.xlabel('Time')\n",
    "plt.ylabel('#3 (data trasnformed)')\n",
    "plt.title('ARIMA Model')\n",
    "plt.show()"
   ]
  },
  {
   "cell_type": "code",
   "execution_count": 315,
   "id": "5c2a0344",
   "metadata": {},
   "outputs": [
    {
     "name": "stderr",
     "output_type": "stream",
     "text": [
      "2023-10-29 13:29:29.728278: I tensorflow/core/platform/cpu_feature_guard.cc:182] This TensorFlow binary is optimized to use available CPU instructions in performance-critical operations.\n",
      "To enable the following instructions: AVX2 AVX512F AVX512_VNNI FMA, in other operations, rebuild TensorFlow with the appropriate compiler flags.\n"
     ]
    }
   ],
   "source": [
    "import numpy as np\n",
    "import tensorflow as tf\n",
    "from tensorflow.keras.models import Sequential\n",
    "from tensorflow.keras.layers import SimpleRNN, Dense\n",
    "from sklearn.model_selection import train_test_split\n",
    "\n"
   ]
  },
  {
   "cell_type": "code",
   "execution_count": 318,
   "id": "c2a44a13",
   "metadata": {},
   "outputs": [],
   "source": [
    "from sklearn.preprocessing import LabelEncoder\n",
    "label_encoder = LabelEncoder()\n",
    "lab_encoded = label_encoder.fit_transform(grouped_df_cat.label)\n",
    "#categorical variable\n"
   ]
  },
  {
   "cell_type": "code",
   "execution_count": 320,
   "id": "6d312b86",
   "metadata": {},
   "outputs": [],
   "source": [
    "X_train, X_test, y_train, y_test = train_test_split(grouped_df_cat, lab_encoded, test_size=0.2, random_state=0)\n"
   ]
  },
  {
   "cell_type": "code",
   "execution_count": 321,
   "id": "e162054b",
   "metadata": {},
   "outputs": [],
   "source": [
    "#  RNN\n",
    "model = Sequential([\n",
    "    SimpleRNN(32, input_shape=(X_train.shape[1], 1)),\n",
    "    Dense(3, activation='softmax')  # \n",
    "])\n",
    "\n"
   ]
  },
  {
   "cell_type": "code",
   "execution_count": 322,
   "id": "e800ea19",
   "metadata": {},
   "outputs": [],
   "source": [
    "# Compile\n",
    "model.compile(optimizer='adam', loss='sparse_categorical_crossentropy', metrics=['accuracy'])\n",
    "\n"
   ]
  },
  {
   "cell_type": "code",
   "execution_count": 333,
   "id": "94924f80",
   "metadata": {},
   "outputs": [
    {
     "data": {
      "text/plain": [
       "pandas.core.series.Series"
      ]
     },
     "execution_count": 333,
     "metadata": {},
     "output_type": "execute_result"
    }
   ],
   "source": [
    "type(X_train['solo_data']) "
   ]
  },
  {
   "cell_type": "code",
   "execution_count": 336,
   "id": "2efde534",
   "metadata": {},
   "outputs": [
    {
     "ename": "TypeError",
     "evalue": "float() argument must be a string or a real number, not 'Timestamp'",
     "output_type": "error",
     "traceback": [
      "\u001b[0;31m---------------------------------------------------------------------------\u001b[0m",
      "\u001b[0;31mTypeError\u001b[0m                                 Traceback (most recent call last)",
      "Cell \u001b[0;32mIn[336], line 1\u001b[0m\n\u001b[0;32m----> 1\u001b[0m X_train \u001b[38;5;241m=\u001b[39m \u001b[43mnp\u001b[49m\u001b[38;5;241;43m.\u001b[39;49m\u001b[43masarray\u001b[49m\u001b[43m(\u001b[49m\u001b[43mX_train\u001b[49m\u001b[43m)\u001b[49m\u001b[38;5;241;43m.\u001b[39;49m\u001b[43mastype\u001b[49m\u001b[43m(\u001b[49m\u001b[43mnp\u001b[49m\u001b[38;5;241;43m.\u001b[39;49m\u001b[43mfloat32\u001b[49m\u001b[43m)\u001b[49m\n\u001b[1;32m      2\u001b[0m y_train \u001b[38;5;241m=\u001b[39m np\u001b[38;5;241m.\u001b[39masarray(y_train)\u001b[38;5;241m.\u001b[39mastype(np\u001b[38;5;241m.\u001b[39mfloat32)\n",
      "\u001b[0;31mTypeError\u001b[0m: float() argument must be a string or a real number, not 'Timestamp'"
     ]
    }
   ],
   "source": [
    "X_train = np.asarray(X_train).astype(np.float32)\n",
    "y_train = np.asarray(y_train).astype(np.float32)"
   ]
  },
  {
   "cell_type": "code",
   "execution_count": 334,
   "id": "b6132e7c",
   "metadata": {},
   "outputs": [
    {
     "ename": "ValueError",
     "evalue": "Failed to convert a NumPy array to a Tensor (Unsupported object type Timestamp).",
     "output_type": "error",
     "traceback": [
      "\u001b[0;31m---------------------------------------------------------------------------\u001b[0m",
      "\u001b[0;31mValueError\u001b[0m                                Traceback (most recent call last)",
      "Cell \u001b[0;32mIn[334], line 2\u001b[0m\n\u001b[1;32m      1\u001b[0m \u001b[38;5;66;03m# Addestra il modello\u001b[39;00m\n\u001b[0;32m----> 2\u001b[0m \u001b[43mmodel\u001b[49m\u001b[38;5;241;43m.\u001b[39;49m\u001b[43mfit\u001b[49m\u001b[43m(\u001b[49m\u001b[43mX_train\u001b[49m\u001b[43m,\u001b[49m\u001b[43m \u001b[49m\u001b[43my_train\u001b[49m\u001b[43m,\u001b[49m\u001b[43m \u001b[49m\u001b[43mepochs\u001b[49m\u001b[38;5;241;43m=\u001b[39;49m\u001b[38;5;241;43m10\u001b[39;49m\u001b[43m,\u001b[49m\u001b[43m \u001b[49m\u001b[43mbatch_size\u001b[49m\u001b[38;5;241;43m=\u001b[39;49m\u001b[38;5;241;43m32\u001b[39;49m\u001b[43m)\u001b[49m\n",
      "File \u001b[0;32m~/anaconda3/lib/python3.10/site-packages/keras/src/utils/traceback_utils.py:70\u001b[0m, in \u001b[0;36mfilter_traceback.<locals>.error_handler\u001b[0;34m(*args, **kwargs)\u001b[0m\n\u001b[1;32m     67\u001b[0m     filtered_tb \u001b[38;5;241m=\u001b[39m _process_traceback_frames(e\u001b[38;5;241m.\u001b[39m__traceback__)\n\u001b[1;32m     68\u001b[0m     \u001b[38;5;66;03m# To get the full stack trace, call:\u001b[39;00m\n\u001b[1;32m     69\u001b[0m     \u001b[38;5;66;03m# `tf.debugging.disable_traceback_filtering()`\u001b[39;00m\n\u001b[0;32m---> 70\u001b[0m     \u001b[38;5;28;01mraise\u001b[39;00m e\u001b[38;5;241m.\u001b[39mwith_traceback(filtered_tb) \u001b[38;5;28;01mfrom\u001b[39;00m \u001b[38;5;28;01mNone\u001b[39;00m\n\u001b[1;32m     71\u001b[0m \u001b[38;5;28;01mfinally\u001b[39;00m:\n\u001b[1;32m     72\u001b[0m     \u001b[38;5;28;01mdel\u001b[39;00m filtered_tb\n",
      "File \u001b[0;32m~/anaconda3/lib/python3.10/site-packages/tensorflow/python/framework/constant_op.py:98\u001b[0m, in \u001b[0;36mconvert_to_eager_tensor\u001b[0;34m(value, ctx, dtype)\u001b[0m\n\u001b[1;32m     96\u001b[0m     dtype \u001b[38;5;241m=\u001b[39m dtypes\u001b[38;5;241m.\u001b[39mas_dtype(dtype)\u001b[38;5;241m.\u001b[39mas_datatype_enum\n\u001b[1;32m     97\u001b[0m ctx\u001b[38;5;241m.\u001b[39mensure_initialized()\n\u001b[0;32m---> 98\u001b[0m \u001b[38;5;28;01mreturn\u001b[39;00m \u001b[43mops\u001b[49m\u001b[38;5;241;43m.\u001b[39;49m\u001b[43mEagerTensor\u001b[49m\u001b[43m(\u001b[49m\u001b[43mvalue\u001b[49m\u001b[43m,\u001b[49m\u001b[43m \u001b[49m\u001b[43mctx\u001b[49m\u001b[38;5;241;43m.\u001b[39;49m\u001b[43mdevice_name\u001b[49m\u001b[43m,\u001b[49m\u001b[43m \u001b[49m\u001b[43mdtype\u001b[49m\u001b[43m)\u001b[49m\n",
      "\u001b[0;31mValueError\u001b[0m: Failed to convert a NumPy array to a Tensor (Unsupported object type Timestamp)."
     ]
    }
   ],
   "source": [
    "# Addestra il modello\n",
    "model.fit(X_train, y_train, epochs=10, batch_size=32)\n",
    "\n"
   ]
  },
  {
   "cell_type": "code",
   "execution_count": null,
   "id": "7b6dafd4",
   "metadata": {},
   "outputs": [],
   "source": [
    "# Valuta il modello\n",
    "test_loss, test_accuracy = model.evaluate(X_test, y_test)\n",
    "print(\"Test Accuracy:\", test_accuracy)"
   ]
  }
 ],
 "metadata": {
  "kernelspec": {
   "display_name": "Python 3 (ipykernel)",
   "language": "python",
   "name": "python3"
  },
  "language_info": {
   "codemirror_mode": {
    "name": "ipython",
    "version": 3
   },
   "file_extension": ".py",
   "mimetype": "text/x-python",
   "name": "python",
   "nbconvert_exporter": "python",
   "pygments_lexer": "ipython3",
   "version": "3.10.9"
  }
 },
 "nbformat": 4,
 "nbformat_minor": 5
}
