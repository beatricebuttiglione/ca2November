{
 "cells": [
  {
   "cell_type": "code",
   "execution_count": 1,
   "id": "06fbeecc",
   "metadata": {},
   "outputs": [],
   "source": [
    "import pandas as pd\n",
    "from datetime import datetime"
   ]
  },
  {
   "cell_type": "code",
   "execution_count": 2,
   "id": "837c68cd",
   "metadata": {},
   "outputs": [],
   "source": [
    "df = pd.read_csv(\"ProjectTweets.csv\",header = None)"
   ]
  },
  {
   "cell_type": "code",
   "execution_count": 3,
   "id": "edcf3ad1",
   "metadata": {},
   "outputs": [
    {
     "data": {
      "text/html": [
       "<div>\n",
       "<style scoped>\n",
       "    .dataframe tbody tr th:only-of-type {\n",
       "        vertical-align: middle;\n",
       "    }\n",
       "\n",
       "    .dataframe tbody tr th {\n",
       "        vertical-align: top;\n",
       "    }\n",
       "\n",
       "    .dataframe thead th {\n",
       "        text-align: right;\n",
       "    }\n",
       "</style>\n",
       "<table border=\"1\" class=\"dataframe\">\n",
       "  <thead>\n",
       "    <tr style=\"text-align: right;\">\n",
       "      <th></th>\n",
       "      <th>0</th>\n",
       "      <th>1</th>\n",
       "      <th>2</th>\n",
       "      <th>3</th>\n",
       "      <th>4</th>\n",
       "      <th>5</th>\n",
       "    </tr>\n",
       "  </thead>\n",
       "  <tbody>\n",
       "    <tr>\n",
       "      <th>0</th>\n",
       "      <td>0</td>\n",
       "      <td>1467810369</td>\n",
       "      <td>Mon Apr 06 22:19:45 PDT 2009</td>\n",
       "      <td>NO_QUERY</td>\n",
       "      <td>_TheSpecialOne_</td>\n",
       "      <td>@switchfoot http://twitpic.com/2y1zl - Awww, t...</td>\n",
       "    </tr>\n",
       "    <tr>\n",
       "      <th>1</th>\n",
       "      <td>1</td>\n",
       "      <td>1467810672</td>\n",
       "      <td>Mon Apr 06 22:19:49 PDT 2009</td>\n",
       "      <td>NO_QUERY</td>\n",
       "      <td>scotthamilton</td>\n",
       "      <td>is upset that he can't update his Facebook by ...</td>\n",
       "    </tr>\n",
       "    <tr>\n",
       "      <th>2</th>\n",
       "      <td>2</td>\n",
       "      <td>1467810917</td>\n",
       "      <td>Mon Apr 06 22:19:53 PDT 2009</td>\n",
       "      <td>NO_QUERY</td>\n",
       "      <td>mattycus</td>\n",
       "      <td>@Kenichan I dived many times for the ball. Man...</td>\n",
       "    </tr>\n",
       "    <tr>\n",
       "      <th>3</th>\n",
       "      <td>3</td>\n",
       "      <td>1467811184</td>\n",
       "      <td>Mon Apr 06 22:19:57 PDT 2009</td>\n",
       "      <td>NO_QUERY</td>\n",
       "      <td>ElleCTF</td>\n",
       "      <td>my whole body feels itchy and like its on fire</td>\n",
       "    </tr>\n",
       "    <tr>\n",
       "      <th>4</th>\n",
       "      <td>4</td>\n",
       "      <td>1467811193</td>\n",
       "      <td>Mon Apr 06 22:19:57 PDT 2009</td>\n",
       "      <td>NO_QUERY</td>\n",
       "      <td>Karoli</td>\n",
       "      <td>@nationwideclass no, it's not behaving at all....</td>\n",
       "    </tr>\n",
       "  </tbody>\n",
       "</table>\n",
       "</div>"
      ],
      "text/plain": [
       "   0           1                             2         3                4  \\\n",
       "0  0  1467810369  Mon Apr 06 22:19:45 PDT 2009  NO_QUERY  _TheSpecialOne_   \n",
       "1  1  1467810672  Mon Apr 06 22:19:49 PDT 2009  NO_QUERY    scotthamilton   \n",
       "2  2  1467810917  Mon Apr 06 22:19:53 PDT 2009  NO_QUERY         mattycus   \n",
       "3  3  1467811184  Mon Apr 06 22:19:57 PDT 2009  NO_QUERY          ElleCTF   \n",
       "4  4  1467811193  Mon Apr 06 22:19:57 PDT 2009  NO_QUERY           Karoli   \n",
       "\n",
       "                                                   5  \n",
       "0  @switchfoot http://twitpic.com/2y1zl - Awww, t...  \n",
       "1  is upset that he can't update his Facebook by ...  \n",
       "2  @Kenichan I dived many times for the ball. Man...  \n",
       "3    my whole body feels itchy and like its on fire   \n",
       "4  @nationwideclass no, it's not behaving at all....  "
      ]
     },
     "execution_count": 3,
     "metadata": {},
     "output_type": "execute_result"
    }
   ],
   "source": [
    "df.head()"
   ]
  },
  {
   "cell_type": "code",
   "execution_count": 4,
   "id": "829e0ddb",
   "metadata": {},
   "outputs": [],
   "source": [
    "columns_names=['index','id','date','flag','user','text']"
   ]
  },
  {
   "cell_type": "code",
   "execution_count": 5,
   "id": "f5fdcb07",
   "metadata": {},
   "outputs": [],
   "source": [
    "df.columns = columns_names"
   ]
  },
  {
   "cell_type": "code",
   "execution_count": 6,
   "id": "79ecba46",
   "metadata": {},
   "outputs": [],
   "source": [
    "# remove PDT \n",
    "df['date'] = df['date'].str.replace('PDT', '')"
   ]
  },
  {
   "cell_type": "code",
   "execution_count": 7,
   "id": "9dd02a14",
   "metadata": {},
   "outputs": [],
   "source": [
    "# time format\n",
    "date_format = '%a %b %d %H:%M:%S %Y'"
   ]
  },
  {
   "cell_type": "code",
   "execution_count": 8,
   "id": "a650ec4d",
   "metadata": {},
   "outputs": [],
   "source": [
    "# column in object \n",
    "df['date'] = pd.to_datetime(df['date'], format=date_format)"
   ]
  },
  {
   "cell_type": "code",
   "execution_count": 9,
   "id": "61a196b1",
   "metadata": {},
   "outputs": [
    {
     "name": "stdout",
     "output_type": "stream",
     "text": [
      "0         2009-04-06 22:19:45\n",
      "1         2009-04-06 22:19:49\n",
      "2         2009-04-06 22:19:53\n",
      "3         2009-04-06 22:19:57\n",
      "4         2009-04-06 22:19:57\n",
      "                  ...        \n",
      "1599995   2009-06-16 08:40:49\n",
      "1599996   2009-06-16 08:40:49\n",
      "1599997   2009-06-16 08:40:49\n",
      "1599998   2009-06-16 08:40:49\n",
      "1599999   2009-06-16 08:40:50\n",
      "Name: date, Length: 1600000, dtype: datetime64[ns]\n"
     ]
    }
   ],
   "source": [
    "# date objects\n",
    "print(df['date'])"
   ]
  },
  {
   "cell_type": "code",
   "execution_count": 10,
   "id": "dfd5297b",
   "metadata": {},
   "outputs": [
    {
     "data": {
      "text/plain": [
       "Timestamp('2009-04-06 22:19:45')"
      ]
     },
     "execution_count": 10,
     "metadata": {},
     "output_type": "execute_result"
    }
   ],
   "source": [
    "df['date'].min()"
   ]
  },
  {
   "cell_type": "code",
   "execution_count": 11,
   "id": "e67e7ccf",
   "metadata": {},
   "outputs": [
    {
     "data": {
      "text/plain": [
       "Timestamp('2009-06-25 10:28:31')"
      ]
     },
     "execution_count": 11,
     "metadata": {},
     "output_type": "execute_result"
    }
   ],
   "source": [
    "df['date'].max()"
   ]
  },
  {
   "cell_type": "code",
   "execution_count": 12,
   "id": "1af010d2",
   "metadata": {},
   "outputs": [],
   "source": [
    "df['week'] = df['date'].dt.strftime('%U')  # week\n",
    "\n"
   ]
  },
  {
   "cell_type": "code",
   "execution_count": 13,
   "id": "fabf4553",
   "metadata": {},
   "outputs": [],
   "source": [
    "df['month'] = df['date'].dt.strftime('%B')  # month"
   ]
  },
  {
   "cell_type": "code",
   "execution_count": 14,
   "id": "46ece234",
   "metadata": {},
   "outputs": [],
   "source": [
    "df['day'] = df['date'].dt.strftime('%A')  # day"
   ]
  },
  {
   "cell_type": "code",
   "execution_count": 15,
   "id": "39a9b824",
   "metadata": {},
   "outputs": [],
   "source": [
    "df['day_num'] = df['date'].dt.dayofyear\n"
   ]
  },
  {
   "cell_type": "code",
   "execution_count": 16,
   "id": "e3a3a6c9",
   "metadata": {},
   "outputs": [
    {
     "data": {
      "text/html": [
       "<div>\n",
       "<style scoped>\n",
       "    .dataframe tbody tr th:only-of-type {\n",
       "        vertical-align: middle;\n",
       "    }\n",
       "\n",
       "    .dataframe tbody tr th {\n",
       "        vertical-align: top;\n",
       "    }\n",
       "\n",
       "    .dataframe thead th {\n",
       "        text-align: right;\n",
       "    }\n",
       "</style>\n",
       "<table border=\"1\" class=\"dataframe\">\n",
       "  <thead>\n",
       "    <tr style=\"text-align: right;\">\n",
       "      <th></th>\n",
       "      <th>index</th>\n",
       "      <th>id</th>\n",
       "      <th>date</th>\n",
       "      <th>flag</th>\n",
       "      <th>user</th>\n",
       "      <th>text</th>\n",
       "      <th>week</th>\n",
       "      <th>month</th>\n",
       "      <th>day</th>\n",
       "      <th>day_num</th>\n",
       "    </tr>\n",
       "  </thead>\n",
       "  <tbody>\n",
       "    <tr>\n",
       "      <th>0</th>\n",
       "      <td>0</td>\n",
       "      <td>1467810369</td>\n",
       "      <td>2009-04-06 22:19:45</td>\n",
       "      <td>NO_QUERY</td>\n",
       "      <td>_TheSpecialOne_</td>\n",
       "      <td>@switchfoot http://twitpic.com/2y1zl - Awww, t...</td>\n",
       "      <td>14</td>\n",
       "      <td>April</td>\n",
       "      <td>Monday</td>\n",
       "      <td>96</td>\n",
       "    </tr>\n",
       "    <tr>\n",
       "      <th>1</th>\n",
       "      <td>1</td>\n",
       "      <td>1467810672</td>\n",
       "      <td>2009-04-06 22:19:49</td>\n",
       "      <td>NO_QUERY</td>\n",
       "      <td>scotthamilton</td>\n",
       "      <td>is upset that he can't update his Facebook by ...</td>\n",
       "      <td>14</td>\n",
       "      <td>April</td>\n",
       "      <td>Monday</td>\n",
       "      <td>96</td>\n",
       "    </tr>\n",
       "    <tr>\n",
       "      <th>2</th>\n",
       "      <td>2</td>\n",
       "      <td>1467810917</td>\n",
       "      <td>2009-04-06 22:19:53</td>\n",
       "      <td>NO_QUERY</td>\n",
       "      <td>mattycus</td>\n",
       "      <td>@Kenichan I dived many times for the ball. Man...</td>\n",
       "      <td>14</td>\n",
       "      <td>April</td>\n",
       "      <td>Monday</td>\n",
       "      <td>96</td>\n",
       "    </tr>\n",
       "    <tr>\n",
       "      <th>3</th>\n",
       "      <td>3</td>\n",
       "      <td>1467811184</td>\n",
       "      <td>2009-04-06 22:19:57</td>\n",
       "      <td>NO_QUERY</td>\n",
       "      <td>ElleCTF</td>\n",
       "      <td>my whole body feels itchy and like its on fire</td>\n",
       "      <td>14</td>\n",
       "      <td>April</td>\n",
       "      <td>Monday</td>\n",
       "      <td>96</td>\n",
       "    </tr>\n",
       "    <tr>\n",
       "      <th>4</th>\n",
       "      <td>4</td>\n",
       "      <td>1467811193</td>\n",
       "      <td>2009-04-06 22:19:57</td>\n",
       "      <td>NO_QUERY</td>\n",
       "      <td>Karoli</td>\n",
       "      <td>@nationwideclass no, it's not behaving at all....</td>\n",
       "      <td>14</td>\n",
       "      <td>April</td>\n",
       "      <td>Monday</td>\n",
       "      <td>96</td>\n",
       "    </tr>\n",
       "  </tbody>\n",
       "</table>\n",
       "</div>"
      ],
      "text/plain": [
       "   index          id                date      flag             user  \\\n",
       "0      0  1467810369 2009-04-06 22:19:45  NO_QUERY  _TheSpecialOne_   \n",
       "1      1  1467810672 2009-04-06 22:19:49  NO_QUERY    scotthamilton   \n",
       "2      2  1467810917 2009-04-06 22:19:53  NO_QUERY         mattycus   \n",
       "3      3  1467811184 2009-04-06 22:19:57  NO_QUERY          ElleCTF   \n",
       "4      4  1467811193 2009-04-06 22:19:57  NO_QUERY           Karoli   \n",
       "\n",
       "                                                text week  month     day  \\\n",
       "0  @switchfoot http://twitpic.com/2y1zl - Awww, t...   14  April  Monday   \n",
       "1  is upset that he can't update his Facebook by ...   14  April  Monday   \n",
       "2  @Kenichan I dived many times for the ball. Man...   14  April  Monday   \n",
       "3    my whole body feels itchy and like its on fire    14  April  Monday   \n",
       "4  @nationwideclass no, it's not behaving at all....   14  April  Monday   \n",
       "\n",
       "   day_num  \n",
       "0       96  \n",
       "1       96  \n",
       "2       96  \n",
       "3       96  \n",
       "4       96  "
      ]
     },
     "execution_count": 16,
     "metadata": {},
     "output_type": "execute_result"
    }
   ],
   "source": [
    "df.head()"
   ]
  },
  {
   "cell_type": "code",
   "execution_count": 17,
   "id": "a4fc2dd1",
   "metadata": {},
   "outputs": [],
   "source": [
    "import nltk\n",
    "from nltk.tokenize import word_tokenize"
   ]
  },
  {
   "cell_type": "code",
   "execution_count": 18,
   "id": "e30313fd",
   "metadata": {},
   "outputs": [
    {
     "name": "stderr",
     "output_type": "stream",
     "text": [
      "[nltk_data] Downloading package punkt to\n",
      "[nltk_data]     /Users/beatricebuttiglione/nltk_data...\n",
      "[nltk_data]   Package punkt is already up-to-date!\n",
      "[nltk_data] Downloading package stopwords to\n",
      "[nltk_data]     /Users/beatricebuttiglione/nltk_data...\n",
      "[nltk_data]   Package stopwords is already up-to-date!\n",
      "[nltk_data] Downloading package wordnet to\n",
      "[nltk_data]     /Users/beatricebuttiglione/nltk_data...\n",
      "[nltk_data]   Package wordnet is already up-to-date!\n"
     ]
    },
    {
     "data": {
      "text/plain": [
       "True"
      ]
     },
     "execution_count": 18,
     "metadata": {},
     "output_type": "execute_result"
    }
   ],
   "source": [
    "from nltk.corpus import stopwords\n",
    "from nltk.stem import WordNetLemmatizer\n",
    "from sklearn.feature_extraction.text import CountVectorizer\n",
    "\n",
    "nltk.download('punkt')\n",
    "nltk.download('stopwords')\n",
    "nltk.download('wordnet')"
   ]
  },
  {
   "cell_type": "code",
   "execution_count": 24,
   "id": "1bb38cc4",
   "metadata": {},
   "outputs": [],
   "source": [
    "english_stopwords = set(stopwords.words('english'))\n",
    "\n",
    "def clean_data(text, stopwords_set):\n",
    "    text = text.lower()\n",
    "    tokens = word_tokenize(text)\n",
    "    tokens = [word for word in tokens if word.isalpha() and word not in stopwords_set]\n",
    "    lemmatizer = WordNetLemmatizer()\n",
    "    tokens = [lemmatizer.lemmatize(word) for word in tokens]\n",
    "    return ' '.join(tokens)\n"
   ]
  },
  {
   "cell_type": "code",
   "execution_count": 25,
   "id": "641e0954",
   "metadata": {},
   "outputs": [],
   "source": [
    "df['cleaned_text'] = df['text'].apply(clean_data, args=(english_stopwords,))\n"
   ]
  },
  {
   "cell_type": "code",
   "execution_count": null,
   "id": "9d589d08",
   "metadata": {},
   "outputs": [],
   "source": []
  },
  {
   "cell_type": "markdown",
   "id": "f91f70a4",
   "metadata": {},
   "source": [
    "# sentiment analysis with vader"
   ]
  },
  {
   "cell_type": "code",
   "execution_count": 21,
   "id": "b85dcd71",
   "metadata": {},
   "outputs": [],
   "source": [
    "import nltk"
   ]
  },
  {
   "cell_type": "code",
   "execution_count": 22,
   "id": "d90e0826",
   "metadata": {},
   "outputs": [
    {
     "name": "stderr",
     "output_type": "stream",
     "text": [
      "[nltk_data] Downloading package vader_lexicon to\n",
      "[nltk_data]     /Users/beatricebuttiglione/nltk_data...\n",
      "[nltk_data]   Package vader_lexicon is already up-to-date!\n"
     ]
    },
    {
     "data": {
      "text/plain": [
       "True"
      ]
     },
     "execution_count": 22,
     "metadata": {},
     "output_type": "execute_result"
    }
   ],
   "source": [
    "nltk.download('vader_lexicon')"
   ]
  },
  {
   "cell_type": "code",
   "execution_count": 26,
   "id": "fb3f3e3c",
   "metadata": {},
   "outputs": [],
   "source": [
    "from nltk.sentiment.vader import SentimentIntensityAnalyzer as SIA\n",
    "\n",
    "sia = SIA()\n",
    "results = []\n",
    "\n",
    "for line in df['cleaned_text']:\n",
    "    pol_score = sia.polarity_scores(line)\n",
    "    pol_score['cleaned_text'] = line\n",
    "    results.append(pol_score)"
   ]
  },
  {
   "cell_type": "code",
   "execution_count": 27,
   "id": "d04b3397",
   "metadata": {},
   "outputs": [
    {
     "data": {
      "text/html": [
       "<div>\n",
       "<style scoped>\n",
       "    .dataframe tbody tr th:only-of-type {\n",
       "        vertical-align: middle;\n",
       "    }\n",
       "\n",
       "    .dataframe tbody tr th {\n",
       "        vertical-align: top;\n",
       "    }\n",
       "\n",
       "    .dataframe thead th {\n",
       "        text-align: right;\n",
       "    }\n",
       "</style>\n",
       "<table border=\"1\" class=\"dataframe\">\n",
       "  <thead>\n",
       "    <tr style=\"text-align: right;\">\n",
       "      <th></th>\n",
       "      <th>neg</th>\n",
       "      <th>neu</th>\n",
       "      <th>pos</th>\n",
       "      <th>compound</th>\n",
       "      <th>cleaned_text</th>\n",
       "    </tr>\n",
       "  </thead>\n",
       "  <tbody>\n",
       "    <tr>\n",
       "      <th>0</th>\n",
       "      <td>0.224</td>\n",
       "      <td>0.776</td>\n",
       "      <td>0.000</td>\n",
       "      <td>-0.3818</td>\n",
       "      <td>switchfoot http awww bummer shoulda got david ...</td>\n",
       "    </tr>\n",
       "    <tr>\n",
       "      <th>1</th>\n",
       "      <td>0.441</td>\n",
       "      <td>0.559</td>\n",
       "      <td>0.000</td>\n",
       "      <td>-0.7269</td>\n",
       "      <td>upset ca update facebook texting might cry res...</td>\n",
       "    </tr>\n",
       "    <tr>\n",
       "      <th>2</th>\n",
       "      <td>0.000</td>\n",
       "      <td>0.738</td>\n",
       "      <td>0.262</td>\n",
       "      <td>0.4939</td>\n",
       "      <td>kenichan dived many time ball managed save res...</td>\n",
       "    </tr>\n",
       "    <tr>\n",
       "      <th>3</th>\n",
       "      <td>0.450</td>\n",
       "      <td>0.300</td>\n",
       "      <td>0.250</td>\n",
       "      <td>-0.2500</td>\n",
       "      <td>whole body feel itchy like fire</td>\n",
       "    </tr>\n",
       "    <tr>\n",
       "      <th>4</th>\n",
       "      <td>0.444</td>\n",
       "      <td>0.556</td>\n",
       "      <td>0.000</td>\n",
       "      <td>-0.4939</td>\n",
       "      <td>nationwideclass behaving mad ca see</td>\n",
       "    </tr>\n",
       "  </tbody>\n",
       "</table>\n",
       "</div>"
      ],
      "text/plain": [
       "     neg    neu    pos  compound  \\\n",
       "0  0.224  0.776  0.000   -0.3818   \n",
       "1  0.441  0.559  0.000   -0.7269   \n",
       "2  0.000  0.738  0.262    0.4939   \n",
       "3  0.450  0.300  0.250   -0.2500   \n",
       "4  0.444  0.556  0.000   -0.4939   \n",
       "\n",
       "                                        cleaned_text  \n",
       "0  switchfoot http awww bummer shoulda got david ...  \n",
       "1  upset ca update facebook texting might cry res...  \n",
       "2  kenichan dived many time ball managed save res...  \n",
       "3                    whole body feel itchy like fire  \n",
       "4                nationwideclass behaving mad ca see  "
      ]
     },
     "execution_count": 27,
     "metadata": {},
     "output_type": "execute_result"
    }
   ],
   "source": [
    "df1 = pd.DataFrame.from_records(results)\n",
    "df1.head()"
   ]
  },
  {
   "cell_type": "code",
   "execution_count": 28,
   "id": "0d8e7b6f",
   "metadata": {},
   "outputs": [
    {
     "data": {
      "text/html": [
       "<div>\n",
       "<style scoped>\n",
       "    .dataframe tbody tr th:only-of-type {\n",
       "        vertical-align: middle;\n",
       "    }\n",
       "\n",
       "    .dataframe tbody tr th {\n",
       "        vertical-align: top;\n",
       "    }\n",
       "\n",
       "    .dataframe thead th {\n",
       "        text-align: right;\n",
       "    }\n",
       "</style>\n",
       "<table border=\"1\" class=\"dataframe\">\n",
       "  <thead>\n",
       "    <tr style=\"text-align: right;\">\n",
       "      <th></th>\n",
       "      <th>neg</th>\n",
       "      <th>neu</th>\n",
       "      <th>pos</th>\n",
       "      <th>compound</th>\n",
       "      <th>cleaned_text</th>\n",
       "      <th>label</th>\n",
       "    </tr>\n",
       "  </thead>\n",
       "  <tbody>\n",
       "    <tr>\n",
       "      <th>0</th>\n",
       "      <td>0.224</td>\n",
       "      <td>0.776</td>\n",
       "      <td>0.000</td>\n",
       "      <td>-0.3818</td>\n",
       "      <td>switchfoot http awww bummer shoulda got david ...</td>\n",
       "      <td>-1</td>\n",
       "    </tr>\n",
       "    <tr>\n",
       "      <th>1</th>\n",
       "      <td>0.441</td>\n",
       "      <td>0.559</td>\n",
       "      <td>0.000</td>\n",
       "      <td>-0.7269</td>\n",
       "      <td>upset ca update facebook texting might cry res...</td>\n",
       "      <td>-1</td>\n",
       "    </tr>\n",
       "    <tr>\n",
       "      <th>2</th>\n",
       "      <td>0.000</td>\n",
       "      <td>0.738</td>\n",
       "      <td>0.262</td>\n",
       "      <td>0.4939</td>\n",
       "      <td>kenichan dived many time ball managed save res...</td>\n",
       "      <td>1</td>\n",
       "    </tr>\n",
       "    <tr>\n",
       "      <th>3</th>\n",
       "      <td>0.450</td>\n",
       "      <td>0.300</td>\n",
       "      <td>0.250</td>\n",
       "      <td>-0.2500</td>\n",
       "      <td>whole body feel itchy like fire</td>\n",
       "      <td>-1</td>\n",
       "    </tr>\n",
       "    <tr>\n",
       "      <th>4</th>\n",
       "      <td>0.444</td>\n",
       "      <td>0.556</td>\n",
       "      <td>0.000</td>\n",
       "      <td>-0.4939</td>\n",
       "      <td>nationwideclass behaving mad ca see</td>\n",
       "      <td>-1</td>\n",
       "    </tr>\n",
       "  </tbody>\n",
       "</table>\n",
       "</div>"
      ],
      "text/plain": [
       "     neg    neu    pos  compound  \\\n",
       "0  0.224  0.776  0.000   -0.3818   \n",
       "1  0.441  0.559  0.000   -0.7269   \n",
       "2  0.000  0.738  0.262    0.4939   \n",
       "3  0.450  0.300  0.250   -0.2500   \n",
       "4  0.444  0.556  0.000   -0.4939   \n",
       "\n",
       "                                        cleaned_text  label  \n",
       "0  switchfoot http awww bummer shoulda got david ...     -1  \n",
       "1  upset ca update facebook texting might cry res...     -1  \n",
       "2  kenichan dived many time ball managed save res...      1  \n",
       "3                    whole body feel itchy like fire     -1  \n",
       "4                nationwideclass behaving mad ca see     -1  "
      ]
     },
     "execution_count": 28,
     "metadata": {},
     "output_type": "execute_result"
    }
   ],
   "source": [
    "df1['label'] = 0\n",
    "df1.loc[df1['compound'] > 0.2, 'label'] = 1\n",
    "df1.loc[df1['compound'] < -0.2, 'label'] = -1\n",
    "df1.head()"
   ]
  },
  {
   "cell_type": "code",
   "execution_count": 29,
   "id": "4faad43e",
   "metadata": {},
   "outputs": [],
   "source": [
    "import matplotlib.pyplot as plt\n",
    "import seaborn as sns"
   ]
  },
  {
   "cell_type": "code",
   "execution_count": 30,
   "id": "94aa7fa0",
   "metadata": {},
   "outputs": [
    {
     "data": {
      "image/png": "[encoded data removed]",
      "text/plain": [
       "<Figure size 400x400 with 1 Axes>"
      ]
     },
     "metadata": {},
     "output_type": "display_data"
    }
   ],
   "source": [
    "fig, ax = plt.subplots(figsize=(4, 4))\n",
    "\n",
    "counts = df1.label.value_counts(normalize=True) * 100\n",
    "\n",
    "sns.barplot(x=counts.index, y=counts, ax=ax)\n",
    "\n",
    "ax.set_xticklabels(['Negative', 'Neutral', 'Positive'])\n",
    "ax.set_ylabel(\"Count\")\n",
    "\n",
    "plt.show()"
   ]
  },
  {
   "cell_type": "code",
   "execution_count": 31,
   "id": "3034ef98",
   "metadata": {},
   "outputs": [],
   "source": [
    "merged_df = pd.merge(df, df1, on=\"cleaned_text\", how=\"inner\")"
   ]
  },
  {
   "cell_type": "code",
   "execution_count": 32,
   "id": "6966b7d7",
   "metadata": {},
   "outputs": [
    {
     "name": "stdout",
     "output_type": "stream",
     "text": [
      "<class 'pandas.core.frame.DataFrame'>\n",
      "Int64Index: 13836318 entries, 0 to 13836317\n",
      "Data columns (total 16 columns):\n",
      " #   Column        Dtype         \n",
      "---  ------        -----         \n",
      " 0   index         int64         \n",
      " 1   id            int64         \n",
      " 2   date          datetime64[ns]\n",
      " 3   flag          object        \n",
      " 4   user          object        \n",
      " 5   text          object        \n",
      " 6   week          object        \n",
      " 7   month         object        \n",
      " 8   day           object        \n",
      " 9   day_num       int64         \n",
      " 10  cleaned_text  object        \n",
      " 11  neg           float64       \n",
      " 12  neu           float64       \n",
      " 13  pos           float64       \n",
      " 14  compound      float64       \n",
      " 15  label         int64         \n",
      "dtypes: datetime64[ns](1), float64(4), int64(4), object(7)\n",
      "memory usage: 1.8+ GB\n"
     ]
    }
   ],
   "source": [
    "merged_df.info()"
   ]
  },
  {
   "cell_type": "code",
   "execution_count": 33,
   "id": "d6c1b76b",
   "metadata": {},
   "outputs": [],
   "source": [
    "merged_df['solo_data'] = pd.to_datetime(merged_df['date'])"
   ]
  },
  {
   "cell_type": "code",
   "execution_count": 34,
   "id": "2e169a05",
   "metadata": {},
   "outputs": [],
   "source": [
    "merged_df['solo_data']= merged_df['solo_data'].dt.date"
   ]
  },
  {
   "cell_type": "markdown",
   "id": "40069f3b",
   "metadata": {},
   "source": [
    "# sentiment analysis with textblob"
   ]
  },
  {
   "cell_type": "code",
   "execution_count": 35,
   "id": "b6a85216",
   "metadata": {},
   "outputs": [],
   "source": [
    "from textblob import TextBlob"
   ]
  },
  {
   "cell_type": "code",
   "execution_count": 36,
   "id": "50da55aa",
   "metadata": {},
   "outputs": [],
   "source": [
    "def analyze_sentiment(text):\n",
    "    analysis = TextBlob(text)\n",
    "    sentiment_score = analysis.sentiment.polarity\n",
    "    return float(sentiment_score)"
   ]
  },
  {
   "cell_type": "code",
   "execution_count": 37,
   "id": "a2a0b7f2",
   "metadata": {},
   "outputs": [],
   "source": [
    "df['sentiment_score'] = df['cleaned_text'].apply(analyze_sentiment)"
   ]
  },
  {
   "cell_type": "code",
   "execution_count": 38,
   "id": "369dfd4d",
   "metadata": {},
   "outputs": [
    {
     "data": {
      "text/html": [
       "<div>\n",
       "<style scoped>\n",
       "    .dataframe tbody tr th:only-of-type {\n",
       "        vertical-align: middle;\n",
       "    }\n",
       "\n",
       "    .dataframe tbody tr th {\n",
       "        vertical-align: top;\n",
       "    }\n",
       "\n",
       "    .dataframe thead th {\n",
       "        text-align: right;\n",
       "    }\n",
       "</style>\n",
       "<table border=\"1\" class=\"dataframe\">\n",
       "  <thead>\n",
       "    <tr style=\"text-align: right;\">\n",
       "      <th></th>\n",
       "      <th>index</th>\n",
       "      <th>id</th>\n",
       "      <th>date</th>\n",
       "      <th>flag</th>\n",
       "      <th>user</th>\n",
       "      <th>text</th>\n",
       "      <th>week</th>\n",
       "      <th>month</th>\n",
       "      <th>day</th>\n",
       "      <th>day_num</th>\n",
       "      <th>cleaned_text</th>\n",
       "      <th>sentiment_score</th>\n",
       "      <th>label_blob</th>\n",
       "    </tr>\n",
       "  </thead>\n",
       "  <tbody>\n",
       "    <tr>\n",
       "      <th>0</th>\n",
       "      <td>0</td>\n",
       "      <td>1467810369</td>\n",
       "      <td>2009-04-06 22:19:45</td>\n",
       "      <td>NO_QUERY</td>\n",
       "      <td>_TheSpecialOne_</td>\n",
       "      <td>@switchfoot http://twitpic.com/2y1zl - Awww, t...</td>\n",
       "      <td>14</td>\n",
       "      <td>April</td>\n",
       "      <td>Monday</td>\n",
       "      <td>96</td>\n",
       "      <td>switchfoot http awww bummer shoulda got david ...</td>\n",
       "      <td>0.200</td>\n",
       "      <td>0</td>\n",
       "    </tr>\n",
       "    <tr>\n",
       "      <th>1</th>\n",
       "      <td>1</td>\n",
       "      <td>1467810672</td>\n",
       "      <td>2009-04-06 22:19:49</td>\n",
       "      <td>NO_QUERY</td>\n",
       "      <td>scotthamilton</td>\n",
       "      <td>is upset that he can't update his Facebook by ...</td>\n",
       "      <td>14</td>\n",
       "      <td>April</td>\n",
       "      <td>Monday</td>\n",
       "      <td>96</td>\n",
       "      <td>upset ca update facebook texting might cry res...</td>\n",
       "      <td>0.000</td>\n",
       "      <td>0</td>\n",
       "    </tr>\n",
       "    <tr>\n",
       "      <th>2</th>\n",
       "      <td>2</td>\n",
       "      <td>1467810917</td>\n",
       "      <td>2009-04-06 22:19:53</td>\n",
       "      <td>NO_QUERY</td>\n",
       "      <td>mattycus</td>\n",
       "      <td>@Kenichan I dived many times for the ball. Man...</td>\n",
       "      <td>14</td>\n",
       "      <td>April</td>\n",
       "      <td>Monday</td>\n",
       "      <td>96</td>\n",
       "      <td>kenichan dived many time ball managed save res...</td>\n",
       "      <td>0.500</td>\n",
       "      <td>1</td>\n",
       "    </tr>\n",
       "    <tr>\n",
       "      <th>3</th>\n",
       "      <td>3</td>\n",
       "      <td>1467811184</td>\n",
       "      <td>2009-04-06 22:19:57</td>\n",
       "      <td>NO_QUERY</td>\n",
       "      <td>ElleCTF</td>\n",
       "      <td>my whole body feels itchy and like its on fire</td>\n",
       "      <td>14</td>\n",
       "      <td>April</td>\n",
       "      <td>Monday</td>\n",
       "      <td>96</td>\n",
       "      <td>whole body feel itchy like fire</td>\n",
       "      <td>0.200</td>\n",
       "      <td>0</td>\n",
       "    </tr>\n",
       "    <tr>\n",
       "      <th>4</th>\n",
       "      <td>4</td>\n",
       "      <td>1467811193</td>\n",
       "      <td>2009-04-06 22:19:57</td>\n",
       "      <td>NO_QUERY</td>\n",
       "      <td>Karoli</td>\n",
       "      <td>@nationwideclass no, it's not behaving at all....</td>\n",
       "      <td>14</td>\n",
       "      <td>April</td>\n",
       "      <td>Monday</td>\n",
       "      <td>96</td>\n",
       "      <td>nationwideclass behaving mad ca see</td>\n",
       "      <td>-0.625</td>\n",
       "      <td>-1</td>\n",
       "    </tr>\n",
       "  </tbody>\n",
       "</table>\n",
       "</div>"
      ],
      "text/plain": [
       "   index          id                date      flag             user  \\\n",
       "0      0  1467810369 2009-04-06 22:19:45  NO_QUERY  _TheSpecialOne_   \n",
       "1      1  1467810672 2009-04-06 22:19:49  NO_QUERY    scotthamilton   \n",
       "2      2  1467810917 2009-04-06 22:19:53  NO_QUERY         mattycus   \n",
       "3      3  1467811184 2009-04-06 22:19:57  NO_QUERY          ElleCTF   \n",
       "4      4  1467811193 2009-04-06 22:19:57  NO_QUERY           Karoli   \n",
       "\n",
       "                                                text week  month     day  \\\n",
       "0  @switchfoot http://twitpic.com/2y1zl - Awww, t...   14  April  Monday   \n",
       "1  is upset that he can't update his Facebook by ...   14  April  Monday   \n",
       "2  @Kenichan I dived many times for the ball. Man...   14  April  Monday   \n",
       "3    my whole body feels itchy and like its on fire    14  April  Monday   \n",
       "4  @nationwideclass no, it's not behaving at all....   14  April  Monday   \n",
       "\n",
       "   day_num                                       cleaned_text  \\\n",
       "0       96  switchfoot http awww bummer shoulda got david ...   \n",
       "1       96  upset ca update facebook texting might cry res...   \n",
       "2       96  kenichan dived many time ball managed save res...   \n",
       "3       96                    whole body feel itchy like fire   \n",
       "4       96                nationwideclass behaving mad ca see   \n",
       "\n",
       "   sentiment_score  label_blob  \n",
       "0            0.200           0  \n",
       "1            0.000           0  \n",
       "2            0.500           1  \n",
       "3            0.200           0  \n",
       "4           -0.625          -1  "
      ]
     },
     "execution_count": 38,
     "metadata": {},
     "output_type": "execute_result"
    }
   ],
   "source": [
    "df['label_blob'] = 0\n",
    "df.loc[df['sentiment_score'] > 0.2, 'label_blob'] = 1\n",
    "df.loc[df['sentiment_score'] < -0.2, 'label_blob'] = -1\n",
    "df.head()"
   ]
  },
  {
   "cell_type": "code",
   "execution_count": 39,
   "id": "628fde67",
   "metadata": {},
   "outputs": [
    {
     "data": {
      "image/png": "[encoded data removed]",
      "text/plain": [
       "<Figure size 400x400 with 1 Axes>"
      ]
     },
     "metadata": {},
     "output_type": "display_data"
    }
   ],
   "source": [
    "fig, ax = plt.subplots(figsize=(4, 4))\n",
    "\n",
    "counts = df.label_blob.value_counts(normalize=True) * 100\n",
    "\n",
    "sns.barplot(x=counts.index, y=counts, ax=ax)\n",
    "\n",
    "ax.set_xticklabels(['Negative', 'Neutral', 'Positive'])\n",
    "ax.set_ylabel(\"Count\")\n",
    "\n",
    "plt.show()"
   ]
  },
  {
   "cell_type": "markdown",
   "id": "d0151a6f",
   "metadata": {},
   "source": [
    "# forecasting models data preparation"
   ]
  },
  {
   "cell_type": "code",
   "execution_count": 88,
   "id": "80e04cf1",
   "metadata": {},
   "outputs": [],
   "source": [
    "merged_df['date'] = pd.to_datetime(merged_df['date'])"
   ]
  },
  {
   "cell_type": "code",
   "execution_count": 89,
   "id": "f4ea78e2",
   "metadata": {},
   "outputs": [],
   "source": [
    "merged_df['solo_data'] = merged_df['date'].dt.date"
   ]
  },
  {
   "cell_type": "code",
   "execution_count": 90,
   "id": "77f3bcc4",
   "metadata": {},
   "outputs": [],
   "source": [
    "grouped_df = merged_df.groupby('solo_data')['compound'].mean().reset_index()\n"
   ]
  },
  {
   "cell_type": "code",
   "execution_count": 91,
   "id": "8444ab25",
   "metadata": {},
   "outputs": [],
   "source": [
    "grouped_df = grouped_df.dropna()"
   ]
  },
  {
   "cell_type": "code",
   "execution_count": 92,
   "id": "6d7afd6a",
   "metadata": {},
   "outputs": [
    {
     "name": "stdout",
     "output_type": "stream",
     "text": [
      "<class 'pandas.core.frame.DataFrame'>\n",
      "RangeIndex: 48 entries, 0 to 47\n",
      "Data columns (total 2 columns):\n",
      " #   Column     Non-Null Count  Dtype  \n",
      "---  ------     --------------  -----  \n",
      " 0   solo_data  48 non-null     object \n",
      " 1   compound   48 non-null     float64\n",
      "dtypes: float64(1), object(1)\n",
      "memory usage: 896.0+ bytes\n"
     ]
    }
   ],
   "source": [
    "grouped_df.info()"
   ]
  },
  {
   "cell_type": "code",
   "execution_count": 93,
   "id": "37efaf49",
   "metadata": {},
   "outputs": [],
   "source": [
    "grouped_df['solo_data'] = pd.to_datetime(grouped_df['solo_data'], format='%Y-%m-%d')"
   ]
  },
  {
   "cell_type": "code",
   "execution_count": 94,
   "id": "75764f30",
   "metadata": {},
   "outputs": [],
   "source": [
    "grouped_df['day_num'] = grouped_df['solo_data'].dt.dayofyear"
   ]
  },
  {
   "cell_type": "code",
   "execution_count": 95,
   "id": "b13f1cba",
   "metadata": {},
   "outputs": [],
   "source": [
    "grouped_df1 = grouped_df[grouped_df['solo_data'].dt.month >= 5]"
   ]
  },
  {
   "cell_type": "code",
   "execution_count": 96,
   "id": "325620ca",
   "metadata": {},
   "outputs": [
    {
     "data": {
      "text/plain": [
       "<Figure size 1000x600 with 0 Axes>"
      ]
     },
     "execution_count": 96,
     "metadata": {},
     "output_type": "execute_result"
    },
    {
     "data": {
      "text/plain": [
       "<Figure size 1000x600 with 0 Axes>"
      ]
     },
     "metadata": {},
     "output_type": "display_data"
    }
   ],
   "source": [
    "plt.figure(figsize=(10, 6))  # chart\n"
   ]
  },
  {
   "cell_type": "code",
   "execution_count": 97,
   "id": "102297e1",
   "metadata": {},
   "outputs": [
    {
     "data": {
      "image/png": "[encoded data removed]",
      "text/plain": [
       "<Figure size 640x480 with 1 Axes>"
      ]
     },
     "metadata": {},
     "output_type": "display_data"
    }
   ],
   "source": [
    "plt.plot(grouped_df1['solo_data'], grouped_df1['compound'])  \n",
    "plt.title('Time series average sentiment')  \n",
    "plt.xlabel('Date')  \n",
    "plt.ylabel('label sentiment value')  \n",
    "plt.grid(True) \n",
    "plt.xticks(rotation=45)\n",
    "plt.show()  "
   ]
  },
  {
   "cell_type": "code",
   "execution_count": null,
   "id": "1ca18ab7",
   "metadata": {},
   "outputs": [],
   "source": []
  },
  {
   "cell_type": "code",
   "execution_count": null,
   "id": "37b2f358",
   "metadata": {},
   "outputs": [],
   "source": []
  },
  {
   "cell_type": "code",
   "execution_count": 98,
   "id": "c79be856",
   "metadata": {},
   "outputs": [
    {
     "name": "stdout",
     "output_type": "stream",
     "text": [
      "time series is not stationary (H1 accepted)\n"
     ]
    }
   ],
   "source": [
    "from statsmodels.tsa.stattools import adfuller\n",
    "\n",
    "# test ADF\n",
    "result = adfuller(grouped_df1['compound'])\n",
    "\n",
    "adf_statistic = result[0]\n",
    "p_value = result[1]\n",
    "critical_values = result[4]\n",
    "\n",
    "\n",
    "\n",
    "\n"
   ]
  },
  {
   "cell_type": "code",
   "execution_count": 108,
   "id": "3153d84c",
   "metadata": {},
   "outputs": [
    {
     "name": "stdout",
     "output_type": "stream",
     "text": [
      "time series is not stationary (H1 accepted)\n"
     ]
    }
   ],
   "source": [
    "if p_value < 0.05:\n",
    "    print(\"time series is stationary (Ho rejected)\")\n",
    "else:\n",
    "    print(\"time series is not stationary (H1 accepted)\")\n"
   ]
  },
  {
   "cell_type": "markdown",
   "id": "0915b2a4",
   "metadata": {},
   "source": [
    "# investigation on negative peak 21st of May¶"
   ]
  },
  {
   "cell_type": "code",
   "execution_count": null,
   "id": "fa8c9cea",
   "metadata": {},
   "outputs": [],
   "source": [
    "import pandas as pd\n",
    "import nltk\n",
    "from nltk.corpus import stopwords\n",
    "from nltk.tokenize import word_tokenize\n",
    "from nltk.stem import WordNetLemmatizer\n",
    "from sklearn.feature_extraction.text import CountVectorizer\n",
    "\n"
   ]
  },
  {
   "cell_type": "code",
   "execution_count": null,
   "id": "eb23f9dc",
   "metadata": {},
   "outputs": [],
   "source": [
    "\n",
    "nltk.download('punkt')\n",
    "nltk.download('stopwords')\n",
    "nltk.download('wordnet')"
   ]
  },
  {
   "cell_type": "code",
   "execution_count": 40,
   "id": "3e93d213",
   "metadata": {},
   "outputs": [
    {
     "name": "stderr",
     "output_type": "stream",
     "text": [
      "/var/folders/0r/d37nz4px2lq6fk0fjk6yr55r0000gn/T/ipykernel_790/2057111120.py:1: FutureWarning: Comparison of Timestamp with datetime.date is deprecated in order to match the standard library behavior. In a future version these will be considered non-comparable. Use 'ts == pd.Timestamp(date)' or 'ts.date() == date' instead.\n",
      "  twenty_first_may = merged_df[(merged_df['solo_data'] == pd.to_datetime('2009-05-21'))]\n"
     ]
    }
   ],
   "source": [
    "twenty_first_may = merged_df[(merged_df['solo_data'] == pd.to_datetime('2009-05-21'))]"
   ]
  },
  {
   "cell_type": "code",
   "execution_count": 62,
   "id": "3824d962",
   "metadata": {},
   "outputs": [
    {
     "name": "stdout",
     "output_type": "stream",
     "text": [
      "<class 'pandas.core.frame.DataFrame'>\n",
      "Int64Index: 33004 entries, 575494 to 13010863\n",
      "Data columns (total 17 columns):\n",
      " #   Column        Non-Null Count  Dtype         \n",
      "---  ------        --------------  -----         \n",
      " 0   index         33004 non-null  int64         \n",
      " 1   id            33004 non-null  int64         \n",
      " 2   date          33004 non-null  datetime64[ns]\n",
      " 3   flag          33004 non-null  object        \n",
      " 4   user          33004 non-null  object        \n",
      " 5   text          33004 non-null  object        \n",
      " 6   week          33004 non-null  object        \n",
      " 7   month         33004 non-null  object        \n",
      " 8   day           33004 non-null  object        \n",
      " 9   day_num       33004 non-null  int64         \n",
      " 10  cleaned_text  33004 non-null  object        \n",
      " 11  neg           33004 non-null  float64       \n",
      " 12  neu           33004 non-null  float64       \n",
      " 13  pos           33004 non-null  float64       \n",
      " 14  compound      33004 non-null  float64       \n",
      " 15  label         33004 non-null  int64         \n",
      " 16  solo_data     33004 non-null  object        \n",
      "dtypes: datetime64[ns](1), float64(4), int64(4), object(8)\n",
      "memory usage: 4.5+ MB\n"
     ]
    }
   ],
   "source": [
    "twenty_first_may.info()"
   ]
  },
  {
   "cell_type": "code",
   "execution_count": 52,
   "id": "da34611f",
   "metadata": {},
   "outputs": [],
   "source": [
    "def clean2(text):\n",
    "    \n",
    "    text = text.lower()\n",
    "    tokens = word_tokenize(text)\n",
    "    tokens = [word for word in tokens if word.isalpha() and word not in stopwords.words('english')]\n",
    "    lemmatizer = WordNetLemmatizer()\n",
    "    tokens = [lemmatizer.lemmatize(word) for word in tokens]\n",
    "    return tokens"
   ]
  },
  {
   "cell_type": "code",
   "execution_count": null,
   "id": "695b45ae",
   "metadata": {},
   "outputs": [],
   "source": []
  },
  {
   "cell_type": "code",
   "execution_count": 50,
   "id": "2ccebef2",
   "metadata": {},
   "outputs": [
    {
     "name": "stderr",
     "output_type": "stream",
     "text": [
      "/var/folders/0r/d37nz4px2lq6fk0fjk6yr55r0000gn/T/ipykernel_790/1369968564.py:1: SettingWithCopyWarning: \n",
      "A value is trying to be set on a copy of a slice from a DataFrame.\n",
      "Try using .loc[row_indexer,col_indexer] = value instead\n",
      "\n",
      "See the caveats in the documentation: https://pandas.pydata.org/pandas-docs/stable/user_guide/indexing.html#returning-a-view-versus-a-copy\n",
      "  twenty_first_may['text']=twenty_first_may['text'].astype('string')\n"
     ]
    }
   ],
   "source": [
    "twenty_first_may['text']=twenty_first_may['text'].astype('string')"
   ]
  },
  {
   "cell_type": "code",
   "execution_count": 53,
   "id": "74689389",
   "metadata": {},
   "outputs": [
    {
     "name": "stderr",
     "output_type": "stream",
     "text": [
      "/var/folders/0r/d37nz4px2lq6fk0fjk6yr55r0000gn/T/ipykernel_790/1742615297.py:1: SettingWithCopyWarning: \n",
      "A value is trying to be set on a copy of a slice from a DataFrame.\n",
      "Try using .loc[row_indexer,col_indexer] = value instead\n",
      "\n",
      "See the caveats in the documentation: https://pandas.pydata.org/pandas-docs/stable/user_guide/indexing.html#returning-a-view-versus-a-copy\n",
      "  twenty_first_may['text'] = twenty_first_may['text'].apply(clean2)\n"
     ]
    }
   ],
   "source": [
    "twenty_first_may['text'] = twenty_first_may['text'].apply(clean2)"
   ]
  },
  {
   "cell_type": "code",
   "execution_count": 63,
   "id": "a011d4dd",
   "metadata": {},
   "outputs": [],
   "source": [
    "\n",
    "vec = CountVectorizer()  #  CountVectorizer\n",
    "X = vec.fit_transform([' '.join(text) for text in twenty_first_may['text']])\n",
    "df_words_f = pd.DataFrame(X.toarray(), columns=vec.get_feature_names_out())\n",
    "\n"
   ]
  },
  {
   "cell_type": "code",
   "execution_count": 64,
   "id": "5e7704e7",
   "metadata": {},
   "outputs": [
    {
     "name": "stdout",
     "output_type": "stream",
     "text": [
      "sorry       2333\n",
      "died        2313\n",
      "isplayer    2310\n",
      "thank       1228\n",
      "tired        774\n",
      "bed          233\n",
      "nothing      226\n",
      "good         213\n",
      "ca           210\n",
      "going        205\n",
      "dtype: int64\n"
     ]
    }
   ],
   "source": [
    "# 10 most frequent words\n",
    "word_sum = df_words.sum().sort_values(ascending=False)\n",
    "print(word_sum.head(10))"
   ]
  },
  {
   "cell_type": "code",
   "execution_count": 81,
   "id": "54769a63",
   "metadata": {},
   "outputs": [],
   "source": [
    "df_filtrato = twenty_first_may[twenty_first_may['cleaned_text'].str.contains('died', case=False, na=False)]"
   ]
  },
  {
   "cell_type": "code",
   "execution_count": 82,
   "id": "d3febb8e",
   "metadata": {},
   "outputs": [
    {
     "data": {
      "text/plain": [
       "array(['isplayer died sorry',\n",
       "       'found friend brother died funeral tuesday another friend lost mom mother day',\n",
       "       'rocky start summer cat max died',\n",
       "       'supersweetmack oh sorry thats kind fault show ended super early amp take back car amp phone died'],\n",
       "      dtype=object)"
      ]
     },
     "execution_count": 82,
     "metadata": {},
     "output_type": "execute_result"
    }
   ],
   "source": [
    "df_filtrato['cleaned_text'].unique()"
   ]
  },
  {
   "cell_type": "code",
   "execution_count": null,
   "id": "8256e7a0",
   "metadata": {},
   "outputs": [],
   "source": []
  },
  {
   "cell_type": "markdown",
   "id": "6a3ecc39",
   "metadata": {},
   "source": [
    "# investigation on positive peak 21st of May"
   ]
  },
  {
   "cell_type": "code",
   "execution_count": 65,
   "id": "4bc1223a",
   "metadata": {},
   "outputs": [
    {
     "name": "stderr",
     "output_type": "stream",
     "text": [
      "/var/folders/0r/d37nz4px2lq6fk0fjk6yr55r0000gn/T/ipykernel_790/4066597930.py:1: FutureWarning: Comparison of Timestamp with datetime.date is deprecated in order to match the standard library behavior. In a future version these will be considered non-comparable. Use 'ts == pd.Timestamp(date)' or 'ts.date() == date' instead.\n",
      "  twenty_fifth_may = merged_df[(merged_df['solo_data'] == pd.to_datetime('2009-05-25'))]\n"
     ]
    }
   ],
   "source": [
    "twenty_fifth_may = merged_df[(merged_df['solo_data'] == pd.to_datetime('2009-05-25'))]"
   ]
  },
  {
   "cell_type": "code",
   "execution_count": 66,
   "id": "6718140a",
   "metadata": {},
   "outputs": [
    {
     "name": "stderr",
     "output_type": "stream",
     "text": [
      "/var/folders/0r/d37nz4px2lq6fk0fjk6yr55r0000gn/T/ipykernel_790/1856623546.py:1: SettingWithCopyWarning: \n",
      "A value is trying to be set on a copy of a slice from a DataFrame.\n",
      "Try using .loc[row_indexer,col_indexer] = value instead\n",
      "\n",
      "See the caveats in the documentation: https://pandas.pydata.org/pandas-docs/stable/user_guide/indexing.html#returning-a-view-versus-a-copy\n",
      "  twenty_fifth_may['text']=twenty_fifth_may['text'].astype('string')\n"
     ]
    }
   ],
   "source": [
    "twenty_fifth_may['text']=twenty_fifth_may['text'].astype('string')"
   ]
  },
  {
   "cell_type": "code",
   "execution_count": 69,
   "id": "8ba6a362",
   "metadata": {},
   "outputs": [
    {
     "name": "stderr",
     "output_type": "stream",
     "text": [
      "/var/folders/0r/d37nz4px2lq6fk0fjk6yr55r0000gn/T/ipykernel_790/3468761305.py:1: SettingWithCopyWarning: \n",
      "A value is trying to be set on a copy of a slice from a DataFrame.\n",
      "Try using .loc[row_indexer,col_indexer] = value instead\n",
      "\n",
      "See the caveats in the documentation: https://pandas.pydata.org/pandas-docs/stable/user_guide/indexing.html#returning-a-view-versus-a-copy\n",
      "  twenty_fifth_may['text'] = twenty_fifth_may['text'].apply(clean2)\n"
     ]
    }
   ],
   "source": [
    "twenty_fifth_may['text'] = twenty_fifth_may['text'].apply(clean2)"
   ]
  },
  {
   "cell_type": "code",
   "execution_count": 70,
   "id": "2d89b56f",
   "metadata": {},
   "outputs": [],
   "source": [
    "# CountVectorizer\n",
    "vec = CountVectorizer()\n",
    "X = vec.fit_transform([' '.join(text) for text in twenty_fifth_may['text']])\n",
    "df_words = pd.DataFrame(X.toarray(), columns=vec.get_feature_names_out())\n",
    "\n"
   ]
  },
  {
   "cell_type": "code",
   "execution_count": 72,
   "id": "97d96fc0",
   "metadata": {},
   "outputs": [
    {
     "name": "stdout",
     "output_type": "stream",
     "text": [
      "bored      247\n",
      "welcome    215\n",
      "time        91\n",
      "good        90\n",
      "like        87\n",
      "follow      84\n",
      "laugh       83\n",
      "simple      81\n",
      "online      32\n",
      "back        17\n",
      "dtype: int64\n"
     ]
    }
   ],
   "source": [
    "word_sum = df_words.sum().sort_values(ascending=False)\n",
    "print(word_sum.head(10))"
   ]
  },
  {
   "cell_type": "code",
   "execution_count": 78,
   "id": "0afe3655",
   "metadata": {},
   "outputs": [],
   "source": [
    "df_filtrato = twenty_fifth_may[twenty_fifth_may['cleaned_text'].str.contains('welcome', case=False, na=False)]"
   ]
  },
  {
   "cell_type": "code",
   "execution_count": 80,
   "id": "f819ab6b",
   "metadata": {},
   "outputs": [
    {
     "data": {
      "text/plain": [
       "array(['pathfindersar welcome anything help sock thing im paranoid confess',\n",
       "       'welcome'], dtype=object)"
      ]
     },
     "execution_count": 80,
     "metadata": {},
     "output_type": "execute_result"
    }
   ],
   "source": [
    "df_filtrato['cleaned_text'].unique()"
   ]
  },
  {
   "cell_type": "markdown",
   "id": "d95cc987",
   "metadata": {},
   "source": [
    "# Models"
   ]
  },
  {
   "cell_type": "markdown",
   "id": "1af82498",
   "metadata": {},
   "source": [
    "# fill null values in dates column"
   ]
  },
  {
   "cell_type": "code",
   "execution_count": 109,
   "id": "3c308e7f",
   "metadata": {},
   "outputs": [],
   "source": [
    "import numpy as np"
   ]
  },
  {
   "cell_type": "code",
   "execution_count": 111,
   "id": "31a00de2",
   "metadata": {},
   "outputs": [],
   "source": [
    "grouped_df1.reset_index(inplace=True)"
   ]
  },
  {
   "cell_type": "code",
   "execution_count": 112,
   "id": "f3cefe03",
   "metadata": {},
   "outputs": [],
   "source": [
    "dates = np.array(grouped_df1['solo_data'])  \n"
   ]
  },
  {
   "cell_type": "code",
   "execution_count": 113,
   "id": "16cf240e",
   "metadata": {},
   "outputs": [],
   "source": [
    "values = np.array(grouped_df1['compound'])  "
   ]
  },
  {
   "cell_type": "code",
   "execution_count": 114,
   "id": "0bfb6e2b",
   "metadata": {},
   "outputs": [],
   "source": [
    "numeric_dates = np.arange(len(dates))\n"
   ]
  },
  {
   "cell_type": "code",
   "execution_count": 116,
   "id": "f9c721da",
   "metadata": {},
   "outputs": [],
   "source": [
    "date_min = min(grouped_df1['solo_data'])\n",
    "date_max = max(grouped_df1['solo_data'])"
   ]
  },
  {
   "cell_type": "code",
   "execution_count": 117,
   "id": "d4e542b2",
   "metadata": {},
   "outputs": [],
   "source": [
    "list_dates = grouped_df1['solo_data'].tolist()"
   ]
  },
  {
   "cell_type": "code",
   "execution_count": 118,
   "id": "5faede70",
   "metadata": {},
   "outputs": [
    {
     "name": "stdout",
     "output_type": "stream",
     "text": [
      "[Timestamp('2009-05-01 00:00:00'), Timestamp('2009-05-02 00:00:00'), Timestamp('2009-05-03 00:00:00'), Timestamp('2009-05-04 00:00:00'), Timestamp('2009-05-05 00:00:00'), Timestamp('2009-05-06 00:00:00'), Timestamp('2009-05-07 00:00:00'), Timestamp('2009-05-08 00:00:00'), Timestamp('2009-05-09 00:00:00'), Timestamp('2009-05-10 00:00:00'), Timestamp('2009-05-11 00:00:00'), Timestamp('2009-05-12 00:00:00'), Timestamp('2009-05-13 00:00:00'), Timestamp('2009-05-14 00:00:00'), Timestamp('2009-05-15 00:00:00'), Timestamp('2009-05-16 00:00:00'), Timestamp('2009-05-17 00:00:00'), Timestamp('2009-05-18 00:00:00'), Timestamp('2009-05-19 00:00:00'), Timestamp('2009-05-20 00:00:00'), Timestamp('2009-05-21 00:00:00'), Timestamp('2009-05-22 00:00:00'), Timestamp('2009-05-23 00:00:00'), Timestamp('2009-05-24 00:00:00'), Timestamp('2009-05-25 00:00:00'), Timestamp('2009-05-26 00:00:00'), Timestamp('2009-05-27 00:00:00'), Timestamp('2009-05-28 00:00:00'), Timestamp('2009-05-29 00:00:00'), Timestamp('2009-05-30 00:00:00'), Timestamp('2009-05-31 00:00:00'), Timestamp('2009-06-01 00:00:00'), Timestamp('2009-06-02 00:00:00'), Timestamp('2009-06-03 00:00:00'), Timestamp('2009-06-04 00:00:00'), Timestamp('2009-06-05 00:00:00'), Timestamp('2009-06-06 00:00:00'), Timestamp('2009-06-07 00:00:00'), Timestamp('2009-06-08 00:00:00'), Timestamp('2009-06-09 00:00:00'), Timestamp('2009-06-10 00:00:00'), Timestamp('2009-06-11 00:00:00'), Timestamp('2009-06-12 00:00:00'), Timestamp('2009-06-13 00:00:00'), Timestamp('2009-06-14 00:00:00'), Timestamp('2009-06-15 00:00:00'), Timestamp('2009-06-16 00:00:00'), Timestamp('2009-06-17 00:00:00'), Timestamp('2009-06-18 00:00:00'), Timestamp('2009-06-19 00:00:00'), Timestamp('2009-06-20 00:00:00'), Timestamp('2009-06-21 00:00:00'), Timestamp('2009-06-22 00:00:00'), Timestamp('2009-06-23 00:00:00'), Timestamp('2009-06-24 00:00:00'), Timestamp('2009-06-25 00:00:00')]\n"
     ]
    }
   ],
   "source": [
    "from datetime import datetime, timedelta\n",
    "\n",
    "delta = date_max - date_min\n",
    "\n",
    "# Crea una lista di date nel periodo\n",
    "date_list = [date_min + timedelta(days=i) for i in range(delta.days + 1)]\n",
    "\n",
    "# Stampa la lista di date\n",
    "print(date_list)\n"
   ]
  },
  {
   "cell_type": "code",
   "execution_count": 119,
   "id": "477ff5b7",
   "metadata": {},
   "outputs": [
    {
     "data": {
      "text/plain": [
       "[Timestamp('2009-05-01 00:00:00'),\n",
       " Timestamp('2009-05-02 00:00:00'),\n",
       " Timestamp('2009-05-03 00:00:00'),\n",
       " Timestamp('2009-05-04 00:00:00'),\n",
       " Timestamp('2009-05-09 00:00:00'),\n",
       " Timestamp('2009-05-10 00:00:00'),\n",
       " Timestamp('2009-05-11 00:00:00'),\n",
       " Timestamp('2009-05-13 00:00:00'),\n",
       " Timestamp('2009-05-14 00:00:00'),\n",
       " Timestamp('2009-05-16 00:00:00'),\n",
       " Timestamp('2009-05-17 00:00:00'),\n",
       " Timestamp('2009-05-18 00:00:00'),\n",
       " Timestamp('2009-05-21 00:00:00'),\n",
       " Timestamp('2009-05-22 00:00:00'),\n",
       " Timestamp('2009-05-23 00:00:00'),\n",
       " Timestamp('2009-05-25 00:00:00'),\n",
       " Timestamp('2009-05-26 00:00:00'),\n",
       " Timestamp('2009-05-27 00:00:00'),\n",
       " Timestamp('2009-05-28 00:00:00'),\n",
       " Timestamp('2009-05-29 00:00:00'),\n",
       " Timestamp('2009-05-30 00:00:00'),\n",
       " Timestamp('2009-05-31 00:00:00'),\n",
       " Timestamp('2009-06-01 00:00:00'),\n",
       " Timestamp('2009-06-02 00:00:00'),\n",
       " Timestamp('2009-06-03 00:00:00'),\n",
       " Timestamp('2009-06-04 00:00:00'),\n",
       " Timestamp('2009-06-05 00:00:00'),\n",
       " Timestamp('2009-06-06 00:00:00'),\n",
       " Timestamp('2009-06-07 00:00:00'),\n",
       " Timestamp('2009-06-14 00:00:00'),\n",
       " Timestamp('2009-06-15 00:00:00'),\n",
       " Timestamp('2009-06-16 00:00:00'),\n",
       " Timestamp('2009-06-17 00:00:00'),\n",
       " Timestamp('2009-06-18 00:00:00'),\n",
       " Timestamp('2009-06-19 00:00:00'),\n",
       " Timestamp('2009-06-20 00:00:00'),\n",
       " Timestamp('2009-06-21 00:00:00'),\n",
       " Timestamp('2009-06-22 00:00:00'),\n",
       " Timestamp('2009-06-23 00:00:00'),\n",
       " Timestamp('2009-06-24 00:00:00'),\n",
       " Timestamp('2009-06-25 00:00:00')]"
      ]
     },
     "execution_count": 119,
     "metadata": {},
     "output_type": "execute_result"
    }
   ],
   "source": [
    "list_dates"
   ]
  },
  {
   "cell_type": "code",
   "execution_count": 120,
   "id": "a922b064",
   "metadata": {},
   "outputs": [
    {
     "name": "stdout",
     "output_type": "stream",
     "text": [
      "[Timestamp('2009-05-06 00:00:00'), Timestamp('2009-05-05 00:00:00'), Timestamp('2009-06-08 00:00:00'), Timestamp('2009-06-11 00:00:00'), Timestamp('2009-05-08 00:00:00'), Timestamp('2009-05-20 00:00:00'), Timestamp('2009-06-10 00:00:00'), Timestamp('2009-05-07 00:00:00'), Timestamp('2009-06-09 00:00:00'), Timestamp('2009-05-15 00:00:00'), Timestamp('2009-05-19 00:00:00'), Timestamp('2009-05-24 00:00:00'), Timestamp('2009-06-12 00:00:00'), Timestamp('2009-05-12 00:00:00'), Timestamp('2009-06-13 00:00:00')]\n"
     ]
    }
   ],
   "source": [
    "valori_mancanti = list(set(date_list) - set(list_dates))\n",
    "\n",
    "print(valori_mancanti)"
   ]
  },
  {
   "cell_type": "code",
   "execution_count": 121,
   "id": "af500eb3",
   "metadata": {},
   "outputs": [],
   "source": [
    "df5 = pd.DataFrame({'solo_data': valori_mancanti})\n"
   ]
  },
  {
   "cell_type": "code",
   "execution_count": 122,
   "id": "6ec465e5",
   "metadata": {},
   "outputs": [],
   "source": [
    "df5['compound']= ' '"
   ]
  },
  {
   "cell_type": "code",
   "execution_count": 123,
   "id": "7221fd3a",
   "metadata": {},
   "outputs": [
    {
     "name": "stdout",
     "output_type": "stream",
     "text": [
      "<class 'pandas.core.frame.DataFrame'>\n",
      "RangeIndex: 15 entries, 0 to 14\n",
      "Data columns (total 2 columns):\n",
      " #   Column     Non-Null Count  Dtype         \n",
      "---  ------     --------------  -----         \n",
      " 0   solo_data  15 non-null     datetime64[ns]\n",
      " 1   compound   15 non-null     object        \n",
      "dtypes: datetime64[ns](1), object(1)\n",
      "memory usage: 368.0+ bytes\n"
     ]
    }
   ],
   "source": [
    "df5.info()"
   ]
  },
  {
   "cell_type": "code",
   "execution_count": 124,
   "id": "a74af6ff",
   "metadata": {},
   "outputs": [],
   "source": [
    "df5['solo_data'] = pd.to_datetime(df5['solo_data'])"
   ]
  },
  {
   "cell_type": "code",
   "execution_count": 125,
   "id": "fc229488",
   "metadata": {},
   "outputs": [],
   "source": [
    "df5 = df5.sort_values(by='solo_data')"
   ]
  },
  {
   "cell_type": "code",
   "execution_count": 126,
   "id": "311da390",
   "metadata": {},
   "outputs": [
    {
     "data": {
      "text/html": [
       "<div>\n",
       "<style scoped>\n",
       "    .dataframe tbody tr th:only-of-type {\n",
       "        vertical-align: middle;\n",
       "    }\n",
       "\n",
       "    .dataframe tbody tr th {\n",
       "        vertical-align: top;\n",
       "    }\n",
       "\n",
       "    .dataframe thead th {\n",
       "        text-align: right;\n",
       "    }\n",
       "</style>\n",
       "<table border=\"1\" class=\"dataframe\">\n",
       "  <thead>\n",
       "    <tr style=\"text-align: right;\">\n",
       "      <th></th>\n",
       "      <th>solo_data</th>\n",
       "      <th>compound</th>\n",
       "      <th>day_num</th>\n",
       "    </tr>\n",
       "  </thead>\n",
       "  <tbody>\n",
       "    <tr>\n",
       "      <th>0</th>\n",
       "      <td>2009-05-01</td>\n",
       "      <td>0.053553</td>\n",
       "      <td>121</td>\n",
       "    </tr>\n",
       "    <tr>\n",
       "      <th>1</th>\n",
       "      <td>2009-05-02</td>\n",
       "      <td>0.085993</td>\n",
       "      <td>122</td>\n",
       "    </tr>\n",
       "    <tr>\n",
       "      <th>2</th>\n",
       "      <td>2009-05-03</td>\n",
       "      <td>0.063115</td>\n",
       "      <td>123</td>\n",
       "    </tr>\n",
       "    <tr>\n",
       "      <th>3</th>\n",
       "      <td>2009-05-04</td>\n",
       "      <td>0.081469</td>\n",
       "      <td>124</td>\n",
       "    </tr>\n",
       "    <tr>\n",
       "      <th>4</th>\n",
       "      <td>2009-05-09</td>\n",
       "      <td>0.102651</td>\n",
       "      <td>129</td>\n",
       "    </tr>\n",
       "    <tr>\n",
       "      <th>5</th>\n",
       "      <td>2009-05-10</td>\n",
       "      <td>0.173558</td>\n",
       "      <td>130</td>\n",
       "    </tr>\n",
       "    <tr>\n",
       "      <th>6</th>\n",
       "      <td>2009-05-11</td>\n",
       "      <td>0.092621</td>\n",
       "      <td>131</td>\n",
       "    </tr>\n",
       "    <tr>\n",
       "      <th>7</th>\n",
       "      <td>2009-05-13</td>\n",
       "      <td>0.056954</td>\n",
       "      <td>133</td>\n",
       "    </tr>\n",
       "    <tr>\n",
       "      <th>8</th>\n",
       "      <td>2009-05-14</td>\n",
       "      <td>0.062869</td>\n",
       "      <td>134</td>\n",
       "    </tr>\n",
       "    <tr>\n",
       "      <th>9</th>\n",
       "      <td>2009-05-16</td>\n",
       "      <td>0.052799</td>\n",
       "      <td>136</td>\n",
       "    </tr>\n",
       "    <tr>\n",
       "      <th>10</th>\n",
       "      <td>2009-05-17</td>\n",
       "      <td>0.087590</td>\n",
       "      <td>137</td>\n",
       "    </tr>\n",
       "    <tr>\n",
       "      <th>11</th>\n",
       "      <td>2009-05-18</td>\n",
       "      <td>0.089445</td>\n",
       "      <td>138</td>\n",
       "    </tr>\n",
       "    <tr>\n",
       "      <th>12</th>\n",
       "      <td>2009-05-21</td>\n",
       "      <td>-0.022380</td>\n",
       "      <td>141</td>\n",
       "    </tr>\n",
       "    <tr>\n",
       "      <th>13</th>\n",
       "      <td>2009-05-22</td>\n",
       "      <td>0.089572</td>\n",
       "      <td>142</td>\n",
       "    </tr>\n",
       "    <tr>\n",
       "      <th>14</th>\n",
       "      <td>2009-05-23</td>\n",
       "      <td>0.061193</td>\n",
       "      <td>143</td>\n",
       "    </tr>\n",
       "    <tr>\n",
       "      <th>15</th>\n",
       "      <td>2009-05-25</td>\n",
       "      <td>0.183268</td>\n",
       "      <td>145</td>\n",
       "    </tr>\n",
       "    <tr>\n",
       "      <th>16</th>\n",
       "      <td>2009-05-26</td>\n",
       "      <td>0.064447</td>\n",
       "      <td>146</td>\n",
       "    </tr>\n",
       "    <tr>\n",
       "      <th>17</th>\n",
       "      <td>2009-05-27</td>\n",
       "      <td>0.068312</td>\n",
       "      <td>147</td>\n",
       "    </tr>\n",
       "    <tr>\n",
       "      <th>18</th>\n",
       "      <td>2009-05-28</td>\n",
       "      <td>0.061534</td>\n",
       "      <td>148</td>\n",
       "    </tr>\n",
       "    <tr>\n",
       "      <th>19</th>\n",
       "      <td>2009-05-29</td>\n",
       "      <td>0.059700</td>\n",
       "      <td>149</td>\n",
       "    </tr>\n",
       "    <tr>\n",
       "      <th>20</th>\n",
       "      <td>2009-05-30</td>\n",
       "      <td>0.071590</td>\n",
       "      <td>150</td>\n",
       "    </tr>\n",
       "    <tr>\n",
       "      <th>21</th>\n",
       "      <td>2009-05-31</td>\n",
       "      <td>0.066942</td>\n",
       "      <td>151</td>\n",
       "    </tr>\n",
       "    <tr>\n",
       "      <th>22</th>\n",
       "      <td>2009-06-01</td>\n",
       "      <td>0.060314</td>\n",
       "      <td>152</td>\n",
       "    </tr>\n",
       "    <tr>\n",
       "      <th>23</th>\n",
       "      <td>2009-06-02</td>\n",
       "      <td>0.074808</td>\n",
       "      <td>153</td>\n",
       "    </tr>\n",
       "    <tr>\n",
       "      <th>24</th>\n",
       "      <td>2009-06-03</td>\n",
       "      <td>0.062782</td>\n",
       "      <td>154</td>\n",
       "    </tr>\n",
       "    <tr>\n",
       "      <th>25</th>\n",
       "      <td>2009-06-04</td>\n",
       "      <td>0.057083</td>\n",
       "      <td>155</td>\n",
       "    </tr>\n",
       "    <tr>\n",
       "      <th>26</th>\n",
       "      <td>2009-06-05</td>\n",
       "      <td>0.058845</td>\n",
       "      <td>156</td>\n",
       "    </tr>\n",
       "    <tr>\n",
       "      <th>27</th>\n",
       "      <td>2009-06-06</td>\n",
       "      <td>0.073062</td>\n",
       "      <td>157</td>\n",
       "    </tr>\n",
       "    <tr>\n",
       "      <th>28</th>\n",
       "      <td>2009-06-07</td>\n",
       "      <td>0.099471</td>\n",
       "      <td>158</td>\n",
       "    </tr>\n",
       "    <tr>\n",
       "      <th>29</th>\n",
       "      <td>2009-06-14</td>\n",
       "      <td>0.063759</td>\n",
       "      <td>165</td>\n",
       "    </tr>\n",
       "    <tr>\n",
       "      <th>30</th>\n",
       "      <td>2009-06-15</td>\n",
       "      <td>0.092827</td>\n",
       "      <td>166</td>\n",
       "    </tr>\n",
       "    <tr>\n",
       "      <th>31</th>\n",
       "      <td>2009-06-16</td>\n",
       "      <td>0.035378</td>\n",
       "      <td>167</td>\n",
       "    </tr>\n",
       "    <tr>\n",
       "      <th>32</th>\n",
       "      <td>2009-06-17</td>\n",
       "      <td>-0.033742</td>\n",
       "      <td>168</td>\n",
       "    </tr>\n",
       "    <tr>\n",
       "      <th>33</th>\n",
       "      <td>2009-06-18</td>\n",
       "      <td>-0.025353</td>\n",
       "      <td>169</td>\n",
       "    </tr>\n",
       "    <tr>\n",
       "      <th>34</th>\n",
       "      <td>2009-06-19</td>\n",
       "      <td>-0.023384</td>\n",
       "      <td>170</td>\n",
       "    </tr>\n",
       "    <tr>\n",
       "      <th>35</th>\n",
       "      <td>2009-06-20</td>\n",
       "      <td>-0.024066</td>\n",
       "      <td>171</td>\n",
       "    </tr>\n",
       "    <tr>\n",
       "      <th>36</th>\n",
       "      <td>2009-06-21</td>\n",
       "      <td>-0.020022</td>\n",
       "      <td>172</td>\n",
       "    </tr>\n",
       "    <tr>\n",
       "      <th>37</th>\n",
       "      <td>2009-06-22</td>\n",
       "      <td>-0.028003</td>\n",
       "      <td>173</td>\n",
       "    </tr>\n",
       "    <tr>\n",
       "      <th>38</th>\n",
       "      <td>2009-06-23</td>\n",
       "      <td>-0.023973</td>\n",
       "      <td>174</td>\n",
       "    </tr>\n",
       "    <tr>\n",
       "      <th>39</th>\n",
       "      <td>2009-06-24</td>\n",
       "      <td>-0.034180</td>\n",
       "      <td>175</td>\n",
       "    </tr>\n",
       "    <tr>\n",
       "      <th>40</th>\n",
       "      <td>2009-06-25</td>\n",
       "      <td>-0.028472</td>\n",
       "      <td>176</td>\n",
       "    </tr>\n",
       "  </tbody>\n",
       "</table>\n",
       "</div>"
      ],
      "text/plain": [
       "    solo_data  compound  day_num\n",
       "0  2009-05-01  0.053553      121\n",
       "1  2009-05-02  0.085993      122\n",
       "2  2009-05-03  0.063115      123\n",
       "3  2009-05-04  0.081469      124\n",
       "4  2009-05-09  0.102651      129\n",
       "5  2009-05-10  0.173558      130\n",
       "6  2009-05-11  0.092621      131\n",
       "7  2009-05-13  0.056954      133\n",
       "8  2009-05-14  0.062869      134\n",
       "9  2009-05-16  0.052799      136\n",
       "10 2009-05-17  0.087590      137\n",
       "11 2009-05-18  0.089445      138\n",
       "12 2009-05-21 -0.022380      141\n",
       "13 2009-05-22  0.089572      142\n",
       "14 2009-05-23  0.061193      143\n",
       "15 2009-05-25  0.183268      145\n",
       "16 2009-05-26  0.064447      146\n",
       "17 2009-05-27  0.068312      147\n",
       "18 2009-05-28  0.061534      148\n",
       "19 2009-05-29  0.059700      149\n",
       "20 2009-05-30  0.071590      150\n",
       "21 2009-05-31  0.066942      151\n",
       "22 2009-06-01  0.060314      152\n",
       "23 2009-06-02  0.074808      153\n",
       "24 2009-06-03  0.062782      154\n",
       "25 2009-06-04  0.057083      155\n",
       "26 2009-06-05  0.058845      156\n",
       "27 2009-06-06  0.073062      157\n",
       "28 2009-06-07  0.099471      158\n",
       "29 2009-06-14  0.063759      165\n",
       "30 2009-06-15  0.092827      166\n",
       "31 2009-06-16  0.035378      167\n",
       "32 2009-06-17 -0.033742      168\n",
       "33 2009-06-18 -0.025353      169\n",
       "34 2009-06-19 -0.023384      170\n",
       "35 2009-06-20 -0.024066      171\n",
       "36 2009-06-21 -0.020022      172\n",
       "37 2009-06-22 -0.028003      173\n",
       "38 2009-06-23 -0.023973      174\n",
       "39 2009-06-24 -0.034180      175\n",
       "40 2009-06-25 -0.028472      176"
      ]
     },
     "execution_count": 126,
     "metadata": {},
     "output_type": "execute_result"
    }
   ],
   "source": [
    "grouped_df1"
   ]
  },
  {
   "cell_type": "code",
   "execution_count": 127,
   "id": "ce1cd47d",
   "metadata": {},
   "outputs": [],
   "source": [
    "df5['compound'].replace(' ', pd.NA, inplace=True)"
   ]
  },
  {
   "cell_type": "code",
   "execution_count": 128,
   "id": "5c110519",
   "metadata": {},
   "outputs": [],
   "source": [
    "df_concatenato = pd.concat([grouped_df1, df5], axis=0)"
   ]
  },
  {
   "cell_type": "code",
   "execution_count": 129,
   "id": "19023c4e",
   "metadata": {},
   "outputs": [
    {
     "name": "stdout",
     "output_type": "stream",
     "text": [
      "<class 'pandas.core.frame.DataFrame'>\n",
      "Int64Index: 56 entries, 0 to 14\n",
      "Data columns (total 3 columns):\n",
      " #   Column     Non-Null Count  Dtype         \n",
      "---  ------     --------------  -----         \n",
      " 0   solo_data  56 non-null     datetime64[ns]\n",
      " 1   compound   41 non-null     float64       \n",
      " 2   day_num    41 non-null     float64       \n",
      "dtypes: datetime64[ns](1), float64(2)\n",
      "memory usage: 1.8 KB\n"
     ]
    }
   ],
   "source": [
    "df_concatenato.info()"
   ]
  },
  {
   "cell_type": "code",
   "execution_count": 130,
   "id": "f922d58c",
   "metadata": {},
   "outputs": [],
   "source": [
    "df_concatenato['solo_data'] = pd.to_datetime(df_concatenato['solo_data'])"
   ]
  },
  {
   "cell_type": "code",
   "execution_count": 131,
   "id": "01c996e1",
   "metadata": {},
   "outputs": [],
   "source": [
    "df_concatenato['day_num'] = df_concatenato['solo_data'].dt.dayofyear"
   ]
  },
  {
   "cell_type": "code",
   "execution_count": 132,
   "id": "3b410860",
   "metadata": {},
   "outputs": [],
   "source": [
    "df_concatenato = df_concatenato.sort_values(by='solo_data')"
   ]
  },
  {
   "cell_type": "code",
   "execution_count": 133,
   "id": "3f6a2a84",
   "metadata": {},
   "outputs": [],
   "source": [
    "df_concatenato.sort_values(by=\"solo_data\", inplace=True)\n",
    "\n"
   ]
  },
  {
   "cell_type": "code",
   "execution_count": 134,
   "id": "2c9227a5",
   "metadata": {},
   "outputs": [],
   "source": [
    "df_concatenato['compound'] = df_concatenato['compound'].replace(' ', np.nan)\n",
    "\n"
   ]
  },
  {
   "cell_type": "code",
   "execution_count": 137,
   "id": "2d0439ba",
   "metadata": {},
   "outputs": [],
   "source": [
    "df_concatenato[\"compound\"].fillna(method='ffill', inplace=True) # Forward Fill to column \"compound\""
   ]
  },
  {
   "cell_type": "code",
   "execution_count": 138,
   "id": "8335c5db",
   "metadata": {},
   "outputs": [
    {
     "name": "stdout",
     "output_type": "stream",
     "text": [
      "<class 'pandas.core.frame.DataFrame'>\n",
      "Int64Index: 56 entries, 0 to 40\n",
      "Data columns (total 3 columns):\n",
      " #   Column     Non-Null Count  Dtype         \n",
      "---  ------     --------------  -----         \n",
      " 0   solo_data  56 non-null     datetime64[ns]\n",
      " 1   compound   56 non-null     float64       \n",
      " 2   day_num    56 non-null     int64         \n",
      "dtypes: datetime64[ns](1), float64(1), int64(1)\n",
      "memory usage: 1.8 KB\n"
     ]
    }
   ],
   "source": [
    "df_concatenato.info()"
   ]
  },
  {
   "cell_type": "code",
   "execution_count": 139,
   "id": "5126332e",
   "metadata": {},
   "outputs": [],
   "source": [
    "\n",
    "df_concatenato = df_concatenato.set_index('solo_data')"
   ]
  },
  {
   "cell_type": "code",
   "execution_count": 170,
   "id": "b0fdfd5f",
   "metadata": {},
   "outputs": [],
   "source": [
    "from scipy.stats import shapiro\n",
    "stat, p = shapiro(df_concatenato[\"compound\"])\n"
   ]
  },
  {
   "cell_type": "code",
   "execution_count": 171,
   "id": "563dbefc",
   "metadata": {},
   "outputs": [
    {
     "data": {
      "text/plain": [
       "7.621965323778568e-06"
      ]
     },
     "execution_count": 171,
     "metadata": {},
     "output_type": "execute_result"
    }
   ],
   "source": [
    "p"
   ]
  },
  {
   "cell_type": "markdown",
   "id": "ab219859",
   "metadata": {},
   "source": [
    "# decompose the time series"
   ]
  },
  {
   "cell_type": "code",
   "execution_count": 140,
   "id": "62aee592",
   "metadata": {},
   "outputs": [],
   "source": [
    "from statsmodels.tsa.seasonal import seasonal_decompose"
   ]
  },
  {
   "cell_type": "code",
   "execution_count": 145,
   "id": "92a3342a",
   "metadata": {},
   "outputs": [],
   "source": [
    "decomposition = seasonal_decompose(df_concatenato['compound'], model='additive')"
   ]
  },
  {
   "cell_type": "code",
   "execution_count": 142,
   "id": "72baea15",
   "metadata": {},
   "outputs": [],
   "source": [
    "trend = decomposition.trend\n",
    "seasonal = decomposition.seasonal\n",
    "residual = decomposition.resid"
   ]
  },
  {
   "cell_type": "code",
   "execution_count": 143,
   "id": "c445091e",
   "metadata": {},
   "outputs": [
    {
     "data": {
      "image/png": "[encoded data removed]",
      "text/plain": [
       "<Figure size 640x480 with 4 Axes>"
      ]
     },
     "execution_count": 143,
     "metadata": {},
     "output_type": "execute_result"
    },
    {
     "data": {
      "image/png": "[encoded data removed]",
      "text/plain": [
       "<Figure size 640x480 with 4 Axes>"
      ]
     },
     "metadata": {},
     "output_type": "display_data"
    }
   ],
   "source": [
    "decomposition.plot()"
   ]
  },
  {
   "cell_type": "code",
   "execution_count": 163,
   "id": "a9e5cc40",
   "metadata": {},
   "outputs": [],
   "source": [
    "df_diff = df_concatenato['compound'].diff().dropna()"
   ]
  },
  {
   "cell_type": "code",
   "execution_count": 151,
   "id": "6526a036",
   "metadata": {},
   "outputs": [
    {
     "name": "stdout",
     "output_type": "stream",
     "text": [
      "<class 'pandas.core.series.Series'>\n",
      "DatetimeIndex: 55 entries, 2009-05-02 to 2009-06-25\n",
      "Series name: compound\n",
      "Non-Null Count  Dtype  \n",
      "--------------  -----  \n",
      "55 non-null     float64\n",
      "dtypes: float64(1)\n",
      "memory usage: 880.0 bytes\n"
     ]
    }
   ],
   "source": [
    "df_diff.info()"
   ]
  },
  {
   "cell_type": "code",
   "execution_count": 152,
   "id": "254e5605",
   "metadata": {},
   "outputs": [],
   "source": [
    "from statsmodels.tsa.stattools import adfuller\n",
    "\n",
    "# test ADF\n",
    "result = adfuller(df_diff)\n",
    "\n",
    "adf_statistic = result[0]\n",
    "p_value = result[1]\n",
    "critical_values = result[4]"
   ]
  },
  {
   "cell_type": "code",
   "execution_count": 153,
   "id": "04753ee3",
   "metadata": {},
   "outputs": [
    {
     "name": "stdout",
     "output_type": "stream",
     "text": [
      "time series is stationary (Ho rejected)\n"
     ]
    }
   ],
   "source": [
    "if p_value < 0.05:\n",
    "    print(\"time series is stationary (Ho rejected)\")\n",
    "else:\n",
    "    print(\"time series is not stationary (H1 accepted)\")\n"
   ]
  },
  {
   "cell_type": "markdown",
   "id": "380484a0",
   "metadata": {},
   "source": [
    "# normalize data"
   ]
  },
  {
   "cell_type": "code",
   "execution_count": 154,
   "id": "e88f1d56",
   "metadata": {},
   "outputs": [],
   "source": [
    "from sklearn.preprocessing import MinMaxScaler"
   ]
  },
  {
   "cell_type": "code",
   "execution_count": 161,
   "id": "c913e298",
   "metadata": {},
   "outputs": [],
   "source": [
    "scaler = MinMaxScaler()\n"
   ]
  },
  {
   "cell_type": "code",
   "execution_count": 164,
   "id": "11c6a1d5",
   "metadata": {},
   "outputs": [],
   "source": [
    "date_index = df_diff.index\n",
    "\n"
   ]
  },
  {
   "cell_type": "code",
   "execution_count": 331,
   "id": "2d3f0fac",
   "metadata": {},
   "outputs": [],
   "source": [
    "df_diff_scaled = scaler.fit_transform(df_diff.values.reshape(-1, 1))"
   ]
  },
  {
   "cell_type": "code",
   "execution_count": 332,
   "id": "bb9df053",
   "metadata": {},
   "outputs": [],
   "source": [
    "df_diff_scaled = pd.Series(df_diff_scaled.flatten(), index=date_index)"
   ]
  },
  {
   "cell_type": "code",
   "execution_count": 333,
   "id": "fd25d42f",
   "metadata": {},
   "outputs": [],
   "source": [
    "test_set_start_index = len(df_diff_scaled) - 7\n",
    "\n",
    "# split dataset into training and test set\n",
    "train_set = df_diff.iloc[:test_set_start_index]\n",
    "test_set= df_diff.iloc[test_set_start_index:]"
   ]
  },
  {
   "cell_type": "code",
   "execution_count": 334,
   "id": "3feda03d",
   "metadata": {},
   "outputs": [
    {
     "data": {
      "text/plain": [
       "solo_data\n",
       "2009-06-19    0.001969\n",
       "2009-06-20   -0.000683\n",
       "2009-06-21    0.004045\n",
       "2009-06-22   -0.007981\n",
       "2009-06-23    0.004030\n",
       "2009-06-24   -0.010207\n",
       "2009-06-25    0.005708\n",
       "Name: compound, dtype: float64"
      ]
     },
     "execution_count": 334,
     "metadata": {},
     "output_type": "execute_result"
    }
   ],
   "source": [
    "test_set"
   ]
  },
  {
   "cell_type": "markdown",
   "id": "5c1aa67b",
   "metadata": {},
   "source": [
    "# arima"
   ]
  },
  {
   "cell_type": "code",
   "execution_count": null,
   "id": "5fd98112",
   "metadata": {},
   "outputs": [],
   "source": []
  },
  {
   "cell_type": "code",
   "execution_count": 335,
   "id": "0af9e6f6",
   "metadata": {},
   "outputs": [],
   "source": [
    "import pandas as pd\n",
    "import numpy as np\n",
    "from statsmodels.tsa.arima.model import ARIMA\n",
    "from sklearn.model_selection import GridSearchCV\n",
    "from pmdarima import auto_arima\n"
   ]
  },
  {
   "cell_type": "code",
   "execution_count": 336,
   "id": "47f95e5c",
   "metadata": {},
   "outputs": [],
   "source": [
    "p_values = range(0, 3)  # Range per p\n",
    "q_values = range(0, 3) \n",
    "d_values = range(0, 3)\n",
    "# Range per q"
   ]
  },
  {
   "cell_type": "code",
   "execution_count": 337,
   "id": "5fa8547b",
   "metadata": {},
   "outputs": [
    {
     "name": "stdout",
     "output_type": "stream",
     "text": [
      "Performing stepwise search to minimize aic\n",
      " ARIMA(0,1,0)(0,0,0)[0] intercept   : AIC=-111.269, Time=0.03 sec\n",
      " ARIMA(1,1,0)(0,0,0)[0] intercept   : AIC=-136.024, Time=0.03 sec\n",
      " ARIMA(0,1,1)(0,0,0)[0] intercept   : AIC=inf, Time=0.05 sec\n",
      " ARIMA(0,1,0)(0,0,0)[0]             : AIC=-113.266, Time=0.01 sec\n",
      " ARIMA(2,1,0)(0,0,0)[0] intercept   : AIC=-156.434, Time=0.04 sec\n",
      " ARIMA(2,1,1)(0,0,0)[0] intercept   : AIC=inf, Time=0.09 sec\n",
      " ARIMA(1,1,1)(0,0,0)[0] intercept   : AIC=inf, Time=0.07 sec\n",
      " ARIMA(2,1,0)(0,0,0)[0]             : AIC=-158.247, Time=0.02 sec\n",
      " ARIMA(1,1,0)(0,0,0)[0]             : AIC=-138.001, Time=0.01 sec\n",
      " ARIMA(2,1,1)(0,0,0)[0]             : AIC=-163.194, Time=0.07 sec\n",
      " ARIMA(1,1,1)(0,0,0)[0]             : AIC=inf, Time=0.05 sec\n",
      " ARIMA(2,1,2)(0,0,0)[0]             : AIC=-164.337, Time=0.10 sec\n",
      " ARIMA(1,1,2)(0,0,0)[0]             : AIC=-162.698, Time=0.07 sec\n",
      " ARIMA(2,1,2)(0,0,0)[0] intercept   : AIC=-163.530, Time=0.11 sec\n",
      "\n",
      "Best model:  ARIMA(2,1,2)(0,0,0)[0]          \n",
      "Total fit time: 0.756 seconds\n"
     ]
    }
   ],
   "source": [
    "grid_search =  auto_arima(train_set, # grid search using auto_arima\n",
    "                        start_p=min(p_values),\n",
    "                        start_q=min(q_values),\n",
    "                        max_p=max(p_values),\n",
    "                        max_q=max(q_values),\n",
    "                        d=1,\n",
    "                        seasonal=False,  # ARIMA non stagionale\n",
    "                        stepwise=True,  # Esecuzione passo-passo\n",
    "                        suppress_warnings=True,  # Nascondi avvisi\n",
    "                        error_action=\"ignore\",  # Ignora errori\n",
    "                        trace=True)  # Mostra il percorso della ricerca\n",
    "\n",
    "\n"
   ]
  },
  {
   "cell_type": "code",
   "execution_count": 338,
   "id": "023d601c",
   "metadata": {},
   "outputs": [
    {
     "name": "stderr",
     "output_type": "stream",
     "text": [
      "/Users/beatricebuttiglione/anaconda3/lib/python3.10/site-packages/statsmodels/tsa/base/tsa_model.py:473: ValueWarning: No frequency information was provided, so inferred frequency D will be used.\n",
      "  self._init_dates(dates, freq)\n",
      "/Users/beatricebuttiglione/anaconda3/lib/python3.10/site-packages/statsmodels/tsa/base/tsa_model.py:473: ValueWarning: No frequency information was provided, so inferred frequency D will be used.\n",
      "  self._init_dates(dates, freq)\n",
      "/Users/beatricebuttiglione/anaconda3/lib/python3.10/site-packages/statsmodels/tsa/base/tsa_model.py:473: ValueWarning: No frequency information was provided, so inferred frequency D will be used.\n",
      "  self._init_dates(dates, freq)\n"
     ]
    }
   ],
   "source": [
    "model = ARIMA(train_set, order=(2, 1, 2))\n"
   ]
  },
  {
   "cell_type": "code",
   "execution_count": 339,
   "id": "1effaf6c",
   "metadata": {},
   "outputs": [
    {
     "name": "stderr",
     "output_type": "stream",
     "text": [
      "/Users/beatricebuttiglione/anaconda3/lib/python3.10/site-packages/statsmodels/base/model.py:607: ConvergenceWarning: Maximum Likelihood optimization failed to converge. Check mle_retvals\n",
      "  warnings.warn(\"Maximum Likelihood optimization failed to \"\n"
     ]
    }
   ],
   "source": [
    "model_fit = model.fit()\n",
    "\n"
   ]
  },
  {
   "cell_type": "code",
   "execution_count": 340,
   "id": "b2f0404e",
   "metadata": {},
   "outputs": [],
   "source": [
    "predictions = model_fit.forecast(7)"
   ]
  },
  {
   "cell_type": "code",
   "execution_count": 341,
   "id": "7fc7915e",
   "metadata": {},
   "outputs": [
    {
     "data": {
      "text/plain": [
       "2009-06-19   -0.007977\n",
       "2009-06-20   -0.004062\n",
       "2009-06-21   -0.000431\n",
       "2009-06-22   -0.006450\n",
       "2009-06-23   -0.001448\n",
       "2009-06-24   -0.004129\n",
       "2009-06-25   -0.003565\n",
       "Freq: D, Name: predicted_mean, dtype: float64"
      ]
     },
     "execution_count": 341,
     "metadata": {},
     "output_type": "execute_result"
    }
   ],
   "source": [
    "predictions"
   ]
  },
  {
   "cell_type": "code",
   "execution_count": 342,
   "id": "cf1d56cb",
   "metadata": {},
   "outputs": [
    {
     "data": {
      "text/plain": [
       "solo_data\n",
       "2009-06-19    0.001969\n",
       "2009-06-20   -0.000683\n",
       "2009-06-21    0.004045\n",
       "2009-06-22   -0.007981\n",
       "2009-06-23    0.004030\n",
       "2009-06-24   -0.010207\n",
       "2009-06-25    0.005708\n",
       "Name: compound, dtype: float64"
      ]
     },
     "execution_count": 342,
     "metadata": {},
     "output_type": "execute_result"
    }
   ],
   "source": [
    "test_set"
   ]
  },
  {
   "cell_type": "code",
   "execution_count": 343,
   "id": "1144ff5a",
   "metadata": {},
   "outputs": [],
   "source": [
    "import matplotlib.pyplot as plt\n"
   ]
  },
  {
   "cell_type": "code",
   "execution_count": 344,
   "id": "f3386f70",
   "metadata": {},
   "outputs": [
    {
     "data": {
      "image/png": "[encoded data removed]",
      "text/plain": [
       "<Figure size 1000x600 with 1 Axes>"
      ]
     },
     "metadata": {},
     "output_type": "display_data"
    }
   ],
   "source": [
    "plt.figure(figsize=(10,6))\n",
    "\n",
    "# plot train set vs test set and vs predicted values\n",
    "plt.plot(train_set, label='Train Set')\n",
    "plt.plot(test_set, label='Test Set')\n",
    "plt.plot(predictions, label='Predictions', linestyle='--')\n",
    "\n",
    "# titles and labels\n",
    "plt.title('Train Set vs Test Set vs Predictions')\n",
    "plt.xlabel('Time or Index')\n",
    "plt.ylabel('Values')\n",
    "\n",
    "\n",
    "plt.legend()\n",
    "plt.show()\n"
   ]
  },
  {
   "cell_type": "code",
   "execution_count": 345,
   "id": "d9abf265",
   "metadata": {},
   "outputs": [
    {
     "data": {
      "text/plain": [
       "212.5537171929769"
      ]
     },
     "execution_count": 345,
     "metadata": {},
     "output_type": "execute_result"
    }
   ],
   "source": [
    "#MAPE function\n",
    "def MAPE(y_true, y_pred):\n",
    "  y_true, y_pred = np.array(y_true), np.array(y_pred)\n",
    "  return np.mean(np.abs((y_true - y_pred) / y_true)) * 100\n",
    "MAPE(test_set, predictions)"
   ]
  },
  {
   "cell_type": "code",
   "execution_count": 346,
   "id": "fc7478f5",
   "metadata": {},
   "outputs": [
    {
     "name": "stderr",
     "output_type": "stream",
     "text": [
      "/Users/beatricebuttiglione/anaconda3/lib/python3.10/site-packages/statsmodels/tsa/base/tsa_model.py:473: ValueWarning: No frequency information was provided, so inferred frequency D will be used.\n",
      "  self._init_dates(dates, freq)\n",
      "/Users/beatricebuttiglione/anaconda3/lib/python3.10/site-packages/statsmodels/tsa/base/tsa_model.py:473: ValueWarning: No frequency information was provided, so inferred frequency D will be used.\n",
      "  self._init_dates(dates, freq)\n",
      "/Users/beatricebuttiglione/anaconda3/lib/python3.10/site-packages/statsmodels/tsa/base/tsa_model.py:473: ValueWarning: No frequency information was provided, so inferred frequency D will be used.\n",
      "  self._init_dates(dates, freq)\n"
     ]
    }
   ],
   "source": [
    "model2 = ARIMA(df_diff_scaled, order=(2, 1, 2))"
   ]
  },
  {
   "cell_type": "code",
   "execution_count": 347,
   "id": "b9ee8085",
   "metadata": {},
   "outputs": [],
   "source": [
    "model_fit = model2.fit()"
   ]
  },
  {
   "cell_type": "code",
   "execution_count": 348,
   "id": "ef612b2f",
   "metadata": {},
   "outputs": [],
   "source": [
    "one_week_forecast = model_fit.forecast(steps=7)\n",
    "one_month_forecast = model_fit.forecast(steps=30)\n",
    "three_months_forecast = model_fit.forecast(steps=90)"
   ]
  },
  {
   "cell_type": "code",
   "execution_count": 349,
   "id": "7815d6ce",
   "metadata": {},
   "outputs": [
    {
     "data": {
      "text/plain": [
       "<Axes: >"
      ]
     },
     "execution_count": 349,
     "metadata": {},
     "output_type": "execute_result"
    },
    {
     "data": {
      "image/png": "[encoded data removed]",
      "text/plain": [
       "<Figure size 640x480 with 1 Axes>"
      ]
     },
     "metadata": {},
     "output_type": "display_data"
    }
   ],
   "source": [
    "one_month_forecast.plot()"
   ]
  },
  {
   "cell_type": "code",
   "execution_count": 350,
   "id": "00e4e20b",
   "metadata": {},
   "outputs": [
    {
     "data": {
      "text/plain": [
       "<Axes: >"
      ]
     },
     "execution_count": 350,
     "metadata": {},
     "output_type": "execute_result"
    },
    {
     "data": {
      "image/png": "[encoded data removed]",
      "text/plain": [
       "<Figure size 640x480 with 1 Axes>"
      ]
     },
     "metadata": {},
     "output_type": "display_data"
    }
   ],
   "source": [
    "three_months_forecast.plot()"
   ]
  },
  {
   "cell_type": "code",
   "execution_count": 353,
   "id": "30bdac42",
   "metadata": {},
   "outputs": [],
   "source": [
    "df_diff_scaled2= df_diff_scaled.reset_index()"
   ]
  },
  {
   "cell_type": "code",
   "execution_count": 361,
   "id": "67b99aed",
   "metadata": {},
   "outputs": [
    {
     "name": "stdout",
     "output_type": "stream",
     "text": [
      "<class 'pandas.core.frame.DataFrame'>\n",
      "RangeIndex: 55 entries, 0 to 54\n",
      "Data columns (total 2 columns):\n",
      " #   Column    Non-Null Count  Dtype         \n",
      "---  ------    --------------  -----         \n",
      " 0   date      55 non-null     datetime64[ns]\n",
      " 1   compound  55 non-null     float64       \n",
      "dtypes: datetime64[ns](1), float64(1)\n",
      "memory usage: 1008.0 bytes\n"
     ]
    }
   ],
   "source": [
    "df_diff_scaled2.info()"
   ]
  },
  {
   "cell_type": "code",
   "execution_count": 360,
   "id": "701ab75c",
   "metadata": {},
   "outputs": [],
   "source": [
    "df_diff_scaled2.columns = ['date','compound']\n"
   ]
  },
  {
   "cell_type": "code",
   "execution_count": 362,
   "id": "0ab81de0",
   "metadata": {},
   "outputs": [
    {
     "data": {
      "text/plain": [
       "pandas.core.series.Series"
      ]
     },
     "execution_count": 362,
     "metadata": {},
     "output_type": "execute_result"
    }
   ],
   "source": [
    "type(three_months_forecast)"
   ]
  },
  {
   "cell_type": "code",
   "execution_count": 363,
   "id": "1a352ca5",
   "metadata": {},
   "outputs": [],
   "source": [
    "actual_predictions = three_months_forecast.values"
   ]
  },
  {
   "cell_type": "code",
   "execution_count": 365,
   "id": "46b647fc",
   "metadata": {},
   "outputs": [
    {
     "data": {
      "image/png": "[encoded data removed]",
      "text/plain": [
       "<Figure size 1400x700 with 1 Axes>"
      ]
     },
     "metadata": {},
     "output_type": "display_data"
    }
   ],
   "source": [
    "\n",
    "df_diff_scaled2['date'] = pd.to_datetime(df_diff_scaled2['date'])\n",
    "\n",
    "prediction_dates = pd.date_range(start='2009-06-26', end='2009-09-23', freq='D')\n",
    "\n",
    "\n",
    "df_before = df_diff_scaled2[df_diff_scaled2['date'] < '2009-06-26']\n",
    "df_after = df_diff_scaled2[df_diff_scaled2['date'] >= '2009-06-26']\n",
    "\n",
    "\n",
    "plt.figure(figsize=(14, 7))\n",
    "\n",
    "\n",
    "plt.plot(df_before['date'], df_before['compound'], label='Actual Compound (before June 26)', color='blue')\n",
    "\n",
    "\n",
    "plt.plot(prediction_dates, actual_predictions, label='Predictions (from June 26 to September 25)', color='red', linestyle='--')\n",
    "\n",
    "plt.title('Compound Time Series with Predictions')\n",
    "plt.xlabel('Date')\n",
    "plt.ylabel('Compound Value')\n",
    "plt.legend()\n",
    "plt.show()\n"
   ]
  },
  {
   "cell_type": "markdown",
   "id": "a55ae217",
   "metadata": {},
   "source": [
    "# NN model"
   ]
  },
  {
   "cell_type": "code",
   "execution_count": 366,
   "id": "34dd4922",
   "metadata": {},
   "outputs": [
    {
     "name": "stderr",
     "output_type": "stream",
     "text": [
      "2023-11-15 00:29:58.383701: I tensorflow/core/platform/cpu_feature_guard.cc:182] This TensorFlow binary is optimized to use available CPU instructions in performance-critical operations.\n",
      "To enable the following instructions: AVX2 AVX512F AVX512_VNNI FMA, in other operations, rebuild TensorFlow with the appropriate compiler flags.\n"
     ]
    }
   ],
   "source": [
    "import pandas as pd\n",
    "from sklearn.preprocessing import MinMaxScaler\n",
    "from keras.models import Sequential\n",
    "from keras.layers import Dense, LSTM\n",
    "import numpy as np\n"
   ]
  },
  {
   "cell_type": "code",
   "execution_count": 544,
   "id": "92d71d18",
   "metadata": {},
   "outputs": [
    {
     "data": {
      "text/plain": [
       "0    1.241136e+09\n",
       "1    1.241222e+09\n",
       "2    1.241309e+09\n",
       "3    1.241395e+09\n",
       "4    1.241482e+09\n",
       "Name: solo_data, dtype: float64"
      ]
     },
     "execution_count": 544,
     "metadata": {},
     "output_type": "execute_result"
    }
   ],
   "source": [
    "df_concatenato2.head()"
   ]
  },
  {
   "cell_type": "code",
   "execution_count": 545,
   "id": "e6573230",
   "metadata": {},
   "outputs": [],
   "source": [
    "df_concatenato.reset_index(inplace=True)"
   ]
  },
  {
   "cell_type": "code",
   "execution_count": 546,
   "id": "10180201",
   "metadata": {},
   "outputs": [],
   "source": [
    "df_concatenato2 = df_concatenato['solo_data'].apply(lambda x: x.timestamp())  # Converte i timestamp in valori numerici\n"
   ]
  },
  {
   "cell_type": "code",
   "execution_count": 547,
   "id": "78eb6bfe",
   "metadata": {},
   "outputs": [],
   "source": [
    "data = df_concatenato2.to_numpy().reshape(-1, 1)\n"
   ]
  },
  {
   "cell_type": "code",
   "execution_count": 548,
   "id": "b7957f29",
   "metadata": {},
   "outputs": [],
   "source": [
    "from sklearn.preprocessing import MinMaxScaler\n",
    "\n",
    "# Crea uno scaler\n",
    "scaler = MinMaxScaler()\n",
    "\n",
    "# Normalizza i dati\n",
    "data = scaler.fit_transform(data)\n",
    "\n",
    "# Ora data_normalized contiene i dati normalizzati\n"
   ]
  },
  {
   "cell_type": "code",
   "execution_count": 549,
   "id": "013c1737",
   "metadata": {},
   "outputs": [],
   "source": [
    "\n",
    "# 80% of the data is the training set\n",
    "train_data_len = int(np.ceil(len(data) * 0.8))\n",
    "\n",
    "# training data set\n",
    "train_data = data[0:train_data_len, :]\n",
    "\n",
    "\n",
    "x_train = []\n",
    "y_train = []\n"
   ]
  },
  {
   "cell_type": "code",
   "execution_count": 550,
   "id": "e5f50f02",
   "metadata": {},
   "outputs": [],
   "source": [
    "# We're using 40 days of past data to predict the future value\n",
    "past_days = 40\n",
    "for i in range(past_days, len(train_data)):\n",
    "    x_train.append(train_data[i-past_days:i, 0])\n",
    "    y_train.append(train_data[i, 0])"
   ]
  },
  {
   "cell_type": "code",
   "execution_count": 551,
   "id": "79102040",
   "metadata": {},
   "outputs": [],
   "source": [
    "x_train, y_train = np.array(x_train), np.array(y_train)\n",
    "x_train = np.reshape(x_train, (x_train.shape[0], x_train.shape[1], 1))\n"
   ]
  },
  {
   "cell_type": "code",
   "execution_count": 552,
   "id": "21826c3c",
   "metadata": {},
   "outputs": [],
   "source": [
    "model = Sequential()\n",
    "model.add(LSTM(units=50, return_sequences=True, input_shape=(x_train.shape[1], 1)))\n",
    "model.add(LSTM(units=50, return_sequences=False))\n",
    "model.add(Dense(units=35))\n",
    "model.add(Dense(units=1))"
   ]
  },
  {
   "cell_type": "code",
   "execution_count": 553,
   "id": "60af2a26",
   "metadata": {},
   "outputs": [],
   "source": [
    "\n",
    "# Compile the model\n",
    "model.compile(optimizer='adam', loss='mean_squared_error')\n",
    "\n"
   ]
  },
  {
   "cell_type": "code",
   "execution_count": 554,
   "id": "b3e3bf09",
   "metadata": {},
   "outputs": [
    {
     "name": "stdout",
     "output_type": "stream",
     "text": [
      "5/5 [==============================] - 3s 15ms/step - loss: 0.4401\n"
     ]
    },
    {
     "data": {
      "text/plain": [
       "<keras.src.callbacks.History at 0x7fb2a034e5c0>"
      ]
     },
     "execution_count": 554,
     "metadata": {},
     "output_type": "execute_result"
    }
   ],
   "source": [
    "# Train the model\n",
    "model.fit(x_train, y_train, batch_size=1, epochs=1)\n",
    "\n"
   ]
  },
  {
   "cell_type": "code",
   "execution_count": 555,
   "id": "fa0ea47d",
   "metadata": {},
   "outputs": [],
   "source": [
    "# Test data set\n",
    "test_data = data[train_data_len - past_days:, :]"
   ]
  },
  {
   "cell_type": "code",
   "execution_count": 556,
   "id": "60a7dbd9",
   "metadata": {},
   "outputs": [],
   "source": [
    "# Create the x_test and y_test data sets\n",
    "x_test = []\n",
    "y_test = data[train_data_len:, :]\n",
    "for i in range(past_days, len(test_data)):\n",
    "    x_test.append(test_data[i-past_days:i, 0])\n"
   ]
  },
  {
   "cell_type": "code",
   "execution_count": 557,
   "id": "d3c1cb76",
   "metadata": {},
   "outputs": [],
   "source": [
    "# Convert x_test to a numpy array\n",
    "x_test = np.array(x_test)"
   ]
  },
  {
   "cell_type": "code",
   "execution_count": 558,
   "id": "ee176325",
   "metadata": {},
   "outputs": [],
   "source": [
    "# Reshape the data into the shape accepted by the LSTM\n",
    "x_test = np.reshape(x_test, (x_test.shape[0], x_test.shape[1], 1))\n"
   ]
  },
  {
   "cell_type": "code",
   "execution_count": 559,
   "id": "0cac40fa",
   "metadata": {},
   "outputs": [
    {
     "name": "stdout",
     "output_type": "stream",
     "text": [
      "1/1 [==============================] - 1s 586ms/step\n"
     ]
    }
   ],
   "source": [
    "# Getting the models predicted values\n",
    "predictions = model.predict(x_test)\n",
    "predictions = scaler.inverse_transform(predictions)\n"
   ]
  },
  {
   "cell_type": "code",
   "execution_count": 560,
   "id": "b25dc82c",
   "metadata": {},
   "outputs": [],
   "source": [
    "# Calculate RMSE\n",
    "rmse = np.sqrt(np.mean(((predictions - y_test) ** 2)))\n"
   ]
  },
  {
   "cell_type": "code",
   "execution_count": 561,
   "id": "18c1322d",
   "metadata": {},
   "outputs": [
    {
     "data": {
      "text/plain": [
       "1243219787.2128081"
      ]
     },
     "execution_count": 561,
     "metadata": {},
     "output_type": "execute_result"
    }
   ],
   "source": [
    "rmse"
   ]
  },
  {
   "cell_type": "code",
   "execution_count": 562,
   "id": "ae642111",
   "metadata": {},
   "outputs": [],
   "source": [
    "last_40_days = train_data[-past_days:]\n",
    "last_40_days_scaled = scaler.transform(last_40_days)\n"
   ]
  },
  {
   "cell_type": "code",
   "execution_count": 563,
   "id": "45740fcb",
   "metadata": {},
   "outputs": [],
   "source": [
    "X_test = []\n",
    "\n",
    "# Append the last 40 days\n",
    "X_test.append(last_40_days_scaled)"
   ]
  },
  {
   "cell_type": "code",
   "execution_count": 564,
   "id": "d5acfaf3",
   "metadata": {},
   "outputs": [],
   "source": [
    "X_test = np.array(X_test)\n",
    "\n",
    "# Reshape the data\n",
    "X_test = np.reshape(X_test, (X_test.shape[0], X_test.shape[1], 1))\n"
   ]
  },
  {
   "cell_type": "code",
   "execution_count": 565,
   "id": "518c8c4a",
   "metadata": {},
   "outputs": [],
   "source": [
    "forecast_period = [7, 30, 90]\n",
    "forecast = {}"
   ]
  },
  {
   "cell_type": "code",
   "execution_count": 566,
   "id": "c79cf7c7",
   "metadata": {},
   "outputs": [
    {
     "name": "stdout",
     "output_type": "stream",
     "text": [
      "1/1 [==============================] - 0s 21ms/step\n",
      "1/1 [==============================] - 0s 49ms/step\n",
      "1/1 [==============================] - 0s 17ms/step\n",
      "1/1 [==============================] - 0s 17ms/step\n",
      "1/1 [==============================] - 0s 16ms/step\n",
      "1/1 [==============================] - 0s 17ms/step\n",
      "1/1 [==============================] - 0s 17ms/step\n",
      "1/1 [==============================] - 0s 17ms/step\n",
      "1/1 [==============================] - 0s 16ms/step\n",
      "1/1 [==============================] - 0s 16ms/step\n",
      "1/1 [==============================] - 0s 17ms/step\n",
      "1/1 [==============================] - 0s 17ms/step\n",
      "1/1 [==============================] - 0s 18ms/step\n",
      "1/1 [==============================] - 0s 16ms/step\n",
      "1/1 [==============================] - 0s 17ms/step\n",
      "1/1 [==============================] - 0s 16ms/step\n",
      "1/1 [==============================] - 0s 16ms/step\n",
      "1/1 [==============================] - 0s 17ms/step\n",
      "1/1 [==============================] - 0s 16ms/step\n",
      "1/1 [==============================] - 0s 17ms/step\n",
      "1/1 [==============================] - 0s 18ms/step\n",
      "1/1 [==============================] - 0s 20ms/step\n",
      "1/1 [==============================] - 0s 16ms/step\n",
      "1/1 [==============================] - 0s 18ms/step\n",
      "1/1 [==============================] - 0s 18ms/step\n",
      "1/1 [==============================] - 0s 16ms/step\n",
      "1/1 [==============================] - 0s 21ms/step\n",
      "1/1 [==============================] - 0s 18ms/step\n",
      "1/1 [==============================] - 0s 17ms/step\n",
      "1/1 [==============================] - 0s 16ms/step\n",
      "1/1 [==============================] - 0s 17ms/step\n",
      "1/1 [==============================] - 0s 18ms/step\n",
      "1/1 [==============================] - 0s 18ms/step\n",
      "1/1 [==============================] - 0s 17ms/step\n",
      "1/1 [==============================] - 0s 17ms/step\n",
      "1/1 [==============================] - 0s 18ms/step\n",
      "1/1 [==============================] - 0s 17ms/step\n",
      "1/1 [==============================] - 0s 16ms/step\n",
      "1/1 [==============================] - 0s 19ms/step\n",
      "1/1 [==============================] - 0s 16ms/step\n",
      "1/1 [==============================] - 0s 17ms/step\n",
      "1/1 [==============================] - 0s 17ms/step\n",
      "1/1 [==============================] - 0s 18ms/step\n",
      "1/1 [==============================] - 0s 17ms/step\n",
      "1/1 [==============================] - 0s 17ms/step\n",
      "1/1 [==============================] - 0s 17ms/step\n",
      "1/1 [==============================] - 0s 17ms/step\n",
      "1/1 [==============================] - 0s 18ms/step\n",
      "1/1 [==============================] - 0s 19ms/step\n",
      "1/1 [==============================] - 0s 19ms/step\n",
      "1/1 [==============================] - 0s 16ms/step\n",
      "1/1 [==============================] - 0s 17ms/step\n",
      "1/1 [==============================] - 0s 17ms/step\n",
      "1/1 [==============================] - 0s 18ms/step\n",
      "1/1 [==============================] - 0s 17ms/step\n",
      "1/1 [==============================] - 0s 19ms/step\n",
      "1/1 [==============================] - 0s 17ms/step\n",
      "1/1 [==============================] - 0s 17ms/step\n",
      "1/1 [==============================] - 0s 16ms/step\n",
      "1/1 [==============================] - 0s 16ms/step\n",
      "1/1 [==============================] - 0s 17ms/step\n",
      "1/1 [==============================] - 0s 18ms/step\n",
      "1/1 [==============================] - 0s 18ms/step\n",
      "1/1 [==============================] - 0s 17ms/step\n",
      "1/1 [==============================] - 0s 17ms/step\n",
      "1/1 [==============================] - 0s 17ms/step\n",
      "1/1 [==============================] - 0s 17ms/step\n",
      "1/1 [==============================] - 0s 18ms/step\n",
      "1/1 [==============================] - 0s 18ms/step\n",
      "1/1 [==============================] - 0s 16ms/step\n",
      "1/1 [==============================] - 0s 16ms/step\n",
      "1/1 [==============================] - 0s 20ms/step\n",
      "1/1 [==============================] - 0s 17ms/step\n",
      "1/1 [==============================] - 0s 19ms/step\n",
      "1/1 [==============================] - 0s 18ms/step\n",
      "1/1 [==============================] - 0s 17ms/step\n",
      "1/1 [==============================] - 0s 19ms/step\n",
      "1/1 [==============================] - 0s 17ms/step\n",
      "1/1 [==============================] - 0s 16ms/step\n",
      "1/1 [==============================] - 0s 18ms/step\n",
      "1/1 [==============================] - 0s 17ms/step\n",
      "1/1 [==============================] - 0s 17ms/step\n",
      "1/1 [==============================] - 0s 19ms/step\n",
      "1/1 [==============================] - 0s 17ms/step\n",
      "1/1 [==============================] - 0s 18ms/step\n",
      "1/1 [==============================] - 0s 22ms/step\n",
      "1/1 [==============================] - 0s 20ms/step\n",
      "1/1 [==============================] - 0s 19ms/step\n",
      "1/1 [==============================] - 0s 18ms/step\n",
      "1/1 [==============================] - 0s 18ms/step\n",
      "1/1 [==============================] - 0s 18ms/step\n",
      "1/1 [==============================] - 0s 18ms/step\n",
      "1/1 [==============================] - 0s 17ms/step\n",
      "1/1 [==============================] - 0s 19ms/step\n",
      "1/1 [==============================] - 0s 17ms/step\n",
      "1/1 [==============================] - 0s 16ms/step\n",
      "1/1 [==============================] - 0s 16ms/step\n",
      "1/1 [==============================] - 0s 17ms/step\n",
      "1/1 [==============================] - 0s 19ms/step\n",
      "1/1 [==============================] - 0s 20ms/step\n",
      "1/1 [==============================] - 0s 19ms/step\n",
      "1/1 [==============================] - 0s 16ms/step\n",
      "1/1 [==============================] - 0s 18ms/step\n",
      "1/1 [==============================] - 0s 16ms/step\n",
      "1/1 [==============================] - 0s 18ms/step\n",
      "1/1 [==============================] - 0s 17ms/step\n",
      "1/1 [==============================] - 0s 20ms/step\n",
      "1/1 [==============================] - 0s 18ms/step\n",
      "1/1 [==============================] - 0s 17ms/step\n",
      "1/1 [==============================] - 0s 16ms/step\n",
      "1/1 [==============================] - 0s 16ms/step\n",
      "1/1 [==============================] - 0s 18ms/step\n",
      "1/1 [==============================] - 0s 17ms/step\n",
      "1/1 [==============================] - 0s 17ms/step\n",
      "1/1 [==============================] - 0s 17ms/step\n",
      "1/1 [==============================] - 0s 17ms/step\n",
      "1/1 [==============================] - 0s 16ms/step\n",
      "1/1 [==============================] - 0s 20ms/step\n",
      "1/1 [==============================] - 0s 16ms/step\n",
      "1/1 [==============================] - 0s 17ms/step\n",
      "1/1 [==============================] - 0s 17ms/step\n",
      "1/1 [==============================] - 0s 16ms/step\n",
      "1/1 [==============================] - 0s 18ms/step\n",
      "1/1 [==============================] - 0s 17ms/step\n",
      "1/1 [==============================] - 0s 18ms/step\n",
      "1/1 [==============================] - 0s 18ms/step\n",
      "1/1 [==============================] - 0s 18ms/step\n"
     ]
    }
   ],
   "source": [
    "for days in forecast_period:\n",
    "    predictions = []\n",
    "    curr_batch = X_test[-1]  # Get the last batch\n",
    "    for i in range(days):\n",
    "        # Predict one day and append to the batch\n",
    "        pred = model.predict(curr_batch.reshape(1, curr_batch.shape[0], 1))\n",
    "        predictions.append(pred[0])\n",
    "        curr_batch = np.append(curr_batch[1:], pred[0]).reshape(curr_batch.shape[0], 1)\n",
    "        \n",
    "    # Invert the transformations to get the actual values\n",
    "    actual_predictions = scaler.inverse_transform(predictions)"
   ]
  },
  {
   "cell_type": "code",
   "execution_count": null,
   "id": "50614152",
   "metadata": {},
   "outputs": [],
   "source": []
  },
  {
   "cell_type": "code",
   "execution_count": 567,
   "id": "abe48c45",
   "metadata": {},
   "outputs": [],
   "source": [
    "actual_predictions = actual_predictions.flatten()\n"
   ]
  },
  {
   "cell_type": "code",
   "execution_count": 568,
   "id": "8f0f0b4e",
   "metadata": {},
   "outputs": [
    {
     "data": {
      "text/plain": [
       "numpy.ndarray"
      ]
     },
     "execution_count": 568,
     "metadata": {},
     "output_type": "execute_result"
    }
   ],
   "source": [
    "type(actual_predictions)"
   ]
  },
  {
   "cell_type": "code",
   "execution_count": 479,
   "id": "2979ba3a",
   "metadata": {},
   "outputs": [],
   "source": [
    "prediction_dates = pd.date_range(start='2009-06-26', end='2009-09-23', freq='D')"
   ]
  },
  {
   "cell_type": "code",
   "execution_count": 480,
   "id": "61f6946a",
   "metadata": {},
   "outputs": [
    {
     "data": {
      "text/plain": [
       "90"
      ]
     },
     "execution_count": 480,
     "metadata": {},
     "output_type": "execute_result"
    }
   ],
   "source": [
    "len(actual_predictions)"
   ]
  },
  {
   "cell_type": "code",
   "execution_count": 481,
   "id": "3dd93f37",
   "metadata": {},
   "outputs": [
    {
     "data": {
      "text/plain": [
       "90"
      ]
     },
     "execution_count": 481,
     "metadata": {},
     "output_type": "execute_result"
    }
   ],
   "source": [
    "len(prediction_dates)"
   ]
  },
  {
   "cell_type": "code",
   "execution_count": 571,
   "id": "737c81fd",
   "metadata": {},
   "outputs": [
    {
     "name": "stdout",
     "output_type": "stream",
     "text": [
      "<class 'pandas.core.frame.DataFrame'>\n",
      "RangeIndex: 56 entries, 0 to 55\n",
      "Data columns (total 4 columns):\n",
      " #   Column     Non-Null Count  Dtype         \n",
      "---  ------     --------------  -----         \n",
      " 0   index      56 non-null     int64         \n",
      " 1   solo_data  56 non-null     datetime64[ns]\n",
      " 2   compound   56 non-null     float64       \n",
      " 3   day_num    56 non-null     int64         \n",
      "dtypes: datetime64[ns](1), float64(1), int64(2)\n",
      "memory usage: 1.9 KB\n"
     ]
    }
   ],
   "source": [
    "df_concatenato.info()"
   ]
  },
  {
   "cell_type": "code",
   "execution_count": 578,
   "id": "37d780c6",
   "metadata": {},
   "outputs": [
    {
     "data": {
      "image/png": "[encoded data removed]",
      "text/plain": [
       "<Figure size 1400x700 with 1 Axes>"
      ]
     },
     "metadata": {},
     "output_type": "display_data"
    }
   ],
   "source": [
    "\n",
    "\n",
    "prediction_dates = pd.date_range(start='2009-06-26', end='2009-09-23', freq='D')\n",
    "\n",
    "\n",
    "df_before = df_concatenato[df_concatenato['solo_data'] < '2009-06-26']\n",
    "df_after = df_concatenato[df_concatenato['solo_data'] >= '2009-06-26']\n",
    "\n",
    "\n",
    "plt.figure(figsize=(14, 7))\n",
    "\n",
    "\n",
    "plt.plot(df_before['solo_data'], df_before['compound'], label='Actual Compound (before June 26)', color='blue')\n",
    "\n",
    "\n",
    "plt.plot(prediction_dates, actual_predictions, label='Predictions (from June 26 to September 25)', color='red', linestyle='--')\n",
    "\n",
    "plt.title('Compound Time Series with Predictions')\n",
    "plt.xlabel('Date')\n",
    "plt.ylabel('Compound Value')\n",
    "plt.legend()\n",
    "plt.show()\n"
   ]
  },
  {
   "cell_type": "code",
   "execution_count": 542,
   "id": "43952cb3",
   "metadata": {},
   "outputs": [
    {
     "data": {
      "image/png": "[encoded data removed]",
      "text/plain": [
       "<Figure size 1200x600 with 1 Axes>"
      ]
     },
     "metadata": {},
     "output_type": "display_data"
    }
   ],
   "source": [
    "prediction_dates = pd.date_range(start='2009-06-26', end='2009-09-23', freq='D')\n",
    "\n",
    "plt.figure(figsize=(12, 6))\n",
    "\n",
    "plt.plot(prediction_dates, actual_predictions, label='Actual Predictions', color='blue', marker='o')\n",
    "\n",
    "\n",
    "plt.xlabel('Date')\n",
    "plt.ylabel('Predictions')\n",
    "plt.title('Actual Predictions Over Time')\n",
    "\n",
    "\n",
    "plt.legend()\n",
    "\n",
    "\n",
    "plt.grid(True)\n",
    "plt.tight_layout()\n",
    "plt.show()\n"
   ]
  },
  {
   "cell_type": "markdown",
   "id": "be2db538",
   "metadata": {},
   "source": [
    "# Exponential Smoothing"
   ]
  },
  {
   "cell_type": "code",
   "execution_count": 508,
   "id": "21763b54",
   "metadata": {},
   "outputs": [],
   "source": [
    "from statsmodels.tsa.holtwinters import ExponentialSmoothing\n",
    "import statsmodels.api as sm"
   ]
  },
  {
   "cell_type": "code",
   "execution_count": 511,
   "id": "d9e7c08d",
   "metadata": {},
   "outputs": [],
   "source": [
    "train_size = int(len(df_concatenato) * 0.8)\n",
    "train_data = df_concatenato[:train_size]\n",
    "test_data = df_concatenato[train_size:]"
   ]
  },
  {
   "cell_type": "code",
   "execution_count": 516,
   "id": "0cd861eb",
   "metadata": {},
   "outputs": [
    {
     "name": "stdout",
     "output_type": "stream",
     "text": [
      "<class 'pandas.core.frame.DataFrame'>\n",
      "RangeIndex: 56 entries, 0 to 55\n",
      "Data columns (total 3 columns):\n",
      " #   Column     Non-Null Count  Dtype         \n",
      "---  ------     --------------  -----         \n",
      " 0   solo_data  56 non-null     datetime64[ns]\n",
      " 1   compound   56 non-null     float64       \n",
      " 2   day_num    56 non-null     int64         \n",
      "dtypes: datetime64[ns](1), float64(1), int64(1)\n",
      "memory usage: 1.4 KB\n"
     ]
    }
   ],
   "source": [
    "df_concatenato.info()"
   ]
  },
  {
   "cell_type": "code",
   "execution_count": 513,
   "id": "7694108a",
   "metadata": {},
   "outputs": [],
   "source": [
    "model = ExponentialSmoothing(train_data['compound'], seasonal='add', seasonal_periods=7)  # Aggiungi un componente stagionale con periodo 7 giorni\n",
    "model_fit = model.fit()"
   ]
  },
  {
   "cell_type": "code",
   "execution_count": 514,
   "id": "83e1af88",
   "metadata": {},
   "outputs": [],
   "source": [
    "predictions = model_fit.forecast(len(test_data))\n",
    "\n"
   ]
  },
  {
   "cell_type": "code",
   "execution_count": 518,
   "id": "569e4e43",
   "metadata": {},
   "outputs": [
    {
     "data": {
      "image/png": "[encoded data removed]",
      "text/plain": [
       "<Figure size 1200x600 with 1 Axes>"
      ]
     },
     "metadata": {},
     "output_type": "display_data"
    }
   ],
   "source": [
    "# Visualizza i risultati\n",
    "plt.figure(figsize=(12, 6))\n",
    "plt.plot(train_data['solo_data'], train_data['compound'], label='Training Data')\n",
    "plt.plot(test_data['solo_data'], test_data['compound'], label='Test Data')\n",
    "plt.plot(test_data['solo_data'], predictions, label='Predictions', linestyle='--')\n",
    "plt.legend()\n",
    "plt.title('Exponential Smoothing Forecast')\n",
    "plt.xlabel('Date')\n",
    "plt.ylabel('Value')\n",
    "plt.show()"
   ]
  },
  {
   "cell_type": "code",
   "execution_count": 573,
   "id": "9f29dbc4",
   "metadata": {},
   "outputs": [],
   "source": [
    "model = ExponentialSmoothing(df_concatenato['compound'], seasonal='add', seasonal_periods=7) \n",
    "model_fit = model.fit()"
   ]
  },
  {
   "cell_type": "code",
   "execution_count": 574,
   "id": "42851272",
   "metadata": {},
   "outputs": [],
   "source": [
    "predictions = model_fit.forecast(90)"
   ]
  },
  {
   "cell_type": "code",
   "execution_count": 575,
   "id": "58eb8d65",
   "metadata": {},
   "outputs": [],
   "source": [
    "predictions= predictions.values"
   ]
  },
  {
   "cell_type": "code",
   "execution_count": 576,
   "id": "52abb4cd",
   "metadata": {},
   "outputs": [
    {
     "data": {
      "text/plain": [
       "90"
      ]
     },
     "execution_count": 576,
     "metadata": {},
     "output_type": "execute_result"
    }
   ],
   "source": [
    "len(predictions)"
   ]
  },
  {
   "cell_type": "code",
   "execution_count": 577,
   "id": "7dd5c7ad",
   "metadata": {},
   "outputs": [
    {
     "data": {
      "image/png": "[encoded data removed]",
      "text/plain": [
       "<Figure size 1400x700 with 1 Axes>"
      ]
     },
     "metadata": {},
     "output_type": "display_data"
    }
   ],
   "source": [
    "\n",
    "df_concatenato['solo_data'] = pd.to_datetime(df_concatenato['solo_data'])\n",
    "\n",
    "prediction_dates = pd.date_range(start='2009-06-26', end='2009-09-23', freq='D')\n",
    "\n",
    "\n",
    "df_before = df_concatenato[df_concatenato['solo_data'] < '2009-06-26']\n",
    "df_after = df_concatenato[df_concatenato['solo_data'] >= '2009-06-26']\n",
    "\n",
    "\n",
    "plt.figure(figsize=(14, 7))\n",
    "\n",
    "\n",
    "plt.plot(df_before['solo_data'], df_before['compound'], label='Actual Compound (before June 26)', color='blue')\n",
    "\n",
    "\n",
    "plt.plot(prediction_dates, predictions, label='Predictions (from June 26 to September 25)', color='red', linestyle='--')\n",
    "\n",
    "plt.title('Compound Time Series with Predictions')\n",
    "plt.xlabel('Date')\n",
    "plt.ylabel('Compound Value')\n",
    "plt.legend()\n",
    "plt.show()\n"
   ]
  },
  {
   "cell_type": "code",
   "execution_count": null,
   "id": "26e95079",
   "metadata": {},
   "outputs": [],
   "source": []
  },
  {
   "cell_type": "code",
   "execution_count": null,
   "id": "a68b461b",
   "metadata": {},
   "outputs": [],
   "source": []
  },
  {
   "cell_type": "markdown",
   "id": "526ce68a",
   "metadata": {},
   "source": [
    "# Dashboard"
   ]
  },
  {
   "cell_type": "code",
   "execution_count": 141,
   "id": "08dba520",
   "metadata": {},
   "outputs": [],
   "source": [
    "df = df_concatenato.reset_index()"
   ]
  },
  {
   "cell_type": "code",
   "execution_count": 142,
   "id": "5ce73b92",
   "metadata": {},
   "outputs": [
    {
     "name": "stdout",
     "output_type": "stream",
     "text": [
      "<class 'pandas.core.frame.DataFrame'>\n",
      "RangeIndex: 56 entries, 0 to 55\n",
      "Data columns (total 4 columns):\n",
      " #   Column     Non-Null Count  Dtype         \n",
      "---  ------     --------------  -----         \n",
      " 0   index      56 non-null     int64         \n",
      " 1   solo_data  56 non-null     datetime64[ns]\n",
      " 2   compound   56 non-null     float64       \n",
      " 3   day_num    56 non-null     int64         \n",
      "dtypes: datetime64[ns](1), float64(1), int64(2)\n",
      "memory usage: 1.9 KB\n"
     ]
    }
   ],
   "source": [
    "df.info()"
   ]
  },
  {
   "cell_type": "code",
   "execution_count": 161,
   "id": "16a9562d",
   "metadata": {},
   "outputs": [],
   "source": [
    "def predict_with_arima(df_concatenato, start_date, end_date):\n",
    "    \n",
    "    start_date = pd.to_datetime(start_date)\n",
    "    end_date = pd.to_datetime(end_date)\n",
    "    \n",
    "    # num days for prediction\n",
    "    forecast_period = (end_date - df_concatenato['solo_data'].max()).days\n",
    "    if forecast_period <= 0:\n",
    "        return df_concatenato  \n",
    "\n",
    "    \n",
    "    p_values = range(0, 3)\n",
    "    d_values = range(0, 3)\n",
    "    q_values = range(0, 3)\n",
    "\n",
    "    # grid search\n",
    "    grid_search = auto_arima(df_concatenato['compound'], \n",
    "                         start_p=min(p_values),\n",
    "                         start_d=min(d_values),\n",
    "                         start_q=min(q_values),\n",
    "                         max_p=max(p_values),\n",
    "                         max_d=max(d_values),\n",
    "                         max_q=max(q_values),\n",
    "                         seasonal=False,\n",
    "                         stepwise=True,\n",
    "                         suppress_warnings=True,\n",
    "                         error_action=\"ignore\",\n",
    "                         trace=True)\n",
    "    \n",
    "    \n",
    "    p, d, q = grid_search.order\n",
    "    \n",
    "    model = ARIMA(df_concatenato['compound'], order=(p, d, q))\n",
    "    model_fit = model.fit()\n",
    "    forecast = model_fit.forecast(steps=forecast_period)\n",
    "\n",
    "    \n",
    "    future_dates = [train_set['solo_data'].max() + timedelta(days=x) for x in range(1, forecast_period + 1)]\n",
    "    forecast_df = pd.DataFrame({\n",
    "        'solo_data': future_dates,\n",
    "        'compound': forecast\n",
    "    })\n",
    "\n",
    "    \n",
    "    train_set = pd.concat([train_set, forecast_df], ignore_index=True)\n",
    "    return train_set"
   ]
  },
  {
   "cell_type": "code",
   "execution_count": null,
   "id": "3a3887e0",
   "metadata": {},
   "outputs": [],
   "source": []
  },
  {
   "cell_type": "code",
   "execution_count": null,
   "id": "cdde083a",
   "metadata": {},
   "outputs": [],
   "source": []
  },
  {
   "cell_type": "code",
   "execution_count": null,
   "id": "4782e23a",
   "metadata": {},
   "outputs": [],
   "source": []
  },
  {
   "cell_type": "code",
   "execution_count": null,
   "id": "774c4eff",
   "metadata": {},
   "outputs": [],
   "source": []
  },
  {
   "cell_type": "code",
   "execution_count": null,
   "id": "3baa1f8b",
   "metadata": {},
   "outputs": [],
   "source": []
  },
  {
   "cell_type": "code",
   "execution_count": null,
   "id": "fa75532b",
   "metadata": {},
   "outputs": [],
   "source": []
  },
  {
   "cell_type": "code",
   "execution_count": null,
   "id": "cf029457",
   "metadata": {},
   "outputs": [],
   "source": []
  }
 ],
 "metadata": {
  "kernelspec": {
   "display_name": "Python 3 (ipykernel)",
   "language": "python",
   "name": "python3"
  },
  "language_info": {
   "codemirror_mode": {
    "name": "ipython",
    "version": 3
   },
   "file_extension": ".py",
   "mimetype": "text/x-python",
   "name": "python",
   "nbconvert_exporter": "python",
   "pygments_lexer": "ipython3",
   "version": "3.10.9"
  }
 },
 "nbformat": 4,
 "nbformat_minor": 5
}
