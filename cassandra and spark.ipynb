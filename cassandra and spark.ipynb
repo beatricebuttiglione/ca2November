{
 "cells": [
  {
   "cell_type": "code",
   "execution_count": 1,
   "id": "68547dd9",
   "metadata": {},
   "outputs": [],
   "source": [
    "from cassandra.cluster import Cluster\n",
    "import csv"
   ]
  },
  {
   "cell_type": "code",
   "execution_count": 2,
   "id": "82de95d8",
   "metadata": {},
   "outputs": [],
   "source": [
    "from pyspark.sql import SparkSession"
   ]
  },
  {
   "cell_type": "code",
   "execution_count": 3,
   "id": "cc68e5e2",
   "metadata": {},
   "outputs": [],
   "source": [
    "\n",
    "spark = SparkSession.builder.appName(\"ca2_nov\").getOrCreate()"
   ]
  },
  {
   "cell_type": "code",
   "execution_count": 4,
   "id": "e1e2b851",
   "metadata": {},
   "outputs": [],
   "source": [
    "folder = \"hdfs://localhost:9000/user1/ProjectTweets.csv\""
   ]
  },
  {
   "cell_type": "code",
   "execution_count": 51,
   "id": "c8d06919",
   "metadata": {},
   "outputs": [
    {
     "name": "stderr",
     "output_type": "stream",
     "text": [
      "                                                                                \r"
     ]
    }
   ],
   "source": [
    "df = spark.read.csv(folder, header=False, inferSchema=True)"
   ]
  },
  {
   "cell_type": "code",
   "execution_count": 52,
   "id": "11eb3d0d",
   "metadata": {},
   "outputs": [],
   "source": [
    "df = df.toDF(\"id\", \"indice\", \"date\", \"query\", \"user\", \"tweet\")"
   ]
  },
  {
   "cell_type": "code",
   "execution_count": 53,
   "id": "e2fed4af",
   "metadata": {},
   "outputs": [
    {
     "data": {
      "text/plain": [
       "Row(id=0, indice=1467810369, date='Mon Apr 06 22:19:45 PDT 2009', query='NO_QUERY', user='_TheSpecialOne_', tweet=\"@switchfoot http://twitpic.com/2y1zl - Awww, that's a bummer.  You shoulda got David Carr of Third Day to do it. ;D\")"
      ]
     },
     "execution_count": 53,
     "metadata": {},
     "output_type": "execute_result"
    }
   ],
   "source": [
    "df.head()"
   ]
  },
  {
   "cell_type": "code",
   "execution_count": 59,
   "id": "4e0504b7",
   "metadata": {},
   "outputs": [
    {
     "name": "stdout",
     "output_type": "stream",
     "text": [
      "root\n",
      " |-- id: integer (nullable = true)\n",
      " |-- indice: long (nullable = true)\n",
      " |-- date: string (nullable = true)\n",
      " |-- query: string (nullable = true)\n",
      " |-- user: string (nullable = true)\n",
      " |-- tweet: string (nullable = true)\n",
      "\n"
     ]
    }
   ],
   "source": [
    "df.printSchema()\n"
   ]
  },
  {
   "cell_type": "code",
   "execution_count": 55,
   "id": "73567f03",
   "metadata": {},
   "outputs": [],
   "source": [
    "df = df.dropDuplicates([\"tweet\"])\n",
    "\n"
   ]
  },
  {
   "cell_type": "code",
   "execution_count": 56,
   "id": "5fd69ca4",
   "metadata": {},
   "outputs": [],
   "source": [
    "# using legacy for date parsing\n",
    "spark.conf.set(\"spark.sql.legacy.timeParserPolicy\", \"LEGACY\")\n",
    "\n"
   ]
  },
  {
   "cell_type": "code",
   "execution_count": 57,
   "id": "652df01e",
   "metadata": {},
   "outputs": [],
   "source": [
    "# trasform date column from string to date\n",
    "df_con_data = df.withColumn(\"date\", to_date(df[\"date\"], \"E MMM dd HH:mm:ss z yyyy\"))\n"
   ]
  },
  {
   "cell_type": "code",
   "execution_count": 58,
   "id": "48ca1012",
   "metadata": {},
   "outputs": [
    {
     "name": "stderr",
     "output_type": "stream",
     "text": [
      "[Stage 32:=============================>                            (1 + 1) / 2]\r"
     ]
    },
    {
     "name": "stdout",
     "output_type": "stream",
     "text": [
      "+-------+----------+----------+--------+--------+--------------------+\n",
      "|     id|    indice|      date|   query|    user|               tweet|\n",
      "+-------+----------+----------+--------+--------+--------------------+\n",
      "|1429354|2059729483|2009-06-07|NO_QUERY|mtiishaw|       Hardest wo...|\n",
      "+-------+----------+----------+--------+--------+--------------------+\n",
      "only showing top 1 row\n",
      "\n"
     ]
    },
    {
     "name": "stderr",
     "output_type": "stream",
     "text": [
      "                                                                                \r"
     ]
    }
   ],
   "source": [
    "df_con_data.show(1)"
   ]
  },
  {
   "cell_type": "code",
   "execution_count": 61,
   "id": "bf914885",
   "metadata": {},
   "outputs": [
    {
     "name": "stderr",
     "output_type": "stream",
     "text": [
      "[Stage 43:======================================>                   (2 + 1) / 3]\r"
     ]
    },
    {
     "name": "stdout",
     "output_type": "stream",
     "text": [
      "+-------+-----------------+--------------------+--------+--------------------+--------------------+\n",
      "|summary|               id|              indice|   query|                user|               tweet|\n",
      "+-------+-----------------+--------------------+--------+--------------------+--------------------+\n",
      "|  count|          1581466|             1581466| 1581466|             1581466|             1581466|\n",
      "|   mean|799948.3493486423|1.9985071970856838E9|    null| 4.418920826240876E9|                null|\n",
      "| stddev|462023.2915345735|1.9365969167076474E8|    null|5.218769198801353...|                null|\n",
      "|    min|                0|          1467810369|NO_QUERY|        000catnap000|                 ...|\n",
      "|    max|          1599999|          2329205794|NO_QUERY|          zzzzeus111|ï¿½ï¿½ï¿½ï¿½ï¿½ß§...|\n",
      "+-------+-----------------+--------------------+--------+--------------------+--------------------+\n",
      "\n"
     ]
    },
    {
     "name": "stderr",
     "output_type": "stream",
     "text": [
      "                                                                                \r"
     ]
    }
   ],
   "source": [
    "# check on null values\n",
    "df_con_data.describe().show()\n"
   ]
  },
  {
   "cell_type": "code",
   "execution_count": null,
   "id": "6f7b795e",
   "metadata": {},
   "outputs": [],
   "source": [
    "# sentiment analysis using Vader"
   ]
  },
  {
   "cell_type": "code",
   "execution_count": 62,
   "id": "1762d021",
   "metadata": {},
   "outputs": [],
   "source": [
    "from vaderSentiment.vaderSentiment import SentimentIntensityAnalyzer"
   ]
  },
  {
   "cell_type": "code",
   "execution_count": 63,
   "id": "3b5209a0",
   "metadata": {},
   "outputs": [],
   "source": [
    "def sentiment_function(text):\n",
    "    analyzer = SentimentIntensityAnalyzer()\n",
    "    sent = analyzer.polarity_scores(text)\n",
    "    return sentiment\n"
   ]
  },
  {
   "cell_type": "code",
   "execution_count": 97,
   "id": "1a43093b",
   "metadata": {},
   "outputs": [],
   "source": [
    "from pyspark.sql.types import StructType, StructField, StringType, FloatType\n",
    "\n",
    "# define data type \n",
    "sentiment_schema = StructType([\n",
    "    StructField(\"compound\", FloatType())\n",
    "])\n",
    "\n",
    "# UDF (User-Defined Function) for sentiment analysis\n",
    "sentiment_udf = udf(sentiment_function, sentiment_schema)\n",
    "\n",
    "# new column with results \n",
    "df_sent = df_con_data.withColumn(\"sentiment_v\", sentiment_udf(df_con_data[\"tweet\"]))\n"
   ]
  },
  {
   "cell_type": "code",
   "execution_count": 98,
   "id": "7a3679fb",
   "metadata": {},
   "outputs": [
    {
     "name": "stderr",
     "output_type": "stream",
     "text": [
      "ERROR:root:KeyboardInterrupt while sending command.][Stage 55:>   (0 + 0) / 2]\n",
      "Traceback (most recent call last):\n",
      "  File \"/home/hduser/.local/lib/python3.10/site-packages/py4j/java_gateway.py\", line 1038, in send_command\n",
      "    response = connection.send_command(command)\n",
      "  File \"/home/hduser/.local/lib/python3.10/site-packages/py4j/clientserver.py\", line 475, in send_command\n",
      "    answer = smart_decode(self.stream.readline()[:-1])\n",
      "  File \"/usr/lib/python3.10/socket.py\", line 705, in readinto\n",
      "    return self._sock.recv_into(b)\n",
      "KeyboardInterrupt\n"
     ]
    },
    {
     "ename": "KeyboardInterrupt",
     "evalue": "",
     "output_type": "error",
     "traceback": [
      "\u001b[0;31m---------------------------------------------------------------------------\u001b[0m",
      "\u001b[0;31mKeyboardInterrupt\u001b[0m                         Traceback (most recent call last)",
      "\u001b[0;32m/tmp/ipykernel_8174/806893791.py\u001b[0m in \u001b[0;36m<module>\u001b[0;34m\u001b[0m\n\u001b[0;32m----> 1\u001b[0;31m \u001b[0mdf_sent\u001b[0m\u001b[0;34m.\u001b[0m\u001b[0mshow\u001b[0m\u001b[0;34m(\u001b[0m\u001b[0;36m1\u001b[0m\u001b[0;34m)\u001b[0m\u001b[0;34m\u001b[0m\u001b[0;34m\u001b[0m\u001b[0m\n\u001b[0m",
      "\u001b[0;32m/usr/local/spark/python/pyspark/sql/dataframe.py\u001b[0m in \u001b[0;36mshow\u001b[0;34m(self, n, truncate, vertical)\u001b[0m\n\u001b[1;32m    492\u001b[0m \u001b[0;34m\u001b[0m\u001b[0m\n\u001b[1;32m    493\u001b[0m         \u001b[0;32mif\u001b[0m \u001b[0misinstance\u001b[0m\u001b[0;34m(\u001b[0m\u001b[0mtruncate\u001b[0m\u001b[0;34m,\u001b[0m \u001b[0mbool\u001b[0m\u001b[0;34m)\u001b[0m \u001b[0;32mand\u001b[0m \u001b[0mtruncate\u001b[0m\u001b[0;34m:\u001b[0m\u001b[0;34m\u001b[0m\u001b[0;34m\u001b[0m\u001b[0m\n\u001b[0;32m--> 494\u001b[0;31m             \u001b[0mprint\u001b[0m\u001b[0;34m(\u001b[0m\u001b[0mself\u001b[0m\u001b[0;34m.\u001b[0m\u001b[0m_jdf\u001b[0m\u001b[0;34m.\u001b[0m\u001b[0mshowString\u001b[0m\u001b[0;34m(\u001b[0m\u001b[0mn\u001b[0m\u001b[0;34m,\u001b[0m \u001b[0;36m20\u001b[0m\u001b[0;34m,\u001b[0m \u001b[0mvertical\u001b[0m\u001b[0;34m)\u001b[0m\u001b[0;34m)\u001b[0m\u001b[0;34m\u001b[0m\u001b[0;34m\u001b[0m\u001b[0m\n\u001b[0m\u001b[1;32m    495\u001b[0m         \u001b[0;32melse\u001b[0m\u001b[0;34m:\u001b[0m\u001b[0;34m\u001b[0m\u001b[0;34m\u001b[0m\u001b[0m\n\u001b[1;32m    496\u001b[0m             \u001b[0;32mtry\u001b[0m\u001b[0;34m:\u001b[0m\u001b[0;34m\u001b[0m\u001b[0;34m\u001b[0m\u001b[0m\n",
      "\u001b[0;32m~/.local/lib/python3.10/site-packages/py4j/java_gateway.py\u001b[0m in \u001b[0;36m__call__\u001b[0;34m(self, *args)\u001b[0m\n\u001b[1;32m   1318\u001b[0m             \u001b[0mproto\u001b[0m\u001b[0;34m.\u001b[0m\u001b[0mEND_COMMAND_PART\u001b[0m\u001b[0;34m\u001b[0m\u001b[0;34m\u001b[0m\u001b[0m\n\u001b[1;32m   1319\u001b[0m \u001b[0;34m\u001b[0m\u001b[0m\n\u001b[0;32m-> 1320\u001b[0;31m         \u001b[0manswer\u001b[0m \u001b[0;34m=\u001b[0m \u001b[0mself\u001b[0m\u001b[0;34m.\u001b[0m\u001b[0mgateway_client\u001b[0m\u001b[0;34m.\u001b[0m\u001b[0msend_command\u001b[0m\u001b[0;34m(\u001b[0m\u001b[0mcommand\u001b[0m\u001b[0;34m)\u001b[0m\u001b[0;34m\u001b[0m\u001b[0;34m\u001b[0m\u001b[0m\n\u001b[0m\u001b[1;32m   1321\u001b[0m         return_value = get_return_value(\n\u001b[1;32m   1322\u001b[0m             answer, self.gateway_client, self.target_id, self.name)\n",
      "\u001b[0;32m~/.local/lib/python3.10/site-packages/py4j/java_gateway.py\u001b[0m in \u001b[0;36msend_command\u001b[0;34m(self, command, retry, binary)\u001b[0m\n\u001b[1;32m   1036\u001b[0m         \u001b[0mconnection\u001b[0m \u001b[0;34m=\u001b[0m \u001b[0mself\u001b[0m\u001b[0;34m.\u001b[0m\u001b[0m_get_connection\u001b[0m\u001b[0;34m(\u001b[0m\u001b[0;34m)\u001b[0m\u001b[0;34m\u001b[0m\u001b[0;34m\u001b[0m\u001b[0m\n\u001b[1;32m   1037\u001b[0m         \u001b[0;32mtry\u001b[0m\u001b[0;34m:\u001b[0m\u001b[0;34m\u001b[0m\u001b[0;34m\u001b[0m\u001b[0m\n\u001b[0;32m-> 1038\u001b[0;31m             \u001b[0mresponse\u001b[0m \u001b[0;34m=\u001b[0m \u001b[0mconnection\u001b[0m\u001b[0;34m.\u001b[0m\u001b[0msend_command\u001b[0m\u001b[0;34m(\u001b[0m\u001b[0mcommand\u001b[0m\u001b[0;34m)\u001b[0m\u001b[0;34m\u001b[0m\u001b[0;34m\u001b[0m\u001b[0m\n\u001b[0m\u001b[1;32m   1039\u001b[0m             \u001b[0;32mif\u001b[0m \u001b[0mbinary\u001b[0m\u001b[0;34m:\u001b[0m\u001b[0;34m\u001b[0m\u001b[0;34m\u001b[0m\u001b[0m\n\u001b[1;32m   1040\u001b[0m                 \u001b[0;32mreturn\u001b[0m \u001b[0mresponse\u001b[0m\u001b[0;34m,\u001b[0m \u001b[0mself\u001b[0m\u001b[0;34m.\u001b[0m\u001b[0m_create_connection_guard\u001b[0m\u001b[0;34m(\u001b[0m\u001b[0mconnection\u001b[0m\u001b[0;34m)\u001b[0m\u001b[0;34m\u001b[0m\u001b[0;34m\u001b[0m\u001b[0m\n",
      "\u001b[0;32m~/.local/lib/python3.10/site-packages/py4j/clientserver.py\u001b[0m in \u001b[0;36msend_command\u001b[0;34m(self, command)\u001b[0m\n\u001b[1;32m    473\u001b[0m         \u001b[0;32mtry\u001b[0m\u001b[0;34m:\u001b[0m\u001b[0;34m\u001b[0m\u001b[0;34m\u001b[0m\u001b[0m\n\u001b[1;32m    474\u001b[0m             \u001b[0;32mwhile\u001b[0m \u001b[0;32mTrue\u001b[0m\u001b[0;34m:\u001b[0m\u001b[0;34m\u001b[0m\u001b[0;34m\u001b[0m\u001b[0m\n\u001b[0;32m--> 475\u001b[0;31m                 \u001b[0manswer\u001b[0m \u001b[0;34m=\u001b[0m \u001b[0msmart_decode\u001b[0m\u001b[0;34m(\u001b[0m\u001b[0mself\u001b[0m\u001b[0;34m.\u001b[0m\u001b[0mstream\u001b[0m\u001b[0;34m.\u001b[0m\u001b[0mreadline\u001b[0m\u001b[0;34m(\u001b[0m\u001b[0;34m)\u001b[0m\u001b[0;34m[\u001b[0m\u001b[0;34m:\u001b[0m\u001b[0;34m-\u001b[0m\u001b[0;36m1\u001b[0m\u001b[0;34m]\u001b[0m\u001b[0;34m)\u001b[0m\u001b[0;34m\u001b[0m\u001b[0;34m\u001b[0m\u001b[0m\n\u001b[0m\u001b[1;32m    476\u001b[0m                 \u001b[0mlogger\u001b[0m\u001b[0;34m.\u001b[0m\u001b[0mdebug\u001b[0m\u001b[0;34m(\u001b[0m\u001b[0;34m\"Answer received: {0}\"\u001b[0m\u001b[0;34m.\u001b[0m\u001b[0mformat\u001b[0m\u001b[0;34m(\u001b[0m\u001b[0manswer\u001b[0m\u001b[0;34m)\u001b[0m\u001b[0;34m)\u001b[0m\u001b[0;34m\u001b[0m\u001b[0;34m\u001b[0m\u001b[0m\n\u001b[1;32m    477\u001b[0m                 \u001b[0;31m# Happens when a the other end is dead. There might be an empty\u001b[0m\u001b[0;34m\u001b[0m\u001b[0;34m\u001b[0m\u001b[0m\n",
      "\u001b[0;32m/usr/lib/python3.10/socket.py\u001b[0m in \u001b[0;36mreadinto\u001b[0;34m(self, b)\u001b[0m\n\u001b[1;32m    703\u001b[0m         \u001b[0;32mwhile\u001b[0m \u001b[0;32mTrue\u001b[0m\u001b[0;34m:\u001b[0m\u001b[0;34m\u001b[0m\u001b[0;34m\u001b[0m\u001b[0m\n\u001b[1;32m    704\u001b[0m             \u001b[0;32mtry\u001b[0m\u001b[0;34m:\u001b[0m\u001b[0;34m\u001b[0m\u001b[0;34m\u001b[0m\u001b[0m\n\u001b[0;32m--> 705\u001b[0;31m                 \u001b[0;32mreturn\u001b[0m \u001b[0mself\u001b[0m\u001b[0;34m.\u001b[0m\u001b[0m_sock\u001b[0m\u001b[0;34m.\u001b[0m\u001b[0mrecv_into\u001b[0m\u001b[0;34m(\u001b[0m\u001b[0mb\u001b[0m\u001b[0;34m)\u001b[0m\u001b[0;34m\u001b[0m\u001b[0;34m\u001b[0m\u001b[0m\n\u001b[0m\u001b[1;32m    706\u001b[0m             \u001b[0;32mexcept\u001b[0m \u001b[0mtimeout\u001b[0m\u001b[0;34m:\u001b[0m\u001b[0;34m\u001b[0m\u001b[0;34m\u001b[0m\u001b[0m\n\u001b[1;32m    707\u001b[0m                 \u001b[0mself\u001b[0m\u001b[0;34m.\u001b[0m\u001b[0m_timeout_occurred\u001b[0m \u001b[0;34m=\u001b[0m \u001b[0;32mTrue\u001b[0m\u001b[0;34m\u001b[0m\u001b[0;34m\u001b[0m\u001b[0m\n",
      "\u001b[0;31mKeyboardInterrupt\u001b[0m: "
     ]
    }
   ],
   "source": [
    "df_sent.show(1)"
   ]
  },
  {
   "cell_type": "code",
   "execution_count": 99,
   "id": "ce827088",
   "metadata": {},
   "outputs": [],
   "source": [
    "from pyspark.sql.functions import when, col\n"
   ]
  },
  {
   "cell_type": "code",
   "execution_count": 100,
   "id": "d2b36069",
   "metadata": {},
   "outputs": [],
   "source": [
    "# new column 'label'\n",
    "df_sent = df_sent.withColumn(\"label_vader\", \n",
    "    when(col(\"sentiment_v.compound\") > 0.2, 1)\n",
    "    .when(col(\"sentiment_v.compound\") < -0.2, -1)\n",
    "    .otherwise(0)\n",
    ")\n",
    "\n",
    "\n"
   ]
  },
  {
   "cell_type": "code",
   "execution_count": 75,
   "id": "bfd4a1fa",
   "metadata": {},
   "outputs": [
    {
     "name": "stderr",
     "output_type": "stream",
     "text": [
      "[Stage 52:>                                                         (0 + 1) / 1]\r"
     ]
    },
    {
     "name": "stdout",
     "output_type": "stream",
     "text": [
      "+-------+----------+----------+--------+--------+--------------------+---------+-----+\n",
      "|     id|    indice|      date|   query|    user|               tweet|sentiment|label|\n",
      "+-------+----------+----------+--------+--------+--------------------+---------+-----+\n",
      "|1429354|2059729483|2009-06-07|NO_QUERY|mtiishaw|       Hardest wo...| {0.2732}|    1|\n",
      "+-------+----------+----------+--------+--------+--------------------+---------+-----+\n",
      "only showing top 1 row\n",
      "\n"
     ]
    },
    {
     "name": "stderr",
     "output_type": "stream",
     "text": [
      "2023-11-07 23:26:26,584 WARN python.PythonUDFRunner: Detected deadlock while completing task 0.0 in stage 52 (TID 64): Attempting to kill Python Worker\n",
      "                                                                                \r"
     ]
    }
   ],
   "source": [
    "df_sent.show(1)"
   ]
  },
  {
   "cell_type": "code",
   "execution_count": 102,
   "id": "9222f07c",
   "metadata": {},
   "outputs": [],
   "source": [
    "from pyspark.sql import SparkSession\n",
    "from pyspark.sql.functions import udf\n",
    "from pyspark.sql.types import StringType, FloatType\n",
    "from textblob import TextBlob\n"
   ]
  },
  {
   "cell_type": "code",
   "execution_count": 110,
   "id": "e2d92183",
   "metadata": {},
   "outputs": [],
   "source": [
    "def analyze_sentiment(text):\n",
    "    analysis = TextBlob(text)\n",
    "    sentiment_score = analysis.sentiment.polarity\n",
    "    return float(sentiment_score)\n",
    "\n",
    "sentiment_udf = udf(analyze_sentiment, FloatType())\n"
   ]
  },
  {
   "cell_type": "code",
   "execution_count": 111,
   "id": "9fed9252",
   "metadata": {},
   "outputs": [],
   "source": [
    "df_sent = df_sent.withColumn(\"sentiment_blob\", sentiment_udf(df_sent[\"tweet\"]))\n"
   ]
  },
  {
   "cell_type": "code",
   "execution_count": 115,
   "id": "92355038",
   "metadata": {},
   "outputs": [],
   "source": [
    "from pyspark.sql.functions import struct\n",
    "\n",
    "# new column with score \n",
    "df_sent = df_sent.withColumn(\"sentiment_blob\", sentiment_udf(df_sent[\"tweet\"]))\n",
    "\n"
   ]
  },
  {
   "cell_type": "code",
   "execution_count": 118,
   "id": "ebc05c01",
   "metadata": {},
   "outputs": [],
   "source": [
    "from pyspark.sql.functions import struct, col\n",
    "\n",
    "# new column structured using float column\n",
    "df_sent = df_sent.withColumn(\"structured_sentiment\", struct(col(\"sentiment_blob\").alias(\"compound\")))\n"
   ]
  },
  {
   "cell_type": "code",
   "execution_count": 135,
   "id": "f7b268c6",
   "metadata": {},
   "outputs": [
    {
     "name": "stdout",
     "output_type": "stream",
     "text": [
      "root\n",
      " |-- id: integer (nullable = true)\n",
      " |-- indice: long (nullable = true)\n",
      " |-- date: date (nullable = true)\n",
      " |-- query: string (nullable = true)\n",
      " |-- user: string (nullable = true)\n",
      " |-- tweet: string (nullable = true)\n",
      " |-- label_vader: integer (nullable = false)\n",
      " |-- sentiment_blob: float (nullable = true)\n",
      " |-- label_blob: integer (nullable = false)\n",
      " |-- compound_vader: float (nullable = true)\n",
      " |-- compound_blob: float (nullable = true)\n",
      "\n"
     ]
    },
    {
     "name": "stderr",
     "output_type": "stream",
     "text": [
      "[Stage 53:>   (0 + 2) / 2][Stage 54:>   (0 + 0) / 2][Stage 55:>   (0 + 0) / 2]\r"
     ]
    }
   ],
   "source": [
    "df_sent.printSchema()"
   ]
  },
  {
   "cell_type": "code",
   "execution_count": 122,
   "id": "82cf816a",
   "metadata": {},
   "outputs": [],
   "source": [
    "from pyspark.sql.functions import when, col\n",
    "\n",
    "df_sent = df_sent.withColumn(\"label_blob\", \n",
    "    when(col(\"structured_sentiment.compound\") > 0.2, 1)\n",
    "    .when(col(\"structured_sentiment.compound\") < -0.2, -1)\n",
    "    .otherwise(0)\n",
    ")\n"
   ]
  },
  {
   "cell_type": "code",
   "execution_count": 134,
   "id": "35874661",
   "metadata": {},
   "outputs": [],
   "source": [
    "from pyspark.sql.functions import col\n",
    "\n",
    "# extract compound from sentiment vader\n",
    "df_sent = df_sent.withColumn(\"compound_vader\", col(\"sentiment_v.compound\"))\n",
    "\n",
    "# extract compound from sentiment blob\n",
    "df_sent = df_sent.withColumn(\"compound_blob\", col(\"structured_sentiment.compound\"))\n",
    "\n",
    "df_sent = df_sent.drop(\"sentiment_v\", \"structured_sentiment\")\n"
   ]
  },
  {
   "cell_type": "markdown",
   "id": "172405a5",
   "metadata": {},
   "source": [
    "# cassandra"
   ]
  },
  {
   "cell_type": "code",
   "execution_count": null,
   "id": "551b588f",
   "metadata": {},
   "outputs": [],
   "source": []
  },
  {
   "cell_type": "code",
   "execution_count": 124,
   "id": "be315211",
   "metadata": {},
   "outputs": [
    {
     "name": "stderr",
     "output_type": "stream",
     "text": [
      "WARNING:cassandra.cluster:Cluster.__init__ called with contact_points specified, but no load_balancing_policy. In the next major version, this will raise an error; please specify a load-balancing policy. (contact_points = ['127.0.0.1'], lbp = None)\n"
     ]
    }
   ],
   "source": [
    "# node address\n",
    "indirizzo_del_nodo_di_contatto = '127.0.0.1'\n",
    "\n",
    "# cluster object\n",
    "cluster = Cluster([indirizzo_del_nodo_di_contatto])"
   ]
  },
  {
   "cell_type": "code",
   "execution_count": 125,
   "id": "f517b3dd",
   "metadata": {},
   "outputs": [
    {
     "name": "stderr",
     "output_type": "stream",
     "text": [
      "WARNING:cassandra.cluster:Downgrading core protocol version from 66 to 65 for 127.0.0.1:9042. To avoid this, it is best practice to explicitly set Cluster(protocol_version) to the version supported by your cluster. http://datastax.github.io/python-driver/api/cassandra/cluster.html#cassandra.cluster.Cluster.protocol_version\n",
      "WARNING:cassandra.cluster:Downgrading core protocol version from 65 to 5 for 127.0.0.1:9042. To avoid this, it is best practice to explicitly set Cluster(protocol_version) to the version supported by your cluster. http://datastax.github.io/python-driver/api/cassandra/cluster.html#cassandra.cluster.Cluster.protocol_version\n",
      "ERROR:cassandra.connection:Closing connection <AsyncoreConnection(140136566225936) 127.0.0.1:9042> due to protocol error: Error from server: code=000a [Protocol error] message=\"Beta version of the protocol used (5/v5-beta), but USE_BETA flag is unset\"\n",
      "WARNING:cassandra.cluster:Downgrading core protocol version from 5 to 4 for 127.0.0.1:9042. To avoid this, it is best practice to explicitly set Cluster(protocol_version) to the version supported by your cluster. http://datastax.github.io/python-driver/api/cassandra/cluster.html#cassandra.cluster.Cluster.protocol_version\n"
     ]
    },
    {
     "data": {
      "text/plain": [
       "<cassandra.cluster.ResultSet at 0x7f7401322380>"
      ]
     },
     "execution_count": 125,
     "metadata": {},
     "output_type": "execute_result"
    },
    {
     "name": "stderr",
     "output_type": "stream",
     "text": [
      "[Stage 53:>   (0 + 2) / 2][Stage 54:>   (0 + 0) / 2][Stage 55:>   (0 + 0) / 2]\r"
     ]
    }
   ],
   "source": [
    "# cassandra session\n",
    "session = cluster.connect()\n",
    "\n",
    "# keyspace\n",
    "session.execute(\"USE my_ca3\")"
   ]
  },
  {
   "cell_type": "code",
   "execution_count": 138,
   "id": "1e79bcd1",
   "metadata": {},
   "outputs": [
    {
     "data": {
      "text/plain": [
       "<cassandra.cluster.ResultSet at 0x7f7401c8bf70>"
      ]
     },
     "execution_count": 138,
     "metadata": {},
     "output_type": "execute_result"
    }
   ],
   "source": [
    "tweet_ca = \"\"\"\n",
    "\n",
    "\n",
    "CREATE TABLE IF NOT EXISTS tweet_ca (\n",
    "    id INT PRIMARY KEY,\n",
    "    indice BIGINT,\n",
    "    date DATE,\n",
    "    query TEXT,\n",
    "    user TEXT,\n",
    "    tweet TEXT,\n",
    "    label_vader INT,\n",
    "    sentiment_blob FLOAT,\n",
    "    label_blob INT,\n",
    "    compound_vader FLOAT,\n",
    "    compound_blob FLOAT\n",
    ")\n",
    "\n",
    "\n",
    "\n",
    "\"\"\"\n",
    "\n",
    "session.execute(tweet_ca)\n"
   ]
  },
  {
   "cell_type": "code",
   "execution_count": null,
   "id": "58c7ccac",
   "metadata": {
    "scrolled": true
   },
   "outputs": [
    {
     "name": "stderr",
     "output_type": "stream",
     "text": [
      "[Stage 53:>   (0 + 2) / 2][Stage 54:>   (0 + 0) / 2][Stage 55:>   (0 + 0) / 2]\r"
     ]
    }
   ],
   "source": [
    "table_name = \"tweet_ca\"\n",
    "\n",
    "df_sent.write \\\n",
    "    .format(\"org.apache.spark.sql.cassandra\") \\\n",
    "    .options(table=table_name, keyspace=\"my_ca3\") \\\n",
    "    .option(\"confirm.truncate\", \"true\") \\\n",
    "    .mode(\"overwrite\") \\\n",
    "    .save()\n",
    "\n"
   ]
  },
  {
   "cell_type": "code",
   "execution_count": 6,
   "id": "101b0eff",
   "metadata": {},
   "outputs": [],
   "source": [
    "query = \"SELECT COUNT(*) FROM tweet_ca\"\n",
    "result = session.execute(query)\n",
    "\n"
   ]
  },
  {
   "cell_type": "code",
   "execution_count": 7,
   "id": "9e2abe81",
   "metadata": {},
   "outputs": [
    {
     "name": "stdout",
     "output_type": "stream",
     "text": [
      "Il conteggio delle righe nella tabella 'tweets' è: 1600000\n"
     ]
    }
   ],
   "source": [
    "count = result.one()[0]\n",
    "print(f\"Il conteggio delle righe nella tabella 'tweets' è: {count}\")"
   ]
  },
  {
   "cell_type": "code",
   "execution_count": 8,
   "id": "44ed30d5",
   "metadata": {},
   "outputs": [],
   "source": [
    "query = \"SELECT * FROM tweets\"\n",
    "result = session.execute(query)\n"
   ]
  },
  {
   "cell_type": "code",
   "execution_count": 9,
   "id": "dcdfa022",
   "metadata": {},
   "outputs": [],
   "source": [
    "data = list(result)"
   ]
  },
  {
   "cell_type": "code",
   "execution_count": 11,
   "id": "856bce0c",
   "metadata": {},
   "outputs": [],
   "source": [
    "import pandas as pd"
   ]
  },
  {
   "cell_type": "code",
   "execution_count": 12,
   "id": "fccbd090",
   "metadata": {},
   "outputs": [],
   "source": [
    "df = pd.DataFrame(data)"
   ]
  },
  {
   "cell_type": "code",
   "execution_count": 13,
   "id": "a7e3220b",
   "metadata": {},
   "outputs": [
    {
     "data": {
      "text/html": [
       "<div>\n",
       "<style scoped>\n",
       "    .dataframe tbody tr th:only-of-type {\n",
       "        vertical-align: middle;\n",
       "    }\n",
       "\n",
       "    .dataframe tbody tr th {\n",
       "        vertical-align: top;\n",
       "    }\n",
       "\n",
       "    .dataframe thead th {\n",
       "        text-align: right;\n",
       "    }\n",
       "</style>\n",
       "<table border=\"1\" class=\"dataframe\">\n",
       "  <thead>\n",
       "    <tr style=\"text-align: right;\">\n",
       "      <th></th>\n",
       "      <th>id</th>\n",
       "      <th>date</th>\n",
       "      <th>indice</th>\n",
       "      <th>query</th>\n",
       "      <th>tweet</th>\n",
       "      <th>user</th>\n",
       "    </tr>\n",
       "  </thead>\n",
       "  <tbody>\n",
       "    <tr>\n",
       "      <th>0</th>\n",
       "      <td>302602</td>\n",
       "      <td>Mon Jun 01 19:37:16 PDT 2009</td>\n",
       "      <td>1999088121</td>\n",
       "      <td>NO_QUERY</td>\n",
       "      <td>Had problems with my eyes all day. This sux!</td>\n",
       "      <td>Bobina11</td>\n",
       "    </tr>\n",
       "    <tr>\n",
       "      <th>1</th>\n",
       "      <td>531141</td>\n",
       "      <td>Tue Jun 16 12:10:07 PDT 2009</td>\n",
       "      <td>2196209437</td>\n",
       "      <td>NO_QUERY</td>\n",
       "      <td>don't fall unless someone is willing to catch ...</td>\n",
       "      <td>rosie_carter427</td>\n",
       "    </tr>\n",
       "    <tr>\n",
       "      <th>2</th>\n",
       "      <td>1416569</td>\n",
       "      <td>Sat Jun 06 13:00:30 PDT 2009</td>\n",
       "      <td>2057439493</td>\n",
       "      <td>NO_QUERY</td>\n",
       "      <td>Nice afternoon for a Boil here - carrots, pota...</td>\n",
       "      <td>zuluranger</td>\n",
       "    </tr>\n",
       "    <tr>\n",
       "      <th>3</th>\n",
       "      <td>693077</td>\n",
       "      <td>Sat Jun 20 06:42:25 PDT 2009</td>\n",
       "      <td>2252644159</td>\n",
       "      <td>NO_QUERY</td>\n",
       "      <td>miss you batang KYUT na BOUNCE...huhu..</td>\n",
       "      <td>chocomallows19</td>\n",
       "    </tr>\n",
       "    <tr>\n",
       "      <th>4</th>\n",
       "      <td>4317</td>\n",
       "      <td>Tue Apr 07 03:45:16 PDT 2009</td>\n",
       "      <td>1468791098</td>\n",
       "      <td>NO_QUERY</td>\n",
       "      <td>Oh no,  more babysitting! I love how she sprin...</td>\n",
       "      <td>tynie626</td>\n",
       "    </tr>\n",
       "  </tbody>\n",
       "</table>\n",
       "</div>"
      ],
      "text/plain": [
       "        id                          date      indice     query  \\\n",
       "0   302602  Mon Jun 01 19:37:16 PDT 2009  1999088121  NO_QUERY   \n",
       "1   531141  Tue Jun 16 12:10:07 PDT 2009  2196209437  NO_QUERY   \n",
       "2  1416569  Sat Jun 06 13:00:30 PDT 2009  2057439493  NO_QUERY   \n",
       "3   693077  Sat Jun 20 06:42:25 PDT 2009  2252644159  NO_QUERY   \n",
       "4     4317  Tue Apr 07 03:45:16 PDT 2009  1468791098  NO_QUERY   \n",
       "\n",
       "                                               tweet             user  \n",
       "0      Had problems with my eyes all day. This sux!          Bobina11  \n",
       "1  don't fall unless someone is willing to catch ...  rosie_carter427  \n",
       "2  Nice afternoon for a Boil here - carrots, pota...       zuluranger  \n",
       "3           miss you batang KYUT na BOUNCE...huhu..    chocomallows19  \n",
       "4  Oh no,  more babysitting! I love how she sprin...         tynie626  "
      ]
     },
     "execution_count": 13,
     "metadata": {},
     "output_type": "execute_result"
    }
   ],
   "source": [
    "df.head()"
   ]
  }
 ],
 "metadata": {
  "kernelspec": {
   "display_name": "Python 3 (ipykernel)",
   "language": "python",
   "name": "python3"
  },
  "language_info": {
   "codemirror_mode": {
    "name": "ipython",
    "version": 3
   },
   "file_extension": ".py",
   "mimetype": "text/x-python",
   "name": "python",
   "nbconvert_exporter": "python",
   "pygments_lexer": "ipython3",
   "version": "3.10.12"
  }
 },
 "nbformat": 4,
 "nbformat_minor": 5
}
